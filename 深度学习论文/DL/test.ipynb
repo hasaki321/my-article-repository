{
 "cells": [
  {
   "cell_type": "code",
   "execution_count": 1,
   "id": "7b685322",
   "metadata": {},
   "outputs": [],
   "source": [
    "import pandas as pd\n",
    "import numpy as np\n",
    "import matplotlib.pyplot as plt\n",
    "import os\n",
    "import torch\n",
    "from torch.utils.data import DataLoader,Dataset\n",
    "from tqdm import tqdm"
   ]
  },
  {
   "cell_type": "code",
   "execution_count": null,
   "id": "90544acb",
   "metadata": {},
   "outputs": [],
   "source": [
    "covid_train = pd.read_csv('data/covid/covid.train.csv').values\n",
    "covid_test = pd.read_csv('data/covid/covid.test.csv').values\n",
    "covid_train.shape"
   ]
  },
  {
   "cell_type": "markdown",
   "id": "b02dae21",
   "metadata": {},
   "source": [
    "## Data Preprocessing"
   ]
  },
  {
   "cell_type": "code",
   "execution_count": null,
   "id": "7a0748d8",
   "metadata": {},
   "outputs": [],
   "source": [
    "def train_valid_split(train_data,ratio,seed=42):\n",
    "    np.random.seed(seed)\n",
    "    rand_index = np.random.permutation(len(train_data))\n",
    "    vaild_index = rand_index[:int(len(train_data)*ratio)]\n",
    "    train_index = rand_index[int(len(train_data)*ratio):]\n",
    "    return train_data[train_index],train_data[vaild_index]\n",
    "    \n",
    "def select_feat(train_data, valid_data, test_data,):\n",
    "    y_train,y_vaild = train_data[:,-1],valid_data[:,-1]\n",
    "    x_train,x_vaild,x_test = train_data[:,:-1],valid_data[:,:-1],test_data\n",
    "    return x_train,x_vaild,x_test,y_train,y_vaild\n",
    "train_data, valid_data = train_valid_split(covid_train,.2)\n",
    "x_train,x_vaild,x_test,y_train,y_vaild = select_feat(train_data, valid_data,covid_test)\n",
    "x_train.shape,x_vaild.shape,x_test.shape"
   ]
  },
  {
   "cell_type": "code",
   "execution_count": null,
   "id": "f0d49307",
   "metadata": {},
   "outputs": [],
   "source": [
    "class covid_dataset(Dataset):\n",
    "    \n",
    "    def __init__(self,x,y=None):\n",
    "        if y is None:\n",
    "            self.y = y\n",
    "        else:\n",
    "            self.y = torch.FloatTensor(y)\n",
    "        self.x = torch.FloatTensor(x)\n",
    "    \n",
    "    def __getitem__(self,idx):\n",
    "        if self.y is None:\n",
    "            return self.x[idx]\n",
    "        else:\n",
    "            return self.x[idx],self.y[idx]\n",
    "    \n",
    "    def __len__(self):\n",
    "        return len(self.x)"
   ]
  },
  {
   "cell_type": "code",
   "execution_count": null,
   "id": "9eeea4f1",
   "metadata": {},
   "outputs": [],
   "source": [
    "train_loader = DataLoader(covid_dataset(x_train,y_train),batch_size=batch)\n",
    "vaild_loader = DataLoader(covid_dataset(x_vaild,y_vaild),batch_size=batch)\n",
    "test_loader = DataLoader(covid_dataset(x_test),batch_size=batch)\n",
    "for x,y in train_loader:\n",
    "    print(f'x:{x.shape}\\ny:{y.shape}')\n",
    "    break"
   ]
  },
  {
   "cell_type": "markdown",
   "id": "56dd0c45",
   "metadata": {},
   "source": [
    "## Network Model"
   ]
  },
  {
   "cell_type": "code",
   "execution_count": null,
   "id": "f0ab96e9",
   "metadata": {},
   "outputs": [],
   "source": [
    "class net(torch.nn.Module):\n",
    "    def __init__(self):\n",
    "        super().__init__()\n",
    "        self.layers = torch.nn.Sequential(\n",
    "            torch.nn.Linear(117,50),\n",
    "            torch.nn.ReLU(),\n",
    "            torch.nn.Linear(50,8),\n",
    "            torch.nn.ReLU(),\n",
    "            torch.nn.Linear(8,1),\n",
    "        )\n",
    "    \n",
    "    def forward(self,x):\n",
    "        x = self.layers(x)\n",
    "        x = x.squeeze()\n",
    "        return x\n",
    "model = net().to('cuda')"
   ]
  },
  {
   "cell_type": "markdown",
   "id": "d0e6c4cb",
   "metadata": {},
   "source": [
    "#### *下面有很长一部分的训练代码，此处只提出第一步就出问题的部分"
   ]
  },
  {
   "cell_type": "markdown",
   "id": "6432da4b",
   "metadata": {},
   "source": [
    "#### *训练几轮之后loss会一直变大直到inf"
   ]
  },
  {
   "cell_type": "code",
   "execution_count": null,
   "id": "29fb4ecb",
   "metadata": {},
   "outputs": [],
   "source": [
    "loss_f = torch.nn.MSELoss()\n",
    "optimizer = torch.optim.SGD(model.parameters(),lr=0.01)\n",
    "\n",
    "for x,y in train_loader:\n",
    "    x,y = x.to('cuda'),y.to('cuda')\n",
    "    pred = model(x)\n",
    "    loss = loss_f(pred,y)\n",
    "\n",
    "    optimizer.zero_grad()\n",
    "    loss.backward()\n",
    "    optimizer.step()\n",
    "\n",
    "    print(f'LOSS:{loss.item()}')\n",
    "    print(f'PRDE:{pred},\\nY:{y}')#标注了预测结果和目标值，到最后pred会摆烂输出一样的数"
   ]
  },
  {
   "cell_type": "code",
   "execution_count": null,
   "id": "1eda7dba",
   "metadata": {},
   "outputs": [],
   "source": []
  }
 ],
 "metadata": {
  "kernelspec": {
   "display_name": "Python 3 (ipykernel)",
   "language": "python",
   "name": "python3"
  },
  "language_info": {
   "codemirror_mode": {
    "name": "ipython",
    "version": 3
   },
   "file_extension": ".py",
   "mimetype": "text/x-python",
   "name": "python",
   "nbconvert_exporter": "python",
   "pygments_lexer": "ipython3",
   "version": "3.10.8"
  }
 },
 "nbformat": 4,
 "nbformat_minor": 5
}
