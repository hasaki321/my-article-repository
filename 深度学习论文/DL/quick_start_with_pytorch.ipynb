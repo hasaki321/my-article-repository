{
 "cells": [
  {
   "cell_type": "code",
   "execution_count": 1,
   "id": "8f2b4746",
   "metadata": {},
   "outputs": [],
   "source": [
    "import torch\n",
    "from torch.utils.data import DataLoader\n",
    "from torchvision import datasets\n",
    " "
   ]
  },
  {
   "cell_type": "code",
   "execution_count": 2,
   "id": "8f26b106",
   "metadata": {},
   "outputs": [
    {
     "data": {
      "text/plain": [
       "Dataset FashionMNIST\n",
       "    Number of datapoints: 60000\n",
       "    Root location: data\n",
       "    Split: Train"
      ]
     },
     "execution_count": 2,
     "metadata": {},
     "output_type": "execute_result"
    }
   ],
   "source": [
    "datasets.FashionMNIST(root='data')"
   ]
  },
  {
   "cell_type": "code",
   "execution_count": 3,
   "id": "4d75fe85",
   "metadata": {},
   "outputs": [
    {
     "data": {
      "text/plain": [
       "(Dataset FashionMNIST\n",
       "     Number of datapoints: 60000\n",
       "     Root location: data\n",
       "     Split: Train\n",
       "     StandardTransform\n",
       " Transform: ToTensor(),\n",
       " Dataset FashionMNIST\n",
       "     Number of datapoints: 10000\n",
       "     Root location: data\n",
       "     Split: Test\n",
       "     StandardTransform\n",
       " Transform: ToTensor())"
      ]
     },
     "execution_count": 3,
     "metadata": {},
     "output_type": "execute_result"
    }
   ],
   "source": [
    "training_data = datasets.FashionMNIST(root='data',train=True,transform=ToTensor())\n",
    "test_data = datasets.FashionMNIST(root='data',train=False,transform=ToTensor())\n",
    "training_data,test_data"
   ]
  },
  {
   "cell_type": "code",
   "execution_count": 4,
   "id": "91509b44",
   "metadata": {},
   "outputs": [
    {
     "name": "stdout",
     "output_type": "stream",
     "text": [
      "x: torch.Size([100, 1, 28, 28])\n",
      "y: torch.Size([100])\n"
     ]
    }
   ],
   "source": [
    "batch_size = 100\n",
    "train_dataloader = DataLoader(training_data,batch_size=batch_size)\n",
    "test_dataloader = DataLoader(test_data,batch_size=batch_size)\n",
    "for x,y in test_dataloader:\n",
    "    print('x:',x.shape)\n",
    "    print('y:',y.shape)\n",
    "    break"
   ]
  },
  {
   "cell_type": "markdown",
   "id": "fc74e391",
   "metadata": {},
   "source": [
    "## Creating Models"
   ]
  },
  {
   "cell_type": "code",
   "execution_count": 5,
   "id": "45aff81f",
   "metadata": {},
   "outputs": [],
   "source": [
    "class Network(torch.nn.Module):\n",
    "    def __init__(self):\n",
    "        super().__init__()\n",
    "        self.flatten = torch.nn.Flatten()\n",
    "        self.linear_relu = torch.nn.Sequential(\n",
    "            torch.nn.Linear(28*28,512),\n",
    "            torch.nn.ReLU(),\n",
    "            torch.nn.Linear(512,512),\n",
    "            torch.nn.ReLU(),\n",
    "            torch.nn.Linear(512,512),\n",
    "            torch.nn.ReLU(),\n",
    "            torch.nn.Linear(512,10)\n",
    "        )\n",
    "    \n",
    "    def forward(self,x):\n",
    "        x = self.flatten(x)\n",
    "        logits = self.linear_relu(x)\n",
    "        return logits\n",
    "\n",
    "model = Network().to('cuda')"
   ]
  },
  {
   "cell_type": "code",
   "execution_count": 6,
   "id": "1a83a7c0",
   "metadata": {},
   "outputs": [
    {
     "data": {
      "text/plain": [
       "<bound method Module.parameters of Network(\n",
       "  (flatten): Flatten(start_dim=1, end_dim=-1)\n",
       "  (linear_relu): Sequential(\n",
       "    (0): Linear(in_features=784, out_features=512, bias=True)\n",
       "    (1): ReLU()\n",
       "    (2): Linear(in_features=512, out_features=512, bias=True)\n",
       "    (3): ReLU()\n",
       "    (4): Linear(in_features=512, out_features=512, bias=True)\n",
       "    (5): ReLU()\n",
       "    (6): Linear(in_features=512, out_features=10, bias=True)\n",
       "  )\n",
       ")>"
      ]
     },
     "execution_count": 6,
     "metadata": {},
     "output_type": "execute_result"
    }
   ],
   "source": [
    "model.parameters"
   ]
  },
  {
   "cell_type": "markdown",
   "id": "31b0ffbe",
   "metadata": {},
   "source": [
    "## Optimizing the Model Parameters\n"
   ]
  },
  {
   "cell_type": "code",
   "execution_count": 7,
   "id": "82ab1a06",
   "metadata": {},
   "outputs": [],
   "source": [
    "loss_fn = torch.nn.CrossEntropyLoss()\n",
    "optimizer = torch.optim.SGD(model.parameters(),lr=0.1)"
   ]
  },
  {
   "cell_type": "code",
   "execution_count": 8,
   "id": "c8a18f86",
   "metadata": {},
   "outputs": [],
   "source": [
    "def train(dataloader,model,loss_fn,optimizer):\n",
    "    size = len(dataloader.dataset)\n",
    "    model.train()\n",
    "    for batch,(x,y) in enumerate(dataloader):\n",
    "        x,y = x.to('cuda'),y.to('cuda')\n",
    "        \n",
    "        pred = model(x)\n",
    "        loss = loss_fn(pred,y)\n",
    "        \n",
    "        optimizer.zero_grad()\n",
    "        loss.backward()\n",
    "        optimizer.step()\n",
    "        \n",
    "        if batch %100 == 0:\n",
    "            loss,current = loss.item(),batch*len(x)\n",
    "            print(f'loss:{loss:>7f}[{current:>5d}/{size:>5d}]')"
   ]
  },
  {
   "cell_type": "code",
   "execution_count": 9,
   "id": "036c7fbc",
   "metadata": {},
   "outputs": [],
   "source": [
    "def test(dataloader,model,loss_fn):\n",
    "    size = len(dataloader.dataset)\n",
    "    num_batches = len(dataloader)\n",
    "    model.eval()\n",
    "    test_loss, correct = 0,0\n",
    "    with torch.no_grad():\n",
    "        for x,y in dataloader:\n",
    "            x,y = x.to('cuda'),y.to('cuda')\n",
    "            pred = model(x)\n",
    "            test_loss += loss_fn(pred,y).item()\n",
    "            correct += (pred.argmax(1) == y).type(torch.float).sum().item()\n",
    "    test_loss /=num_batches\n",
    "    correct /= size\n",
    "    return test_loss, correct"
   ]
  },
  {
   "cell_type": "code",
   "execution_count": 10,
   "id": "f6d0c89f",
   "metadata": {},
   "outputs": [
    {
     "name": "stdout",
     "output_type": "stream",
     "text": [
      "times2\n",
      "----------------------------\n",
      "loss:2.301323[    0/60000]\n",
      "loss:1.081428[10000/60000]\n",
      "loss:0.848315[20000/60000]\n",
      "loss:0.558563[30000/60000]\n",
      "loss:0.562171[40000/60000]\n",
      "loss:0.601265[50000/60000]\n",
      "Test Error: \n",
      " Accuracy: 80.6%, Avg loss: 0.546259 \n",
      "\n",
      "times3\n",
      "----------------------------\n",
      "loss:0.387441[    0/60000]\n",
      "loss:0.362442[10000/60000]\n",
      "loss:0.496243[20000/60000]\n",
      "loss:0.426688[30000/60000]\n",
      "loss:0.474234[40000/60000]\n",
      "loss:0.498222[50000/60000]\n",
      "Test Error: \n",
      " Accuracy: 83.9%, Avg loss: 0.450166 \n",
      "\n",
      "times4\n",
      "----------------------------\n",
      "loss:0.293702[    0/60000]\n",
      "loss:0.325021[10000/60000]\n",
      "loss:0.435890[20000/60000]\n",
      "loss:0.355800[30000/60000]\n",
      "loss:0.469572[40000/60000]\n",
      "loss:0.476691[50000/60000]\n",
      "Test Error: \n",
      " Accuracy: 85.2%, Avg loss: 0.413444 \n",
      "\n",
      "times5\n",
      "----------------------------\n",
      "loss:0.248911[    0/60000]\n",
      "loss:0.304199[10000/60000]\n",
      "loss:0.399282[20000/60000]\n",
      "loss:0.323763[30000/60000]\n",
      "loss:0.469575[40000/60000]\n",
      "loss:0.443268[50000/60000]\n",
      "Test Error: \n",
      " Accuracy: 85.8%, Avg loss: 0.393443 \n",
      "\n",
      "times6\n",
      "----------------------------\n",
      "loss:0.231963[    0/60000]\n",
      "loss:0.286806[10000/60000]\n",
      "loss:0.369089[20000/60000]\n",
      "loss:0.297883[30000/60000]\n",
      "loss:0.468755[40000/60000]\n",
      "loss:0.426715[50000/60000]\n",
      "Test Error: \n",
      " Accuracy: 86.4%, Avg loss: 0.379840 \n",
      "\n",
      "times7\n",
      "----------------------------\n",
      "loss:0.219756[    0/60000]\n",
      "loss:0.271241[10000/60000]\n",
      "loss:0.348508[20000/60000]\n",
      "loss:0.278743[30000/60000]\n",
      "loss:0.469091[40000/60000]\n",
      "loss:0.407160[50000/60000]\n",
      "Test Error: \n",
      " Accuracy: 86.7%, Avg loss: 0.365570 \n",
      "\n",
      "times8\n",
      "----------------------------\n",
      "loss:0.207133[    0/60000]\n",
      "loss:0.253721[10000/60000]\n",
      "loss:0.335783[20000/60000]\n",
      "loss:0.271359[30000/60000]\n",
      "loss:0.467011[40000/60000]\n",
      "loss:0.394042[50000/60000]\n",
      "Test Error: \n",
      " Accuracy: 87.1%, Avg loss: 0.355360 \n",
      "\n",
      "times9\n",
      "----------------------------\n",
      "loss:0.197855[    0/60000]\n",
      "loss:0.237029[10000/60000]\n",
      "loss:0.315389[20000/60000]\n",
      "loss:0.256996[30000/60000]\n",
      "loss:0.453994[40000/60000]\n",
      "loss:0.371395[50000/60000]\n",
      "Test Error: \n",
      " Accuracy: 87.5%, Avg loss: 0.348022 \n",
      "\n",
      "times10\n",
      "----------------------------\n",
      "loss:0.189659[    0/60000]\n",
      "loss:0.220356[10000/60000]\n",
      "loss:0.296633[20000/60000]\n",
      "loss:0.247786[30000/60000]\n",
      "loss:0.454115[40000/60000]\n",
      "loss:0.353194[50000/60000]\n",
      "Test Error: \n",
      " Accuracy: 87.6%, Avg loss: 0.347214 \n",
      "\n",
      "done!\n"
     ]
    }
   ],
   "source": [
    "one = 1\n",
    "two = 0\n",
    "t = 0\n",
    "while (one-two)**2 > 0.1e-4:\n",
    "    t+=1\n",
    "    print(f'times{t}\\n----------------------------')\n",
    "    train(train_dataloader,model,loss_fn,optimizer)\n",
    "    test_loss,correct = test(test_dataloader,model,loss_fn)\n",
    "    if t%2 == 0:\n",
    "        one = correct\n",
    "    else:\n",
    "        two = correct\n",
    "    print(f\"Test Error: \\n Accuracy: {(100*correct):>0.1f}%, Avg loss: {test_loss:>8f} \\n\")\n",
    "print('done!')"
   ]
  },
  {
   "cell_type": "markdown",
   "id": "68b07589",
   "metadata": {},
   "source": [
    "## Saving Models\n"
   ]
  },
  {
   "cell_type": "code",
   "execution_count": 11,
   "id": "5f33a58f",
   "metadata": {},
   "outputs": [
    {
     "name": "stdout",
     "output_type": "stream",
     "text": [
      "saved\n"
     ]
    }
   ],
   "source": [
    "torch.save(model.state_dict(),'test_model.pth')\n",
    "print('saved')"
   ]
  },
  {
   "cell_type": "markdown",
   "id": "aaaad0b9",
   "metadata": {},
   "source": [
    "## Loading Models\n"
   ]
  },
  {
   "cell_type": "code",
   "execution_count": 12,
   "id": "aa20255f",
   "metadata": {},
   "outputs": [
    {
     "data": {
      "text/plain": [
       "<All keys matched successfully>"
      ]
     },
     "execution_count": 12,
     "metadata": {},
     "output_type": "execute_result"
    }
   ],
   "source": [
    "model = Network()\n",
    "model.load_state_dict(torch.load('test_model.pth'))"
   ]
  },
  {
   "cell_type": "code",
   "execution_count": null,
   "id": "2e7a46ec",
   "metadata": {},
   "outputs": [],
   "source": []
  }
 ],
 "metadata": {
  "kernelspec": {
   "display_name": "Python 3 (ipykernel)",
   "language": "python",
   "name": "python3"
  },
  "language_info": {
   "codemirror_mode": {
    "name": "ipython",
    "version": 3
   },
   "file_extension": ".py",
   "mimetype": "text/x-python",
   "name": "python",
   "nbconvert_exporter": "python",
   "pygments_lexer": "ipython3",
   "version": "3.10.8"
  }
 },
 "nbformat": 4,
 "nbformat_minor": 5
}
