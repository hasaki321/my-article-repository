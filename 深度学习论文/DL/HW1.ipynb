{
 "cells": [
  {
   "cell_type": "code",
   "execution_count": 2,
   "id": "fa489421",
   "metadata": {},
   "outputs": [],
   "source": [
    "import pandas as pd\n",
    "import numpy as np\n",
    "import matplotlib.pyplot as plt\n",
    "import os\n",
    "import torch\n",
    "from torch.utils.data import DataLoader,Dataset\n",
    "from tqdm import tqdm"
   ]
  },
  {
   "cell_type": "code",
   "execution_count": 3,
   "id": "7b2c94c1",
   "metadata": {},
   "outputs": [
    {
     "data": {
      "text/plain": [
       "(2699, 118)"
      ]
     },
     "execution_count": 3,
     "metadata": {},
     "output_type": "execute_result"
    }
   ],
   "source": [
    "covid_train = pd.read_csv('data/covid/covid.train.csv').values\n",
    "covid_test = pd.read_csv('data/covid/covid.test.csv').values\n",
    "covid_train.shape"
   ]
  },
  {
   "cell_type": "markdown",
   "id": "a5a07ea9",
   "metadata": {},
   "source": [
    "## Data Preprocessing"
   ]
  },
  {
   "cell_type": "code",
   "execution_count": 4,
   "id": "50f16f7f",
   "metadata": {},
   "outputs": [
    {
     "data": {
      "text/plain": [
       "((2160, 117), (539, 117), (1078, 117))"
      ]
     },
     "execution_count": 4,
     "metadata": {},
     "output_type": "execute_result"
    }
   ],
   "source": [
    "def train_valid_split(train_data,ratio,seed=42):\n",
    "    np.random.seed(seed)\n",
    "    rand_index = np.random.permutation(len(train_data))\n",
    "    vaild_index = rand_index[:int(len(train_data)*ratio)]\n",
    "    train_index = rand_index[int(len(train_data)*ratio):]\n",
    "    return train_data[train_index],train_data[vaild_index]\n",
    "    \n",
    "def select_feat(train_data, valid_data, test_data,):\n",
    "    y_train,y_vaild = train_data[:,-1],valid_data[:,-1]\n",
    "    x_train,x_vaild,x_test = train_data[:,:-1],valid_data[:,:-1],test_data\n",
    "    return x_train,x_vaild,x_test,y_train,y_vaild\n",
    "train_data, valid_data = train_valid_split(covid_train,.2)\n",
    "x_train,x_vaild,x_test,y_train,y_vaild = select_feat(train_data, valid_data,covid_test)\n",
    "x_train.shape,x_vaild.shape,x_test.shape"
   ]
  },
  {
   "cell_type": "code",
   "execution_count": 5,
   "id": "12663ac0",
   "metadata": {},
   "outputs": [],
   "source": [
    "class covid_dataset(Dataset):\n",
    "    \n",
    "    def __init__(self,x,y=None):\n",
    "        if y is None:\n",
    "            self.y = y\n",
    "        else:\n",
    "            self.y = torch.FloatTensor(y)\n",
    "        self.x = torch.FloatTensor(x)\n",
    "    \n",
    "    def __getitem__(self,idx):\n",
    "        if self.y is None:\n",
    "            return self.x[idx]\n",
    "        else:\n",
    "            return self.x[idx],self.y[idx]\n",
    "    \n",
    "    def __len__(self):\n",
    "        return len(self.x)"
   ]
  },
  {
   "cell_type": "code",
   "execution_count": 7,
   "id": "7f084124",
   "metadata": {},
   "outputs": [
    {
     "name": "stdout",
     "output_type": "stream",
     "text": [
      "x:torch.Size([50, 117])\n",
      "y:torch.Size([50])\n"
     ]
    }
   ],
   "source": [
    "batch = 50\n",
    "train_loader = DataLoader(covid_dataset(x_train,y_train),batch_size=batch)\n",
    "vaild_loader = DataLoader(covid_dataset(x_vaild,y_vaild),batch_size=batch)\n",
    "test_loader = DataLoader(covid_dataset(x_test),batch_size=batch)\n",
    "for x,y in train_loader:\n",
    "    print(f'x:{x.shape}\\ny:{y.shape}')\n",
    "    break"
   ]
  },
  {
   "cell_type": "markdown",
   "id": "936054f4",
   "metadata": {},
   "source": [
    "## Network Model"
   ]
  },
  {
   "cell_type": "code",
   "execution_count": 8,
   "id": "b5b11a1c",
   "metadata": {},
   "outputs": [],
   "source": [
    "class net(torch.nn.Module):\n",
    "    def __init__(self):\n",
    "        super().__init__()\n",
    "        self.layers = torch.nn.Sequential(\n",
    "            torch.nn.Linear(117,50),\n",
    "            torch.nn.ReLU(),\n",
    "            torch.nn.Linear(50,8),\n",
    "            torch.nn.ReLU(),\n",
    "            torch.nn.Linear(8,1),\n",
    "        )\n",
    "    \n",
    "    def forward(self,x):\n",
    "        x = self.layers(x)\n",
    "        x = x.squeeze()\n",
    "        return x\n",
    "model = net().to('cuda')"
   ]
  },
  {
   "cell_type": "code",
   "execution_count": 11,
   "id": "dc75108d",
   "metadata": {},
   "outputs": [
    {
     "name": "stdout",
     "output_type": "stream",
     "text": [
      "LOSS:55.868568420410156\n",
      "LOSS:47.04803466796875\n",
      "LOSS:40.3697395324707\n",
      "LOSS:48.98192596435547\n",
      "LOSS:52.76850509643555\n",
      "LOSS:40.193809509277344\n",
      "LOSS:28.20741844177246\n",
      "LOSS:40.78955841064453\n",
      "LOSS:54.890926361083984\n",
      "LOSS:29.272499084472656\n",
      "LOSS:37.10465621948242\n",
      "LOSS:25.16103172302246\n",
      "LOSS:39.4931526184082\n",
      "LOSS:60.313270568847656\n",
      "LOSS:24.22102928161621\n",
      "LOSS:37.65277099609375\n",
      "LOSS:34.645912170410156\n",
      "LOSS:31.334867477416992\n",
      "LOSS:45.25757598876953\n",
      "LOSS:33.172908782958984\n",
      "LOSS:40.95221710205078\n",
      "LOSS:43.10895538330078\n",
      "LOSS:42.103797912597656\n",
      "LOSS:46.00162124633789\n",
      "LOSS:52.064212799072266\n",
      "LOSS:25.23878288269043\n",
      "LOSS:35.502323150634766\n",
      "LOSS:52.84831237792969\n",
      "LOSS:34.1417121887207\n",
      "LOSS:38.546302795410156\n",
      "LOSS:30.14503288269043\n",
      "LOSS:42.33054733276367\n",
      "LOSS:67.22917938232422\n",
      "LOSS:37.493797302246094\n",
      "LOSS:37.64086151123047\n",
      "LOSS:32.84696578979492\n",
      "LOSS:37.30588912963867\n",
      "LOSS:40.96281051635742\n",
      "LOSS:38.973262786865234\n",
      "LOSS:51.37166976928711\n",
      "LOSS:31.410594940185547\n",
      "LOSS:32.187416076660156\n",
      "LOSS:57.278778076171875\n",
      "LOSS:31.528736114501953\n"
     ]
    }
   ],
   "source": [
    "loss_f = torch.nn.MSELoss()\n",
    "\n",
    "optimizer = torch.optim.SGD(model.parameters(),lr=1e-6)\n",
    "for x,y in train_loader:\n",
    "    x,y = x.to('cuda'),y.to('cuda')\n",
    "\n",
    "    pred = model(x)\n",
    "    loss = loss_f(pred,y)\n",
    "\n",
    "    optimizer.zero_grad()\n",
    "    loss.backward()\n",
    "    optimizer.step()\n",
    "\n",
    "    #train_bar.set_description(f'ROUND:[{size*len(x)}]')\n",
    "    print(f'LOSS:{loss.item()}')"
   ]
  },
  {
   "cell_type": "markdown",
   "id": "b78b2aad",
   "metadata": {},
   "source": [
    "## Train & Test"
   ]
  },
  {
   "cell_type": "code",
   "execution_count": 109,
   "id": "c37bde0d",
   "metadata": {},
   "outputs": [
    {
     "name": "stderr",
     "output_type": "stream",
     "text": [
      "\n",
      "  0%|                                                                                           | 0/44 [00:00<?, ?it/s]\u001b[A"
     ]
    }
   ],
   "source": [
    "train_bar = tqdm(train_loader,leave=True)"
   ]
  },
  {
   "cell_type": "code",
   "execution_count": 15,
   "id": "e4faf50b",
   "metadata": {},
   "outputs": [
    {
     "data": {
      "text/plain": [
       "\"def test(test_loader,model,loss_f):\\n    for x_,y_ in vaild_loader:\\n        x_,y_ = x_.to('cuda'),y_.to('cuda')\\n        with torch.no_grad():\\n            pred_ = model(x_)\\n            vaild_loss.append(loss_f(pred_,y_).item())\\n        print(f'VAILD_LOSS:{sum(vaild_loss)/len(vaild_loss)}\\n--------------------')\""
      ]
     },
     "execution_count": 15,
     "metadata": {},
     "output_type": "execute_result"
    }
   ],
   "source": [
    "loss_f = torch.nn.MSELoss(reduction='mean')\n",
    "\n",
    "optimizer = torch.optim.Adam(model.parameters(),lr=1e-5)\n",
    "\n",
    "def train(train_loader,vaild_loader,model,loss_f,optimizer):\n",
    "    size = len(train_loader.dataset)\n",
    "    model.train()\n",
    "    \n",
    "    train_bar = tqdm(train_loader,leave=True)\n",
    "    \n",
    "    for x,y in train_bar:\n",
    "        x,y = x.to('cuda'),y.to('cuda')\n",
    "        optimizer.zero_grad()\n",
    "        pred = model(x)\n",
    "        loss = loss_f(pred,y)\n",
    "        loss.backward()\n",
    "        optimizer.step()\n",
    "        \n",
    "        train_bar.set_description(f'ROUND:[{size*len(x)}]')\n",
    "        print(f'LOSS:{loss.item()}')\n",
    "     \n",
    "    vaild_loss = []                              \n",
    "    for x_,y_ in vaild_loader:\n",
    "        x_,y_ = x_.to('cuda'),y_.to('cuda')\n",
    "        with torch.no_grad():\n",
    "            pred_ = model(x_)\n",
    "            vaild_loss.append(loss_f(pred_,y_).item())\n",
    "    print(f'VAILD_LOSS:{sum(vaild_loss)/len(vaild_loss)}\\n--------------------')\n",
    "    \n",
    "    return sum(vaild_loss)/len(vaild_loss)\n",
    "                          \n",
    "\n",
    "'''def test(test_loader,model,loss_f):\n",
    "    for x_,y_ in vaild_loader:\n",
    "        x_,y_ = x_.to('cuda'),y_.to('cuda')\n",
    "        with torch.no_grad():\n",
    "            pred_ = model(x_)\n",
    "            vaild_loss.append(loss_f(pred_,y_).item())\n",
    "        print(f'VAILD_LOSS:{sum(vaild_loss)/len(vaild_loss)}\\n--------------------')'''\n",
    "    "
   ]
  },
  {
   "cell_type": "markdown",
   "id": "765561d7",
   "metadata": {},
   "source": [
    "## START!"
   ]
  },
  {
   "cell_type": "code",
   "execution_count": 16,
   "id": "055b431f",
   "metadata": {},
   "outputs": [
    {
     "name": "stdout",
     "output_type": "stream",
     "text": [
      "TIMES:1**************************\n"
     ]
    },
    {
     "name": "stderr",
     "output_type": "stream",
     "text": [
      "ROUND:[108000]:  41%|██████████████████████████▌                                      | 18/44 [00:00<00:00, 171.11it/s]"
     ]
    },
    {
     "name": "stdout",
     "output_type": "stream",
     "text": [
      "LOSS:16.811059951782227\n",
      "LOSS:11.919508934020996\n",
      "LOSS:10.23923397064209\n",
      "LOSS:12.38637638092041\n",
      "LOSS:13.701069831848145\n",
      "LOSS:12.370148658752441\n",
      "LOSS:8.351737022399902\n",
      "LOSS:10.161428451538086\n",
      "LOSS:13.823870658874512\n",
      "LOSS:9.026384353637695\n",
      "LOSS:9.619860649108887\n",
      "LOSS:7.88649320602417\n",
      "LOSS:7.580702781677246\n",
      "LOSS:13.69171142578125\n",
      "LOSS:4.6244659423828125\n",
      "LOSS:7.80018949508667\n",
      "LOSS:4.381358623504639\n",
      "LOSS:7.674091815948486\n",
      "LOSS:9.573267936706543\n",
      "LOSS:7.371330261230469\n",
      "LOSS:6.592986106872559\n",
      "LOSS:8.302163124084473\n",
      "LOSS:9.436378479003906\n",
      "LOSS:5.167487144470215\n",
      "LOSS:7.784244060516357\n",
      "LOSS:5.591834545135498\n",
      "LOSS:8.350367546081543\n",
      "LOSS:9.704893112182617\n",
      "LOSS:7.159940242767334\n",
      "LOSS:9.57483196258545\n"
     ]
    },
    {
     "name": "stderr",
     "output_type": "stream",
     "text": [
      "ROUND:[108000]:  41%|██████████████████████████▌                                      | 18/44 [00:00<00:00, 171.11it/s]"
     ]
    },
    {
     "name": "stdout",
     "output_type": "stream",
     "text": [
      "LOSS:6.272249698638916\n",
      "LOSS:7.003725528717041\n",
      "LOSS:8.143576622009277\n"
     ]
    },
    {
     "name": "stderr",
     "output_type": "stream",
     "text": [
      "ROUND:[21600]: 100%|██████████████████████████████████████████████████████████████████| 44/44 [00:00<00:00, 181.95it/s]\n"
     ]
    },
    {
     "name": "stdout",
     "output_type": "stream",
     "text": [
      "LOSS:4.880185604095459\n",
      "LOSS:4.526519298553467\n",
      "LOSS:7.937520503997803\n",
      "LOSS:8.278450965881348\n",
      "LOSS:4.978917598724365\n",
      "LOSS:8.23986530303955\n",
      "LOSS:5.288864612579346\n",
      "LOSS:5.917032241821289\n",
      "LOSS:4.603189468383789\n",
      "LOSS:9.35219955444336\n",
      "LOSS:2.090430498123169\n",
      "VAILD_LOSS:6.352965571663597\n",
      "--------------------\n",
      "TIMES:2**************************\n"
     ]
    },
    {
     "name": "stderr",
     "output_type": "stream",
     "text": [
      "ROUND:[108000]:   0%|                                                                           | 0/44 [00:00<?, ?it/s]"
     ]
    },
    {
     "name": "stdout",
     "output_type": "stream",
     "text": [
      "LOSS:11.628100395202637\n",
      "LOSS:6.89631462097168\n",
      "LOSS:7.04353141784668\n",
      "LOSS:7.411736965179443\n",
      "LOSS:8.113425254821777\n",
      "LOSS:7.705342769622803\n",
      "LOSS:6.500436782836914\n",
      "LOSS:6.995134353637695\n",
      "LOSS:9.804194450378418\n",
      "LOSS:7.739398002624512\n",
      "LOSS:6.651301860809326\n",
      "LOSS:6.100612640380859\n",
      "LOSS:5.787905216217041\n",
      "LOSS:10.106449127197266\n",
      "LOSS:4.024002552032471\n",
      "LOSS:6.339905261993408\n",
      "LOSS:3.2163872718811035\n",
      "LOSS:6.127071380615234\n",
      "LOSS:6.36366605758667\n",
      "LOSS:5.173052787780762\n",
      "LOSS:5.551958084106445\n",
      "LOSS:6.586474418640137\n",
      "LOSS:7.512607097625732\n",
      "LOSS:3.660538911819458\n"
     ]
    },
    {
     "name": "stderr",
     "output_type": "stream",
     "text": [
      "ROUND:[108000]:  57%|████████████████████████████████████▉                            | 25/44 [00:00<00:00, 243.37it/s]"
     ]
    },
    {
     "name": "stdout",
     "output_type": "stream",
     "text": [
      "LOSS:5.62435245513916\n",
      "LOSS:4.718048095703125\n",
      "LOSS:6.127270221710205\n"
     ]
    },
    {
     "name": "stderr",
     "output_type": "stream",
     "text": [
      "ROUND:[21600]: 100%|██████████████████████████████████████████████████████████████████| 44/44 [00:00<00:00, 249.25it/s]\n"
     ]
    },
    {
     "name": "stdout",
     "output_type": "stream",
     "text": [
      "LOSS:6.069361209869385\n",
      "LOSS:6.103147983551025\n",
      "LOSS:6.718898773193359\n",
      "LOSS:4.502834320068359\n",
      "LOSS:5.951690673828125\n",
      "LOSS:6.263697147369385\n",
      "LOSS:3.863115072250366\n",
      "LOSS:3.8683555126190186\n",
      "LOSS:5.986320495605469\n",
      "LOSS:7.283876895904541\n",
      "LOSS:4.2254180908203125\n",
      "LOSS:6.38115119934082\n",
      "LOSS:3.7833104133605957\n",
      "LOSS:5.074127197265625\n",
      "LOSS:4.288813591003418\n",
      "LOSS:8.25178050994873\n",
      "LOSS:2.792440176010132\n",
      "VAILD_LOSS:5.892909873615611\n",
      "--------------------\n",
      "TIMES:3**************************\n"
     ]
    },
    {
     "name": "stderr",
     "output_type": "stream",
     "text": [
      "ROUND:[108000]:   0%|                                                                           | 0/44 [00:00<?, ?it/s]"
     ]
    },
    {
     "name": "stdout",
     "output_type": "stream",
     "text": [
      "LOSS:9.778379440307617\n"
     ]
    },
    {
     "name": "stderr",
     "output_type": "stream",
     "text": [
      "ROUND:[108000]:   0%|                                                                           | 0/44 [00:00<?, ?it/s]"
     ]
    },
    {
     "name": "stdout",
     "output_type": "stream",
     "text": [
      "LOSS:5.142333984375\n",
      "LOSS:5.8029069900512695\n",
      "LOSS:5.95982551574707\n",
      "LOSS:5.903082370758057\n",
      "LOSS:5.973853588104248\n",
      "LOSS:6.27885103225708\n",
      "LOSS:5.900465965270996\n",
      "LOSS:8.723150253295898\n",
      "LOSS:7.910031795501709\n",
      "LOSS:5.65856409072876\n",
      "LOSS:6.059603214263916\n",
      "LOSS:5.290785789489746\n",
      "LOSS:9.244858741760254\n",
      "LOSS:4.173518180847168\n",
      "LOSS:6.053711891174316\n",
      "LOSS:3.4758338928222656\n",
      "LOSS:6.112279415130615\n",
      "LOSS:5.48105525970459\n",
      "LOSS:4.532078266143799\n",
      "LOSS:5.393234729766846\n",
      "LOSS:6.298365116119385\n",
      "LOSS:7.281370639801025\n",
      "LOSS:3.4025180339813232\n",
      "LOSS:5.344354629516602\n",
      "LOSS:4.628750324249268\n",
      "LOSS:5.460024356842041\n",
      "LOSS:4.991403579711914\n",
      "LOSS:5.79802942276001\n"
     ]
    },
    {
     "name": "stderr",
     "output_type": "stream",
     "text": [
      "ROUND:[108000]:  68%|████████████████████████████████████████████▎                    | 30/44 [00:00<00:00, 297.83it/s]"
     ]
    },
    {
     "name": "stdout",
     "output_type": "stream",
     "text": [
      "LOSS:5.941558837890625\n",
      "LOSS:4.134145259857178\n",
      "LOSS:5.872016906738281\n",
      "LOSS:5.810756683349609\n"
     ]
    },
    {
     "name": "stderr",
     "output_type": "stream",
     "text": [
      "ROUND:[21600]: 100%|██████████████████████████████████████████████████████████████████| 44/44 [00:00<00:00, 292.17it/s]\n"
     ]
    },
    {
     "name": "stdout",
     "output_type": "stream",
     "text": [
      "LOSS:3.9066526889801025\n",
      "LOSS:4.04667329788208\n",
      "LOSS:5.443108558654785\n",
      "LOSS:7.051344394683838\n",
      "LOSS:4.273151874542236\n",
      "LOSS:5.913835525512695\n",
      "LOSS:3.43569278717041\n",
      "LOSS:4.972137928009033\n",
      "LOSS:4.338961601257324\n",
      "LOSS:8.075312614440918\n",
      "LOSS:3.210783004760742\n",
      "VAILD_LOSS:5.880576242100108\n",
      "--------------------\n",
      "TIMES:4**************************\n"
     ]
    },
    {
     "name": "stderr",
     "output_type": "stream",
     "text": [
      "ROUND:[108000]:   0%|                                                                           | 0/44 [00:00<?, ?it/s]"
     ]
    },
    {
     "name": "stdout",
     "output_type": "stream",
     "text": [
      "LOSS:9.24067211151123\n",
      "LOSS:4.774287223815918\n",
      "LOSS:5.541205883026123\n",
      "LOSS:5.627391338348389\n",
      "LOSS:5.3538818359375\n"
     ]
    },
    {
     "name": "stderr",
     "output_type": "stream",
     "text": [
      "ROUND:[108000]:   0%|                                                                           | 0/44 [00:00<?, ?it/s]"
     ]
    },
    {
     "name": "stdout",
     "output_type": "stream",
     "text": [
      "LOSS:5.497905731201172\n",
      "LOSS:6.290713787078857\n",
      "LOSS:5.470483779907227\n",
      "LOSS:8.540993690490723\n"
     ]
    },
    {
     "name": "stderr",
     "output_type": "stream",
     "text": [
      "ROUND:[108000]:  70%|█████████████████████████████████████████████▊                   | 31/44 [00:00<00:00, 304.74it/s]"
     ]
    },
    {
     "name": "stdout",
     "output_type": "stream",
     "text": [
      "LOSS:8.008899688720703\n",
      "LOSS:5.420047283172607\n",
      "LOSS:6.133955955505371\n",
      "LOSS:5.138319969177246\n",
      "LOSS:9.07387638092041\n",
      "LOSS:4.112664222717285\n",
      "LOSS:5.902872085571289\n",
      "LOSS:3.599503993988037\n",
      "LOSS:6.014395236968994\n",
      "LOSS:5.255660057067871\n",
      "LOSS:4.31634521484375\n",
      "LOSS:5.340583324432373\n",
      "LOSS:6.192410945892334\n",
      "LOSS:7.154819011688232\n",
      "LOSS:3.402350425720215\n",
      "LOSS:5.271728515625\n",
      "LOSS:4.474140167236328\n",
      "LOSS:5.219476222991943\n",
      "LOSS:4.716937065124512\n",
      "LOSS:5.56785249710083\n",
      "LOSS:5.717090129852295\n",
      "LOSS:3.9780099391937256\n",
      "LOSS:5.895740985870361\n",
      "LOSS:5.700537204742432\n",
      "LOSS:3.8734519481658936\n",
      "LOSS:4.118188381195068\n",
      "LOSS:5.248478889465332\n",
      "LOSS:6.935769557952881\n",
      "LOSS:4.248031139373779\n"
     ]
    },
    {
     "name": "stderr",
     "output_type": "stream",
     "text": [
      "ROUND:[21600]:  70%|██████████████████████████████████████████████▌                   | 31/44 [00:00<00:00, 304.74it/s]"
     ]
    },
    {
     "name": "stdout",
     "output_type": "stream",
     "text": [
      "LOSS:5.768570423126221\n",
      "LOSS:3.2963054180145264\n",
      "LOSS:4.8711838722229\n",
      "LOSS:4.222847938537598\n",
      "LOSS:7.986287593841553\n"
     ]
    },
    {
     "name": "stderr",
     "output_type": "stream",
     "text": [
      "ROUND:[21600]: 100%|██████████████████████████████████████████████████████████████████| 44/44 [00:00<00:00, 302.18it/s]\n"
     ]
    },
    {
     "name": "stdout",
     "output_type": "stream",
     "text": [
      "LOSS:3.271669387817383\n",
      "VAILD_LOSS:5.83165303143588\n",
      "--------------------\n",
      "TIMES:5**************************\n"
     ]
    },
    {
     "name": "stderr",
     "output_type": "stream",
     "text": [
      "ROUND:[108000]:   0%|                                                                           | 0/44 [00:00<?, ?it/s]"
     ]
    },
    {
     "name": "stdout",
     "output_type": "stream",
     "text": [
      "LOSS:8.99367618560791\n",
      "LOSS:4.669317722320557\n",
      "LOSS:5.4506096839904785\n",
      "LOSS:5.456819534301758\n",
      "LOSS:5.19725227355957\n",
      "LOSS:5.318636417388916\n",
      "LOSS:6.254174709320068\n",
      "LOSS:5.2308268547058105\n",
      "LOSS:8.492921829223633\n",
      "LOSS:7.985443115234375\n"
     ]
    },
    {
     "name": "stderr",
     "output_type": "stream",
     "text": [
      "ROUND:[108000]:   0%|                                                                           | 0/44 [00:00<?, ?it/s]"
     ]
    },
    {
     "name": "stdout",
     "output_type": "stream",
     "text": [
      "LOSS:5.303452491760254\n",
      "LOSS:6.12833833694458\n",
      "LOSS:5.036235809326172\n",
      "LOSS:9.017622947692871\n",
      "LOSS:3.985334634780884\n"
     ]
    },
    {
     "name": "stderr",
     "output_type": "stream",
     "text": [
      "ROUND:[108000]:   0%|                                                                           | 0/44 [00:00<?, ?it/s]"
     ]
    },
    {
     "name": "stdout",
     "output_type": "stream",
     "text": [
      "LOSS:5.752369403839111\n",
      "LOSS:3.625840187072754\n",
      "LOSS:5.86770486831665\n",
      "LOSS:5.115978240966797\n",
      "LOSS:4.174354076385498\n"
     ]
    },
    {
     "name": "stderr",
     "output_type": "stream",
     "text": [
      "ROUND:[21600]: 100%|██████████████████████████████████████████████████████████████████| 44/44 [00:00<00:00, 303.99it/s]\n"
     ]
    },
    {
     "name": "stdout",
     "output_type": "stream",
     "text": [
      "LOSS:5.311550617218018\n",
      "LOSS:6.0935235023498535\n",
      "LOSS:7.025484561920166\n",
      "LOSS:3.426447629928589\n",
      "LOSS:5.218497276306152\n",
      "LOSS:4.324136734008789\n",
      "LOSS:5.064685344696045\n",
      "LOSS:4.55909538269043\n",
      "LOSS:5.399338245391846\n",
      "LOSS:5.583500862121582\n",
      "LOSS:3.875602960586548\n",
      "LOSS:5.919024467468262\n",
      "LOSS:5.643930435180664\n",
      "LOSS:3.8388524055480957\n",
      "LOSS:4.167590618133545\n",
      "LOSS:5.107333183288574\n",
      "LOSS:6.842684268951416\n",
      "LOSS:4.227960586547852\n",
      "LOSS:5.671249866485596\n",
      "LOSS:3.1939830780029297\n",
      "LOSS:4.762808799743652\n",
      "LOSS:4.117981433868408\n",
      "LOSS:7.911403179168701\n",
      "LOSS:3.2915170192718506\n",
      "VAILD_LOSS:5.79280441457575\n",
      "--------------------\n",
      "TIMES:6**************************\n"
     ]
    },
    {
     "name": "stderr",
     "output_type": "stream",
     "text": [
      "ROUND:[108000]:   0%|                                                                           | 0/44 [00:00<?, ?it/s]"
     ]
    },
    {
     "name": "stdout",
     "output_type": "stream",
     "text": [
      "LOSS:8.804520606994629\n"
     ]
    },
    {
     "name": "stderr",
     "output_type": "stream",
     "text": [
      "ROUND:[108000]:   0%|                                                                           | 0/44 [00:00<?, ?it/s]"
     ]
    },
    {
     "name": "stdout",
     "output_type": "stream",
     "text": [
      "LOSS:4.598135471343994\n",
      "LOSS:5.390203952789307\n",
      "LOSS:5.334368705749512\n",
      "LOSS:5.1092376708984375\n",
      "LOSS:5.200524806976318\n"
     ]
    },
    {
     "name": "stderr",
     "output_type": "stream",
     "text": [
      "ROUND:[108000]:   0%|                                                                           | 0/44 [00:00<?, ?it/s]"
     ]
    },
    {
     "name": "stdout",
     "output_type": "stream",
     "text": [
      "LOSS:6.230226516723633\n",
      "LOSS:5.042599201202393\n",
      "LOSS:8.46123218536377\n",
      "LOSS:7.929930210113525\n",
      "LOSS:5.21760368347168\n"
     ]
    },
    {
     "name": "stderr",
     "output_type": "stream",
     "text": [
      "ROUND:[108000]:   0%|                                                                           | 0/44 [00:00<?, ?it/s]"
     ]
    },
    {
     "name": "stdout",
     "output_type": "stream",
     "text": [
      "LOSS:6.121331214904785\n",
      "LOSS:4.952508926391602\n",
      "LOSS:8.98707103729248\n",
      "LOSS:3.889373779296875\n",
      "LOSS:5.6124420166015625\n",
      "LOSS:3.647181510925293\n",
      "LOSS:5.74717903137207\n",
      "LOSS:5.00396728515625\n",
      "LOSS:4.073634147644043\n"
     ]
    },
    {
     "name": "stderr",
     "output_type": "stream",
     "text": [
      "ROUND:[108000]:   0%|                                                                           | 0/44 [00:00<?, ?it/s]"
     ]
    },
    {
     "name": "stdout",
     "output_type": "stream",
     "text": [
      "LOSS:5.290945529937744\n",
      "LOSS:5.998103618621826\n",
      "LOSS:6.920810222625732\n",
      "LOSS:3.4407918453216553\n",
      "LOSS:5.195223808288574\n"
     ]
    },
    {
     "name": "stderr",
     "output_type": "stream",
     "text": [
      "ROUND:[108000]:   0%|                                                                           | 0/44 [00:00<?, ?it/s]"
     ]
    },
    {
     "name": "stdout",
     "output_type": "stream",
     "text": [
      "LOSS:4.1956305503845215\n",
      "LOSS:4.944268703460693\n",
      "LOSS:4.44242000579834\n",
      "LOSS:5.281070232391357\n"
     ]
    },
    {
     "name": "stderr",
     "output_type": "stream",
     "text": [
      "ROUND:[21600]: 100%|██████████████████████████████████████████████████████████████████| 44/44 [00:00<00:00, 302.18it/s]\n"
     ]
    },
    {
     "name": "stdout",
     "output_type": "stream",
     "text": [
      "LOSS:5.4849958419799805\n",
      "LOSS:3.8056023120880127\n",
      "LOSS:5.929472923278809\n",
      "LOSS:5.60732889175415\n",
      "LOSS:3.8152871131896973\n",
      "LOSS:4.203518867492676\n",
      "LOSS:4.999978065490723\n",
      "LOSS:6.768072128295898\n",
      "LOSS:4.222327709197998\n",
      "LOSS:5.60152530670166\n",
      "LOSS:3.1286776065826416\n",
      "LOSS:4.67549991607666\n",
      "LOSS:4.046667575836182\n",
      "LOSS:7.843958377838135\n",
      "LOSS:3.3016984462738037\n",
      "VAILD_LOSS:5.758867242119529\n",
      "--------------------\n",
      "TIMES:7**************************\n"
     ]
    },
    {
     "name": "stderr",
     "output_type": "stream",
     "text": [
      "ROUND:[108000]:   0%|                                                                           | 0/44 [00:00<?, ?it/s]"
     ]
    },
    {
     "name": "stdout",
     "output_type": "stream",
     "text": [
      "LOSS:8.647939682006836\n",
      "LOSS:4.540859222412109\n",
      "LOSS:5.310586452484131\n",
      "LOSS:5.239821434020996\n",
      "LOSS:5.032451152801514\n",
      "LOSS:5.109981536865234\n"
     ]
    },
    {
     "name": "stderr",
     "output_type": "stream",
     "text": [
      "ROUND:[108000]:   0%|                                                                           | 0/44 [00:00<?, ?it/s]"
     ]
    },
    {
     "name": "stdout",
     "output_type": "stream",
     "text": [
      "LOSS:6.219690799713135\n",
      "LOSS:4.850440979003906\n",
      "LOSS:8.427729606628418\n",
      "LOSS:7.879711151123047\n",
      "LOSS:5.143845081329346\n"
     ]
    },
    {
     "name": "stderr",
     "output_type": "stream",
     "text": [
      "ROUND:[108000]:   0%|                                                                           | 0/44 [00:00<?, ?it/s]"
     ]
    },
    {
     "name": "stdout",
     "output_type": "stream",
     "text": [
      "LOSS:6.134572505950928\n",
      "LOSS:4.885237693786621\n",
      "LOSS:8.952733039855957\n",
      "LOSS:3.8318071365356445\n",
      "LOSS:5.494197368621826\n"
     ]
    },
    {
     "name": "stderr",
     "output_type": "stream",
     "text": [
      "ROUND:[108000]:   0%|                                                                           | 0/44 [00:00<?, ?it/s]"
     ]
    },
    {
     "name": "stdout",
     "output_type": "stream",
     "text": [
      "LOSS:3.685910940170288\n",
      "LOSS:5.665477275848389\n",
      "LOSS:4.900877475738525\n",
      "LOSS:3.9942915439605713\n"
     ]
    },
    {
     "name": "stderr",
     "output_type": "stream",
     "text": [
      "ROUND:[108000]:   0%|                                                                           | 0/44 [00:00<?, ?it/s]"
     ]
    },
    {
     "name": "stdout",
     "output_type": "stream",
     "text": [
      "LOSS:5.265470504760742\n",
      "LOSS:5.919931888580322\n",
      "LOSS:6.83747673034668\n",
      "LOSS:3.42596435546875\n",
      "LOSS:5.189650535583496\n",
      "LOSS:4.095466613769531\n",
      "LOSS:4.835153102874756\n",
      "LOSS:4.323647499084473\n",
      "LOSS:5.197944641113281\n",
      "LOSS:5.390352725982666\n"
     ]
    },
    {
     "name": "stderr",
     "output_type": "stream",
     "text": [
      "ROUND:[108000]:  70%|█████████████████████████████████████████████▊                   | 31/44 [00:00<00:00, 306.09it/s]"
     ]
    },
    {
     "name": "stdout",
     "output_type": "stream",
     "text": [
      "LOSS:3.7516186237335205\n",
      "LOSS:5.929022312164307\n",
      "LOSS:5.576358318328857\n",
      "LOSS:3.801079034805298\n",
      "LOSS:4.224799156188965\n"
     ]
    },
    {
     "name": "stderr",
     "output_type": "stream",
     "text": [
      "ROUND:[108000]:  70%|█████████████████████████████████████████████▊                   | 31/44 [00:00<00:00, 306.09it/s]"
     ]
    },
    {
     "name": "stdout",
     "output_type": "stream",
     "text": [
      "LOSS:4.9110426902771\n",
      "LOSS:6.69812536239624\n",
      "LOSS:4.222934246063232\n",
      "LOSS:5.542662620544434\n",
      "LOSS:3.0783042907714844\n"
     ]
    },
    {
     "name": "stderr",
     "output_type": "stream",
     "text": [
      "ROUND:[21600]: 100%|██████████████████████████████████████████████████████████████████| 44/44 [00:00<00:00, 301.04it/s]\n"
     ]
    },
    {
     "name": "stdout",
     "output_type": "stream",
     "text": [
      "LOSS:4.602321147918701\n",
      "LOSS:4.0052714347839355\n",
      "LOSS:7.777167320251465\n",
      "LOSS:3.303339719772339\n",
      "VAILD_LOSS:5.723855408755216\n",
      "--------------------\n",
      "TIMES:8**************************\n"
     ]
    },
    {
     "name": "stderr",
     "output_type": "stream",
     "text": [
      "ROUND:[108000]:   0%|                                                                           | 0/44 [00:00<?, ?it/s]"
     ]
    },
    {
     "name": "stdout",
     "output_type": "stream",
     "text": [
      "LOSS:8.51236629486084\n",
      "LOSS:4.490614414215088\n",
      "LOSS:5.231101989746094\n",
      "LOSS:5.160201072692871\n",
      "LOSS:4.96645450592041\n",
      "LOSS:5.045470714569092\n",
      "LOSS:6.19872522354126\n"
     ]
    },
    {
     "name": "stderr",
     "output_type": "stream",
     "text": [
      "ROUND:[108000]:   0%|                                                                           | 0/44 [00:00<?, ?it/s]"
     ]
    },
    {
     "name": "stdout",
     "output_type": "stream",
     "text": [
      "LOSS:4.691614627838135\n",
      "LOSS:8.406482696533203\n",
      "LOSS:7.821394920349121\n",
      "LOSS:5.080206394195557\n",
      "LOSS:6.128116130828857\n",
      "LOSS:4.823207378387451\n",
      "LOSS:8.91065788269043\n",
      "LOSS:3.78389573097229\n",
      "LOSS:5.385431289672852\n"
     ]
    },
    {
     "name": "stderr",
     "output_type": "stream",
     "text": [
      "ROUND:[108000]:   0%|                                                                           | 0/44 [00:00<?, ?it/s]"
     ]
    },
    {
     "name": "stdout",
     "output_type": "stream",
     "text": [
      "LOSS:3.7036964893341064\n",
      "LOSS:5.588529586791992\n",
      "LOSS:4.81382942199707\n",
      "LOSS:3.9168028831481934\n",
      "LOSS:5.220812797546387\n"
     ]
    },
    {
     "name": "stderr",
     "output_type": "stream",
     "text": [
      "ROUND:[108000]:   0%|                                                                           | 0/44 [00:00<?, ?it/s]"
     ]
    },
    {
     "name": "stdout",
     "output_type": "stream",
     "text": [
      "LOSS:5.852039813995361\n",
      "LOSS:6.746648788452148\n",
      "LOSS:3.4100255966186523\n",
      "LOSS:5.192291259765625\n"
     ]
    },
    {
     "name": "stderr",
     "output_type": "stream",
     "text": [
      "ROUND:[108000]:   0%|                                                                           | 0/44 [00:00<?, ?it/s]"
     ]
    },
    {
     "name": "stdout",
     "output_type": "stream",
     "text": [
      "LOSS:3.9985246658325195\n",
      "LOSS:4.735560417175293\n",
      "LOSS:4.238311290740967\n",
      "LOSS:5.134405612945557\n"
     ]
    },
    {
     "name": "stderr",
     "output_type": "stream",
     "text": [
      "ROUND:[108000]:  68%|████████████████████████████████████████████▎                    | 30/44 [00:00<00:00, 295.08it/s]"
     ]
    },
    {
     "name": "stdout",
     "output_type": "stream",
     "text": [
      "LOSS:5.318465232849121\n",
      "LOSS:3.712475299835205\n",
      "LOSS:5.894877910614014\n",
      "LOSS:5.566415309906006\n",
      "LOSS:3.786464214324951\n",
      "LOSS:4.231360912322998\n",
      "LOSS:4.83541202545166\n",
      "LOSS:6.632853984832764\n",
      "LOSS:4.203682899475098\n"
     ]
    },
    {
     "name": "stderr",
     "output_type": "stream",
     "text": [
      "ROUND:[21600]:  68%|█████████████████████████████████████████████                     | 30/44 [00:00<00:00, 295.08it/s]"
     ]
    },
    {
     "name": "stdout",
     "output_type": "stream",
     "text": [
      "LOSS:5.4976911544799805\n",
      "LOSS:3.0406248569488525\n",
      "LOSS:4.5323166847229\n",
      "LOSS:3.9701969623565674\n",
      "LOSS:7.715093612670898\n"
     ]
    },
    {
     "name": "stderr",
     "output_type": "stream",
     "text": [
      "ROUND:[21600]: 100%|██████████████████████████████████████████████████████████████████| 44/44 [00:00<00:00, 294.24it/s]\n"
     ]
    },
    {
     "name": "stdout",
     "output_type": "stream",
     "text": [
      "LOSS:3.2783844470977783\n",
      "VAILD_LOSS:5.689837455749512\n",
      "--------------------\n",
      "TIMES:9**************************\n"
     ]
    },
    {
     "name": "stderr",
     "output_type": "stream",
     "text": [
      "ROUND:[108000]:   0%|                                                                           | 0/44 [00:00<?, ?it/s]"
     ]
    },
    {
     "name": "stdout",
     "output_type": "stream",
     "text": [
      "LOSS:8.398603439331055\n"
     ]
    },
    {
     "name": "stderr",
     "output_type": "stream",
     "text": [
      "ROUND:[108000]:   0%|                                                                           | 0/44 [00:00<?, ?it/s]"
     ]
    },
    {
     "name": "stdout",
     "output_type": "stream",
     "text": [
      "LOSS:4.452699661254883\n",
      "LOSS:5.162205696105957\n",
      "LOSS:5.100836753845215\n",
      "LOSS:4.9114484786987305\n",
      "LOSS:4.988334655761719\n"
     ]
    },
    {
     "name": "stderr",
     "output_type": "stream",
     "text": [
      "ROUND:[108000]:   0%|                                                                           | 0/44 [00:00<?, ?it/s]"
     ]
    },
    {
     "name": "stdout",
     "output_type": "stream",
     "text": [
      "LOSS:6.175710201263428\n",
      "LOSS:4.555292129516602\n",
      "LOSS:8.385540962219238\n",
      "LOSS:7.746465682983398\n",
      "LOSS:5.011160373687744\n",
      "LOSS:6.120015621185303\n",
      "LOSS:4.756114959716797\n",
      "LOSS:8.873364448547363\n",
      "LOSS:3.751174211502075\n"
     ]
    },
    {
     "name": "stderr",
     "output_type": "stream",
     "text": [
      "ROUND:[108000]:   0%|                                                                           | 0/44 [00:00<?, ?it/s]"
     ]
    },
    {
     "name": "stdout",
     "output_type": "stream",
     "text": [
      "LOSS:5.267920970916748\n",
      "LOSS:3.705076217651367\n",
      "LOSS:5.514467716217041\n",
      "LOSS:4.73628568649292\n",
      "LOSS:3.8555870056152344\n",
      "LOSS:5.174477577209473\n",
      "LOSS:5.785208702087402\n",
      "LOSS:6.665196418762207\n",
      "LOSS:3.3875842094421387\n",
      "LOSS:5.2089996337890625\n"
     ]
    },
    {
     "name": "stderr",
     "output_type": "stream",
     "text": [
      "ROUND:[108000]:   0%|                                                                           | 0/44 [00:00<?, ?it/s]"
     ]
    },
    {
     "name": "stdout",
     "output_type": "stream",
     "text": [
      "LOSS:3.917271614074707\n",
      "LOSS:4.649903297424316\n",
      "LOSS:4.1578049659729\n",
      "LOSS:5.079564094543457\n",
      "LOSS:5.244354724884033\n"
     ]
    },
    {
     "name": "stderr",
     "output_type": "stream",
     "text": [
      "ROUND:[108000]:  70%|█████████████████████████████████████████████▊                   | 31/44 [00:00<00:00, 304.73it/s]"
     ]
    },
    {
     "name": "stdout",
     "output_type": "stream",
     "text": [
      "LOSS:3.6827664375305176\n",
      "LOSS:5.850726127624512\n",
      "LOSS:5.562868595123291\n",
      "LOSS:3.7738749980926514\n"
     ]
    },
    {
     "name": "stderr",
     "output_type": "stream",
     "text": [
      "ROUND:[108000]:  70%|█████████████████████████████████████████████▊                   | 31/44 [00:00<00:00, 304.73it/s]"
     ]
    },
    {
     "name": "stdout",
     "output_type": "stream",
     "text": [
      "LOSS:4.22637939453125\n",
      "LOSS:4.774811744689941\n",
      "LOSS:6.572187423706055\n",
      "LOSS:4.18098258972168\n",
      "LOSS:5.455150127410889\n"
     ]
    },
    {
     "name": "stderr",
     "output_type": "stream",
     "text": [
      "ROUND:[21600]: 100%|██████████████████████████████████████████████████████████████████| 44/44 [00:00<00:00, 306.37it/s]\n"
     ]
    },
    {
     "name": "stdout",
     "output_type": "stream",
     "text": [
      "LOSS:3.010645627975464\n",
      "LOSS:4.464966297149658\n",
      "LOSS:3.9373040199279785\n",
      "LOSS:7.659250259399414\n",
      "LOSS:3.238262176513672\n",
      "VAILD_LOSS:5.655452099713412\n",
      "--------------------\n",
      "TIMES:10**************************\n"
     ]
    },
    {
     "name": "stderr",
     "output_type": "stream",
     "text": [
      "ROUND:[108000]:   0%|                                                                           | 0/44 [00:00<?, ?it/s]"
     ]
    },
    {
     "name": "stdout",
     "output_type": "stream",
     "text": [
      "LOSS:8.305201530456543\n",
      "LOSS:4.420970439910889\n"
     ]
    },
    {
     "name": "stderr",
     "output_type": "stream",
     "text": [
      "ROUND:[108000]:   0%|                                                                           | 0/44 [00:00<?, ?it/s]"
     ]
    },
    {
     "name": "stdout",
     "output_type": "stream",
     "text": [
      "LOSS:5.102410793304443\n",
      "LOSS:5.057750701904297\n",
      "LOSS:4.874855995178223\n",
      "LOSS:4.942723274230957\n"
     ]
    },
    {
     "name": "stderr",
     "output_type": "stream",
     "text": [
      "ROUND:[108000]:   0%|                                                                           | 0/44 [00:00<?, ?it/s]"
     ]
    },
    {
     "name": "stdout",
     "output_type": "stream",
     "text": [
      "LOSS:6.143456935882568\n",
      "LOSS:4.444055080413818\n",
      "LOSS:8.366991996765137\n",
      "LOSS:7.66393518447876\n",
      "LOSS:4.950508117675781\n"
     ]
    },
    {
     "name": "stderr",
     "output_type": "stream",
     "text": [
      "ROUND:[108000]:   0%|                                                                           | 0/44 [00:00<?, ?it/s]"
     ]
    },
    {
     "name": "stdout",
     "output_type": "stream",
     "text": [
      "LOSS:6.105554103851318\n",
      "LOSS:4.69094705581665\n",
      "LOSS:8.839341163635254\n",
      "LOSS:3.7193493843078613\n"
     ]
    },
    {
     "name": "stderr",
     "output_type": "stream",
     "text": [
      "ROUND:[108000]:   0%|                                                                           | 0/44 [00:00<?, ?it/s]"
     ]
    },
    {
     "name": "stdout",
     "output_type": "stream",
     "text": [
      "LOSS:5.15974760055542\n",
      "LOSS:3.6911754608154297\n",
      "LOSS:5.448392391204834\n",
      "LOSS:4.667342662811279\n",
      "LOSS:3.8089046478271484\n",
      "LOSS:5.131911277770996\n",
      "LOSS:5.710495948791504\n",
      "LOSS:6.589667320251465\n"
     ]
    },
    {
     "name": "stderr",
     "output_type": "stream",
     "text": [
      "ROUND:[108000]:  64%|█████████████████████████████████████████▎                       | 28/44 [00:00<00:00, 277.97it/s]"
     ]
    },
    {
     "name": "stdout",
     "output_type": "stream",
     "text": [
      "LOSS:3.3622043132781982\n",
      "LOSS:5.222767353057861\n",
      "LOSS:3.841121196746826\n",
      "LOSS:4.5784735679626465\n",
      "LOSS:4.097586154937744\n",
      "LOSS:5.032931327819824\n",
      "LOSS:5.175271987915039\n",
      "LOSS:3.6605064868927\n",
      "LOSS:5.802414417266846\n"
     ]
    },
    {
     "name": "stderr",
     "output_type": "stream",
     "text": [
      "ROUND:[108000]:  64%|█████████████████████████████████████████▎                       | 28/44 [00:00<00:00, 277.97it/s]"
     ]
    },
    {
     "name": "stdout",
     "output_type": "stream",
     "text": [
      "LOSS:5.564655780792236\n",
      "LOSS:3.75848388671875\n",
      "LOSS:4.211493492126465\n",
      "LOSS:4.729789733886719\n"
     ]
    },
    {
     "name": "stderr",
     "output_type": "stream",
     "text": [
      "ROUND:[108000]:  64%|█████████████████████████████████████████▎                       | 28/44 [00:00<00:00, 277.97it/s]"
     ]
    },
    {
     "name": "stdout",
     "output_type": "stream",
     "text": [
      "LOSS:6.514816761016846\n",
      "LOSS:4.145656108856201\n",
      "LOSS:5.425136566162109\n",
      "LOSS:2.9781010150909424\n",
      "LOSS:4.404791831970215\n"
     ]
    },
    {
     "name": "stderr",
     "output_type": "stream",
     "text": [
      "ROUND:[21600]: 100%|██████████████████████████████████████████████████████████████████| 44/44 [00:00<00:00, 281.00it/s]\n"
     ]
    },
    {
     "name": "stdout",
     "output_type": "stream",
     "text": [
      "LOSS:3.908515214920044\n",
      "LOSS:7.59854793548584\n",
      "LOSS:3.220972776412964\n",
      "VAILD_LOSS:5.618039326234297\n",
      "--------------------\n",
      "TIMES:11**************************\n"
     ]
    },
    {
     "name": "stderr",
     "output_type": "stream",
     "text": [
      "ROUND:[108000]:   0%|                                                                           | 0/44 [00:00<?, ?it/s]"
     ]
    },
    {
     "name": "stdout",
     "output_type": "stream",
     "text": [
      "LOSS:8.234654426574707\n",
      "LOSS:4.395875930786133\n",
      "LOSS:5.0535125732421875\n"
     ]
    },
    {
     "name": "stderr",
     "output_type": "stream",
     "text": [
      "ROUND:[108000]:   0%|                                                                           | 0/44 [00:00<?, ?it/s]"
     ]
    },
    {
     "name": "stdout",
     "output_type": "stream",
     "text": [
      "LOSS:5.0288920402526855\n",
      "LOSS:4.855314254760742\n",
      "LOSS:4.92172908782959\n",
      "LOSS:6.106467247009277\n"
     ]
    },
    {
     "name": "stderr",
     "output_type": "stream",
     "text": [
      "ROUND:[108000]:   0%|                                                                           | 0/44 [00:00<?, ?it/s]"
     ]
    },
    {
     "name": "stdout",
     "output_type": "stream",
     "text": [
      "LOSS:4.364863872528076\n",
      "LOSS:8.34378719329834\n",
      "LOSS:7.576137542724609\n",
      "LOSS:4.901007652282715\n",
      "LOSS:6.075123310089111\n",
      "LOSS:4.63399076461792\n"
     ]
    },
    {
     "name": "stderr",
     "output_type": "stream",
     "text": [
      "ROUND:[108000]:   0%|                                                                           | 0/44 [00:00<?, ?it/s]"
     ]
    },
    {
     "name": "stdout",
     "output_type": "stream",
     "text": [
      "LOSS:8.812520027160645\n",
      "LOSS:3.6836607456207275\n",
      "LOSS:5.066455364227295\n",
      "LOSS:3.6606216430664062\n",
      "LOSS:5.385957717895508\n"
     ]
    },
    {
     "name": "stderr",
     "output_type": "stream",
     "text": [
      "ROUND:[108000]:   0%|                                                                           | 0/44 [00:00<?, ?it/s]"
     ]
    },
    {
     "name": "stdout",
     "output_type": "stream",
     "text": [
      "LOSS:4.609304904937744\n",
      "LOSS:3.7743115425109863\n",
      "LOSS:5.086737155914307\n",
      "LOSS:5.647040367126465\n"
     ]
    },
    {
     "name": "stderr",
     "output_type": "stream",
     "text": [
      "ROUND:[108000]:  70%|█████████████████████████████████████████████▊                   | 31/44 [00:00<00:00, 304.74it/s]"
     ]
    },
    {
     "name": "stdout",
     "output_type": "stream",
     "text": [
      "LOSS:6.520401477813721\n",
      "LOSS:3.3360869884490967\n",
      "LOSS:5.233545303344727\n",
      "LOSS:3.7775518894195557\n",
      "LOSS:4.517616271972656\n",
      "LOSS:4.050532341003418\n",
      "LOSS:4.9935712814331055\n",
      "LOSS:5.117412090301514\n",
      "LOSS:3.6428956985473633\n",
      "LOSS:5.756196975708008\n"
     ]
    },
    {
     "name": "stderr",
     "output_type": "stream",
     "text": [
      "ROUND:[108000]:  70%|█████████████████████████████████████████████▊                   | 31/44 [00:00<00:00, 304.74it/s]"
     ]
    },
    {
     "name": "stdout",
     "output_type": "stream",
     "text": [
      "LOSS:5.567541599273682\n",
      "LOSS:3.7485475540161133\n",
      "LOSS:4.1986985206604\n",
      "LOSS:4.690739631652832\n",
      "LOSS:6.461542129516602\n",
      "LOSS:4.117176055908203\n",
      "LOSS:5.395959377288818\n",
      "LOSS:2.948793649673462\n",
      "LOSS:4.355077266693115\n"
     ]
    },
    {
     "name": "stderr",
     "output_type": "stream",
     "text": [
      "ROUND:[21600]: 100%|██████████████████████████████████████████████████████████████████| 44/44 [00:00<00:00, 299.40it/s]\n"
     ]
    },
    {
     "name": "stdout",
     "output_type": "stream",
     "text": [
      "LOSS:3.8849995136260986\n",
      "LOSS:7.539247989654541\n",
      "LOSS:3.208251714706421\n",
      "VAILD_LOSS:5.582978205247358\n",
      "--------------------\n",
      "TIMES:12**************************\n"
     ]
    },
    {
     "name": "stderr",
     "output_type": "stream",
     "text": [
      "ROUND:[108000]:   0%|                                                                           | 0/44 [00:00<?, ?it/s]"
     ]
    },
    {
     "name": "stdout",
     "output_type": "stream",
     "text": [
      "LOSS:8.171740531921387\n",
      "LOSS:4.3693156242370605\n",
      "LOSS:5.00897216796875\n"
     ]
    },
    {
     "name": "stderr",
     "output_type": "stream",
     "text": [
      "ROUND:[108000]:   0%|                                                                           | 0/44 [00:00<?, ?it/s]"
     ]
    },
    {
     "name": "stdout",
     "output_type": "stream",
     "text": [
      "LOSS:4.998186111450195\n",
      "LOSS:4.830330848693848\n",
      "LOSS:4.894888877868652\n",
      "LOSS:6.07124137878418\n",
      "LOSS:4.286787033081055\n"
     ]
    },
    {
     "name": "stderr",
     "output_type": "stream",
     "text": [
      "ROUND:[108000]:   0%|                                                                           | 0/44 [00:00<?, ?it/s]"
     ]
    },
    {
     "name": "stdout",
     "output_type": "stream",
     "text": [
      "LOSS:8.310511589050293\n",
      "LOSS:7.51102352142334\n",
      "LOSS:4.855879306793213\n",
      "LOSS:6.062995433807373\n",
      "LOSS:4.586617469787598\n"
     ]
    },
    {
     "name": "stderr",
     "output_type": "stream",
     "text": [
      "ROUND:[108000]:   0%|                                                                           | 0/44 [00:00<?, ?it/s]"
     ]
    },
    {
     "name": "stdout",
     "output_type": "stream",
     "text": [
      "LOSS:8.788935661315918\n",
      "LOSS:3.6566569805145264\n",
      "LOSS:4.9822845458984375\n",
      "LOSS:3.6303629875183105\n",
      "LOSS:5.340333938598633\n"
     ]
    },
    {
     "name": "stderr",
     "output_type": "stream",
     "text": [
      "ROUND:[108000]:   0%|                                                                           | 0/44 [00:00<?, ?it/s]"
     ]
    },
    {
     "name": "stdout",
     "output_type": "stream",
     "text": [
      "LOSS:4.55580472946167\n",
      "LOSS:3.7454869747161865\n",
      "LOSS:5.023579120635986\n",
      "LOSS:5.591558933258057\n",
      "LOSS:6.466740131378174\n"
     ]
    },
    {
     "name": "stderr",
     "output_type": "stream",
     "text": [
      "ROUND:[108000]:   0%|                                                                           | 0/44 [00:00<?, ?it/s]"
     ]
    },
    {
     "name": "stdout",
     "output_type": "stream",
     "text": [
      "LOSS:3.3062191009521484\n",
      "LOSS:5.240753650665283\n",
      "LOSS:3.721048593521118\n",
      "LOSS:4.46771764755249\n",
      "LOSS:4.01277494430542\n"
     ]
    },
    {
     "name": "stderr",
     "output_type": "stream",
     "text": [
      "ROUND:[108000]:  73%|███████████████████████████████████████████████▎                 | 32/44 [00:00<00:00, 308.52it/s]"
     ]
    },
    {
     "name": "stdout",
     "output_type": "stream",
     "text": [
      "LOSS:4.962988376617432\n",
      "LOSS:5.071804523468018\n",
      "LOSS:3.629160165786743\n",
      "LOSS:5.713298797607422\n"
     ]
    },
    {
     "name": "stderr",
     "output_type": "stream",
     "text": [
      "ROUND:[108000]:  73%|███████████████████████████████████████████████▎                 | 32/44 [00:00<00:00, 308.52it/s]"
     ]
    },
    {
     "name": "stdout",
     "output_type": "stream",
     "text": [
      "LOSS:5.558915138244629\n",
      "LOSS:3.73496675491333\n",
      "LOSS:4.181822299957275\n",
      "LOSS:4.659106254577637\n",
      "LOSS:6.4101433753967285\n",
      "LOSS:4.085209369659424\n",
      "LOSS:5.369119167327881\n",
      "LOSS:2.923773765563965\n",
      "LOSS:4.30499267578125\n"
     ]
    },
    {
     "name": "stderr",
     "output_type": "stream",
     "text": [
      "ROUND:[21600]: 100%|██████████████████████████████████████████████████████████████████| 44/44 [00:00<00:00, 308.52it/s]\n"
     ]
    },
    {
     "name": "stdout",
     "output_type": "stream",
     "text": [
      "LOSS:3.859135150909424\n",
      "LOSS:7.482557773590088\n",
      "LOSS:3.1814396381378174\n",
      "VAILD_LOSS:5.544566804712469\n",
      "--------------------\n",
      "TIMES:13**************************\n"
     ]
    },
    {
     "name": "stderr",
     "output_type": "stream",
     "text": [
      "ROUND:[108000]:   0%|                                                                           | 0/44 [00:00<?, ?it/s]"
     ]
    },
    {
     "name": "stdout",
     "output_type": "stream",
     "text": [
      "LOSS:8.125283241271973\n",
      "LOSS:4.348849773406982\n",
      "LOSS:4.972839832305908\n",
      "LOSS:4.972570896148682\n"
     ]
    },
    {
     "name": "stderr",
     "output_type": "stream",
     "text": [
      "ROUND:[108000]:   0%|                                                                           | 0/44 [00:00<?, ?it/s]"
     ]
    },
    {
     "name": "stdout",
     "output_type": "stream",
     "text": [
      "LOSS:4.817809581756592\n",
      "LOSS:4.875514507293701\n",
      "LOSS:6.036126136779785\n",
      "LOSS:4.227241039276123\n",
      "LOSS:8.276123046875\n"
     ]
    },
    {
     "name": "stderr",
     "output_type": "stream",
     "text": [
      "ROUND:[108000]:   0%|                                                                           | 0/44 [00:00<?, ?it/s]"
     ]
    },
    {
     "name": "stdout",
     "output_type": "stream",
     "text": [
      "LOSS:7.450010776519775\n",
      "LOSS:4.81605863571167\n",
      "LOSS:6.049402236938477\n",
      "LOSS:4.54593563079834\n"
     ]
    },
    {
     "name": "stderr",
     "output_type": "stream",
     "text": [
      "ROUND:[108000]:   0%|                                                                           | 0/44 [00:00<?, ?it/s]"
     ]
    },
    {
     "name": "stdout",
     "output_type": "stream",
     "text": [
      "LOSS:8.768898010253906\n",
      "LOSS:3.622540235519409\n",
      "LOSS:4.906759738922119\n",
      "LOSS:3.5974650382995605\n",
      "LOSS:5.300163269042969\n"
     ]
    },
    {
     "name": "stderr",
     "output_type": "stream",
     "text": [
      "ROUND:[108000]:   0%|                                                                           | 0/44 [00:00<?, ?it/s]"
     ]
    },
    {
     "name": "stdout",
     "output_type": "stream",
     "text": [
      "LOSS:4.510519504547119\n",
      "LOSS:3.7235732078552246\n",
      "LOSS:4.9651031494140625\n",
      "LOSS:5.545488357543945\n",
      "LOSS:6.409251689910889\n"
     ]
    },
    {
     "name": "stderr",
     "output_type": "stream",
     "text": [
      "ROUND:[108000]:   0%|                                                                           | 0/44 [00:00<?, ?it/s]"
     ]
    },
    {
     "name": "stdout",
     "output_type": "stream",
     "text": [
      "LOSS:3.276337146759033\n",
      "LOSS:5.245054244995117\n",
      "LOSS:3.6725521087646484\n",
      "LOSS:4.424082279205322\n",
      "LOSS:3.980881929397583\n"
     ]
    },
    {
     "name": "stderr",
     "output_type": "stream",
     "text": [
      "ROUND:[108000]:  70%|█████████████████████████████████████████████▊                   | 31/44 [00:00<00:00, 304.73it/s]"
     ]
    },
    {
     "name": "stdout",
     "output_type": "stream",
     "text": [
      "LOSS:4.937493801116943\n",
      "LOSS:5.02849006652832\n",
      "LOSS:3.616619825363159\n",
      "LOSS:5.673110008239746\n",
      "LOSS:5.550938606262207\n"
     ]
    },
    {
     "name": "stderr",
     "output_type": "stream",
     "text": [
      "ROUND:[108000]:  70%|█████████████████████████████████████████████▊                   | 31/44 [00:00<00:00, 304.73it/s]"
     ]
    },
    {
     "name": "stdout",
     "output_type": "stream",
     "text": [
      "LOSS:3.72719407081604\n",
      "LOSS:4.169737815856934\n",
      "LOSS:4.631045341491699\n",
      "LOSS:6.363041400909424\n"
     ]
    },
    {
     "name": "stderr",
     "output_type": "stream",
     "text": [
      "ROUND:[108000]:  70%|█████████████████████████████████████████████▊                   | 31/44 [00:00<00:00, 304.73it/s]"
     ]
    },
    {
     "name": "stdout",
     "output_type": "stream",
     "text": [
      "LOSS:4.059175491333008\n",
      "LOSS:5.339200496673584\n",
      "LOSS:2.9004673957824707\n",
      "LOSS:4.260674953460693\n",
      "LOSS:3.840057373046875\n"
     ]
    },
    {
     "name": "stderr",
     "output_type": "stream",
     "text": [
      "ROUND:[21600]: 100%|██████████████████████████████████████████████████████████████████| 44/44 [00:00<00:00, 304.26it/s]\n"
     ]
    },
    {
     "name": "stdout",
     "output_type": "stream",
     "text": [
      "LOSS:7.431613445281982\n",
      "LOSS:3.15893292427063\n",
      "VAILD_LOSS:5.507608868859031\n",
      "--------------------\n",
      "TIMES:14**************************\n"
     ]
    },
    {
     "name": "stderr",
     "output_type": "stream",
     "text": [
      "ROUND:[108000]:   0%|                                                                           | 0/44 [00:00<?, ?it/s]"
     ]
    },
    {
     "name": "stdout",
     "output_type": "stream",
     "text": [
      "LOSS:8.078079223632812\n",
      "LOSS:4.327363014221191\n",
      "LOSS:4.93925142288208\n",
      "LOSS:4.947175979614258\n"
     ]
    },
    {
     "name": "stderr",
     "output_type": "stream",
     "text": [
      "ROUND:[108000]:   0%|                                                                           | 0/44 [00:00<?, ?it/s]"
     ]
    },
    {
     "name": "stdout",
     "output_type": "stream",
     "text": [
      "LOSS:4.80349588394165\n",
      "LOSS:4.853096961975098\n",
      "LOSS:6.005904197692871\n",
      "LOSS:4.172420024871826\n",
      "LOSS:8.240324974060059\n"
     ]
    },
    {
     "name": "stderr",
     "output_type": "stream",
     "text": [
      "ROUND:[108000]:   0%|                                                                           | 0/44 [00:00<?, ?it/s]"
     ]
    },
    {
     "name": "stdout",
     "output_type": "stream",
     "text": [
      "LOSS:7.3998589515686035\n",
      "LOSS:4.778844356536865\n",
      "LOSS:6.040089130401611\n",
      "LOSS:4.510596752166748\n",
      "LOSS:8.75110912322998\n"
     ]
    },
    {
     "name": "stderr",
     "output_type": "stream",
     "text": [
      "ROUND:[108000]:   0%|                                                                           | 0/44 [00:00<?, ?it/s]"
     ]
    },
    {
     "name": "stdout",
     "output_type": "stream",
     "text": [
      "LOSS:3.5906803607940674\n",
      "LOSS:4.8391547203063965\n",
      "LOSS:3.568593740463257\n",
      "LOSS:5.26568603515625\n"
     ]
    },
    {
     "name": "stderr",
     "output_type": "stream",
     "text": [
      "ROUND:[108000]:   0%|                                                                           | 0/44 [00:00<?, ?it/s]"
     ]
    },
    {
     "name": "stdout",
     "output_type": "stream",
     "text": [
      "LOSS:4.466042518615723\n",
      "LOSS:3.7071001529693604\n",
      "LOSS:4.9109787940979\n",
      "LOSS:5.498103618621826\n",
      "LOSS:6.354931354522705\n"
     ]
    },
    {
     "name": "stderr",
     "output_type": "stream",
     "text": [
      "ROUND:[108000]:   0%|                                                                           | 0/44 [00:00<?, ?it/s]"
     ]
    },
    {
     "name": "stdout",
     "output_type": "stream",
     "text": [
      "LOSS:3.2485246658325195\n",
      "LOSS:5.245306968688965\n",
      "LOSS:3.632802724838257\n",
      "LOSS:4.38646125793457\n"
     ]
    },
    {
     "name": "stderr",
     "output_type": "stream",
     "text": [
      "ROUND:[108000]:  68%|████████████████████████████████████████████▎                    | 30/44 [00:00<00:00, 297.83it/s]"
     ]
    },
    {
     "name": "stdout",
     "output_type": "stream",
     "text": [
      "LOSS:3.9545507431030273\n",
      "LOSS:4.918013095855713\n",
      "LOSS:4.996732234954834\n",
      "LOSS:3.606450080871582\n",
      "LOSS:5.635851860046387\n"
     ]
    },
    {
     "name": "stderr",
     "output_type": "stream",
     "text": [
      "ROUND:[108000]:  68%|████████████████████████████████████████████▎                    | 30/44 [00:00<00:00, 297.83it/s]"
     ]
    },
    {
     "name": "stdout",
     "output_type": "stream",
     "text": [
      "LOSS:5.544514179229736\n",
      "LOSS:3.7205400466918945\n",
      "LOSS:4.151988983154297\n",
      "LOSS:4.609532833099365\n",
      "LOSS:6.319720268249512\n"
     ]
    },
    {
     "name": "stderr",
     "output_type": "stream",
     "text": [
      "ROUND:[108000]:  68%|████████████████████████████████████████████▎                    | 30/44 [00:00<00:00, 297.83it/s]"
     ]
    },
    {
     "name": "stdout",
     "output_type": "stream",
     "text": [
      "LOSS:4.034606456756592\n",
      "LOSS:5.311576843261719\n",
      "LOSS:2.8793118000030518\n"
     ]
    },
    {
     "name": "stderr",
     "output_type": "stream",
     "text": [
      "ROUND:[21600]: 100%|██████████████████████████████████████████████████████████████████| 44/44 [00:00<00:00, 288.35it/s]\n"
     ]
    },
    {
     "name": "stdout",
     "output_type": "stream",
     "text": [
      "LOSS:4.222029209136963\n",
      "LOSS:3.8303582668304443\n",
      "LOSS:7.384835720062256\n",
      "LOSS:3.145301103591919\n",
      "VAILD_LOSS:5.4748361544175586\n",
      "--------------------\n",
      "TIMES:15**************************\n"
     ]
    },
    {
     "name": "stderr",
     "output_type": "stream",
     "text": [
      "ROUND:[108000]:   0%|                                                                           | 0/44 [00:00<?, ?it/s]"
     ]
    },
    {
     "name": "stdout",
     "output_type": "stream",
     "text": [
      "LOSS:8.019341468811035\n"
     ]
    },
    {
     "name": "stderr",
     "output_type": "stream",
     "text": [
      "ROUND:[108000]:   0%|                                                                           | 0/44 [00:00<?, ?it/s]"
     ]
    },
    {
     "name": "stdout",
     "output_type": "stream",
     "text": [
      "LOSS:4.305387020111084\n",
      "LOSS:4.9038920402526855\n",
      "LOSS:4.9225993156433105\n",
      "LOSS:4.783885478973389\n",
      "LOSS:4.830214023590088\n"
     ]
    },
    {
     "name": "stderr",
     "output_type": "stream",
     "text": [
      "ROUND:[108000]:   0%|                                                                           | 0/44 [00:00<?, ?it/s]"
     ]
    },
    {
     "name": "stdout",
     "output_type": "stream",
     "text": [
      "LOSS:5.974791049957275\n",
      "LOSS:4.121890068054199\n",
      "LOSS:8.201972007751465\n",
      "LOSS:7.36017370223999\n",
      "LOSS:4.744012832641602\n"
     ]
    },
    {
     "name": "stderr",
     "output_type": "stream",
     "text": [
      "ROUND:[108000]:   0%|                                                                           | 0/44 [00:00<?, ?it/s]"
     ]
    },
    {
     "name": "stdout",
     "output_type": "stream",
     "text": [
      "LOSS:6.036985874176025\n",
      "LOSS:4.479691505432129\n",
      "LOSS:8.735395431518555\n",
      "LOSS:3.565706491470337\n",
      "LOSS:4.778887748718262\n"
     ]
    },
    {
     "name": "stderr",
     "output_type": "stream",
     "text": [
      "ROUND:[108000]:   0%|                                                                           | 0/44 [00:00<?, ?it/s]"
     ]
    },
    {
     "name": "stdout",
     "output_type": "stream",
     "text": [
      "LOSS:3.548128843307495\n",
      "LOSS:5.237595558166504\n",
      "LOSS:4.422671794891357\n",
      "LOSS:3.6871392726898193\n"
     ]
    },
    {
     "name": "stderr",
     "output_type": "stream",
     "text": [
      "ROUND:[108000]:   0%|                                                                           | 0/44 [00:00<?, ?it/s]"
     ]
    },
    {
     "name": "stdout",
     "output_type": "stream",
     "text": [
      "LOSS:4.856878757476807\n",
      "LOSS:5.455866813659668\n",
      "LOSS:6.30841064453125\n",
      "LOSS:3.217013359069824\n"
     ]
    },
    {
     "name": "stderr",
     "output_type": "stream",
     "text": [
      "ROUND:[108000]:   0%|                                                                           | 0/44 [00:00<?, ?it/s]"
     ]
    },
    {
     "name": "stdout",
     "output_type": "stream",
     "text": [
      "LOSS:5.248912334442139\n",
      "LOSS:3.597958564758301\n",
      "LOSS:4.349608898162842\n",
      "LOSS:3.9249444007873535\n",
      "LOSS:4.900629997253418\n"
     ]
    },
    {
     "name": "stderr",
     "output_type": "stream",
     "text": [
      "ROUND:[108000]:  70%|█████████████████████████████████████████████▊                   | 31/44 [00:00<00:00, 302.14it/s]"
     ]
    },
    {
     "name": "stdout",
     "output_type": "stream",
     "text": [
      "LOSS:4.961241722106934\n",
      "LOSS:3.5974719524383545\n",
      "LOSS:5.585573196411133\n",
      "LOSS:5.536865234375\n",
      "LOSS:3.7192888259887695\n"
     ]
    },
    {
     "name": "stderr",
     "output_type": "stream",
     "text": [
      "ROUND:[108000]:  70%|█████████████████████████████████████████████▊                   | 31/44 [00:00<00:00, 302.14it/s]"
     ]
    },
    {
     "name": "stdout",
     "output_type": "stream",
     "text": [
      "LOSS:4.128632545471191\n",
      "LOSS:4.587252616882324\n",
      "LOSS:6.279955863952637\n",
      "LOSS:4.012463569641113\n"
     ]
    },
    {
     "name": "stderr",
     "output_type": "stream",
     "text": [
      "ROUND:[21600]:  70%|██████████████████████████████████████████████▌                   | 31/44 [00:00<00:00, 302.14it/s]"
     ]
    },
    {
     "name": "stdout",
     "output_type": "stream",
     "text": [
      "LOSS:5.2851786613464355\n",
      "LOSS:2.860464334487915\n",
      "LOSS:4.18675422668457\n",
      "LOSS:3.8239262104034424\n",
      "LOSS:7.341582298278809\n"
     ]
    },
    {
     "name": "stderr",
     "output_type": "stream",
     "text": [
      "ROUND:[21600]: 100%|██████████████████████████████████████████████████████████████████| 44/44 [00:00<00:00, 298.34it/s]\n"
     ]
    },
    {
     "name": "stdout",
     "output_type": "stream",
     "text": [
      "LOSS:3.132634401321411\n",
      "VAILD_LOSS:5.443748279051348\n",
      "--------------------\n",
      "TIMES:16**************************\n"
     ]
    },
    {
     "name": "stderr",
     "output_type": "stream",
     "text": [
      "ROUND:[108000]:   0%|                                                                           | 0/44 [00:00<?, ?it/s]"
     ]
    },
    {
     "name": "stdout",
     "output_type": "stream",
     "text": [
      "LOSS:7.965426445007324\n",
      "LOSS:4.285236358642578\n",
      "LOSS:4.870619297027588\n",
      "LOSS:4.900354385375977\n",
      "LOSS:4.767445087432861\n"
     ]
    },
    {
     "name": "stderr",
     "output_type": "stream",
     "text": [
      "ROUND:[108000]:   0%|                                                                           | 0/44 [00:00<?, ?it/s]"
     ]
    },
    {
     "name": "stdout",
     "output_type": "stream",
     "text": [
      "LOSS:4.811881065368652\n",
      "LOSS:5.939228534698486\n",
      "LOSS:4.07632303237915\n",
      "LOSS:8.161877632141113\n",
      "LOSS:7.3173723220825195\n"
     ]
    },
    {
     "name": "stderr",
     "output_type": "stream",
     "text": [
      "ROUND:[108000]:   0%|                                                                           | 0/44 [00:00<?, ?it/s]"
     ]
    },
    {
     "name": "stdout",
     "output_type": "stream",
     "text": [
      "LOSS:4.711541652679443\n",
      "LOSS:6.030488967895508\n",
      "LOSS:4.448635578155518\n",
      "LOSS:8.720494270324707\n",
      "LOSS:3.541217565536499\n"
     ]
    },
    {
     "name": "stderr",
     "output_type": "stream",
     "text": [
      "ROUND:[108000]:   0%|                                                                           | 0/44 [00:00<?, ?it/s]"
     ]
    },
    {
     "name": "stdout",
     "output_type": "stream",
     "text": [
      "LOSS:4.723145008087158\n",
      "LOSS:3.5238866806030273\n",
      "LOSS:5.210490703582764\n",
      "LOSS:4.383549213409424\n"
     ]
    },
    {
     "name": "stderr",
     "output_type": "stream",
     "text": [
      "ROUND:[108000]:   0%|                                                                           | 0/44 [00:00<?, ?it/s]"
     ]
    },
    {
     "name": "stdout",
     "output_type": "stream",
     "text": [
      "LOSS:3.6658666133880615\n",
      "LOSS:4.808815956115723\n",
      "LOSS:5.416286945343018\n",
      "LOSS:6.2623820304870605\n",
      "LOSS:3.1908867359161377\n"
     ]
    },
    {
     "name": "stderr",
     "output_type": "stream",
     "text": [
      "ROUND:[108000]:   0%|                                                                           | 0/44 [00:00<?, ?it/s]"
     ]
    },
    {
     "name": "stdout",
     "output_type": "stream",
     "text": [
      "LOSS:5.250788688659668\n",
      "LOSS:3.564802885055542\n",
      "LOSS:4.3180646896362305\n",
      "LOSS:3.904877185821533\n",
      "LOSS:4.8863911628723145\n"
     ]
    },
    {
     "name": "stderr",
     "output_type": "stream",
     "text": [
      "ROUND:[108000]:  70%|█████████████████████████████████████████████▊                   | 31/44 [00:00<00:00, 298.87it/s]"
     ]
    },
    {
     "name": "stdout",
     "output_type": "stream",
     "text": [
      "LOSS:4.927138805389404\n",
      "LOSS:3.5904762744903564\n",
      "LOSS:5.535860061645508\n",
      "LOSS:5.52590799331665\n"
     ]
    },
    {
     "name": "stderr",
     "output_type": "stream",
     "text": [
      "ROUND:[108000]:  70%|█████████████████████████████████████████████▊                   | 31/44 [00:00<00:00, 298.87it/s]"
     ]
    },
    {
     "name": "stdout",
     "output_type": "stream",
     "text": [
      "LOSS:3.714508056640625\n",
      "LOSS:4.105134010314941\n",
      "LOSS:4.569573402404785\n",
      "LOSS:6.243489742279053\n",
      "LOSS:3.989596366882324\n"
     ]
    },
    {
     "name": "stderr",
     "output_type": "stream",
     "text": [
      "ROUND:[21600]:  70%|██████████████████████████████████████████████▌                   | 31/44 [00:00<00:00, 298.87it/s]"
     ]
    },
    {
     "name": "stdout",
     "output_type": "stream",
     "text": [
      "LOSS:5.263646125793457\n",
      "LOSS:2.8448169231414795\n",
      "LOSS:4.154103755950928\n",
      "LOSS:3.816833972930908\n",
      "LOSS:7.301121711730957\n"
     ]
    },
    {
     "name": "stderr",
     "output_type": "stream",
     "text": [
      "ROUND:[21600]: 100%|██████████████████████████████████████████████████████████████████| 44/44 [00:00<00:00, 302.18it/s]\n"
     ]
    },
    {
     "name": "stdout",
     "output_type": "stream",
     "text": [
      "LOSS:3.117462158203125\n",
      "VAILD_LOSS:5.412996682253751\n",
      "--------------------\n",
      "TIMES:17**************************\n"
     ]
    },
    {
     "name": "stderr",
     "output_type": "stream",
     "text": [
      "ROUND:[108000]:   0%|                                                                           | 0/44 [00:00<?, ?it/s]"
     ]
    },
    {
     "name": "stdout",
     "output_type": "stream",
     "text": [
      "LOSS:7.916693687438965\n",
      "LOSS:4.267573833465576\n",
      "LOSS:4.839290618896484\n",
      "LOSS:4.8811936378479\n",
      "LOSS:4.757668972015381\n"
     ]
    },
    {
     "name": "stderr",
     "output_type": "stream",
     "text": [
      "ROUND:[108000]:   0%|                                                                           | 0/44 [00:00<?, ?it/s]"
     ]
    },
    {
     "name": "stdout",
     "output_type": "stream",
     "text": [
      "LOSS:4.797966480255127\n",
      "LOSS:5.904748439788818\n",
      "LOSS:4.038175106048584\n",
      "LOSS:8.124966621398926\n"
     ]
    },
    {
     "name": "stderr",
     "output_type": "stream",
     "text": [
      "ROUND:[108000]:   0%|                                                                           | 0/44 [00:00<?, ?it/s]"
     ]
    },
    {
     "name": "stdout",
     "output_type": "stream",
     "text": [
      "LOSS:7.275905132293701\n",
      "LOSS:4.6816205978393555\n",
      "LOSS:6.021326541900635\n",
      "LOSS:4.418264865875244\n",
      "LOSS:8.704840660095215\n"
     ]
    },
    {
     "name": "stderr",
     "output_type": "stream",
     "text": [
      "ROUND:[108000]:   0%|                                                                           | 0/44 [00:00<?, ?it/s]"
     ]
    },
    {
     "name": "stdout",
     "output_type": "stream",
     "text": [
      "LOSS:3.5176286697387695\n",
      "LOSS:4.673734664916992\n",
      "LOSS:3.4984471797943115\n",
      "LOSS:5.183947563171387\n",
      "LOSS:4.348373889923096\n"
     ]
    },
    {
     "name": "stderr",
     "output_type": "stream",
     "text": [
      "ROUND:[108000]:   0%|                                                                           | 0/44 [00:00<?, ?it/s]"
     ]
    },
    {
     "name": "stdout",
     "output_type": "stream",
     "text": [
      "LOSS:3.648399591445923\n",
      "LOSS:4.766449928283691\n",
      "LOSS:5.378212928771973\n",
      "LOSS:6.219913005828857\n"
     ]
    },
    {
     "name": "stderr",
     "output_type": "stream",
     "text": [
      "ROUND:[108000]:   0%|                                                                           | 0/44 [00:00<?, ?it/s]"
     ]
    },
    {
     "name": "stdout",
     "output_type": "stream",
     "text": [
      "LOSS:3.1680424213409424\n",
      "LOSS:5.24924898147583\n",
      "LOSS:3.5357377529144287\n",
      "LOSS:4.291033744812012\n",
      "LOSS:3.8894169330596924\n"
     ]
    },
    {
     "name": "stderr",
     "output_type": "stream",
     "text": [
      "ROUND:[108000]:  68%|████████████████████████████████████████████▎                    | 30/44 [00:00<00:00, 293.28it/s]"
     ]
    },
    {
     "name": "stdout",
     "output_type": "stream",
     "text": [
      "LOSS:4.875792503356934\n",
      "LOSS:4.899367332458496\n",
      "LOSS:3.584967613220215\n",
      "LOSS:5.49078893661499\n"
     ]
    },
    {
     "name": "stderr",
     "output_type": "stream",
     "text": [
      "ROUND:[108000]:  68%|████████████████████████████████████████████▎                    | 30/44 [00:00<00:00, 293.28it/s]"
     ]
    },
    {
     "name": "stdout",
     "output_type": "stream",
     "text": [
      "LOSS:5.515718936920166\n",
      "LOSS:3.701735258102417\n",
      "LOSS:4.083638668060303\n",
      "LOSS:4.555694580078125\n",
      "LOSS:6.20913028717041\n"
     ]
    },
    {
     "name": "stderr",
     "output_type": "stream",
     "text": [
      "ROUND:[108000]:  68%|████████████████████████████████████████████▎                    | 30/44 [00:00<00:00, 293.28it/s]"
     ]
    },
    {
     "name": "stdout",
     "output_type": "stream",
     "text": [
      "LOSS:3.9674761295318604\n",
      "LOSS:5.245856761932373\n",
      "LOSS:2.8310365676879883\n",
      "LOSS:4.124608039855957\n",
      "LOSS:3.8109405040740967\n"
     ]
    },
    {
     "name": "stderr",
     "output_type": "stream",
     "text": [
      "ROUND:[21600]: 100%|██████████████████████████████████████████████████████████████████| 44/44 [00:00<00:00, 295.85it/s]\n"
     ]
    },
    {
     "name": "stdout",
     "output_type": "stream",
     "text": [
      "LOSS:7.262972354888916\n",
      "LOSS:3.103635787963867\n",
      "VAILD_LOSS:5.384677756916393\n",
      "--------------------\n",
      "TIMES:18**************************\n"
     ]
    },
    {
     "name": "stderr",
     "output_type": "stream",
     "text": [
      "ROUND:[108000]:   0%|                                                                           | 0/44 [00:00<?, ?it/s]"
     ]
    },
    {
     "name": "stdout",
     "output_type": "stream",
     "text": [
      "LOSS:7.871652126312256\n",
      "LOSS:4.250635147094727\n",
      "LOSS:4.810000419616699\n",
      "LOSS:4.8641357421875\n",
      "LOSS:4.747196674346924\n"
     ]
    },
    {
     "name": "stderr",
     "output_type": "stream",
     "text": [
      "ROUND:[108000]:   0%|                                                                           | 0/44 [00:00<?, ?it/s]"
     ]
    },
    {
     "name": "stdout",
     "output_type": "stream",
     "text": [
      "LOSS:4.784156799316406\n",
      "LOSS:5.873605728149414\n",
      "LOSS:4.002933025360107\n",
      "LOSS:8.09110164642334\n"
     ]
    },
    {
     "name": "stderr",
     "output_type": "stream",
     "text": [
      "ROUND:[108000]:   0%|                                                                           | 0/44 [00:00<?, ?it/s]"
     ]
    },
    {
     "name": "stdout",
     "output_type": "stream",
     "text": [
      "LOSS:7.240772724151611\n",
      "LOSS:4.653182506561279\n",
      "LOSS:6.014110088348389\n",
      "LOSS:4.3905158042907715\n"
     ]
    },
    {
     "name": "stderr",
     "output_type": "stream",
     "text": [
      "ROUND:[108000]:   0%|                                                                           | 0/44 [00:00<?, ?it/s]"
     ]
    },
    {
     "name": "stdout",
     "output_type": "stream",
     "text": [
      "LOSS:8.690918922424316\n",
      "LOSS:3.4972174167633057\n",
      "LOSS:4.63218355178833\n",
      "LOSS:3.478125810623169\n",
      "LOSS:5.1604228019714355\n"
     ]
    },
    {
     "name": "stderr",
     "output_type": "stream",
     "text": [
      "ROUND:[108000]:   0%|                                                                           | 0/44 [00:00<?, ?it/s]"
     ]
    },
    {
     "name": "stdout",
     "output_type": "stream",
     "text": [
      "LOSS:4.315047740936279\n",
      "LOSS:3.6328585147857666\n",
      "LOSS:4.727173328399658\n",
      "LOSS:5.3439741134643555\n",
      "LOSS:6.182537078857422\n"
     ]
    },
    {
     "name": "stderr",
     "output_type": "stream",
     "text": [
      "ROUND:[108000]:   0%|                                                                           | 0/44 [00:00<?, ?it/s]"
     ]
    },
    {
     "name": "stdout",
     "output_type": "stream",
     "text": [
      "LOSS:3.1463170051574707\n",
      "LOSS:5.247736930847168\n",
      "LOSS:3.509039878845215\n",
      "LOSS:4.265100002288818\n"
     ]
    },
    {
     "name": "stderr",
     "output_type": "stream",
     "text": [
      "ROUND:[108000]:  66%|██████████████████████████████████████████▊                      | 29/44 [00:00<00:00, 287.38it/s]"
     ]
    },
    {
     "name": "stdout",
     "output_type": "stream",
     "text": [
      "LOSS:3.873250722885132\n",
      "LOSS:4.866494655609131\n",
      "LOSS:4.873048782348633\n",
      "LOSS:3.580922842025757\n"
     ]
    },
    {
     "name": "stderr",
     "output_type": "stream",
     "text": [
      "ROUND:[108000]:  66%|██████████████████████████████████████████▊                      | 29/44 [00:00<00:00, 287.38it/s]"
     ]
    },
    {
     "name": "stdout",
     "output_type": "stream",
     "text": [
      "LOSS:5.448981761932373\n",
      "LOSS:5.50477409362793\n",
      "LOSS:3.6856625080108643\n",
      "LOSS:4.064141750335693\n",
      "LOSS:4.542491436004639\n"
     ]
    },
    {
     "name": "stderr",
     "output_type": "stream",
     "text": [
      "ROUND:[108000]:  66%|██████████████████████████████████████████▊                      | 29/44 [00:00<00:00, 287.38it/s]"
     ]
    },
    {
     "name": "stdout",
     "output_type": "stream",
     "text": [
      "LOSS:6.179131507873535\n",
      "LOSS:3.9462034702301025\n",
      "LOSS:5.230470657348633\n",
      "LOSS:2.817817211151123\n",
      "LOSS:4.097997665405273\n"
     ]
    },
    {
     "name": "stderr",
     "output_type": "stream",
     "text": [
      "ROUND:[21600]: 100%|██████████████████████████████████████████████████████████████████| 44/44 [00:00<00:00, 293.76it/s]\n"
     ]
    },
    {
     "name": "stdout",
     "output_type": "stream",
     "text": [
      "LOSS:3.8041539192199707\n",
      "LOSS:7.228104591369629\n",
      "LOSS:3.0886642932891846\n",
      "VAILD_LOSS:5.357807657935402\n",
      "--------------------\n",
      "TIMES:19**************************\n"
     ]
    },
    {
     "name": "stderr",
     "output_type": "stream",
     "text": [
      "ROUND:[108000]:   0%|                                                                           | 0/44 [00:00<?, ?it/s]"
     ]
    },
    {
     "name": "stdout",
     "output_type": "stream",
     "text": [
      "LOSS:7.830180644989014\n",
      "LOSS:4.233435153961182\n"
     ]
    },
    {
     "name": "stderr",
     "output_type": "stream",
     "text": [
      "ROUND:[108000]:   0%|                                                                           | 0/44 [00:00<?, ?it/s]"
     ]
    },
    {
     "name": "stdout",
     "output_type": "stream",
     "text": [
      "LOSS:4.78455924987793\n",
      "LOSS:4.847785949707031\n",
      "LOSS:4.737639904022217\n",
      "LOSS:4.771703243255615\n",
      "LOSS:5.844489574432373\n"
     ]
    },
    {
     "name": "stderr",
     "output_type": "stream",
     "text": [
      "ROUND:[108000]:   0%|                                                                           | 0/44 [00:00<?, ?it/s]"
     ]
    },
    {
     "name": "stdout",
     "output_type": "stream",
     "text": [
      "LOSS:3.973562002182007\n",
      "LOSS:8.057649612426758\n",
      "LOSS:7.210443019866943\n",
      "LOSS:4.627607345581055\n"
     ]
    },
    {
     "name": "stderr",
     "output_type": "stream",
     "text": [
      "ROUND:[108000]:   0%|                                                                           | 0/44 [00:00<?, ?it/s]"
     ]
    },
    {
     "name": "stdout",
     "output_type": "stream",
     "text": [
      "LOSS:6.006649017333984\n",
      "LOSS:4.365208148956299\n",
      "LOSS:8.677680015563965\n",
      "LOSS:3.4735817909240723\n",
      "LOSS:4.597897052764893\n"
     ]
    },
    {
     "name": "stderr",
     "output_type": "stream",
     "text": [
      "ROUND:[108000]:   0%|                                                                           | 0/44 [00:00<?, ?it/s]"
     ]
    },
    {
     "name": "stdout",
     "output_type": "stream",
     "text": [
      "LOSS:3.4605772495269775\n",
      "LOSS:5.140850067138672\n",
      "LOSS:4.284327030181885\n",
      "LOSS:3.6191864013671875\n",
      "LOSS:4.690305709838867\n"
     ]
    },
    {
     "name": "stderr",
     "output_type": "stream",
     "text": [
      "ROUND:[108000]:   0%|                                                                           | 0/44 [00:00<?, ?it/s]"
     ]
    },
    {
     "name": "stdout",
     "output_type": "stream",
     "text": [
      "LOSS:5.314013481140137\n",
      "LOSS:6.1498332023620605\n",
      "LOSS:3.1226963996887207\n",
      "LOSS:5.248773574829102\n",
      "LOSS:3.485074281692505\n"
     ]
    },
    {
     "name": "stderr",
     "output_type": "stream",
     "text": [
      "ROUND:[108000]:  70%|█████████████████████████████████████████████▊                   | 31/44 [00:00<00:00, 301.77it/s]"
     ]
    },
    {
     "name": "stdout",
     "output_type": "stream",
     "text": [
      "LOSS:4.239555358886719\n",
      "LOSS:3.853771209716797\n",
      "LOSS:4.857987403869629\n",
      "LOSS:4.844278812408447\n",
      "LOSS:3.57739520072937\n"
     ]
    },
    {
     "name": "stderr",
     "output_type": "stream",
     "text": [
      "ROUND:[108000]:  70%|█████████████████████████████████████████████▊                   | 31/44 [00:00<00:00, 301.77it/s]"
     ]
    },
    {
     "name": "stdout",
     "output_type": "stream",
     "text": [
      "LOSS:5.40778923034668\n",
      "LOSS:5.490276336669922\n",
      "LOSS:3.674258232116699\n",
      "LOSS:4.04850959777832\n",
      "LOSS:4.527069568634033\n"
     ]
    },
    {
     "name": "stderr",
     "output_type": "stream",
     "text": [
      "ROUND:[108000]:  70%|█████████████████████████████████████████████▊                   | 31/44 [00:00<00:00, 301.77it/s]"
     ]
    },
    {
     "name": "stdout",
     "output_type": "stream",
     "text": [
      "LOSS:6.149111270904541\n",
      "LOSS:3.934821605682373\n",
      "LOSS:5.209948539733887\n",
      "LOSS:2.805211305618286\n"
     ]
    },
    {
     "name": "stderr",
     "output_type": "stream",
     "text": [
      "ROUND:[21600]: 100%|██████████████████████████████████████████████████████████████████| 44/44 [00:00<00:00, 300.12it/s]\n"
     ]
    },
    {
     "name": "stdout",
     "output_type": "stream",
     "text": [
      "LOSS:4.0756731033325195\n",
      "LOSS:3.8051061630249023\n",
      "LOSS:7.194716453552246\n",
      "LOSS:3.083223819732666\n",
      "VAILD_LOSS:5.333890308033336\n",
      "--------------------\n",
      "TIMES:20**************************\n"
     ]
    },
    {
     "name": "stderr",
     "output_type": "stream",
     "text": [
      "ROUND:[108000]:   0%|                                                                           | 0/44 [00:00<?, ?it/s]"
     ]
    },
    {
     "name": "stdout",
     "output_type": "stream",
     "text": [
      "LOSS:7.788216590881348\n",
      "LOSS:4.214263916015625\n"
     ]
    },
    {
     "name": "stderr",
     "output_type": "stream",
     "text": [
      "ROUND:[108000]:   0%|                                                                           | 0/44 [00:00<?, ?it/s]"
     ]
    },
    {
     "name": "stdout",
     "output_type": "stream",
     "text": [
      "LOSS:4.759136199951172\n",
      "LOSS:4.831457614898682\n",
      "LOSS:4.72205114364624\n",
      "LOSS:4.752089500427246\n",
      "LOSS:5.81743049621582\n"
     ]
    },
    {
     "name": "stderr",
     "output_type": "stream",
     "text": [
      "ROUND:[108000]:   0%|                                                                           | 0/44 [00:00<?, ?it/s]"
     ]
    },
    {
     "name": "stdout",
     "output_type": "stream",
     "text": [
      "LOSS:3.9443042278289795\n",
      "LOSS:8.022473335266113\n",
      "LOSS:7.18320894241333\n",
      "LOSS:4.602081298828125\n"
     ]
    },
    {
     "name": "stderr",
     "output_type": "stream",
     "text": [
      "ROUND:[108000]:   0%|                                                                           | 0/44 [00:00<?, ?it/s]"
     ]
    },
    {
     "name": "stdout",
     "output_type": "stream",
     "text": [
      "LOSS:6.000337600708008\n",
      "LOSS:4.343690872192383\n",
      "LOSS:8.66450023651123\n",
      "LOSS:3.4501497745513916\n",
      "LOSS:4.566650390625\n"
     ]
    },
    {
     "name": "stderr",
     "output_type": "stream",
     "text": [
      "ROUND:[108000]:   0%|                                                                           | 0/44 [00:00<?, ?it/s]"
     ]
    },
    {
     "name": "stdout",
     "output_type": "stream",
     "text": [
      "LOSS:3.4435534477233887\n",
      "LOSS:5.122590065002441\n",
      "LOSS:4.255849361419678\n",
      "LOSS:3.606384754180908\n"
     ]
    },
    {
     "name": "stderr",
     "output_type": "stream",
     "text": [
      "ROUND:[108000]:   0%|                                                                           | 0/44 [00:00<?, ?it/s]"
     ]
    },
    {
     "name": "stdout",
     "output_type": "stream",
     "text": [
      "LOSS:4.652968883514404\n",
      "LOSS:5.285411834716797\n",
      "LOSS:6.117110252380371\n",
      "LOSS:3.099756956100464\n",
      "LOSS:5.250048637390137\n"
     ]
    },
    {
     "name": "stderr",
     "output_type": "stream",
     "text": [
      "ROUND:[108000]:  68%|████████████████████████████████████████████▎                    | 30/44 [00:00<00:00, 294.90it/s]"
     ]
    },
    {
     "name": "stdout",
     "output_type": "stream",
     "text": [
      "LOSS:3.4613308906555176\n",
      "LOSS:4.215425491333008\n",
      "LOSS:3.8322994709014893\n",
      "LOSS:4.85050630569458\n",
      "LOSS:4.81661319732666\n"
     ]
    },
    {
     "name": "stderr",
     "output_type": "stream",
     "text": [
      "ROUND:[108000]:  68%|████████████████████████████████████████████▎                    | 30/44 [00:00<00:00, 294.90it/s]"
     ]
    },
    {
     "name": "stdout",
     "output_type": "stream",
     "text": [
      "LOSS:3.5726521015167236\n",
      "LOSS:5.367611408233643\n",
      "LOSS:5.4753851890563965\n",
      "LOSS:3.6616194248199463\n",
      "LOSS:4.032588481903076\n"
     ]
    },
    {
     "name": "stderr",
     "output_type": "stream",
     "text": [
      "ROUND:[108000]:  68%|████████████████████████████████████████████▎                    | 30/44 [00:00<00:00, 294.90it/s]"
     ]
    },
    {
     "name": "stdout",
     "output_type": "stream",
     "text": [
      "LOSS:4.511719226837158\n",
      "LOSS:6.1193742752075195\n",
      "LOSS:3.9271047115325928\n",
      "LOSS:5.19204568862915\n",
      "LOSS:2.794938564300537\n"
     ]
    },
    {
     "name": "stderr",
     "output_type": "stream",
     "text": [
      "ROUND:[21600]: 100%|██████████████████████████████████████████████████████████████████| 44/44 [00:00<00:00, 300.12it/s]\n"
     ]
    },
    {
     "name": "stdout",
     "output_type": "stream",
     "text": [
      "LOSS:4.054506778717041\n",
      "LOSS:3.801422357559204\n",
      "LOSS:7.164461612701416\n",
      "LOSS:3.0719857215881348\n",
      "VAILD_LOSS:5.308930917219683\n",
      "--------------------\n",
      "TIMES:21**************************\n"
     ]
    },
    {
     "name": "stderr",
     "output_type": "stream",
     "text": [
      "ROUND:[108000]:   0%|                                                                           | 0/44 [00:00<?, ?it/s]"
     ]
    },
    {
     "name": "stdout",
     "output_type": "stream",
     "text": [
      "LOSS:7.750572204589844\n",
      "LOSS:4.198734760284424\n"
     ]
    },
    {
     "name": "stderr",
     "output_type": "stream",
     "text": [
      "ROUND:[108000]:   0%|                                                                           | 0/44 [00:00<?, ?it/s]"
     ]
    },
    {
     "name": "stdout",
     "output_type": "stream",
     "text": [
      "LOSS:4.739226818084717\n",
      "LOSS:4.81844425201416\n",
      "LOSS:4.714552402496338\n",
      "LOSS:4.740352630615234\n",
      "LOSS:5.787785530090332\n"
     ]
    },
    {
     "name": "stderr",
     "output_type": "stream",
     "text": [
      "ROUND:[108000]:   0%|                                                                           | 0/44 [00:00<?, ?it/s]"
     ]
    },
    {
     "name": "stdout",
     "output_type": "stream",
     "text": [
      "LOSS:3.9238698482513428\n",
      "LOSS:7.992146015167236\n",
      "LOSS:7.151308536529541\n",
      "LOSS:4.58052396774292\n",
      "LOSS:5.985795974731445\n"
     ]
    },
    {
     "name": "stderr",
     "output_type": "stream",
     "text": [
      "ROUND:[108000]:   0%|                                                                           | 0/44 [00:00<?, ?it/s]"
     ]
    },
    {
     "name": "stdout",
     "output_type": "stream",
     "text": [
      "LOSS:4.322791576385498\n",
      "LOSS:8.652623176574707\n",
      "LOSS:3.424755573272705\n",
      "LOSS:4.537536144256592\n"
     ]
    },
    {
     "name": "stderr",
     "output_type": "stream",
     "text": [
      "ROUND:[108000]:   0%|                                                                           | 0/44 [00:00<?, ?it/s]"
     ]
    },
    {
     "name": "stdout",
     "output_type": "stream",
     "text": [
      "LOSS:3.420881986618042\n",
      "LOSS:5.099274635314941\n",
      "LOSS:4.231350421905518\n",
      "LOSS:3.5916292667388916\n",
      "LOSS:4.620717525482178\n"
     ]
    },
    {
     "name": "stderr",
     "output_type": "stream",
     "text": [
      "ROUND:[108000]:   0%|                                                                           | 0/44 [00:00<?, ?it/s]"
     ]
    },
    {
     "name": "stdout",
     "output_type": "stream",
     "text": [
      "LOSS:5.257075309753418\n",
      "LOSS:6.08404541015625\n",
      "LOSS:3.082106828689575\n",
      "LOSS:5.2468414306640625\n",
      "LOSS:3.4387855529785156\n"
     ]
    },
    {
     "name": "stderr",
     "output_type": "stream",
     "text": [
      "ROUND:[108000]:   0%|                                                                           | 0/44 [00:00<?, ?it/s]"
     ]
    },
    {
     "name": "stdout",
     "output_type": "stream",
     "text": [
      "LOSS:4.195163726806641\n",
      "LOSS:3.8174102306365967\n",
      "LOSS:4.844600200653076\n",
      "LOSS:4.793837070465088\n"
     ]
    },
    {
     "name": "stderr",
     "output_type": "stream",
     "text": [
      "ROUND:[108000]:  70%|█████████████████████████████████████████████▊                   | 31/44 [00:00<00:00, 301.78it/s]"
     ]
    },
    {
     "name": "stdout",
     "output_type": "stream",
     "text": [
      "LOSS:3.5686559677124023\n",
      "LOSS:5.3307013511657715\n",
      "LOSS:5.463324069976807\n",
      "LOSS:3.6465351581573486\n",
      "LOSS:4.016600131988525\n"
     ]
    },
    {
     "name": "stderr",
     "output_type": "stream",
     "text": [
      "ROUND:[108000]:  70%|█████████████████████████████████████████████▊                   | 31/44 [00:00<00:00, 301.78it/s]"
     ]
    },
    {
     "name": "stdout",
     "output_type": "stream",
     "text": [
      "LOSS:4.499468803405762\n",
      "LOSS:6.091180324554443\n",
      "LOSS:3.9223790168762207\n",
      "LOSS:5.176361560821533\n",
      "LOSS:2.786513090133667\n"
     ]
    },
    {
     "name": "stderr",
     "output_type": "stream",
     "text": [
      "ROUND:[21600]: 100%|██████████████████████████████████████████████████████████████████| 44/44 [00:00<00:00, 302.17it/s]\n"
     ]
    },
    {
     "name": "stdout",
     "output_type": "stream",
     "text": [
      "LOSS:4.03457498550415\n",
      "LOSS:3.798276901245117\n",
      "LOSS:7.136010646820068\n",
      "LOSS:3.0632636547088623\n",
      "VAILD_LOSS:5.286437728188255\n",
      "--------------------\n",
      "TIMES:22**************************\n"
     ]
    },
    {
     "name": "stderr",
     "output_type": "stream",
     "text": [
      "ROUND:[108000]:   0%|                                                                           | 0/44 [00:00<?, ?it/s]"
     ]
    },
    {
     "name": "stdout",
     "output_type": "stream",
     "text": [
      "LOSS:7.715184211730957\n",
      "LOSS:4.184810638427734\n"
     ]
    },
    {
     "name": "stderr",
     "output_type": "stream",
     "text": [
      "ROUND:[108000]:   0%|                                                                           | 0/44 [00:00<?, ?it/s]"
     ]
    },
    {
     "name": "stdout",
     "output_type": "stream",
     "text": [
      "LOSS:4.718101978302002\n",
      "LOSS:4.806576251983643\n",
      "LOSS:4.704834938049316\n",
      "LOSS:4.725826740264893\n"
     ]
    },
    {
     "name": "stderr",
     "output_type": "stream",
     "text": [
      "ROUND:[108000]:   0%|                                                                           | 0/44 [00:00<?, ?it/s]"
     ]
    },
    {
     "name": "stdout",
     "output_type": "stream",
     "text": [
      "LOSS:5.760978698730469\n",
      "LOSS:3.901728630065918\n",
      "LOSS:7.960804462432861\n",
      "LOSS:7.124244689941406\n"
     ]
    },
    {
     "name": "stderr",
     "output_type": "stream",
     "text": [
      "ROUND:[108000]:   0%|                                                                           | 0/44 [00:00<?, ?it/s]"
     ]
    },
    {
     "name": "stdout",
     "output_type": "stream",
     "text": [
      "LOSS:4.558380126953125\n",
      "LOSS:5.975256443023682\n",
      "LOSS:4.30964994430542\n",
      "LOSS:8.639816284179688\n"
     ]
    },
    {
     "name": "stderr",
     "output_type": "stream",
     "text": [
      "ROUND:[108000]:   0%|                                                                           | 0/44 [00:00<?, ?it/s]"
     ]
    },
    {
     "name": "stdout",
     "output_type": "stream",
     "text": [
      "LOSS:3.402656078338623\n",
      "LOSS:4.5101470947265625\n",
      "LOSS:3.40238618850708\n",
      "LOSS:5.080179214477539\n",
      "LOSS:4.208632946014404\n"
     ]
    },
    {
     "name": "stderr",
     "output_type": "stream",
     "text": [
      "ROUND:[108000]:   0%|                                                                           | 0/44 [00:00<?, ?it/s]"
     ]
    },
    {
     "name": "stdout",
     "output_type": "stream",
     "text": [
      "LOSS:3.5768959522247314\n",
      "LOSS:4.589085578918457\n",
      "LOSS:5.232709884643555\n",
      "LOSS:6.053956985473633\n"
     ]
    },
    {
     "name": "stderr",
     "output_type": "stream",
     "text": [
      "ROUND:[108000]:  61%|███████████████████████████████████████▉                         | 27/44 [00:00<00:00, 265.41it/s]"
     ]
    },
    {
     "name": "stdout",
     "output_type": "stream",
     "text": [
      "LOSS:3.0657284259796143\n",
      "LOSS:5.246392726898193\n",
      "LOSS:3.4180333614349365\n",
      "LOSS:4.1752800941467285\n"
     ]
    },
    {
     "name": "stderr",
     "output_type": "stream",
     "text": [
      "ROUND:[108000]:  61%|███████████████████████████████████████▉                         | 27/44 [00:00<00:00, 265.41it/s]"
     ]
    },
    {
     "name": "stdout",
     "output_type": "stream",
     "text": [
      "LOSS:3.8027141094207764\n",
      "LOSS:4.8373236656188965\n",
      "LOSS:4.771003723144531\n",
      "LOSS:3.564667224884033\n",
      "LOSS:5.294909954071045\n"
     ]
    },
    {
     "name": "stderr",
     "output_type": "stream",
     "text": [
      "ROUND:[108000]:  61%|███████████████████████████████████████▉                         | 27/44 [00:00<00:00, 265.41it/s]"
     ]
    },
    {
     "name": "stdout",
     "output_type": "stream",
     "text": [
      "LOSS:5.452200412750244\n",
      "LOSS:3.632033586502075\n",
      "LOSS:4.0011701583862305\n",
      "LOSS:4.488527297973633\n",
      "LOSS:6.063501834869385\n"
     ]
    },
    {
     "name": "stderr",
     "output_type": "stream",
     "text": [
      "ROUND:[108000]:  61%|███████████████████████████████████████▉                         | 27/44 [00:00<00:00, 265.41it/s]"
     ]
    },
    {
     "name": "stdout",
     "output_type": "stream",
     "text": [
      "LOSS:3.916832685470581\n",
      "LOSS:5.161599159240723\n",
      "LOSS:2.7795000076293945\n",
      "LOSS:4.016044616699219\n",
      "LOSS:3.794740915298462\n"
     ]
    },
    {
     "name": "stderr",
     "output_type": "stream",
     "text": [
      "ROUND:[21600]: 100%|██████████████████████████████████████████████████████████████████| 44/44 [00:00<00:00, 277.47it/s]\n"
     ]
    },
    {
     "name": "stdout",
     "output_type": "stream",
     "text": [
      "LOSS:7.108828067779541\n",
      "LOSS:3.053896427154541\n",
      "VAILD_LOSS:5.265321233055809\n",
      "--------------------\n",
      "TIMES:23**************************\n"
     ]
    },
    {
     "name": "stderr",
     "output_type": "stream",
     "text": [
      "ROUND:[108000]:   0%|                                                                           | 0/44 [00:00<?, ?it/s]"
     ]
    },
    {
     "name": "stdout",
     "output_type": "stream",
     "text": [
      "LOSS:7.685389041900635\n",
      "LOSS:4.172297477722168\n",
      "LOSS:4.697134971618652\n",
      "LOSS:4.796494483947754\n"
     ]
    },
    {
     "name": "stderr",
     "output_type": "stream",
     "text": [
      "ROUND:[108000]:   0%|                                                                           | 0/44 [00:00<?, ?it/s]"
     ]
    },
    {
     "name": "stdout",
     "output_type": "stream",
     "text": [
      "LOSS:4.69732141494751\n",
      "LOSS:4.714010715484619\n",
      "LOSS:5.734353542327881\n",
      "LOSS:3.884188652038574\n",
      "LOSS:7.931507587432861\n"
     ]
    },
    {
     "name": "stderr",
     "output_type": "stream",
     "text": [
      "ROUND:[108000]:   0%|                                                                           | 0/44 [00:00<?, ?it/s]"
     ]
    },
    {
     "name": "stdout",
     "output_type": "stream",
     "text": [
      "LOSS:7.09660005569458\n",
      "LOSS:4.538624286651611\n",
      "LOSS:5.962297439575195\n",
      "LOSS:4.29529333114624\n"
     ]
    },
    {
     "name": "stderr",
     "output_type": "stream",
     "text": [
      "ROUND:[108000]:   0%|                                                                           | 0/44 [00:00<?, ?it/s]"
     ]
    },
    {
     "name": "stdout",
     "output_type": "stream",
     "text": [
      "LOSS:8.627866744995117\n",
      "LOSS:3.3812716007232666\n",
      "LOSS:4.485574245452881\n",
      "LOSS:3.383606433868408\n"
     ]
    },
    {
     "name": "stderr",
     "output_type": "stream",
     "text": [
      "ROUND:[108000]:   0%|                                                                           | 0/44 [00:00<?, ?it/s]"
     ]
    },
    {
     "name": "stdout",
     "output_type": "stream",
     "text": [
      "LOSS:5.057956218719482\n",
      "LOSS:4.187441825866699\n",
      "LOSS:3.564425468444824\n",
      "LOSS:4.55872106552124\n",
      "LOSS:5.210491180419922\n"
     ]
    },
    {
     "name": "stderr",
     "output_type": "stream",
     "text": [
      "ROUND:[108000]:   0%|                                                                           | 0/44 [00:00<?, ?it/s]"
     ]
    },
    {
     "name": "stdout",
     "output_type": "stream",
     "text": [
      "LOSS:6.025665283203125\n",
      "LOSS:3.0486035346984863\n",
      "LOSS:5.244621276855469\n",
      "LOSS:3.39601731300354\n",
      "LOSS:4.156745910644531\n"
     ]
    },
    {
     "name": "stderr",
     "output_type": "stream",
     "text": [
      "ROUND:[108000]:  68%|████████████████████████████████████████████▎                    | 30/44 [00:00<00:00, 297.82it/s]"
     ]
    },
    {
     "name": "stdout",
     "output_type": "stream",
     "text": [
      "LOSS:3.7869415283203125\n",
      "LOSS:4.830680847167969\n",
      "LOSS:4.747297763824463\n",
      "LOSS:3.5611956119537354\n"
     ]
    },
    {
     "name": "stderr",
     "output_type": "stream",
     "text": [
      "ROUND:[108000]:  68%|████████████████████████████████████████████▎                    | 30/44 [00:00<00:00, 297.82it/s]"
     ]
    },
    {
     "name": "stdout",
     "output_type": "stream",
     "text": [
      "LOSS:5.259362697601318\n",
      "LOSS:5.442452430725098\n",
      "LOSS:3.6212944984436035\n",
      "LOSS:3.989125967025757\n",
      "LOSS:4.476626873016357\n"
     ]
    },
    {
     "name": "stderr",
     "output_type": "stream",
     "text": [
      "ROUND:[108000]:  68%|████████████████████████████████████████████▎                    | 30/44 [00:00<00:00, 297.82it/s]"
     ]
    },
    {
     "name": "stdout",
     "output_type": "stream",
     "text": [
      "LOSS:6.036744117736816\n",
      "LOSS:3.913665771484375\n",
      "LOSS:5.145987510681152\n",
      "LOSS:2.7737534046173096\n"
     ]
    },
    {
     "name": "stderr",
     "output_type": "stream",
     "text": [
      "ROUND:[21600]: 100%|██████████████████████████████████████████████████████████████████| 44/44 [00:00<00:00, 292.17it/s]\n"
     ]
    },
    {
     "name": "stdout",
     "output_type": "stream",
     "text": [
      "LOSS:3.999183177947998\n",
      "LOSS:3.7929160594940186\n",
      "LOSS:7.084195613861084\n",
      "LOSS:3.0456655025482178\n",
      "VAILD_LOSS:5.245236136696556\n",
      "--------------------\n",
      "TIMES:24**************************\n"
     ]
    },
    {
     "name": "stderr",
     "output_type": "stream",
     "text": [
      "ROUND:[108000]:   0%|                                                                           | 0/44 [00:00<?, ?it/s]"
     ]
    },
    {
     "name": "stdout",
     "output_type": "stream",
     "text": [
      "LOSS:7.656701564788818\n",
      "LOSS:4.16016149520874\n"
     ]
    },
    {
     "name": "stderr",
     "output_type": "stream",
     "text": [
      "ROUND:[108000]:   0%|                                                                           | 0/44 [00:00<?, ?it/s]"
     ]
    },
    {
     "name": "stdout",
     "output_type": "stream",
     "text": [
      "LOSS:4.677457332611084\n",
      "LOSS:4.7867350578308105\n",
      "LOSS:4.690005302429199\n",
      "LOSS:4.703094482421875\n",
      "LOSS:5.708777904510498\n"
     ]
    },
    {
     "name": "stderr",
     "output_type": "stream",
     "text": [
      "ROUND:[108000]:   0%|                                                                           | 0/44 [00:00<?, ?it/s]"
     ]
    },
    {
     "name": "stdout",
     "output_type": "stream",
     "text": [
      "LOSS:3.868896722793579\n",
      "LOSS:7.903387069702148\n",
      "LOSS:7.070931911468506\n",
      "LOSS:4.520488262176514\n",
      "LOSS:5.948675632476807\n"
     ]
    },
    {
     "name": "stderr",
     "output_type": "stream",
     "text": [
      "ROUND:[108000]:   0%|                                                                           | 0/44 [00:00<?, ?it/s]"
     ]
    },
    {
     "name": "stdout",
     "output_type": "stream",
     "text": [
      "LOSS:4.281492710113525\n",
      "LOSS:8.616076469421387\n",
      "LOSS:3.360736846923828\n",
      "LOSS:4.4651198387146\n",
      "LOSS:3.3669488430023193\n"
     ]
    },
    {
     "name": "stderr",
     "output_type": "stream",
     "text": [
      "ROUND:[108000]:   0%|                                                                           | 0/44 [00:00<?, ?it/s]"
     ]
    },
    {
     "name": "stdout",
     "output_type": "stream",
     "text": [
      "LOSS:5.034639835357666\n",
      "LOSS:4.1679768562316895\n",
      "LOSS:3.553654909133911\n",
      "LOSS:4.5323309898376465\n",
      "LOSS:5.188126087188721\n"
     ]
    },
    {
     "name": "stderr",
     "output_type": "stream",
     "text": [
      "ROUND:[108000]:   0%|                                                                           | 0/44 [00:00<?, ?it/s]"
     ]
    },
    {
     "name": "stdout",
     "output_type": "stream",
     "text": [
      "LOSS:5.99749231338501\n",
      "LOSS:3.0299205780029297\n",
      "LOSS:5.238276958465576\n",
      "LOSS:3.3742122650146484\n"
     ]
    },
    {
     "name": "stderr",
     "output_type": "stream",
     "text": [
      "ROUND:[108000]:  70%|█████████████████████████████████████████████▊                   | 31/44 [00:00<00:00, 301.87it/s]"
     ]
    },
    {
     "name": "stdout",
     "output_type": "stream",
     "text": [
      "LOSS:4.1422624588012695\n",
      "LOSS:3.777226686477661\n",
      "LOSS:4.825228214263916\n",
      "LOSS:4.730600357055664\n",
      "LOSS:3.5584850311279297\n"
     ]
    },
    {
     "name": "stderr",
     "output_type": "stream",
     "text": [
      "ROUND:[108000]:  70%|█████████████████████████████████████████████▊                   | 31/44 [00:00<00:00, 301.87it/s]"
     ]
    },
    {
     "name": "stdout",
     "output_type": "stream",
     "text": [
      "LOSS:5.229378700256348\n",
      "LOSS:5.4359564781188965\n",
      "LOSS:3.6055824756622314\n",
      "LOSS:3.974311351776123\n"
     ]
    },
    {
     "name": "stderr",
     "output_type": "stream",
     "text": [
      "ROUND:[108000]:  70%|█████████████████████████████████████████████▊                   | 31/44 [00:00<00:00, 301.87it/s]"
     ]
    },
    {
     "name": "stdout",
     "output_type": "stream",
     "text": [
      "LOSS:4.467237949371338\n",
      "LOSS:6.01090145111084\n",
      "LOSS:3.9054479598999023\n",
      "LOSS:5.134675025939941\n"
     ]
    },
    {
     "name": "stderr",
     "output_type": "stream",
     "text": [
      "ROUND:[21600]: 100%|██████████████████████████████████████████████████████████████████| 44/44 [00:00<00:00, 296.15it/s]\n"
     ]
    },
    {
     "name": "stdout",
     "output_type": "stream",
     "text": [
      "LOSS:2.7697174549102783\n",
      "LOSS:3.982769727706909\n",
      "LOSS:3.788578510284424\n",
      "LOSS:7.060823917388916\n",
      "LOSS:3.036670446395874\n",
      "VAILD_LOSS:5.2262826832858\n",
      "--------------------\n",
      "TIMES:25**************************\n"
     ]
    },
    {
     "name": "stderr",
     "output_type": "stream",
     "text": [
      "ROUND:[108000]:   0%|                                                                           | 0/44 [00:00<?, ?it/s]"
     ]
    },
    {
     "name": "stdout",
     "output_type": "stream",
     "text": [
      "LOSS:7.629105091094971\n",
      "LOSS:4.1475090980529785\n",
      "LOSS:4.658343315124512\n",
      "LOSS:4.7762861251831055\n",
      "LOSS:4.681492805480957\n"
     ]
    },
    {
     "name": "stderr",
     "output_type": "stream",
     "text": [
      "ROUND:[108000]:   0%|                                                                           | 0/44 [00:00<?, ?it/s]"
     ]
    },
    {
     "name": "stdout",
     "output_type": "stream",
     "text": [
      "LOSS:4.690974712371826\n",
      "LOSS:5.686514377593994\n",
      "LOSS:3.853607177734375\n",
      "LOSS:7.874802112579346\n",
      "LOSS:7.0493669509887695\n"
     ]
    },
    {
     "name": "stderr",
     "output_type": "stream",
     "text": [
      "ROUND:[108000]:   0%|                                                                           | 0/44 [00:00<?, ?it/s]"
     ]
    },
    {
     "name": "stdout",
     "output_type": "stream",
     "text": [
      "LOSS:4.503046035766602\n",
      "LOSS:5.937830448150635\n",
      "LOSS:4.269162654876709\n",
      "LOSS:8.604616165161133\n"
     ]
    },
    {
     "name": "stderr",
     "output_type": "stream",
     "text": [
      "ROUND:[108000]:   0%|                                                                           | 0/44 [00:00<?, ?it/s]"
     ]
    },
    {
     "name": "stdout",
     "output_type": "stream",
     "text": [
      "LOSS:3.34283447265625\n",
      "LOSS:4.447577953338623\n",
      "LOSS:3.3548152446746826\n",
      "LOSS:5.015440464019775\n",
      "LOSS:4.148451328277588\n"
     ]
    },
    {
     "name": "stderr",
     "output_type": "stream",
     "text": [
      "ROUND:[108000]:   0%|                                                                           | 0/44 [00:00<?, ?it/s]"
     ]
    },
    {
     "name": "stdout",
     "output_type": "stream",
     "text": [
      "LOSS:3.542923927307129\n",
      "LOSS:4.5056352615356445\n",
      "LOSS:5.16782283782959\n",
      "LOSS:5.973452091217041\n",
      "LOSS:3.010114908218384\n"
     ]
    },
    {
     "name": "stderr",
     "output_type": "stream",
     "text": [
      "ROUND:[108000]:   0%|                                                                           | 0/44 [00:00<?, ?it/s]"
     ]
    },
    {
     "name": "stdout",
     "output_type": "stream",
     "text": [
      "LOSS:5.233738899230957\n",
      "LOSS:3.3536674976348877\n",
      "LOSS:4.1274566650390625\n",
      "LOSS:3.766864538192749\n"
     ]
    },
    {
     "name": "stderr",
     "output_type": "stream",
     "text": [
      "ROUND:[108000]:  68%|████████████████████████████████████████████▎                    | 30/44 [00:00<00:00, 299.29it/s]"
     ]
    },
    {
     "name": "stdout",
     "output_type": "stream",
     "text": [
      "LOSS:4.819211959838867\n",
      "LOSS:4.7126336097717285\n",
      "LOSS:3.5555946826934814\n",
      "LOSS:5.200927734375\n",
      "LOSS:5.427974700927734\n"
     ]
    },
    {
     "name": "stderr",
     "output_type": "stream",
     "text": [
      "ROUND:[108000]:  68%|████████████████████████████████████████████▎                    | 30/44 [00:00<00:00, 299.29it/s]"
     ]
    },
    {
     "name": "stdout",
     "output_type": "stream",
     "text": [
      "LOSS:3.59190034866333\n",
      "LOSS:3.96164608001709\n",
      "LOSS:4.457088470458984\n",
      "LOSS:5.986000061035156\n",
      "LOSS:3.897324800491333\n"
     ]
    },
    {
     "name": "stderr",
     "output_type": "stream",
     "text": [
      "ROUND:[108000]:  68%|████████████████████████████████████████████▎                    | 30/44 [00:00<00:00, 299.29it/s]"
     ]
    },
    {
     "name": "stdout",
     "output_type": "stream",
     "text": [
      "LOSS:5.123752117156982\n",
      "LOSS:2.765641450881958\n",
      "LOSS:3.967432737350464\n",
      "LOSS:3.7846462726593018\n"
     ]
    },
    {
     "name": "stderr",
     "output_type": "stream",
     "text": [
      "ROUND:[21600]: 100%|██████████████████████████████████████████████████████████████████| 44/44 [00:00<00:00, 295.09it/s]\n"
     ]
    },
    {
     "name": "stdout",
     "output_type": "stream",
     "text": [
      "LOSS:7.038090229034424\n",
      "LOSS:3.027440071105957\n",
      "VAILD_LOSS:5.2078210007060655\n",
      "--------------------\n",
      "TIMES:26**************************\n"
     ]
    },
    {
     "name": "stderr",
     "output_type": "stream",
     "text": [
      "ROUND:[108000]:   0%|                                                                           | 0/44 [00:00<?, ?it/s]"
     ]
    },
    {
     "name": "stdout",
     "output_type": "stream",
     "text": [
      "LOSS:7.60345458984375\n",
      "LOSS:4.135209083557129\n",
      "LOSS:4.640585899353027\n",
      "LOSS:4.766294956207275\n",
      "LOSS:4.674112796783447\n",
      "LOSS:4.679985046386719\n",
      "LOSS:5.665380954742432\n",
      "LOSS:3.8401293754577637\n",
      "LOSS:7.847568035125732\n"
     ]
    },
    {
     "name": "stderr",
     "output_type": "stream",
     "text": [
      "ROUND:[108000]:   0%|                                                                           | 0/44 [00:00<?, ?it/s]"
     ]
    },
    {
     "name": "stdout",
     "output_type": "stream",
     "text": [
      "LOSS:7.028682708740234\n",
      "LOSS:4.48674201965332\n",
      "LOSS:5.926768779754639\n",
      "LOSS:4.25734806060791\n",
      "LOSS:8.593433380126953\n",
      "LOSS:3.3261473178863525\n"
     ]
    },
    {
     "name": "stderr",
     "output_type": "stream",
     "text": [
      "ROUND:[108000]:   0%|                                                                           | 0/44 [00:00<?, ?it/s]"
     ]
    },
    {
     "name": "stdout",
     "output_type": "stream",
     "text": [
      "LOSS:4.431174278259277\n",
      "LOSS:3.343752384185791\n",
      "LOSS:4.997657775878906\n",
      "LOSS:4.1302289962768555\n"
     ]
    },
    {
     "name": "stderr",
     "output_type": "stream",
     "text": [
      "ROUND:[108000]:   0%|                                                                           | 0/44 [00:00<?, ?it/s]"
     ]
    },
    {
     "name": "stdout",
     "output_type": "stream",
     "text": [
      "LOSS:3.533026695251465\n",
      "LOSS:4.4805169105529785\n",
      "LOSS:5.148198127746582\n",
      "LOSS:5.951162815093994\n",
      "LOSS:2.991083860397339\n"
     ]
    },
    {
     "name": "stderr",
     "output_type": "stream",
     "text": [
      "ROUND:[108000]:   0%|                                                                           | 0/44 [00:00<?, ?it/s]"
     ]
    },
    {
     "name": "stdout",
     "output_type": "stream",
     "text": [
      "LOSS:5.228439807891846\n",
      "LOSS:3.3348376750946045\n",
      "LOSS:4.113296985626221\n",
      "LOSS:3.756394624710083\n",
      "LOSS:4.813084125518799\n"
     ]
    },
    {
     "name": "stderr",
     "output_type": "stream",
     "text": [
      "ROUND:[108000]:  73%|███████████████████████████████████████████████▎                 | 32/44 [00:00<00:00, 312.95it/s]"
     ]
    },
    {
     "name": "stdout",
     "output_type": "stream",
     "text": [
      "LOSS:4.694787979125977\n",
      "LOSS:3.552165985107422\n",
      "LOSS:5.173470497131348\n",
      "LOSS:5.418924331665039\n"
     ]
    },
    {
     "name": "stderr",
     "output_type": "stream",
     "text": [
      "ROUND:[108000]:  73%|███████████████████████████████████████████████▎                 | 32/44 [00:00<00:00, 312.95it/s]"
     ]
    },
    {
     "name": "stdout",
     "output_type": "stream",
     "text": [
      "LOSS:3.580070972442627\n",
      "LOSS:3.951044797897339\n",
      "LOSS:4.44606351852417\n",
      "LOSS:5.962234973907471\n",
      "LOSS:3.8909804821014404\n"
     ]
    },
    {
     "name": "stderr",
     "output_type": "stream",
     "text": [
      "ROUND:[108000]:  73%|███████████████████████████████████████████████▎                 | 32/44 [00:00<00:00, 312.95it/s]"
     ]
    },
    {
     "name": "stdout",
     "output_type": "stream",
     "text": [
      "LOSS:5.112127780914307\n",
      "LOSS:2.7603163719177246\n",
      "LOSS:3.953730344772339\n",
      "LOSS:3.7837650775909424\n"
     ]
    },
    {
     "name": "stderr",
     "output_type": "stream",
     "text": [
      "ROUND:[21600]: 100%|██████████████████████████████████████████████████████████████████| 44/44 [00:00<00:00, 303.16it/s]\n"
     ]
    },
    {
     "name": "stdout",
     "output_type": "stream",
     "text": [
      "LOSS:7.016021728515625\n",
      "LOSS:3.0164144039154053\n",
      "VAILD_LOSS:5.191410324790261\n",
      "--------------------\n",
      "TIMES:27**************************\n"
     ]
    },
    {
     "name": "stderr",
     "output_type": "stream",
     "text": [
      "ROUND:[108000]:   0%|                                                                           | 0/44 [00:00<?, ?it/s]"
     ]
    },
    {
     "name": "stdout",
     "output_type": "stream",
     "text": [
      "LOSS:7.577696800231934\n",
      "LOSS:4.121406078338623\n",
      "LOSS:4.61921501159668\n",
      "LOSS:4.755183219909668\n",
      "LOSS:4.657263278961182\n"
     ]
    },
    {
     "name": "stderr",
     "output_type": "stream",
     "text": [
      "ROUND:[108000]:   0%|                                                                           | 0/44 [00:00<?, ?it/s]"
     ]
    },
    {
     "name": "stdout",
     "output_type": "stream",
     "text": [
      "LOSS:4.660910129547119\n",
      "LOSS:5.647975921630859\n",
      "LOSS:3.820396661758423\n",
      "LOSS:7.814431667327881\n",
      "LOSS:7.0144944190979\n"
     ]
    },
    {
     "name": "stderr",
     "output_type": "stream",
     "text": [
      "ROUND:[108000]:   0%|                                                                           | 0/44 [00:00<?, ?it/s]"
     ]
    },
    {
     "name": "stdout",
     "output_type": "stream",
     "text": [
      "LOSS:4.467343807220459\n",
      "LOSS:5.922468662261963\n",
      "LOSS:4.249865531921387\n",
      "LOSS:8.580133438110352\n",
      "LOSS:3.3143389225006104\n",
      "LOSS:4.416525363922119\n",
      "LOSS:3.3402340412139893\n",
      "LOSS:4.9877424240112305\n",
      "LOSS:4.112873077392578\n",
      "LOSS:3.5216448307037354\n"
     ]
    },
    {
     "name": "stderr",
     "output_type": "stream",
     "text": [
      "ROUND:[108000]:   0%|                                                                           | 0/44 [00:00<?, ?it/s]"
     ]
    },
    {
     "name": "stdout",
     "output_type": "stream",
     "text": [
      "LOSS:4.450314044952393\n",
      "LOSS:5.131397724151611\n",
      "LOSS:5.932695388793945\n",
      "LOSS:2.966423273086548\n",
      "LOSS:5.228031635284424\n"
     ]
    },
    {
     "name": "stderr",
     "output_type": "stream",
     "text": [
      "ROUND:[108000]:   0%|                                                                           | 0/44 [00:00<?, ?it/s]"
     ]
    },
    {
     "name": "stdout",
     "output_type": "stream",
     "text": [
      "LOSS:3.316538095474243\n",
      "LOSS:4.097590446472168\n",
      "LOSS:3.743372678756714\n",
      "LOSS:4.807180881500244\n"
     ]
    },
    {
     "name": "stderr",
     "output_type": "stream",
     "text": [
      "ROUND:[108000]:  70%|█████████████████████████████████████████████▊                   | 31/44 [00:00<00:00, 306.10it/s]"
     ]
    },
    {
     "name": "stdout",
     "output_type": "stream",
     "text": [
      "LOSS:4.675317764282227\n",
      "LOSS:3.547832489013672\n",
      "LOSS:5.144339561462402\n",
      "LOSS:5.407532691955566\n",
      "LOSS:3.569753885269165\n"
     ]
    },
    {
     "name": "stderr",
     "output_type": "stream",
     "text": [
      "ROUND:[108000]:  70%|█████████████████████████████████████████████▊                   | 31/44 [00:00<00:00, 306.10it/s]"
     ]
    },
    {
     "name": "stdout",
     "output_type": "stream",
     "text": [
      "LOSS:3.940495491027832\n",
      "LOSS:4.433996200561523\n",
      "LOSS:5.939342021942139\n",
      "LOSS:3.8854587078094482\n"
     ]
    },
    {
     "name": "stderr",
     "output_type": "stream",
     "text": [
      "ROUND:[21600]:  70%|██████████████████████████████████████████████▌                   | 31/44 [00:00<00:00, 306.10it/s]"
     ]
    },
    {
     "name": "stdout",
     "output_type": "stream",
     "text": [
      "LOSS:5.099520683288574\n",
      "LOSS:2.7551305294036865\n",
      "LOSS:3.9415459632873535\n",
      "LOSS:3.785060405731201\n",
      "LOSS:6.992549896240234\n"
     ]
    },
    {
     "name": "stderr",
     "output_type": "stream",
     "text": [
      "ROUND:[21600]: 100%|██████████████████████████████████████████████████████████████████| 44/44 [00:00<00:00, 301.05it/s]\n"
     ]
    },
    {
     "name": "stdout",
     "output_type": "stream",
     "text": [
      "LOSS:3.003469228744507\n",
      "VAILD_LOSS:5.174017841165716\n",
      "--------------------\n",
      "TIMES:28**************************\n"
     ]
    },
    {
     "name": "stderr",
     "output_type": "stream",
     "text": [
      "ROUND:[108000]:   0%|                                                                           | 0/44 [00:00<?, ?it/s]"
     ]
    },
    {
     "name": "stdout",
     "output_type": "stream",
     "text": [
      "LOSS:7.553171157836914\n",
      "LOSS:4.109506607055664\n",
      "LOSS:4.600821018218994\n",
      "LOSS:4.746649265289307\n",
      "LOSS:4.647655963897705\n"
     ]
    },
    {
     "name": "stderr",
     "output_type": "stream",
     "text": [
      "ROUND:[108000]:   0%|                                                                           | 0/44 [00:00<?, ?it/s]"
     ]
    },
    {
     "name": "stdout",
     "output_type": "stream",
     "text": [
      "LOSS:4.649330139160156\n",
      "LOSS:5.627109050750732\n",
      "LOSS:3.8090038299560547\n",
      "LOSS:7.786218643188477\n",
      "LOSS:6.992034912109375\n"
     ]
    },
    {
     "name": "stderr",
     "output_type": "stream",
     "text": [
      "ROUND:[108000]:   0%|                                                                           | 0/44 [00:00<?, ?it/s]"
     ]
    },
    {
     "name": "stdout",
     "output_type": "stream",
     "text": [
      "LOSS:4.451670169830322\n",
      "LOSS:5.908249378204346\n",
      "LOSS:4.239693641662598\n",
      "LOSS:8.569110870361328\n",
      "LOSS:3.2991316318511963\n"
     ]
    },
    {
     "name": "stderr",
     "output_type": "stream",
     "text": [
      "ROUND:[108000]:   0%|                                                                           | 0/44 [00:00<?, ?it/s]"
     ]
    },
    {
     "name": "stdout",
     "output_type": "stream",
     "text": [
      "LOSS:4.402283668518066\n",
      "LOSS:3.3271403312683105\n",
      "LOSS:4.970141887664795\n",
      "LOSS:4.097260475158691\n"
     ]
    },
    {
     "name": "stderr",
     "output_type": "stream",
     "text": [
      "ROUND:[108000]:   0%|                                                                           | 0/44 [00:00<?, ?it/s]"
     ]
    },
    {
     "name": "stdout",
     "output_type": "stream",
     "text": [
      "LOSS:3.513477087020874\n",
      "LOSS:4.424936294555664\n",
      "LOSS:5.11199951171875\n",
      "LOSS:5.911153316497803\n",
      "LOSS:2.9456512928009033\n",
      "LOSS:5.222867488861084\n",
      "LOSS:3.299715280532837\n",
      "LOSS:4.084327697753906\n",
      "LOSS:3.734398603439331\n",
      "LOSS:4.802887439727783\n"
     ]
    },
    {
     "name": "stderr",
     "output_type": "stream",
     "text": [
      "ROUND:[108000]:  70%|█████████████████████████████████████████████▊                   | 31/44 [00:00<00:00, 307.75it/s]"
     ]
    },
    {
     "name": "stdout",
     "output_type": "stream",
     "text": [
      "LOSS:4.657924175262451\n",
      "LOSS:3.5433526039123535\n",
      "LOSS:5.116608619689941\n",
      "LOSS:5.397221565246582\n",
      "LOSS:3.557222843170166\n"
     ]
    },
    {
     "name": "stderr",
     "output_type": "stream",
     "text": [
      "ROUND:[108000]:  70%|█████████████████████████████████████████████▊                   | 31/44 [00:00<00:00, 307.75it/s]"
     ]
    },
    {
     "name": "stdout",
     "output_type": "stream",
     "text": [
      "LOSS:3.928129196166992\n",
      "LOSS:4.4211273193359375\n",
      "LOSS:5.917346477508545\n",
      "LOSS:3.878058910369873\n",
      "LOSS:5.0878987312316895\n"
     ]
    },
    {
     "name": "stderr",
     "output_type": "stream",
     "text": [
      "ROUND:[21600]:  70%|██████████████████████████████████████████████▌                   | 31/44 [00:00<00:00, 307.75it/s]"
     ]
    },
    {
     "name": "stdout",
     "output_type": "stream",
     "text": [
      "LOSS:2.750077724456787\n",
      "LOSS:3.930248975753784\n",
      "LOSS:3.7873916625976562\n",
      "LOSS:6.969581127166748\n"
     ]
    },
    {
     "name": "stderr",
     "output_type": "stream",
     "text": [
      "ROUND:[21600]: 100%|██████████████████████████████████████████████████████████████████| 44/44 [00:00<00:00, 306.37it/s]\n"
     ]
    },
    {
     "name": "stdout",
     "output_type": "stream",
     "text": [
      "LOSS:2.9916274547576904\n",
      "VAILD_LOSS:5.1573499549518935\n",
      "--------------------\n",
      "TIMES:29**************************\n"
     ]
    },
    {
     "name": "stderr",
     "output_type": "stream",
     "text": [
      "ROUND:[108000]:   0%|                                                                           | 0/44 [00:00<?, ?it/s]"
     ]
    },
    {
     "name": "stdout",
     "output_type": "stream",
     "text": [
      "LOSS:7.529262065887451\n"
     ]
    },
    {
     "name": "stderr",
     "output_type": "stream",
     "text": [
      "ROUND:[108000]:   0%|                                                                           | 0/44 [00:00<?, ?it/s]"
     ]
    },
    {
     "name": "stdout",
     "output_type": "stream",
     "text": [
      "LOSS:4.097421646118164\n",
      "LOSS:4.582705020904541\n",
      "LOSS:4.738104343414307\n",
      "LOSS:4.636076927185059\n",
      "LOSS:4.636331558227539\n"
     ]
    },
    {
     "name": "stderr",
     "output_type": "stream",
     "text": [
      "ROUND:[108000]:   0%|                                                                           | 0/44 [00:00<?, ?it/s]"
     ]
    },
    {
     "name": "stdout",
     "output_type": "stream",
     "text": [
      "LOSS:5.60810661315918\n",
      "LOSS:3.79551362991333\n",
      "LOSS:7.757889747619629\n",
      "LOSS:6.9727067947387695\n",
      "LOSS:4.4355878829956055\n"
     ]
    },
    {
     "name": "stderr",
     "output_type": "stream",
     "text": [
      "ROUND:[108000]:   0%|                                                                           | 0/44 [00:00<?, ?it/s]"
     ]
    },
    {
     "name": "stdout",
     "output_type": "stream",
     "text": [
      "LOSS:5.896133899688721\n",
      "LOSS:4.230016231536865\n",
      "LOSS:8.560420989990234\n",
      "LOSS:3.2878224849700928\n",
      "LOSS:4.389180660247803\n"
     ]
    },
    {
     "name": "stderr",
     "output_type": "stream",
     "text": [
      "ROUND:[108000]:   0%|                                                                           | 0/44 [00:00<?, ?it/s]"
     ]
    },
    {
     "name": "stdout",
     "output_type": "stream",
     "text": [
      "LOSS:3.3162858486175537\n",
      "LOSS:4.953081130981445\n",
      "LOSS:4.0811076164245605\n",
      "LOSS:3.506035327911377\n"
     ]
    },
    {
     "name": "stderr",
     "output_type": "stream",
     "text": [
      "ROUND:[108000]:   0%|                                                                           | 0/44 [00:00<?, ?it/s]"
     ]
    },
    {
     "name": "stdout",
     "output_type": "stream",
     "text": [
      "LOSS:4.401732921600342\n",
      "LOSS:5.092223167419434\n",
      "LOSS:5.888894557952881\n",
      "LOSS:2.928544521331787\n",
      "LOSS:5.213505744934082\n"
     ]
    },
    {
     "name": "stderr",
     "output_type": "stream",
     "text": [
      "ROUND:[108000]:   0%|                                                                           | 0/44 [00:00<?, ?it/s]"
     ]
    },
    {
     "name": "stdout",
     "output_type": "stream",
     "text": [
      "LOSS:3.284670114517212\n",
      "LOSS:4.0731987953186035\n",
      "LOSS:3.728137731552124\n",
      "LOSS:4.79872989654541\n",
      "LOSS:4.644694805145264\n"
     ]
    },
    {
     "name": "stderr",
     "output_type": "stream",
     "text": [
      "ROUND:[108000]:  70%|█████████████████████████████████████████████▊                   | 31/44 [00:00<00:00, 305.53it/s]"
     ]
    },
    {
     "name": "stdout",
     "output_type": "stream",
     "text": [
      "LOSS:3.5390496253967285\n",
      "LOSS:5.092541217803955\n",
      "LOSS:5.387923240661621\n",
      "LOSS:3.541520357131958\n",
      "LOSS:3.913296699523926\n",
      "LOSS:4.409174919128418\n",
      "LOSS:5.896495342254639\n",
      "LOSS:3.8657941818237305\n",
      "LOSS:5.079478740692139\n"
     ]
    },
    {
     "name": "stderr",
     "output_type": "stream",
     "text": [
      "ROUND:[21600]:  70%|██████████████████████████████████████████████▌                   | 31/44 [00:00<00:00, 305.53it/s]"
     ]
    },
    {
     "name": "stdout",
     "output_type": "stream",
     "text": [
      "LOSS:2.744541645050049\n",
      "LOSS:3.9203763008117676\n",
      "LOSS:3.7866029739379883\n",
      "LOSS:6.94774055480957\n"
     ]
    },
    {
     "name": "stderr",
     "output_type": "stream",
     "text": [
      "ROUND:[21600]: 100%|██████████████████████████████████████████████████████████████████| 44/44 [00:00<00:00, 296.62it/s]\n"
     ]
    },
    {
     "name": "stdout",
     "output_type": "stream",
     "text": [
      "LOSS:2.976457357406616\n",
      "VAILD_LOSS:5.1398061839017\n",
      "--------------------\n",
      "TIMES:30**************************\n"
     ]
    },
    {
     "name": "stderr",
     "output_type": "stream",
     "text": [
      "ROUND:[108000]:   0%|                                                                           | 0/44 [00:00<?, ?it/s]"
     ]
    },
    {
     "name": "stdout",
     "output_type": "stream",
     "text": [
      "LOSS:7.5076003074646\n"
     ]
    },
    {
     "name": "stderr",
     "output_type": "stream",
     "text": [
      "ROUND:[108000]:   0%|                                                                           | 0/44 [00:00<?, ?it/s]"
     ]
    },
    {
     "name": "stdout",
     "output_type": "stream",
     "text": [
      "LOSS:4.086175441741943\n",
      "LOSS:4.56705379486084\n",
      "LOSS:4.72974967956543\n",
      "LOSS:4.62809944152832\n"
     ]
    },
    {
     "name": "stderr",
     "output_type": "stream",
     "text": [
      "ROUND:[108000]:   0%|                                                                           | 0/44 [00:00<?, ?it/s]"
     ]
    },
    {
     "name": "stdout",
     "output_type": "stream",
     "text": [
      "LOSS:4.626748085021973\n",
      "LOSS:5.589019775390625\n",
      "LOSS:3.7857024669647217\n"
     ]
    },
    {
     "name": "stderr",
     "output_type": "stream",
     "text": [
      "ROUND:[108000]:   0%|                                                                           | 0/44 [00:00<?, ?it/s]"
     ]
    },
    {
     "name": "stdout",
     "output_type": "stream",
     "text": [
      "LOSS:7.731767177581787\n",
      "LOSS:6.952352046966553\n",
      "LOSS:4.421294689178467\n",
      "LOSS:5.881411552429199\n",
      "LOSS:4.2197675704956055\n"
     ]
    },
    {
     "name": "stderr",
     "output_type": "stream",
     "text": [
      "ROUND:[108000]:   0%|                                                                           | 0/44 [00:00<?, ?it/s]"
     ]
    },
    {
     "name": "stdout",
     "output_type": "stream",
     "text": [
      "LOSS:8.552321434020996\n",
      "LOSS:3.277683973312378\n",
      "LOSS:4.3767852783203125\n",
      "LOSS:3.306769371032715\n"
     ]
    },
    {
     "name": "stderr",
     "output_type": "stream",
     "text": [
      "ROUND:[108000]:   0%|                                                                           | 0/44 [00:00<?, ?it/s]"
     ]
    },
    {
     "name": "stdout",
     "output_type": "stream",
     "text": [
      "LOSS:4.938587665557861\n",
      "LOSS:4.064890384674072\n",
      "LOSS:3.498570442199707\n",
      "LOSS:4.379150867462158\n"
     ]
    },
    {
     "name": "stderr",
     "output_type": "stream",
     "text": [
      "ROUND:[108000]:   0%|                                                                           | 0/44 [00:00<?, ?it/s]"
     ]
    },
    {
     "name": "stdout",
     "output_type": "stream",
     "text": [
      "LOSS:5.074536323547363\n",
      "LOSS:5.869632244110107\n",
      "LOSS:2.9104199409484863\n",
      "LOSS:5.205944538116455\n"
     ]
    },
    {
     "name": "stderr",
     "output_type": "stream",
     "text": [
      "ROUND:[108000]:  59%|██████████████████████████████████████▍                          | 26/44 [00:00<00:00, 250.67it/s]"
     ]
    },
    {
     "name": "stdout",
     "output_type": "stream",
     "text": [
      "LOSS:3.27050518989563\n",
      "LOSS:4.061374664306641\n",
      "LOSS:3.718804121017456\n"
     ]
    },
    {
     "name": "stderr",
     "output_type": "stream",
     "text": [
      "ROUND:[108000]:  59%|██████████████████████████████████████▍                          | 26/44 [00:00<00:00, 250.67it/s]"
     ]
    },
    {
     "name": "stdout",
     "output_type": "stream",
     "text": [
      "LOSS:4.793974876403809\n",
      "LOSS:4.629798889160156\n",
      "LOSS:3.5331575870513916\n",
      "LOSS:5.067526340484619\n"
     ]
    },
    {
     "name": "stderr",
     "output_type": "stream",
     "text": [
      "ROUND:[108000]:  59%|██████████████████████████████████████▍                          | 26/44 [00:00<00:00, 250.67it/s]"
     ]
    },
    {
     "name": "stdout",
     "output_type": "stream",
     "text": [
      "LOSS:5.3773722648620605\n",
      "LOSS:3.529978036880493\n",
      "LOSS:3.901477336883545\n",
      "LOSS:4.395669937133789\n",
      "LOSS:5.87629508972168\n",
      "LOSS:3.8568496704101562\n",
      "LOSS:5.067236423492432\n",
      "LOSS:2.739396810531616\n"
     ]
    },
    {
     "name": "stderr",
     "output_type": "stream",
     "text": [
      "ROUND:[21600]: 100%|██████████████████████████████████████████████████████████████████| 44/44 [00:00<00:00, 253.54it/s]\n"
     ]
    },
    {
     "name": "stdout",
     "output_type": "stream",
     "text": [
      "LOSS:3.9129528999328613\n",
      "LOSS:3.7908947467803955\n",
      "LOSS:6.926426887512207\n",
      "LOSS:2.9677038192749023\n",
      "VAILD_LOSS:5.124555002559315\n",
      "--------------------\n",
      "TIMES:31**************************\n"
     ]
    },
    {
     "name": "stderr",
     "output_type": "stream",
     "text": [
      "ROUND:[108000]:   0%|                                                                           | 0/44 [00:00<?, ?it/s]"
     ]
    },
    {
     "name": "stdout",
     "output_type": "stream",
     "text": [
      "LOSS:7.484851360321045\n",
      "LOSS:4.074166774749756\n",
      "LOSS:4.548844337463379\n",
      "LOSS:4.721207141876221\n"
     ]
    },
    {
     "name": "stderr",
     "output_type": "stream",
     "text": [
      "ROUND:[108000]:   0%|                                                                           | 0/44 [00:00<?, ?it/s]"
     ]
    },
    {
     "name": "stdout",
     "output_type": "stream",
     "text": [
      "LOSS:4.61489200592041\n",
      "LOSS:4.61246919631958\n",
      "LOSS:5.571858882904053\n",
      "LOSS:3.7713823318481445\n"
     ]
    },
    {
     "name": "stderr",
     "output_type": "stream",
     "text": [
      "ROUND:[108000]:   0%|                                                                           | 0/44 [00:00<?, ?it/s]"
     ]
    },
    {
     "name": "stdout",
     "output_type": "stream",
     "text": [
      "LOSS:7.705944538116455\n",
      "LOSS:6.933897495269775\n",
      "LOSS:4.406238079071045\n"
     ]
    },
    {
     "name": "stderr",
     "output_type": "stream",
     "text": [
      "ROUND:[108000]:   0%|                                                                           | 0/44 [00:00<?, ?it/s]"
     ]
    },
    {
     "name": "stdout",
     "output_type": "stream",
     "text": [
      "LOSS:5.8680949211120605\n",
      "LOSS:4.2083845138549805\n",
      "LOSS:8.542928695678711\n",
      "LOSS:3.268033981323242\n"
     ]
    },
    {
     "name": "stderr",
     "output_type": "stream",
     "text": [
      "ROUND:[108000]:   0%|                                                                           | 0/44 [00:00<?, ?it/s]"
     ]
    },
    {
     "name": "stdout",
     "output_type": "stream",
     "text": [
      "LOSS:4.364112854003906\n",
      "LOSS:3.2979533672332764\n",
      "LOSS:4.924488067626953\n",
      "LOSS:4.049005508422852\n"
     ]
    },
    {
     "name": "stderr",
     "output_type": "stream",
     "text": [
      "ROUND:[108000]:   0%|                                                                           | 0/44 [00:00<?, ?it/s]"
     ]
    },
    {
     "name": "stdout",
     "output_type": "stream",
     "text": [
      "LOSS:3.4902164936065674\n",
      "LOSS:4.357578754425049\n",
      "LOSS:5.057356834411621\n",
      "LOSS:5.851892948150635\n",
      "LOSS:2.8929474353790283\n"
     ]
    },
    {
     "name": "stderr",
     "output_type": "stream",
     "text": [
      "ROUND:[108000]:  57%|████████████████████████████████████▉                            | 25/44 [00:00<00:00, 248.19it/s]"
     ]
    },
    {
     "name": "stdout",
     "output_type": "stream",
     "text": [
      "LOSS:5.201981067657471\n",
      "LOSS:3.2560675144195557\n",
      "LOSS:4.048869609832764\n",
      "LOSS:3.7094497680664062\n"
     ]
    },
    {
     "name": "stderr",
     "output_type": "stream",
     "text": [
      "ROUND:[108000]:  57%|████████████████████████████████████▉                            | 25/44 [00:00<00:00, 248.19it/s]"
     ]
    },
    {
     "name": "stdout",
     "output_type": "stream",
     "text": [
      "LOSS:4.788498878479004\n",
      "LOSS:4.613807201385498\n",
      "LOSS:3.5233049392700195\n",
      "LOSS:5.042887210845947\n"
     ]
    },
    {
     "name": "stderr",
     "output_type": "stream",
     "text": [
      "ROUND:[108000]:  57%|████████████████████████████████████▉                            | 25/44 [00:00<00:00, 248.19it/s]"
     ]
    },
    {
     "name": "stdout",
     "output_type": "stream",
     "text": [
      "LOSS:5.366891860961914\n",
      "LOSS:3.5184123516082764\n",
      "LOSS:3.8909966945648193\n",
      "LOSS:4.381941795349121\n",
      "LOSS:5.855744361877441\n",
      "LOSS:3.8479864597320557\n",
      "LOSS:5.056185722351074\n",
      "LOSS:2.7379086017608643\n"
     ]
    },
    {
     "name": "stderr",
     "output_type": "stream",
     "text": [
      "ROUND:[21600]: 100%|██████████████████████████████████████████████████████████████████| 44/44 [00:00<00:00, 255.14it/s]\n"
     ]
    },
    {
     "name": "stdout",
     "output_type": "stream",
     "text": [
      "LOSS:3.904813766479492\n",
      "LOSS:3.79176926612854\n",
      "LOSS:6.905275344848633\n",
      "LOSS:2.955733060836792\n",
      "VAILD_LOSS:5.108276995745572\n",
      "--------------------\n",
      "TIMES:32**************************\n"
     ]
    },
    {
     "name": "stderr",
     "output_type": "stream",
     "text": [
      "ROUND:[108000]:   0%|                                                                           | 0/44 [00:00<?, ?it/s]"
     ]
    },
    {
     "name": "stdout",
     "output_type": "stream",
     "text": [
      "LOSS:7.462302207946777\n",
      "LOSS:4.064101219177246\n",
      "LOSS:4.53525447845459\n",
      "LOSS:4.713135719299316\n"
     ]
    },
    {
     "name": "stderr",
     "output_type": "stream",
     "text": [
      "ROUND:[108000]:   0%|                                                                           | 0/44 [00:00<?, ?it/s]"
     ]
    },
    {
     "name": "stdout",
     "output_type": "stream",
     "text": [
      "LOSS:4.608646869659424\n",
      "LOSS:4.60428524017334\n",
      "LOSS:5.553083896636963\n",
      "LOSS:3.763275146484375\n"
     ]
    },
    {
     "name": "stderr",
     "output_type": "stream",
     "text": [
      "ROUND:[108000]:   0%|                                                                           | 0/44 [00:00<?, ?it/s]"
     ]
    },
    {
     "name": "stdout",
     "output_type": "stream",
     "text": [
      "LOSS:7.684133052825928\n",
      "LOSS:6.913230895996094\n",
      "LOSS:4.393653869628906\n"
     ]
    },
    {
     "name": "stderr",
     "output_type": "stream",
     "text": [
      "ROUND:[108000]:   0%|                                                                           | 0/44 [00:00<?, ?it/s]"
     ]
    },
    {
     "name": "stdout",
     "output_type": "stream",
     "text": [
      "LOSS:5.850766658782959\n",
      "LOSS:4.193922519683838\n",
      "LOSS:8.533418655395508\n",
      "LOSS:3.256110191345215\n"
     ]
    },
    {
     "name": "stderr",
     "output_type": "stream",
     "text": [
      "ROUND:[108000]:   0%|                                                                           | 0/44 [00:00<?, ?it/s]"
     ]
    },
    {
     "name": "stdout",
     "output_type": "stream",
     "text": [
      "LOSS:4.352270603179932\n",
      "LOSS:3.2864022254943848\n",
      "LOSS:4.90704870223999\n",
      "LOSS:4.034637928009033\n"
     ]
    },
    {
     "name": "stderr",
     "output_type": "stream",
     "text": [
      "ROUND:[108000]:   0%|                                                                           | 0/44 [00:00<?, ?it/s]"
     ]
    },
    {
     "name": "stdout",
     "output_type": "stream",
     "text": [
      "LOSS:3.48252272605896\n",
      "LOSS:4.338920593261719\n",
      "LOSS:5.039538860321045\n"
     ]
    },
    {
     "name": "stderr",
     "output_type": "stream",
     "text": [
      "ROUND:[108000]:  57%|████████████████████████████████████▉                            | 25/44 [00:00<00:00, 243.37it/s]"
     ]
    },
    {
     "name": "stdout",
     "output_type": "stream",
     "text": [
      "LOSS:5.833520889282227\n",
      "LOSS:2.878039836883545\n",
      "LOSS:5.194874286651611\n",
      "LOSS:3.2434065341949463\n"
     ]
    },
    {
     "name": "stderr",
     "output_type": "stream",
     "text": [
      "ROUND:[108000]:  57%|████████████████████████████████████▉                            | 25/44 [00:00<00:00, 243.37it/s]"
     ]
    },
    {
     "name": "stdout",
     "output_type": "stream",
     "text": [
      "LOSS:4.037480354309082\n",
      "LOSS:3.7010650634765625\n",
      "LOSS:4.783377170562744\n",
      "LOSS:4.5994720458984375\n"
     ]
    },
    {
     "name": "stderr",
     "output_type": "stream",
     "text": [
      "ROUND:[108000]:  57%|████████████████████████████████████▉                            | 25/44 [00:00<00:00, 243.37it/s]"
     ]
    },
    {
     "name": "stdout",
     "output_type": "stream",
     "text": [
      "LOSS:3.513345241546631\n",
      "LOSS:5.019450664520264\n",
      "LOSS:5.356202125549316\n",
      "LOSS:3.5060741901397705\n",
      "LOSS:3.8800230026245117\n",
      "LOSS:4.369143486022949\n",
      "LOSS:5.833658695220947\n",
      "LOSS:3.8383567333221436\n"
     ]
    },
    {
     "name": "stderr",
     "output_type": "stream",
     "text": [
      "ROUND:[21600]: 100%|██████████████████████████████████████████████████████████████████| 44/44 [00:00<00:00, 241.08it/s]\n"
     ]
    },
    {
     "name": "stdout",
     "output_type": "stream",
     "text": [
      "LOSS:5.046343803405762\n",
      "LOSS:2.736504077911377\n",
      "LOSS:3.8963944911956787\n",
      "LOSS:3.791417360305786\n",
      "LOSS:6.884624481201172\n",
      "LOSS:2.943647861480713\n",
      "VAILD_LOSS:5.092477711764249\n",
      "--------------------\n",
      "TIMES:33**************************\n"
     ]
    },
    {
     "name": "stderr",
     "output_type": "stream",
     "text": [
      "ROUND:[108000]:   0%|                                                                           | 0/44 [00:00<?, ?it/s]"
     ]
    },
    {
     "name": "stdout",
     "output_type": "stream",
     "text": [
      "LOSS:7.44044828414917\n",
      "LOSS:4.053921222686768\n"
     ]
    },
    {
     "name": "stderr",
     "output_type": "stream",
     "text": [
      "ROUND:[108000]:   0%|                                                                           | 0/44 [00:00<?, ?it/s]"
     ]
    },
    {
     "name": "stdout",
     "output_type": "stream",
     "text": [
      "LOSS:4.520723819732666\n",
      "LOSS:4.705363750457764\n",
      "LOSS:4.600002288818359\n",
      "LOSS:4.593769550323486\n",
      "LOSS:5.535946369171143\n"
     ]
    },
    {
     "name": "stderr",
     "output_type": "stream",
     "text": [
      "ROUND:[108000]:   0%|                                                                           | 0/44 [00:00<?, ?it/s]"
     ]
    },
    {
     "name": "stdout",
     "output_type": "stream",
     "text": [
      "LOSS:3.753652334213257\n",
      "LOSS:7.661283493041992\n",
      "LOSS:6.89498233795166\n",
      "LOSS:4.380195617675781\n"
     ]
    },
    {
     "name": "stderr",
     "output_type": "stream",
     "text": [
      "ROUND:[108000]:   0%|                                                                           | 0/44 [00:00<?, ?it/s]"
     ]
    },
    {
     "name": "stdout",
     "output_type": "stream",
     "text": [
      "LOSS:5.835407733917236\n",
      "LOSS:4.1801300048828125\n",
      "LOSS:8.523358345031738\n",
      "LOSS:3.245894193649292\n"
     ]
    },
    {
     "name": "stderr",
     "output_type": "stream",
     "text": [
      "ROUND:[108000]:   0%|                                                                           | 0/44 [00:00<?, ?it/s]"
     ]
    },
    {
     "name": "stdout",
     "output_type": "stream",
     "text": [
      "LOSS:4.340826511383057\n",
      "LOSS:3.2765209674835205\n",
      "LOSS:4.891988277435303\n",
      "LOSS:4.020659923553467\n",
      "LOSS:3.47505784034729\n"
     ]
    },
    {
     "name": "stderr",
     "output_type": "stream",
     "text": [
      "ROUND:[108000]:   0%|                                                                           | 0/44 [00:00<?, ?it/s]"
     ]
    },
    {
     "name": "stdout",
     "output_type": "stream",
     "text": [
      "LOSS:4.319358825683594\n",
      "LOSS:5.021633148193359\n",
      "LOSS:5.816411018371582\n",
      "LOSS:2.8629586696624756\n"
     ]
    },
    {
     "name": "stderr",
     "output_type": "stream",
     "text": [
      "ROUND:[108000]:  66%|██████████████████████████████████████████▊                      | 29/44 [00:00<00:00, 285.07it/s]"
     ]
    },
    {
     "name": "stdout",
     "output_type": "stream",
     "text": [
      "LOSS:5.187305927276611\n",
      "LOSS:3.2314305305480957\n",
      "LOSS:4.026576042175293\n",
      "LOSS:3.693077325820923\n",
      "LOSS:4.778941631317139\n"
     ]
    },
    {
     "name": "stderr",
     "output_type": "stream",
     "text": [
      "ROUND:[108000]:  66%|██████████████████████████████████████████▊                      | 29/44 [00:00<00:00, 285.07it/s]"
     ]
    },
    {
     "name": "stdout",
     "output_type": "stream",
     "text": [
      "LOSS:4.58677339553833\n",
      "LOSS:3.5039446353912354\n",
      "LOSS:4.996894836425781\n",
      "LOSS:5.346287727355957\n"
     ]
    },
    {
     "name": "stderr",
     "output_type": "stream",
     "text": [
      "ROUND:[108000]:  66%|██████████████████████████████████████████▊                      | 29/44 [00:00<00:00, 285.07it/s]"
     ]
    },
    {
     "name": "stdout",
     "output_type": "stream",
     "text": [
      "LOSS:3.4919519424438477\n",
      "LOSS:3.866750955581665\n",
      "LOSS:4.358137130737305\n",
      "LOSS:5.81192684173584\n",
      "LOSS:3.826524496078491\n",
      "LOSS:5.037444114685059\n",
      "LOSS:2.7342886924743652\n",
      "LOSS:3.8880343437194824\n",
      "LOSS:3.7894725799560547\n"
     ]
    },
    {
     "name": "stderr",
     "output_type": "stream",
     "text": [
      "ROUND:[21600]: 100%|██████████████████████████████████████████████████████████████████| 44/44 [00:00<00:00, 281.00it/s]\n"
     ]
    },
    {
     "name": "stdout",
     "output_type": "stream",
     "text": [
      "LOSS:6.863926887512207\n",
      "LOSS:2.9313368797302246\n",
      "VAILD_LOSS:5.076694943688133\n",
      "--------------------\n",
      "TIMES:34**************************\n"
     ]
    },
    {
     "name": "stderr",
     "output_type": "stream",
     "text": [
      "ROUND:[108000]:   0%|                                                                           | 0/44 [00:00<?, ?it/s]"
     ]
    },
    {
     "name": "stdout",
     "output_type": "stream",
     "text": [
      "LOSS:7.419612407684326\n",
      "LOSS:4.043698310852051\n",
      "LOSS:4.506677627563477\n"
     ]
    },
    {
     "name": "stderr",
     "output_type": "stream",
     "text": [
      "ROUND:[108000]:   0%|                                                                           | 0/44 [00:00<?, ?it/s]"
     ]
    },
    {
     "name": "stdout",
     "output_type": "stream",
     "text": [
      "LOSS:4.697609901428223\n",
      "LOSS:4.591795921325684\n",
      "LOSS:4.583751201629639\n",
      "LOSS:5.518863201141357\n",
      "LOSS:3.7448203563690186\n"
     ]
    },
    {
     "name": "stderr",
     "output_type": "stream",
     "text": [
      "ROUND:[108000]:   0%|                                                                           | 0/44 [00:00<?, ?it/s]"
     ]
    },
    {
     "name": "stdout",
     "output_type": "stream",
     "text": [
      "LOSS:7.637960433959961\n",
      "LOSS:6.876801490783691\n",
      "LOSS:4.367743492126465\n",
      "LOSS:5.821238994598389\n",
      "LOSS:4.166666030883789\n"
     ]
    },
    {
     "name": "stderr",
     "output_type": "stream",
     "text": [
      "ROUND:[108000]:   0%|                                                                           | 0/44 [00:00<?, ?it/s]"
     ]
    },
    {
     "name": "stdout",
     "output_type": "stream",
     "text": [
      "LOSS:8.514609336853027\n",
      "LOSS:3.236110210418701\n",
      "LOSS:4.329300403594971\n",
      "LOSS:3.2675957679748535\n",
      "LOSS:4.878414630889893\n"
     ]
    },
    {
     "name": "stderr",
     "output_type": "stream",
     "text": [
      "ROUND:[108000]:   0%|                                                                           | 0/44 [00:00<?, ?it/s]"
     ]
    },
    {
     "name": "stdout",
     "output_type": "stream",
     "text": [
      "LOSS:4.0062079429626465\n",
      "LOSS:3.467702627182007\n",
      "LOSS:4.300273418426514\n",
      "LOSS:5.005130767822266\n"
     ]
    },
    {
     "name": "stderr",
     "output_type": "stream",
     "text": [
      "ROUND:[108000]:   0%|                                                                           | 0/44 [00:00<?, ?it/s]"
     ]
    },
    {
     "name": "stdout",
     "output_type": "stream",
     "text": [
      "LOSS:5.80096435546875\n",
      "LOSS:2.848741054534912\n",
      "LOSS:5.179294109344482\n",
      "LOSS:3.2198946475982666\n",
      "LOSS:4.0177435874938965\n"
     ]
    },
    {
     "name": "stderr",
     "output_type": "stream",
     "text": [
      "ROUND:[108000]:  68%|████████████████████████████████████████████▎                    | 30/44 [00:00<00:00, 297.74it/s]"
     ]
    },
    {
     "name": "stdout",
     "output_type": "stream",
     "text": [
      "LOSS:3.6841347217559814\n",
      "LOSS:4.773678302764893\n",
      "LOSS:4.5728302001953125\n",
      "LOSS:3.494067907333374\n",
      "LOSS:4.974093437194824\n"
     ]
    },
    {
     "name": "stderr",
     "output_type": "stream",
     "text": [
      "ROUND:[108000]:  68%|████████████████████████████████████████████▎                    | 30/44 [00:00<00:00, 297.74it/s]"
     ]
    },
    {
     "name": "stdout",
     "output_type": "stream",
     "text": [
      "LOSS:5.336520671844482\n",
      "LOSS:3.480473518371582\n",
      "LOSS:3.8555212020874023\n",
      "LOSS:4.346669673919678\n",
      "LOSS:5.789146423339844\n"
     ]
    },
    {
     "name": "stderr",
     "output_type": "stream",
     "text": [
      "ROUND:[108000]:  68%|████████████████████████████████████████████▎                    | 30/44 [00:00<00:00, 297.74it/s]"
     ]
    },
    {
     "name": "stdout",
     "output_type": "stream",
     "text": [
      "LOSS:3.8178999423980713\n",
      "LOSS:5.028035640716553\n",
      "LOSS:2.7325422763824463\n",
      "LOSS:3.879448652267456\n"
     ]
    },
    {
     "name": "stderr",
     "output_type": "stream",
     "text": [
      "ROUND:[21600]: 100%|██████████████████████████████████████████████████████████████████| 44/44 [00:00<00:00, 298.09it/s]\n"
     ]
    },
    {
     "name": "stdout",
     "output_type": "stream",
     "text": [
      "LOSS:3.788458824157715\n",
      "LOSS:6.843123435974121\n",
      "LOSS:2.9216115474700928\n",
      "VAILD_LOSS:5.06179328398271\n",
      "--------------------\n",
      "TIMES:35**************************\n"
     ]
    },
    {
     "name": "stderr",
     "output_type": "stream",
     "text": [
      "ROUND:[108000]:   0%|                                                                           | 0/44 [00:00<?, ?it/s]"
     ]
    },
    {
     "name": "stdout",
     "output_type": "stream",
     "text": [
      "LOSS:7.398996829986572\n",
      "LOSS:4.033316135406494\n",
      "LOSS:4.492934703826904\n",
      "LOSS:4.689873695373535\n"
     ]
    },
    {
     "name": "stderr",
     "output_type": "stream",
     "text": [
      "ROUND:[108000]:   0%|                                                                           | 0/44 [00:00<?, ?it/s]"
     ]
    },
    {
     "name": "stdout",
     "output_type": "stream",
     "text": [
      "LOSS:4.584988594055176\n",
      "LOSS:4.575497150421143\n",
      "LOSS:5.501238822937012\n",
      "LOSS:3.7376177310943604\n",
      "LOSS:7.615509033203125\n"
     ]
    },
    {
     "name": "stderr",
     "output_type": "stream",
     "text": [
      "ROUND:[108000]:   0%|                                                                           | 0/44 [00:00<?, ?it/s]"
     ]
    },
    {
     "name": "stdout",
     "output_type": "stream",
     "text": [
      "LOSS:6.855610370635986\n",
      "LOSS:4.3565778732299805\n",
      "LOSS:5.806311130523682\n",
      "LOSS:4.152688980102539\n"
     ]
    },
    {
     "name": "stderr",
     "output_type": "stream",
     "text": [
      "ROUND:[108000]:   0%|                                                                           | 0/44 [00:00<?, ?it/s]"
     ]
    },
    {
     "name": "stdout",
     "output_type": "stream",
     "text": [
      "LOSS:8.506346702575684\n",
      "LOSS:3.225210189819336\n",
      "LOSS:4.317479133605957\n",
      "LOSS:3.2568588256835938\n",
      "LOSS:4.862852573394775\n"
     ]
    },
    {
     "name": "stderr",
     "output_type": "stream",
     "text": [
      "ROUND:[108000]:   0%|                                                                           | 0/44 [00:00<?, ?it/s]"
     ]
    },
    {
     "name": "stdout",
     "output_type": "stream",
     "text": [
      "LOSS:3.991971969604492\n",
      "LOSS:3.4611637592315674\n",
      "LOSS:4.283269882202148\n",
      "LOSS:4.98893404006958\n",
      "LOSS:5.785667419433594\n"
     ]
    },
    {
     "name": "stderr",
     "output_type": "stream",
     "text": [
      "ROUND:[108000]:   0%|                                                                           | 0/44 [00:00<?, ?it/s]"
     ]
    },
    {
     "name": "stdout",
     "output_type": "stream",
     "text": [
      "LOSS:2.836775541305542\n",
      "LOSS:5.169769287109375\n",
      "LOSS:3.208972454071045\n",
      "LOSS:4.0086669921875\n",
      "LOSS:3.6759262084960938\n"
     ]
    },
    {
     "name": "stderr",
     "output_type": "stream",
     "text": [
      "ROUND:[108000]:  70%|█████████████████████████████████████████████▊                   | 31/44 [00:00<00:00, 309.25it/s]"
     ]
    },
    {
     "name": "stdout",
     "output_type": "stream",
     "text": [
      "LOSS:4.767840385437012\n",
      "LOSS:4.559321403503418\n",
      "LOSS:3.4842617511749268\n",
      "LOSS:4.951936721801758\n"
     ]
    },
    {
     "name": "stderr",
     "output_type": "stream",
     "text": [
      "ROUND:[108000]:  70%|█████████████████████████████████████████████▊                   | 31/44 [00:00<00:00, 309.25it/s]"
     ]
    },
    {
     "name": "stdout",
     "output_type": "stream",
     "text": [
      "LOSS:5.327314376831055\n",
      "LOSS:3.469390869140625\n",
      "LOSS:3.8448681831359863\n",
      "LOSS:4.335531711578369\n",
      "LOSS:5.765872478485107\n"
     ]
    },
    {
     "name": "stderr",
     "output_type": "stream",
     "text": [
      "ROUND:[108000]:  70%|█████████████████████████████████████████████▊                   | 31/44 [00:00<00:00, 309.25it/s]"
     ]
    },
    {
     "name": "stdout",
     "output_type": "stream",
     "text": [
      "LOSS:3.8100593090057373\n",
      "LOSS:5.018340110778809\n",
      "LOSS:2.730774402618408\n",
      "LOSS:3.87086820602417\n",
      "LOSS:3.787606954574585\n"
     ]
    },
    {
     "name": "stderr",
     "output_type": "stream",
     "text": [
      "ROUND:[21600]: 100%|██████████████████████████████████████████████████████████████████| 44/44 [00:00<00:00, 301.07it/s]\n"
     ]
    },
    {
     "name": "stdout",
     "output_type": "stream",
     "text": [
      "LOSS:6.823601722717285\n",
      "LOSS:2.913134813308716\n",
      "VAILD_LOSS:5.047762393951416\n",
      "--------------------\n",
      "TIMES:36**************************\n"
     ]
    },
    {
     "name": "stderr",
     "output_type": "stream",
     "text": [
      "ROUND:[108000]:   0%|                                                                           | 0/44 [00:00<?, ?it/s]"
     ]
    },
    {
     "name": "stdout",
     "output_type": "stream",
     "text": [
      "LOSS:7.378640174865723\n",
      "LOSS:4.022955417633057\n",
      "LOSS:4.4785943031311035\n"
     ]
    },
    {
     "name": "stderr",
     "output_type": "stream",
     "text": [
      "ROUND:[108000]:   0%|                                                                           | 0/44 [00:00<?, ?it/s]"
     ]
    },
    {
     "name": "stdout",
     "output_type": "stream",
     "text": [
      "LOSS:4.68228006362915\n",
      "LOSS:4.5759477615356445\n",
      "LOSS:4.565381050109863\n",
      "LOSS:5.484695911407471\n"
     ]
    },
    {
     "name": "stderr",
     "output_type": "stream",
     "text": [
      "ROUND:[108000]:   0%|                                                                           | 0/44 [00:00<?, ?it/s]"
     ]
    },
    {
     "name": "stdout",
     "output_type": "stream",
     "text": [
      "LOSS:3.7289845943450928\n",
      "LOSS:7.592560768127441\n",
      "LOSS:6.835233211517334\n",
      "LOSS:4.345283508300781\n",
      "LOSS:5.791855335235596\n"
     ]
    },
    {
     "name": "stderr",
     "output_type": "stream",
     "text": [
      "ROUND:[108000]:   0%|                                                                           | 0/44 [00:00<?, ?it/s]"
     ]
    },
    {
     "name": "stdout",
     "output_type": "stream",
     "text": [
      "LOSS:4.138984680175781\n",
      "LOSS:8.497552871704102\n",
      "LOSS:3.214506149291992\n",
      "LOSS:4.305716514587402\n"
     ]
    },
    {
     "name": "stderr",
     "output_type": "stream",
     "text": [
      "ROUND:[108000]:   0%|                                                                           | 0/44 [00:00<?, ?it/s]"
     ]
    },
    {
     "name": "stdout",
     "output_type": "stream",
     "text": [
      "LOSS:3.2458441257476807\n",
      "LOSS:4.847114562988281\n",
      "LOSS:3.9782590866088867\n",
      "LOSS:3.4552764892578125\n",
      "LOSS:4.267525672912598\n"
     ]
    },
    {
     "name": "stderr",
     "output_type": "stream",
     "text": [
      "ROUND:[108000]:   0%|                                                                           | 0/44 [00:00<?, ?it/s]"
     ]
    },
    {
     "name": "stdout",
     "output_type": "stream",
     "text": [
      "LOSS:4.972528457641602\n",
      "LOSS:5.770763874053955\n",
      "LOSS:2.8260772228240967\n",
      "LOSS:5.158750057220459\n"
     ]
    },
    {
     "name": "stderr",
     "output_type": "stream",
     "text": [
      "ROUND:[108000]:  66%|██████████████████████████████████████████▊                      | 29/44 [00:00<00:00, 287.07it/s]"
     ]
    },
    {
     "name": "stdout",
     "output_type": "stream",
     "text": [
      "LOSS:3.1986727714538574\n",
      "LOSS:3.999974012374878\n",
      "LOSS:3.668522834777832\n",
      "LOSS:4.762129306793213\n",
      "LOSS:4.547005653381348\n"
     ]
    },
    {
     "name": "stderr",
     "output_type": "stream",
     "text": [
      "ROUND:[108000]:  66%|██████████████████████████████████████████▊                      | 29/44 [00:00<00:00, 287.07it/s]"
     ]
    },
    {
     "name": "stdout",
     "output_type": "stream",
     "text": [
      "LOSS:3.4749979972839355\n",
      "LOSS:4.9308576583862305\n",
      "LOSS:5.317901611328125\n",
      "LOSS:3.4577479362487793\n",
      "LOSS:3.8340275287628174\n"
     ]
    },
    {
     "name": "stderr",
     "output_type": "stream",
     "text": [
      "ROUND:[108000]:  66%|██████████████████████████████████████████▊                      | 29/44 [00:00<00:00, 287.07it/s]"
     ]
    },
    {
     "name": "stdout",
     "output_type": "stream",
     "text": [
      "LOSS:4.324397087097168\n",
      "LOSS:5.743505954742432\n",
      "LOSS:3.800934314727783\n",
      "LOSS:5.009375095367432\n"
     ]
    },
    {
     "name": "stderr",
     "output_type": "stream",
     "text": [
      "ROUND:[21600]: 100%|██████████████████████████████████████████████████████████████████| 44/44 [00:00<00:00, 287.80it/s]"
     ]
    },
    {
     "name": "stdout",
     "output_type": "stream",
     "text": [
      "LOSS:2.7280678749084473\n",
      "LOSS:3.8624894618988037\n",
      "LOSS:3.7864959239959717\n",
      "LOSS:6.80427360534668\n",
      "LOSS:2.904891014099121\n"
     ]
    },
    {
     "name": "stderr",
     "output_type": "stream",
     "text": [
      "\n"
     ]
    },
    {
     "name": "stdout",
     "output_type": "stream",
     "text": [
      "VAILD_LOSS:5.033600330352783\n",
      "--------------------\n",
      "TIMES:37**************************\n"
     ]
    },
    {
     "name": "stderr",
     "output_type": "stream",
     "text": [
      "ROUND:[108000]:   0%|                                                                           | 0/44 [00:00<?, ?it/s]"
     ]
    },
    {
     "name": "stdout",
     "output_type": "stream",
     "text": [
      "LOSS:7.358132362365723\n"
     ]
    },
    {
     "name": "stderr",
     "output_type": "stream",
     "text": [
      "ROUND:[108000]:   0%|                                                                           | 0/44 [00:00<?, ?it/s]"
     ]
    },
    {
     "name": "stdout",
     "output_type": "stream",
     "text": [
      "LOSS:4.012020111083984\n",
      "LOSS:4.464535236358643\n",
      "LOSS:4.674028396606445\n",
      "LOSS:4.567561626434326\n",
      "LOSS:4.556482315063477\n"
     ]
    },
    {
     "name": "stderr",
     "output_type": "stream",
     "text": [
      "ROUND:[108000]:   0%|                                                                           | 0/44 [00:00<?, ?it/s]"
     ]
    },
    {
     "name": "stdout",
     "output_type": "stream",
     "text": [
      "LOSS:5.469051837921143\n",
      "LOSS:3.7224531173706055\n",
      "LOSS:7.569595813751221\n",
      "LOSS:6.815890789031982\n",
      "LOSS:4.3345465660095215\n"
     ]
    },
    {
     "name": "stderr",
     "output_type": "stream",
     "text": [
      "ROUND:[108000]:   0%|                                                                           | 0/44 [00:00<?, ?it/s]"
     ]
    },
    {
     "name": "stdout",
     "output_type": "stream",
     "text": [
      "LOSS:5.777892112731934\n",
      "LOSS:4.125918388366699\n",
      "LOSS:8.488553047180176\n",
      "LOSS:3.2046170234680176\n"
     ]
    },
    {
     "name": "stderr",
     "output_type": "stream",
     "text": [
      "ROUND:[108000]:   0%|                                                                           | 0/44 [00:00<?, ?it/s]"
     ]
    },
    {
     "name": "stdout",
     "output_type": "stream",
     "text": [
      "LOSS:4.294337749481201\n",
      "LOSS:3.2368364334106445\n",
      "LOSS:4.833131790161133\n",
      "LOSS:3.9644131660461426\n"
     ]
    },
    {
     "name": "stderr",
     "output_type": "stream",
     "text": [
      "ROUND:[108000]:   0%|                                                                           | 0/44 [00:00<?, ?it/s]"
     ]
    },
    {
     "name": "stdout",
     "output_type": "stream",
     "text": [
      "LOSS:3.4494035243988037\n",
      "LOSS:4.25138521194458\n",
      "LOSS:4.957207202911377\n",
      "LOSS:5.757015228271484\n",
      "LOSS:2.8149805068969727\n"
     ]
    },
    {
     "name": "stderr",
     "output_type": "stream",
     "text": [
      "ROUND:[108000]:   0%|                                                                           | 0/44 [00:00<?, ?it/s]"
     ]
    },
    {
     "name": "stdout",
     "output_type": "stream",
     "text": [
      "LOSS:5.149189472198486\n",
      "LOSS:3.1886487007141113\n",
      "LOSS:3.9905266761779785\n",
      "LOSS:3.659996509552002\n",
      "LOSS:4.755831718444824\n"
     ]
    },
    {
     "name": "stderr",
     "output_type": "stream",
     "text": [
      "ROUND:[108000]:  68%|████████████████████████████████████████████▎                    | 30/44 [00:00<00:00, 289.23it/s]"
     ]
    },
    {
     "name": "stdout",
     "output_type": "stream",
     "text": [
      "LOSS:4.533700466156006\n",
      "LOSS:3.4654381275177\n",
      "LOSS:4.910017490386963\n",
      "LOSS:5.30814790725708\n"
     ]
    },
    {
     "name": "stderr",
     "output_type": "stream",
     "text": [
      "ROUND:[108000]:  68%|████████████████████████████████████████████▎                    | 30/44 [00:00<00:00, 289.23it/s]"
     ]
    },
    {
     "name": "stdout",
     "output_type": "stream",
     "text": [
      "LOSS:3.4470977783203125\n",
      "LOSS:3.8241231441497803\n",
      "LOSS:4.313113212585449\n",
      "LOSS:5.721429347991943\n",
      "LOSS:3.7926008701324463\n"
     ]
    },
    {
     "name": "stderr",
     "output_type": "stream",
     "text": [
      "ROUND:[21600]:  68%|█████████████████████████████████████████████                     | 30/44 [00:00<00:00, 289.23it/s]"
     ]
    },
    {
     "name": "stdout",
     "output_type": "stream",
     "text": [
      "LOSS:5.000026226043701\n",
      "LOSS:2.7252602577209473\n",
      "LOSS:3.8543407917022705\n",
      "LOSS:3.7856950759887695\n",
      "LOSS:6.784901142120361\n"
     ]
    },
    {
     "name": "stderr",
     "output_type": "stream",
     "text": [
      "ROUND:[21600]: 100%|██████████████████████████████████████████████████████████████████| 44/44 [00:00<00:00, 296.08it/s]\n"
     ]
    },
    {
     "name": "stdout",
     "output_type": "stream",
     "text": [
      "LOSS:2.8968496322631836\n",
      "VAILD_LOSS:5.019809831272472\n",
      "--------------------\n",
      "TIMES:38**************************\n"
     ]
    },
    {
     "name": "stderr",
     "output_type": "stream",
     "text": [
      "ROUND:[108000]:   0%|                                                                           | 0/44 [00:00<?, ?it/s]"
     ]
    },
    {
     "name": "stdout",
     "output_type": "stream",
     "text": [
      "LOSS:7.33898401260376\n",
      "LOSS:4.001581192016602\n",
      "LOSS:4.4508185386657715\n",
      "LOSS:4.666065692901611\n",
      "LOSS:4.558194637298584\n"
     ]
    },
    {
     "name": "stderr",
     "output_type": "stream",
     "text": [
      "ROUND:[108000]:   0%|                                                                           | 0/44 [00:00<?, ?it/s]"
     ]
    },
    {
     "name": "stdout",
     "output_type": "stream",
     "text": [
      "LOSS:4.546462535858154\n",
      "LOSS:5.453805446624756\n",
      "LOSS:3.714719533920288\n",
      "LOSS:7.546411991119385\n"
     ]
    },
    {
     "name": "stderr",
     "output_type": "stream",
     "text": [
      "ROUND:[108000]:   0%|                                                                           | 0/44 [00:00<?, ?it/s]"
     ]
    },
    {
     "name": "stdout",
     "output_type": "stream",
     "text": [
      "LOSS:6.797545433044434\n",
      "LOSS:4.32345724105835\n",
      "LOSS:5.765041828155518\n",
      "LOSS:4.113043308258057\n",
      "LOSS:8.479084014892578\n"
     ]
    },
    {
     "name": "stderr",
     "output_type": "stream",
     "text": [
      "ROUND:[108000]:   0%|                                                                           | 0/44 [00:00<?, ?it/s]"
     ]
    },
    {
     "name": "stdout",
     "output_type": "stream",
     "text": [
      "LOSS:3.1951332092285156\n",
      "LOSS:4.283170700073242\n",
      "LOSS:3.2285921573638916\n",
      "LOSS:4.819545269012451\n"
     ]
    },
    {
     "name": "stderr",
     "output_type": "stream",
     "text": [
      "ROUND:[108000]:   0%|                                                                           | 0/44 [00:00<?, ?it/s]"
     ]
    },
    {
     "name": "stdout",
     "output_type": "stream",
     "text": [
      "LOSS:3.9507884979248047\n",
      "LOSS:3.443859577178955\n",
      "LOSS:4.235801696777344\n",
      "LOSS:4.942198753356934\n",
      "LOSS:5.743325233459473\n"
     ]
    },
    {
     "name": "stderr",
     "output_type": "stream",
     "text": [
      "ROUND:[108000]:   0%|                                                                           | 0/44 [00:00<?, ?it/s]"
     ]
    },
    {
     "name": "stdout",
     "output_type": "stream",
     "text": [
      "LOSS:2.80492901802063\n",
      "LOSS:5.138938903808594\n",
      "LOSS:3.1789965629577637\n",
      "LOSS:3.9812469482421875\n"
     ]
    },
    {
     "name": "stderr",
     "output_type": "stream",
     "text": [
      "ROUND:[108000]:  66%|██████████████████████████████████████████▊                      | 29/44 [00:00<00:00, 284.98it/s]"
     ]
    },
    {
     "name": "stdout",
     "output_type": "stream",
     "text": [
      "LOSS:3.6518218517303467\n",
      "LOSS:4.748969554901123\n",
      "LOSS:4.520442008972168\n",
      "LOSS:3.4558944702148438\n"
     ]
    },
    {
     "name": "stderr",
     "output_type": "stream",
     "text": [
      "ROUND:[108000]:  66%|██████████████████████████████████████████▊                      | 29/44 [00:00<00:00, 284.98it/s]"
     ]
    },
    {
     "name": "stdout",
     "output_type": "stream",
     "text": [
      "LOSS:4.8900628089904785\n",
      "LOSS:5.298332214355469\n",
      "LOSS:3.438295841217041\n",
      "LOSS:3.8168864250183105\n",
      "LOSS:4.300797462463379\n"
     ]
    },
    {
     "name": "stderr",
     "output_type": "stream",
     "text": [
      "ROUND:[108000]:  66%|██████████████████████████████████████████▊                      | 29/44 [00:00<00:00, 284.98it/s]"
     ]
    },
    {
     "name": "stdout",
     "output_type": "stream",
     "text": [
      "LOSS:5.699656963348389\n",
      "LOSS:3.7870261669158936\n",
      "LOSS:4.989381790161133\n",
      "LOSS:2.722461223602295\n"
     ]
    },
    {
     "name": "stderr",
     "output_type": "stream",
     "text": [
      "ROUND:[21600]: 100%|██████████████████████████████████████████████████████████████████| 44/44 [00:00<00:00, 284.86it/s]\n"
     ]
    },
    {
     "name": "stdout",
     "output_type": "stream",
     "text": [
      "LOSS:3.8469533920288086\n",
      "LOSS:3.7873218059539795\n",
      "LOSS:6.766036033630371\n",
      "LOSS:2.8926124572753906\n",
      "VAILD_LOSS:5.007271896709096\n",
      "--------------------\n",
      "TIMES:39**************************\n"
     ]
    },
    {
     "name": "stderr",
     "output_type": "stream",
     "text": [
      "ROUND:[108000]:   0%|                                                                           | 0/44 [00:00<?, ?it/s]"
     ]
    },
    {
     "name": "stdout",
     "output_type": "stream",
     "text": [
      "LOSS:7.31826639175415\n",
      "LOSS:3.9898760318756104\n"
     ]
    },
    {
     "name": "stderr",
     "output_type": "stream",
     "text": [
      "ROUND:[108000]:   0%|                                                                           | 0/44 [00:00<?, ?it/s]"
     ]
    },
    {
     "name": "stdout",
     "output_type": "stream",
     "text": [
      "LOSS:4.435420513153076\n",
      "LOSS:4.6570353507995605\n",
      "LOSS:4.546424865722656\n",
      "LOSS:4.534672260284424\n"
     ]
    },
    {
     "name": "stderr",
     "output_type": "stream",
     "text": [
      "ROUND:[108000]:   0%|                                                                           | 0/44 [00:00<?, ?it/s]"
     ]
    },
    {
     "name": "stdout",
     "output_type": "stream",
     "text": [
      "LOSS:5.439639568328857\n",
      "LOSS:3.7052721977233887\n",
      "LOSS:7.523034572601318\n",
      "LOSS:6.780333042144775\n",
      "LOSS:4.312234401702881\n"
     ]
    },
    {
     "name": "stderr",
     "output_type": "stream",
     "text": [
      "ROUND:[108000]:   0%|                                                                           | 0/44 [00:00<?, ?it/s]"
     ]
    },
    {
     "name": "stdout",
     "output_type": "stream",
     "text": [
      "LOSS:5.754238128662109\n",
      "LOSS:4.1007795333862305\n",
      "LOSS:8.469511985778809\n",
      "LOSS:3.1868693828582764\n"
     ]
    },
    {
     "name": "stderr",
     "output_type": "stream",
     "text": [
      "ROUND:[108000]:   0%|                                                                           | 0/44 [00:00<?, ?it/s]"
     ]
    },
    {
     "name": "stdout",
     "output_type": "stream",
     "text": [
      "LOSS:4.272007465362549\n",
      "LOSS:3.223954916000366\n",
      "LOSS:4.808642387390137\n",
      "LOSS:3.9362738132476807\n",
      "LOSS:3.4365837574005127\n"
     ]
    },
    {
     "name": "stderr",
     "output_type": "stream",
     "text": [
      "ROUND:[108000]:   0%|                                                                           | 0/44 [00:00<?, ?it/s]"
     ]
    },
    {
     "name": "stdout",
     "output_type": "stream",
     "text": [
      "LOSS:4.217865467071533\n",
      "LOSS:4.928526878356934\n",
      "LOSS:5.730569839477539\n",
      "LOSS:2.7925961017608643\n"
     ]
    },
    {
     "name": "stderr",
     "output_type": "stream",
     "text": [
      "ROUND:[108000]:  66%|██████████████████████████████████████████▊                      | 29/44 [00:00<00:00, 286.53it/s]"
     ]
    },
    {
     "name": "stdout",
     "output_type": "stream",
     "text": [
      "LOSS:5.132586479187012\n",
      "LOSS:3.1683125495910645\n",
      "LOSS:3.9711108207702637\n",
      "LOSS:3.641702890396118\n",
      "LOSS:4.7375335693359375\n"
     ]
    },
    {
     "name": "stderr",
     "output_type": "stream",
     "text": [
      "ROUND:[108000]:  66%|██████████████████████████████████████████▊                      | 29/44 [00:00<00:00, 286.53it/s]"
     ]
    },
    {
     "name": "stdout",
     "output_type": "stream",
     "text": [
      "LOSS:4.505643367767334\n",
      "LOSS:3.446150064468384\n",
      "LOSS:4.86993408203125\n",
      "LOSS:5.289181232452393\n",
      "LOSS:3.428339719772339\n"
     ]
    },
    {
     "name": "stderr",
     "output_type": "stream",
     "text": [
      "ROUND:[108000]:  66%|██████████████████████████████████████████▊                      | 29/44 [00:00<00:00, 286.53it/s]"
     ]
    },
    {
     "name": "stdout",
     "output_type": "stream",
     "text": [
      "LOSS:3.808443546295166\n",
      "LOSS:4.289270877838135\n",
      "LOSS:5.678313255310059\n",
      "LOSS:3.7795379161834717\n"
     ]
    },
    {
     "name": "stderr",
     "output_type": "stream",
     "text": [
      "ROUND:[108000]:  66%|██████████████████████████████████████████▊                      | 29/44 [00:00<00:00, 286.53it/s]"
     ]
    },
    {
     "name": "stdout",
     "output_type": "stream",
     "text": [
      "LOSS:4.9798736572265625\n",
      "LOSS:2.7197635173797607\n",
      "LOSS:3.838691234588623\n",
      "LOSS:3.7859389781951904\n"
     ]
    },
    {
     "name": "stderr",
     "output_type": "stream",
     "text": [
      "ROUND:[21600]: 100%|██████████████████████████████████████████████████████████████████| 44/44 [00:00<00:00, 281.05it/s]\n"
     ]
    },
    {
     "name": "stdout",
     "output_type": "stream",
     "text": [
      "LOSS:6.746949195861816\n",
      "LOSS:2.8847689628601074\n",
      "VAILD_LOSS:4.9936322732405225\n",
      "--------------------\n",
      "TIMES:40**************************\n"
     ]
    },
    {
     "name": "stderr",
     "output_type": "stream",
     "text": [
      "ROUND:[108000]:   0%|                                                                           | 0/44 [00:00<?, ?it/s]"
     ]
    },
    {
     "name": "stdout",
     "output_type": "stream",
     "text": [
      "LOSS:7.2991838455200195\n",
      "LOSS:3.9799373149871826\n",
      "LOSS:4.422080039978027\n"
     ]
    },
    {
     "name": "stderr",
     "output_type": "stream",
     "text": [
      "ROUND:[108000]:   0%|                                                                           | 0/44 [00:00<?, ?it/s]"
     ]
    },
    {
     "name": "stdout",
     "output_type": "stream",
     "text": [
      "LOSS:4.649181365966797\n",
      "LOSS:4.5377278327941895\n",
      "LOSS:4.5254621505737305\n",
      "LOSS:5.424105167388916\n",
      "LOSS:3.697915554046631\n"
     ]
    },
    {
     "name": "stderr",
     "output_type": "stream",
     "text": [
      "ROUND:[108000]:   0%|                                                                           | 0/44 [00:00<?, ?it/s]"
     ]
    },
    {
     "name": "stdout",
     "output_type": "stream",
     "text": [
      "LOSS:7.5007805824279785\n",
      "LOSS:6.759377479553223\n",
      "LOSS:4.301872253417969\n",
      "LOSS:5.740777492523193\n"
     ]
    },
    {
     "name": "stderr",
     "output_type": "stream",
     "text": [
      "ROUND:[108000]:   0%|                                                                           | 0/44 [00:00<?, ?it/s]"
     ]
    },
    {
     "name": "stdout",
     "output_type": "stream",
     "text": [
      "LOSS:4.087696552276611\n",
      "LOSS:8.460234642028809\n",
      "LOSS:3.176926851272583\n",
      "LOSS:4.260768413543701\n",
      "LOSS:3.21541166305542\n"
     ]
    },
    {
     "name": "stderr",
     "output_type": "stream",
     "text": [
      "ROUND:[108000]:   0%|                                                                           | 0/44 [00:00<?, ?it/s]"
     ]
    },
    {
     "name": "stdout",
     "output_type": "stream",
     "text": [
      "LOSS:4.7948150634765625\n",
      "LOSS:3.922748327255249\n",
      "LOSS:3.430886745452881\n",
      "LOSS:4.2024993896484375\n"
     ]
    },
    {
     "name": "stderr",
     "output_type": "stream",
     "text": [
      "ROUND:[108000]:   0%|                                                                           | 0/44 [00:00<?, ?it/s]"
     ]
    },
    {
     "name": "stdout",
     "output_type": "stream",
     "text": [
      "LOSS:4.913919448852539\n",
      "LOSS:5.71633768081665\n",
      "LOSS:2.7831928730010986\n",
      "LOSS:5.1235809326171875\n",
      "LOSS:3.158231019973755\n"
     ]
    },
    {
     "name": "stderr",
     "output_type": "stream",
     "text": [
      "ROUND:[108000]:  66%|██████████████████████████████████████████▊                      | 29/44 [00:00<00:00, 287.90it/s]"
     ]
    },
    {
     "name": "stdout",
     "output_type": "stream",
     "text": [
      "LOSS:3.961879253387451\n",
      "LOSS:3.6345653533935547\n",
      "LOSS:4.7274017333984375\n",
      "LOSS:4.493319034576416\n"
     ]
    },
    {
     "name": "stderr",
     "output_type": "stream",
     "text": [
      "ROUND:[108000]:  66%|██████████████████████████████████████████▊                      | 29/44 [00:00<00:00, 287.90it/s]"
     ]
    },
    {
     "name": "stdout",
     "output_type": "stream",
     "text": [
      "LOSS:3.437061071395874\n",
      "LOSS:4.850996494293213\n",
      "LOSS:5.28115177154541\n",
      "LOSS:3.4161458015441895\n",
      "LOSS:3.7980618476867676\n"
     ]
    },
    {
     "name": "stderr",
     "output_type": "stream",
     "text": [
      "ROUND:[108000]:  66%|██████████████████████████████████████████▊                      | 29/44 [00:00<00:00, 287.90it/s]"
     ]
    },
    {
     "name": "stdout",
     "output_type": "stream",
     "text": [
      "LOSS:4.278645992279053\n",
      "LOSS:5.65694522857666\n",
      "LOSS:3.769869804382324\n",
      "LOSS:4.971532344818115\n",
      "LOSS:2.716806650161743\n"
     ]
    },
    {
     "name": "stderr",
     "output_type": "stream",
     "text": [
      "ROUND:[21600]: 100%|██████████████████████████████████████████████████████████████████| 44/44 [00:00<00:00, 290.25it/s]\n"
     ]
    },
    {
     "name": "stdout",
     "output_type": "stream",
     "text": [
      "LOSS:3.829951286315918\n",
      "LOSS:3.783320426940918\n",
      "LOSS:6.727780818939209\n",
      "LOSS:2.8760457038879395\n",
      "VAILD_LOSS:4.97989990494468\n",
      "--------------------\n",
      "TIMES:41**************************\n"
     ]
    },
    {
     "name": "stderr",
     "output_type": "stream",
     "text": [
      "ROUND:[108000]:   0%|                                                                           | 0/44 [00:00<?, ?it/s]"
     ]
    },
    {
     "name": "stdout",
     "output_type": "stream",
     "text": [
      "LOSS:7.280503273010254\n",
      "LOSS:3.970452070236206\n"
     ]
    },
    {
     "name": "stderr",
     "output_type": "stream",
     "text": [
      "ROUND:[108000]:   0%|                                                                           | 0/44 [00:00<?, ?it/s]"
     ]
    },
    {
     "name": "stdout",
     "output_type": "stream",
     "text": [
      "LOSS:4.40938663482666\n",
      "LOSS:4.640777587890625\n",
      "LOSS:4.529116630554199\n",
      "LOSS:4.515903949737549\n"
     ]
    },
    {
     "name": "stderr",
     "output_type": "stream",
     "text": [
      "ROUND:[108000]:   0%|                                                                           | 0/44 [00:00<?, ?it/s]"
     ]
    },
    {
     "name": "stdout",
     "output_type": "stream",
     "text": [
      "LOSS:5.409104347229004\n",
      "LOSS:3.68979549407959\n",
      "LOSS:7.478322505950928\n",
      "LOSS:6.739559650421143\n",
      "LOSS:4.291267395019531\n"
     ]
    },
    {
     "name": "stderr",
     "output_type": "stream",
     "text": [
      "ROUND:[108000]:   0%|                                                                           | 0/44 [00:00<?, ?it/s]"
     ]
    },
    {
     "name": "stdout",
     "output_type": "stream",
     "text": [
      "LOSS:5.728582859039307\n",
      "LOSS:4.075023174285889\n",
      "LOSS:8.450512886047363\n",
      "LOSS:3.167679786682129\n"
     ]
    },
    {
     "name": "stderr",
     "output_type": "stream",
     "text": [
      "ROUND:[108000]:   0%|                                                                           | 0/44 [00:00<?, ?it/s]"
     ]
    },
    {
     "name": "stdout",
     "output_type": "stream",
     "text": [
      "LOSS:4.249687671661377\n",
      "LOSS:3.2088944911956787\n",
      "LOSS:4.782408237457275\n",
      "LOSS:3.9090983867645264\n",
      "LOSS:3.4243810176849365\n"
     ]
    },
    {
     "name": "stderr",
     "output_type": "stream",
     "text": [
      "ROUND:[108000]:   0%|                                                                           | 0/44 [00:00<?, ?it/s]"
     ]
    },
    {
     "name": "stdout",
     "output_type": "stream",
     "text": [
      "LOSS:4.1865234375\n",
      "LOSS:4.900014400482178\n",
      "LOSS:5.702625751495361\n",
      "LOSS:2.773527145385742\n"
     ]
    },
    {
     "name": "stderr",
     "output_type": "stream",
     "text": [
      "ROUND:[108000]:   0%|                                                                           | 0/44 [00:00<?, ?it/s]"
     ]
    },
    {
     "name": "stdout",
     "output_type": "stream",
     "text": [
      "LOSS:5.116275310516357\n",
      "LOSS:3.148092031478882\n",
      "LOSS:3.952018976211548\n",
      "LOSS:3.626065492630005\n",
      "LOSS:4.7164764404296875\n"
     ]
    },
    {
     "name": "stderr",
     "output_type": "stream",
     "text": [
      "ROUND:[108000]:  68%|████████████████████████████████████████████▎                    | 30/44 [00:00<00:00, 292.12it/s]"
     ]
    },
    {
     "name": "stdout",
     "output_type": "stream",
     "text": [
      "LOSS:4.479677200317383\n",
      "LOSS:3.427621603012085\n",
      "LOSS:4.831797122955322\n",
      "LOSS:5.272500991821289\n"
     ]
    },
    {
     "name": "stderr",
     "output_type": "stream",
     "text": [
      "ROUND:[108000]:  68%|████████████████████████████████████████████▎                    | 30/44 [00:00<00:00, 292.12it/s]"
     ]
    },
    {
     "name": "stdout",
     "output_type": "stream",
     "text": [
      "LOSS:3.405463457107544\n",
      "LOSS:3.7893028259277344\n",
      "LOSS:4.267475128173828\n",
      "LOSS:5.635705471038818\n",
      "LOSS:3.7617313861846924\n"
     ]
    },
    {
     "name": "stderr",
     "output_type": "stream",
     "text": [
      "ROUND:[21600]:  68%|█████████████████████████████████████████████                     | 30/44 [00:00<00:00, 292.12it/s]"
     ]
    },
    {
     "name": "stdout",
     "output_type": "stream",
     "text": [
      "LOSS:4.962245941162109\n",
      "LOSS:2.714122772216797\n",
      "LOSS:3.821756601333618\n",
      "LOSS:3.782388925552368\n",
      "LOSS:6.708156585693359\n"
     ]
    },
    {
     "name": "stderr",
     "output_type": "stream",
     "text": [
      "ROUND:[21600]: 100%|██████████████████████████████████████████████████████████████████| 44/44 [00:00<00:00, 294.17it/s]\n"
     ]
    },
    {
     "name": "stdout",
     "output_type": "stream",
     "text": [
      "LOSS:2.869001626968384\n",
      "VAILD_LOSS:4.966887018897316\n",
      "--------------------\n",
      "TIMES:42**************************\n"
     ]
    },
    {
     "name": "stderr",
     "output_type": "stream",
     "text": [
      "ROUND:[108000]:   0%|                                                                           | 0/44 [00:00<?, ?it/s]"
     ]
    },
    {
     "name": "stdout",
     "output_type": "stream",
     "text": [
      "LOSS:7.261685848236084\n",
      "LOSS:3.9608657360076904\n",
      "LOSS:4.395951271057129\n",
      "LOSS:4.632293701171875\n",
      "LOSS:4.51888370513916\n"
     ]
    },
    {
     "name": "stderr",
     "output_type": "stream",
     "text": [
      "ROUND:[108000]:   0%|                                                                           | 0/44 [00:00<?, ?it/s]"
     ]
    },
    {
     "name": "stdout",
     "output_type": "stream",
     "text": [
      "LOSS:4.505212783813477\n",
      "LOSS:5.394294261932373\n",
      "LOSS:3.680828094482422\n",
      "LOSS:7.455747127532959\n"
     ]
    },
    {
     "name": "stderr",
     "output_type": "stream",
     "text": [
      "ROUND:[108000]:   0%|                                                                           | 0/44 [00:00<?, ?it/s]"
     ]
    },
    {
     "name": "stdout",
     "output_type": "stream",
     "text": [
      "LOSS:6.719507694244385\n",
      "LOSS:4.280393123626709\n",
      "LOSS:5.716210842132568\n",
      "LOSS:4.062126159667969\n",
      "LOSS:8.440730094909668\n"
     ]
    },
    {
     "name": "stderr",
     "output_type": "stream",
     "text": [
      "ROUND:[108000]:   0%|                                                                           | 0/44 [00:00<?, ?it/s]"
     ]
    },
    {
     "name": "stdout",
     "output_type": "stream",
     "text": [
      "LOSS:3.1583824157714844\n",
      "LOSS:4.238408088684082\n",
      "LOSS:3.201336622238159\n",
      "LOSS:4.76939582824707\n"
     ]
    },
    {
     "name": "stderr",
     "output_type": "stream",
     "text": [
      "ROUND:[108000]:   0%|                                                                           | 0/44 [00:00<?, ?it/s]"
     ]
    },
    {
     "name": "stdout",
     "output_type": "stream",
     "text": [
      "LOSS:3.8960940837860107\n",
      "LOSS:3.4182064533233643\n",
      "LOSS:4.171291351318359\n",
      "LOSS:4.885896682739258\n",
      "LOSS:5.688311576843262\n"
     ]
    },
    {
     "name": "stderr",
     "output_type": "stream",
     "text": [
      "ROUND:[108000]:   0%|                                                                           | 0/44 [00:00<?, ?it/s]"
     ]
    },
    {
     "name": "stdout",
     "output_type": "stream",
     "text": [
      "LOSS:2.765038013458252\n",
      "LOSS:5.108330726623535\n",
      "LOSS:3.138251304626465\n",
      "LOSS:3.942556142807007\n"
     ]
    },
    {
     "name": "stderr",
     "output_type": "stream",
     "text": [
      "ROUND:[108000]:  66%|██████████████████████████████████████████▊                      | 29/44 [00:00<00:00, 279.59it/s]"
     ]
    },
    {
     "name": "stdout",
     "output_type": "stream",
     "text": [
      "LOSS:3.6194612979888916\n",
      "LOSS:4.706227779388428\n",
      "LOSS:4.467513561248779\n"
     ]
    },
    {
     "name": "stderr",
     "output_type": "stream",
     "text": [
      "ROUND:[108000]:  66%|██████████████████████████████████████████▊                      | 29/44 [00:00<00:00, 279.59it/s]"
     ]
    },
    {
     "name": "stdout",
     "output_type": "stream",
     "text": [
      "LOSS:3.4183192253112793\n",
      "LOSS:4.812896728515625\n",
      "LOSS:5.264718532562256\n",
      "LOSS:3.393372058868408\n"
     ]
    },
    {
     "name": "stderr",
     "output_type": "stream",
     "text": [
      "ROUND:[108000]:  66%|██████████████████████████████████████████▊                      | 29/44 [00:00<00:00, 279.59it/s]"
     ]
    },
    {
     "name": "stdout",
     "output_type": "stream",
     "text": [
      "LOSS:3.7792880535125732\n",
      "LOSS:4.256608486175537\n",
      "LOSS:5.614476680755615\n",
      "LOSS:3.75248646736145\n"
     ]
    },
    {
     "name": "stderr",
     "output_type": "stream",
     "text": [
      "ROUND:[21600]:  66%|███████████████████████████████████████████▌                      | 29/44 [00:00<00:00, 279.59it/s]"
     ]
    },
    {
     "name": "stdout",
     "output_type": "stream",
     "text": [
      "LOSS:4.953473091125488\n",
      "LOSS:2.7114715576171875\n",
      "LOSS:3.8133766651153564\n",
      "LOSS:3.7804205417633057\n",
      "LOSS:6.687866687774658\n"
     ]
    },
    {
     "name": "stderr",
     "output_type": "stream",
     "text": [
      "ROUND:[21600]: 100%|██████████████████████████████████████████████████████████████████| 44/44 [00:00<00:00, 272.33it/s]\n"
     ]
    },
    {
     "name": "stdout",
     "output_type": "stream",
     "text": [
      "LOSS:2.8607280254364014\n",
      "VAILD_LOSS:4.95349779996005\n",
      "--------------------\n",
      "TIMES:43**************************\n"
     ]
    },
    {
     "name": "stderr",
     "output_type": "stream",
     "text": [
      "ROUND:[108000]:   0%|                                                                           | 0/44 [00:00<?, ?it/s]"
     ]
    },
    {
     "name": "stdout",
     "output_type": "stream",
     "text": [
      "LOSS:7.243725299835205\n",
      "LOSS:3.9523870944976807\n",
      "LOSS:4.383976936340332\n",
      "LOSS:4.6241865158081055\n"
     ]
    },
    {
     "name": "stderr",
     "output_type": "stream",
     "text": [
      "ROUND:[108000]:   0%|                                                                           | 0/44 [00:00<?, ?it/s]"
     ]
    },
    {
     "name": "stdout",
     "output_type": "stream",
     "text": [
      "LOSS:4.510608196258545\n",
      "LOSS:4.496025085449219\n",
      "LOSS:5.378969669342041\n",
      "LOSS:3.6732921600341797\n",
      "LOSS:7.434106349945068\n"
     ]
    },
    {
     "name": "stderr",
     "output_type": "stream",
     "text": [
      "ROUND:[108000]:   0%|                                                                           | 0/44 [00:00<?, ?it/s]"
     ]
    },
    {
     "name": "stdout",
     "output_type": "stream",
     "text": [
      "LOSS:6.698915958404541\n",
      "LOSS:4.270070552825928\n",
      "LOSS:5.70269250869751\n",
      "LOSS:4.048975944519043\n",
      "LOSS:8.430665969848633\n"
     ]
    },
    {
     "name": "stderr",
     "output_type": "stream",
     "text": [
      "ROUND:[108000]:   0%|                                                                           | 0/44 [00:00<?, ?it/s]"
     ]
    },
    {
     "name": "stdout",
     "output_type": "stream",
     "text": [
      "LOSS:3.1486032009124756\n",
      "LOSS:4.227251052856445\n",
      "LOSS:3.1932339668273926\n",
      "LOSS:4.756173133850098\n",
      "LOSS:3.883469820022583\n"
     ]
    },
    {
     "name": "stderr",
     "output_type": "stream",
     "text": [
      "ROUND:[108000]:   0%|                                                                           | 0/44 [00:00<?, ?it/s]"
     ]
    },
    {
     "name": "stdout",
     "output_type": "stream",
     "text": [
      "LOSS:3.4121665954589844\n",
      "LOSS:4.156060695648193\n",
      "LOSS:4.871923923492432\n",
      "LOSS:5.674340724945068\n",
      "LOSS:2.756214141845703\n"
     ]
    },
    {
     "name": "stderr",
     "output_type": "stream",
     "text": [
      "ROUND:[108000]:   0%|                                                                           | 0/44 [00:00<?, ?it/s]"
     ]
    },
    {
     "name": "stdout",
     "output_type": "stream",
     "text": [
      "LOSS:5.100701808929443\n",
      "LOSS:3.1288323402404785\n",
      "LOSS:3.932830333709717\n",
      "LOSS:3.612006425857544\n"
     ]
    },
    {
     "name": "stderr",
     "output_type": "stream",
     "text": [
      "ROUND:[108000]:  68%|████████████████████████████████████████████▎                    | 30/44 [00:00<00:00, 297.82it/s]"
     ]
    },
    {
     "name": "stdout",
     "output_type": "stream",
     "text": [
      "LOSS:4.6960577964782715\n",
      "LOSS:4.454757213592529\n",
      "LOSS:3.4087436199188232\n",
      "LOSS:4.793765068054199\n"
     ]
    },
    {
     "name": "stderr",
     "output_type": "stream",
     "text": [
      "ROUND:[108000]:  68%|████████████████████████████████████████████▎                    | 30/44 [00:00<00:00, 297.82it/s]"
     ]
    },
    {
     "name": "stdout",
     "output_type": "stream",
     "text": [
      "LOSS:5.256513595581055\n",
      "LOSS:3.382066249847412\n",
      "LOSS:3.7697181701660156\n",
      "LOSS:4.245584011077881\n",
      "LOSS:5.593567371368408\n"
     ]
    },
    {
     "name": "stderr",
     "output_type": "stream",
     "text": [
      "ROUND:[108000]:  68%|████████████████████████████████████████████▎                    | 30/44 [00:00<00:00, 297.82it/s]"
     ]
    },
    {
     "name": "stdout",
     "output_type": "stream",
     "text": [
      "LOSS:3.7438151836395264\n",
      "LOSS:4.9443559646606445\n",
      "LOSS:2.7084758281707764\n",
      "LOSS:3.805267810821533\n"
     ]
    },
    {
     "name": "stderr",
     "output_type": "stream",
     "text": [
      "ROUND:[21600]: 100%|██████████████████████████████████████████████████████████████████| 44/44 [00:00<00:00, 288.35it/s]\n"
     ]
    },
    {
     "name": "stdout",
     "output_type": "stream",
     "text": [
      "LOSS:3.778930187225342\n",
      "LOSS:6.667751312255859\n",
      "LOSS:2.852365255355835\n",
      "VAILD_LOSS:4.940041455355558\n",
      "--------------------\n",
      "TIMES:44**************************\n"
     ]
    },
    {
     "name": "stderr",
     "output_type": "stream",
     "text": [
      "ROUND:[108000]:   0%|                                                                           | 0/44 [00:00<?, ?it/s]"
     ]
    },
    {
     "name": "stdout",
     "output_type": "stream",
     "text": [
      "LOSS:7.226399898529053\n",
      "LOSS:3.9440197944641113\n",
      "LOSS:4.372371673583984\n"
     ]
    },
    {
     "name": "stderr",
     "output_type": "stream",
     "text": [
      "ROUND:[108000]:   0%|                                                                           | 0/44 [00:00<?, ?it/s]"
     ]
    },
    {
     "name": "stdout",
     "output_type": "stream",
     "text": [
      "LOSS:4.6164445877075195\n",
      "LOSS:4.50287389755249\n",
      "LOSS:4.487353324890137\n",
      "LOSS:5.363423824310303\n"
     ]
    },
    {
     "name": "stderr",
     "output_type": "stream",
     "text": [
      "ROUND:[108000]:   0%|                                                                           | 0/44 [00:00<?, ?it/s]"
     ]
    },
    {
     "name": "stdout",
     "output_type": "stream",
     "text": [
      "LOSS:3.6668200492858887\n",
      "LOSS:7.41271448135376\n",
      "LOSS:6.677803039550781\n",
      "LOSS:4.260066509246826\n"
     ]
    },
    {
     "name": "stderr",
     "output_type": "stream",
     "text": [
      "ROUND:[108000]:   0%|                                                                           | 0/44 [00:00<?, ?it/s]"
     ]
    },
    {
     "name": "stdout",
     "output_type": "stream",
     "text": [
      "LOSS:5.688291549682617\n",
      "LOSS:4.035682678222656\n",
      "LOSS:8.420404434204102\n",
      "LOSS:3.1384918689727783\n"
     ]
    },
    {
     "name": "stderr",
     "output_type": "stream",
     "text": [
      "ROUND:[108000]:   0%|                                                                           | 0/44 [00:00<?, ?it/s]"
     ]
    },
    {
     "name": "stdout",
     "output_type": "stream",
     "text": [
      "LOSS:4.215961456298828\n",
      "LOSS:3.184065818786621\n",
      "LOSS:4.742640972137451\n",
      "LOSS:3.871265172958374\n"
     ]
    },
    {
     "name": "stderr",
     "output_type": "stream",
     "text": [
      "ROUND:[108000]:   0%|                                                                           | 0/44 [00:00<?, ?it/s]"
     ]
    },
    {
     "name": "stdout",
     "output_type": "stream",
     "text": [
      "LOSS:3.4064736366271973\n",
      "LOSS:4.141456127166748\n",
      "LOSS:4.858144760131836\n"
     ]
    },
    {
     "name": "stderr",
     "output_type": "stream",
     "text": [
      "ROUND:[108000]:  59%|██████████████████████████████████████▍                          | 26/44 [00:00<00:00, 253.10it/s]"
     ]
    },
    {
     "name": "stdout",
     "output_type": "stream",
     "text": [
      "LOSS:5.661057472229004\n",
      "LOSS:2.7480757236480713\n",
      "LOSS:5.092448711395264\n",
      "LOSS:3.120070695877075\n"
     ]
    },
    {
     "name": "stderr",
     "output_type": "stream",
     "text": [
      "ROUND:[108000]:  59%|██████████████████████████████████████▍                          | 26/44 [00:00<00:00, 253.10it/s]"
     ]
    },
    {
     "name": "stdout",
     "output_type": "stream",
     "text": [
      "LOSS:3.9232449531555176\n",
      "LOSS:3.605886697769165\n",
      "LOSS:4.686826705932617\n",
      "LOSS:4.443119049072266\n"
     ]
    },
    {
     "name": "stderr",
     "output_type": "stream",
     "text": [
      "ROUND:[108000]:  59%|██████████████████████████████████████▍                          | 26/44 [00:00<00:00, 253.10it/s]"
     ]
    },
    {
     "name": "stdout",
     "output_type": "stream",
     "text": [
      "LOSS:3.399406671524048\n",
      "LOSS:4.775071144104004\n",
      "LOSS:5.248668670654297\n",
      "LOSS:3.369631052017212\n"
     ]
    },
    {
     "name": "stderr",
     "output_type": "stream",
     "text": [
      "ROUND:[108000]:  59%|██████████████████████████████████████▍                          | 26/44 [00:00<00:00, 253.10it/s]"
     ]
    },
    {
     "name": "stdout",
     "output_type": "stream",
     "text": [
      "LOSS:3.758892774581909\n",
      "LOSS:4.235141277313232\n",
      "LOSS:5.572946548461914\n",
      "LOSS:3.733713388442993\n"
     ]
    },
    {
     "name": "stderr",
     "output_type": "stream",
     "text": [
      "ROUND:[108000]:  59%|██████████████████████████████████████▍                          | 26/44 [00:00<00:00, 253.10it/s]"
     ]
    },
    {
     "name": "stdout",
     "output_type": "stream",
     "text": [
      "LOSS:4.936036109924316\n",
      "LOSS:2.70516300201416\n",
      "LOSS:3.7970237731933594\n"
     ]
    },
    {
     "name": "stderr",
     "output_type": "stream",
     "text": [
      "ROUND:[21600]: 100%|██████████████████████████████████████████████████████████████████| 44/44 [00:00<00:00, 247.85it/s]\n"
     ]
    },
    {
     "name": "stdout",
     "output_type": "stream",
     "text": [
      "LOSS:3.776900053024292\n",
      "LOSS:6.6475396156311035\n",
      "LOSS:2.843672275543213\n",
      "VAILD_LOSS:4.926607153632424\n",
      "--------------------\n",
      "TIMES:45**************************\n"
     ]
    },
    {
     "name": "stderr",
     "output_type": "stream",
     "text": [
      "ROUND:[108000]:   0%|                                                                           | 0/44 [00:00<?, ?it/s]"
     ]
    },
    {
     "name": "stdout",
     "output_type": "stream",
     "text": [
      "LOSS:7.209628105163574\n"
     ]
    },
    {
     "name": "stderr",
     "output_type": "stream",
     "text": [
      "ROUND:[108000]:   0%|                                                                           | 0/44 [00:00<?, ?it/s]"
     ]
    },
    {
     "name": "stdout",
     "output_type": "stream",
     "text": [
      "LOSS:3.9357404708862305\n",
      "LOSS:4.36155891418457\n",
      "LOSS:4.608791351318359\n"
     ]
    },
    {
     "name": "stderr",
     "output_type": "stream",
     "text": [
      "ROUND:[108000]:   0%|                                                                           | 0/44 [00:00<?, ?it/s]"
     ]
    },
    {
     "name": "stdout",
     "output_type": "stream",
     "text": [
      "LOSS:4.495588302612305\n",
      "LOSS:4.479202747344971\n",
      "LOSS:5.347748756408691\n",
      "LOSS:3.6613564491271973\n"
     ]
    },
    {
     "name": "stderr",
     "output_type": "stream",
     "text": [
      "ROUND:[108000]:   0%|                                                                           | 0/44 [00:00<?, ?it/s]"
     ]
    },
    {
     "name": "stdout",
     "output_type": "stream",
     "text": [
      "LOSS:7.391676902770996\n",
      "LOSS:6.656046390533447\n",
      "LOSS:4.25051736831665\n",
      "LOSS:5.673061847686768\n"
     ]
    },
    {
     "name": "stderr",
     "output_type": "stream",
     "text": [
      "ROUND:[108000]:   0%|                                                                           | 0/44 [00:00<?, ?it/s]"
     ]
    },
    {
     "name": "stdout",
     "output_type": "stream",
     "text": [
      "LOSS:4.022193908691406\n",
      "LOSS:8.410035133361816\n",
      "LOSS:3.128344774246216\n"
     ]
    },
    {
     "name": "stderr",
     "output_type": "stream",
     "text": [
      "ROUND:[108000]:   0%|                                                                           | 0/44 [00:00<?, ?it/s]"
     ]
    },
    {
     "name": "stdout",
     "output_type": "stream",
     "text": [
      "LOSS:4.204867839813232\n",
      "LOSS:3.1737310886383057\n",
      "LOSS:4.729038715362549\n",
      "LOSS:3.8592491149902344\n"
     ]
    },
    {
     "name": "stderr",
     "output_type": "stream",
     "text": [
      "ROUND:[108000]:   0%|                                                                           | 0/44 [00:00<?, ?it/s]"
     ]
    },
    {
     "name": "stdout",
     "output_type": "stream",
     "text": [
      "LOSS:3.4018425941467285\n",
      "LOSS:4.127740859985352\n",
      "LOSS:4.844054222106934\n"
     ]
    },
    {
     "name": "stderr",
     "output_type": "stream",
     "text": [
      "ROUND:[108000]:  52%|█████████████████████████████████▉                               | 23/44 [00:00<00:00, 223.90it/s]"
     ]
    },
    {
     "name": "stdout",
     "output_type": "stream",
     "text": [
      "LOSS:5.648369789123535\n",
      "LOSS:2.7402660846710205\n",
      "LOSS:5.082989692687988\n"
     ]
    },
    {
     "name": "stderr",
     "output_type": "stream",
     "text": [
      "ROUND:[108000]:  52%|█████████████████████████████████▉                               | 23/44 [00:00<00:00, 223.90it/s]"
     ]
    },
    {
     "name": "stdout",
     "output_type": "stream",
     "text": [
      "LOSS:3.1120171546936035\n",
      "LOSS:3.913602828979492\n",
      "LOSS:3.5988476276397705\n",
      "LOSS:4.678175926208496\n"
     ]
    },
    {
     "name": "stderr",
     "output_type": "stream",
     "text": [
      "ROUND:[108000]:  52%|█████████████████████████████████▉                               | 23/44 [00:00<00:00, 223.90it/s]"
     ]
    },
    {
     "name": "stdout",
     "output_type": "stream",
     "text": [
      "LOSS:4.430981159210205\n",
      "LOSS:3.3898844718933105\n",
      "LOSS:4.755931377410889\n",
      "LOSS:5.239772319793701\n"
     ]
    },
    {
     "name": "stderr",
     "output_type": "stream",
     "text": [
      "ROUND:[108000]:  52%|█████████████████████████████████▉                               | 23/44 [00:00<00:00, 223.90it/s]"
     ]
    },
    {
     "name": "stdout",
     "output_type": "stream",
     "text": [
      "LOSS:3.3587803840637207\n",
      "LOSS:3.7491002082824707\n",
      "LOSS:4.224328994750977\n"
     ]
    },
    {
     "name": "stderr",
     "output_type": "stream",
     "text": [
      "ROUND:[108000]:  52%|█████████████████████████████████▉                               | 23/44 [00:00<00:00, 223.90it/s]"
     ]
    },
    {
     "name": "stdout",
     "output_type": "stream",
     "text": [
      "LOSS:5.552581787109375\n",
      "LOSS:3.725140333175659\n",
      "LOSS:4.926971912384033\n",
      "LOSS:2.7018449306488037\n"
     ]
    },
    {
     "name": "stderr",
     "output_type": "stream",
     "text": [
      "ROUND:[21600]: 100%|██████████████████████████████████████████████████████████████████| 44/44 [00:00<00:00, 227.41it/s]"
     ]
    },
    {
     "name": "stdout",
     "output_type": "stream",
     "text": [
      "LOSS:3.7895400524139404\n",
      "LOSS:3.777348518371582\n",
      "LOSS:6.62749719619751\n",
      "LOSS:2.837069272994995\n"
     ]
    },
    {
     "name": "stderr",
     "output_type": "stream",
     "text": [
      "\n"
     ]
    },
    {
     "name": "stdout",
     "output_type": "stream",
     "text": [
      "VAILD_LOSS:4.9138876524838535\n",
      "--------------------\n",
      "TIMES:46**************************\n"
     ]
    },
    {
     "name": "stderr",
     "output_type": "stream",
     "text": [
      "ROUND:[108000]:   0%|                                                                           | 0/44 [00:00<?, ?it/s]"
     ]
    },
    {
     "name": "stdout",
     "output_type": "stream",
     "text": [
      "LOSS:7.192359447479248\n"
     ]
    },
    {
     "name": "stderr",
     "output_type": "stream",
     "text": [
      "ROUND:[108000]:   0%|                                                                           | 0/44 [00:00<?, ?it/s]"
     ]
    },
    {
     "name": "stdout",
     "output_type": "stream",
     "text": [
      "LOSS:3.92651629447937\n",
      "LOSS:4.349856853485107\n",
      "LOSS:4.600494384765625\n",
      "LOSS:4.485798358917236\n"
     ]
    },
    {
     "name": "stderr",
     "output_type": "stream",
     "text": [
      "ROUND:[108000]:   0%|                                                                           | 0/44 [00:00<?, ?it/s]"
     ]
    },
    {
     "name": "stdout",
     "output_type": "stream",
     "text": [
      "LOSS:4.468923091888428\n",
      "LOSS:5.333372116088867\n",
      "LOSS:3.653984785079956\n",
      "LOSS:7.369370937347412\n"
     ]
    },
    {
     "name": "stderr",
     "output_type": "stream",
     "text": [
      "ROUND:[108000]:   0%|                                                                           | 0/44 [00:00<?, ?it/s]"
     ]
    },
    {
     "name": "stdout",
     "output_type": "stream",
     "text": [
      "LOSS:6.636355400085449\n",
      "LOSS:4.240347862243652\n",
      "LOSS:5.660076141357422\n"
     ]
    },
    {
     "name": "stderr",
     "output_type": "stream",
     "text": [
      "ROUND:[108000]:   0%|                                                                           | 0/44 [00:00<?, ?it/s]"
     ]
    },
    {
     "name": "stdout",
     "output_type": "stream",
     "text": [
      "LOSS:4.009512424468994\n",
      "LOSS:8.399566650390625\n",
      "LOSS:3.1194262504577637\n",
      "LOSS:4.194337844848633\n"
     ]
    },
    {
     "name": "stderr",
     "output_type": "stream",
     "text": [
      "ROUND:[108000]:   0%|                                                                           | 0/44 [00:00<?, ?it/s]"
     ]
    },
    {
     "name": "stdout",
     "output_type": "stream",
     "text": [
      "LOSS:3.165818214416504\n",
      "LOSS:4.716882228851318\n",
      "LOSS:3.8467063903808594\n",
      "LOSS:3.396977663040161\n",
      "LOSS:4.113746166229248\n"
     ]
    },
    {
     "name": "stderr",
     "output_type": "stream",
     "text": [
      "ROUND:[108000]:   0%|                                                                           | 0/44 [00:00<?, ?it/s]"
     ]
    },
    {
     "name": "stdout",
     "output_type": "stream",
     "text": [
      "LOSS:4.830342769622803\n",
      "LOSS:5.636396884918213\n",
      "LOSS:2.7321009635925293\n",
      "LOSS:5.07307767868042\n"
     ]
    },
    {
     "name": "stderr",
     "output_type": "stream",
     "text": [
      "ROUND:[108000]:  61%|███████████████████████████████████████▉                         | 27/44 [00:00<00:00, 260.31it/s]"
     ]
    },
    {
     "name": "stdout",
     "output_type": "stream",
     "text": [
      "LOSS:3.1039466857910156\n",
      "LOSS:3.9038920402526855\n",
      "LOSS:3.591033458709717\n",
      "LOSS:4.66910982131958\n",
      "LOSS:4.419097423553467\n"
     ]
    },
    {
     "name": "stderr",
     "output_type": "stream",
     "text": [
      "ROUND:[108000]:  61%|███████████████████████████████████████▉                         | 27/44 [00:00<00:00, 260.31it/s]"
     ]
    },
    {
     "name": "stdout",
     "output_type": "stream",
     "text": [
      "LOSS:3.3805742263793945\n",
      "LOSS:4.737948417663574\n",
      "LOSS:5.231007099151611\n",
      "LOSS:3.3479561805725098\n",
      "LOSS:3.739962577819824\n"
     ]
    },
    {
     "name": "stderr",
     "output_type": "stream",
     "text": [
      "ROUND:[108000]:  61%|███████████████████████████████████████▉                         | 27/44 [00:00<00:00, 260.31it/s]"
     ]
    },
    {
     "name": "stdout",
     "output_type": "stream",
     "text": [
      "LOSS:4.2131805419921875\n",
      "LOSS:5.532564640045166\n",
      "LOSS:3.7159359455108643\n",
      "LOSS:4.918554782867432\n"
     ]
    },
    {
     "name": "stderr",
     "output_type": "stream",
     "text": [
      "ROUND:[21600]: 100%|██████████████████████████████████████████████████████████████████| 44/44 [00:00<00:00, 272.32it/s]\n"
     ]
    },
    {
     "name": "stdout",
     "output_type": "stream",
     "text": [
      "LOSS:2.697963237762451\n",
      "LOSS:3.781806468963623\n",
      "LOSS:3.77691912651062\n",
      "LOSS:6.609017372131348\n",
      "LOSS:2.831130266189575\n",
      "VAILD_LOSS:4.901320327411998\n",
      "--------------------\n",
      "TIMES:47**************************\n"
     ]
    },
    {
     "name": "stderr",
     "output_type": "stream",
     "text": [
      "ROUND:[108000]:   0%|                                                                           | 0/44 [00:00<?, ?it/s]"
     ]
    },
    {
     "name": "stdout",
     "output_type": "stream",
     "text": [
      "LOSS:7.174079418182373\n"
     ]
    },
    {
     "name": "stderr",
     "output_type": "stream",
     "text": [
      "ROUND:[108000]:   0%|                                                                           | 0/44 [00:00<?, ?it/s]"
     ]
    },
    {
     "name": "stdout",
     "output_type": "stream",
     "text": [
      "LOSS:3.916795492172241\n",
      "LOSS:4.337889194488525\n",
      "LOSS:4.591466426849365\n",
      "LOSS:4.475435256958008\n",
      "LOSS:4.458188056945801\n"
     ]
    },
    {
     "name": "stderr",
     "output_type": "stream",
     "text": [
      "ROUND:[108000]:   0%|                                                                           | 0/44 [00:00<?, ?it/s]"
     ]
    },
    {
     "name": "stdout",
     "output_type": "stream",
     "text": [
      "LOSS:5.319935321807861\n",
      "LOSS:3.6468005180358887\n",
      "LOSS:7.346405982971191\n",
      "LOSS:6.6179046630859375\n"
     ]
    },
    {
     "name": "stderr",
     "output_type": "stream",
     "text": [
      "ROUND:[108000]:   0%|                                                                           | 0/44 [00:00<?, ?it/s]"
     ]
    },
    {
     "name": "stdout",
     "output_type": "stream",
     "text": [
      "LOSS:4.230215549468994\n",
      "LOSS:5.647708415985107\n",
      "LOSS:3.997241735458374\n",
      "LOSS:8.388945579528809\n"
     ]
    },
    {
     "name": "stderr",
     "output_type": "stream",
     "text": [
      "ROUND:[108000]:   0%|                                                                           | 0/44 [00:00<?, ?it/s]"
     ]
    },
    {
     "name": "stdout",
     "output_type": "stream",
     "text": [
      "LOSS:3.111058235168457\n",
      "LOSS:4.184154033660889\n",
      "LOSS:3.1591691970825195\n",
      "LOSS:4.705832481384277\n",
      "LOSS:3.8342039585113525\n"
     ]
    },
    {
     "name": "stderr",
     "output_type": "stream",
     "text": [
      "ROUND:[108000]:   0%|                                                                           | 0/44 [00:00<?, ?it/s]"
     ]
    },
    {
     "name": "stdout",
     "output_type": "stream",
     "text": [
      "LOSS:3.39178204536438\n",
      "LOSS:4.0991034507751465\n",
      "LOSS:4.817023754119873\n",
      "LOSS:5.625041961669922\n",
      "LOSS:2.72314715385437\n"
     ]
    },
    {
     "name": "stderr",
     "output_type": "stream",
     "text": [
      "ROUND:[108000]:   0%|                                                                           | 0/44 [00:00<?, ?it/s]"
     ]
    },
    {
     "name": "stdout",
     "output_type": "stream",
     "text": [
      "LOSS:5.064462184906006\n",
      "LOSS:3.0957772731781006\n",
      "LOSS:3.8939127922058105\n",
      "LOSS:3.583139657974243\n",
      "LOSS:4.6605987548828125\n"
     ]
    },
    {
     "name": "stderr",
     "output_type": "stream",
     "text": [
      "ROUND:[108000]:  68%|████████████████████████████████████████████▎                    | 30/44 [00:00<00:00, 286.48it/s]"
     ]
    },
    {
     "name": "stdout",
     "output_type": "stream",
     "text": [
      "LOSS:4.40696382522583\n",
      "LOSS:3.3713598251342773\n",
      "LOSS:4.719079494476318\n",
      "LOSS:5.222228050231934\n"
     ]
    },
    {
     "name": "stderr",
     "output_type": "stream",
     "text": [
      "ROUND:[108000]:  68%|████████████████████████████████████████████▎                    | 30/44 [00:00<00:00, 286.48it/s]"
     ]
    },
    {
     "name": "stdout",
     "output_type": "stream",
     "text": [
      "LOSS:3.3374176025390625\n",
      "LOSS:3.730161666870117\n",
      "LOSS:4.202660083770752\n",
      "LOSS:5.513648986816406\n"
     ]
    },
    {
     "name": "stderr",
     "output_type": "stream",
     "text": [
      "ROUND:[108000]:  68%|████████████████████████████████████████████▎                    | 30/44 [00:00<00:00, 286.48it/s]"
     ]
    },
    {
     "name": "stdout",
     "output_type": "stream",
     "text": [
      "LOSS:3.706439733505249\n",
      "LOSS:4.910097599029541\n",
      "LOSS:2.6941659450531006\n",
      "LOSS:3.773993492126465\n",
      "LOSS:3.776738166809082\n"
     ]
    },
    {
     "name": "stderr",
     "output_type": "stream",
     "text": [
      "ROUND:[21600]: 100%|██████████████████████████████████████████████████████████████████| 44/44 [00:00<00:00, 290.25it/s]\n"
     ]
    },
    {
     "name": "stdout",
     "output_type": "stream",
     "text": [
      "LOSS:6.590581893920898\n",
      "LOSS:2.823331832885742\n",
      "VAILD_LOSS:4.888128193941983\n",
      "--------------------\n",
      "TIMES:48**************************\n"
     ]
    },
    {
     "name": "stderr",
     "output_type": "stream",
     "text": [
      "ROUND:[108000]:   0%|                                                                           | 0/44 [00:00<?, ?it/s]"
     ]
    },
    {
     "name": "stdout",
     "output_type": "stream",
     "text": [
      "LOSS:7.156655311584473\n",
      "LOSS:3.9077863693237305\n",
      "LOSS:4.326661586761475\n",
      "LOSS:4.582938194274902\n"
     ]
    },
    {
     "name": "stderr",
     "output_type": "stream",
     "text": [
      "ROUND:[108000]:   0%|                                                                           | 0/44 [00:00<?, ?it/s]"
     ]
    },
    {
     "name": "stdout",
     "output_type": "stream",
     "text": [
      "LOSS:4.466625690460205\n",
      "LOSS:4.448781490325928\n",
      "LOSS:5.306058883666992\n",
      "LOSS:3.6412739753723145\n"
     ]
    },
    {
     "name": "stderr",
     "output_type": "stream",
     "text": [
      "ROUND:[108000]:   0%|                                                                           | 0/44 [00:00<?, ?it/s]"
     ]
    },
    {
     "name": "stdout",
     "output_type": "stream",
     "text": [
      "LOSS:7.323959827423096\n",
      "LOSS:6.599014759063721\n",
      "LOSS:4.220688819885254\n",
      "LOSS:5.634530544281006\n",
      "LOSS:3.984821081161499\n"
     ]
    },
    {
     "name": "stderr",
     "output_type": "stream",
     "text": [
      "ROUND:[108000]:   0%|                                                                           | 0/44 [00:00<?, ?it/s]"
     ]
    },
    {
     "name": "stdout",
     "output_type": "stream",
     "text": [
      "LOSS:8.378626823425293\n",
      "LOSS:3.1021318435668945\n",
      "LOSS:4.174331188201904\n",
      "LOSS:3.1517271995544434\n",
      "LOSS:4.693864345550537\n"
     ]
    },
    {
     "name": "stderr",
     "output_type": "stream",
     "text": [
      "ROUND:[108000]:   0%|                                                                           | 0/44 [00:00<?, ?it/s]"
     ]
    },
    {
     "name": "stdout",
     "output_type": "stream",
     "text": [
      "LOSS:3.8217711448669434\n",
      "LOSS:3.387064218521118\n",
      "LOSS:4.085137367248535\n",
      "LOSS:4.80322265625\n"
     ]
    },
    {
     "name": "stderr",
     "output_type": "stream",
     "text": [
      "ROUND:[108000]:   0%|                                                                           | 0/44 [00:00<?, ?it/s]"
     ]
    },
    {
     "name": "stdout",
     "output_type": "stream",
     "text": [
      "LOSS:5.6136155128479\n",
      "LOSS:2.714649200439453\n",
      "LOSS:5.054659366607666\n",
      "LOSS:3.0879151821136475\n"
     ]
    },
    {
     "name": "stderr",
     "output_type": "stream",
     "text": [
      "ROUND:[108000]:  66%|██████████████████████████████████████████▊                      | 29/44 [00:00<00:00, 287.46it/s]"
     ]
    },
    {
     "name": "stdout",
     "output_type": "stream",
     "text": [
      "LOSS:3.884031057357788\n",
      "LOSS:3.574491500854492\n",
      "LOSS:4.652072906494141\n",
      "LOSS:4.394952297210693\n",
      "LOSS:3.3622255325317383\n"
     ]
    },
    {
     "name": "stderr",
     "output_type": "stream",
     "text": [
      "ROUND:[108000]:  66%|██████████████████████████████████████████▊                      | 29/44 [00:00<00:00, 287.46it/s]"
     ]
    },
    {
     "name": "stdout",
     "output_type": "stream",
     "text": [
      "LOSS:4.701138019561768\n",
      "LOSS:5.213119983673096\n",
      "LOSS:3.3276031017303467\n",
      "LOSS:3.7212963104248047\n"
     ]
    },
    {
     "name": "stderr",
     "output_type": "stream",
     "text": [
      "ROUND:[108000]:  66%|██████████████████████████████████████████▊                      | 29/44 [00:00<00:00, 287.46it/s]"
     ]
    },
    {
     "name": "stdout",
     "output_type": "stream",
     "text": [
      "LOSS:4.192174434661865\n",
      "LOSS:5.495203018188477\n",
      "LOSS:3.696755886077881\n",
      "LOSS:4.900139331817627\n",
      "LOSS:2.689875364303589\n"
     ]
    },
    {
     "name": "stderr",
     "output_type": "stream",
     "text": [
      "ROUND:[21600]: 100%|██████████████████████████████████████████████████████████████████| 44/44 [00:00<00:00, 282.53it/s]\n"
     ]
    },
    {
     "name": "stdout",
     "output_type": "stream",
     "text": [
      "LOSS:3.7665560245513916\n",
      "LOSS:3.778465986251831\n",
      "LOSS:6.572447299957275\n",
      "LOSS:2.8189988136291504\n",
      "VAILD_LOSS:4.876131599599665\n",
      "--------------------\n",
      "TIMES:49**************************\n"
     ]
    },
    {
     "name": "stderr",
     "output_type": "stream",
     "text": [
      "ROUND:[108000]:   0%|                                                                           | 0/44 [00:00<?, ?it/s]"
     ]
    },
    {
     "name": "stdout",
     "output_type": "stream",
     "text": [
      "LOSS:7.137996196746826\n",
      "LOSS:3.897353410720825\n"
     ]
    },
    {
     "name": "stderr",
     "output_type": "stream",
     "text": [
      "ROUND:[108000]:   0%|                                                                           | 0/44 [00:00<?, ?it/s]"
     ]
    },
    {
     "name": "stdout",
     "output_type": "stream",
     "text": [
      "LOSS:4.313210964202881\n",
      "LOSS:4.57349967956543\n",
      "LOSS:4.453169345855713\n",
      "LOSS:4.435525417327881\n"
     ]
    },
    {
     "name": "stderr",
     "output_type": "stream",
     "text": [
      "ROUND:[108000]:   0%|                                                                           | 0/44 [00:00<?, ?it/s]"
     ]
    },
    {
     "name": "stdout",
     "output_type": "stream",
     "text": [
      "LOSS:5.293831825256348\n",
      "LOSS:3.631932020187378\n",
      "LOSS:7.299962043762207\n",
      "LOSS:6.581664085388184\n",
      "LOSS:4.210052013397217\n"
     ]
    },
    {
     "name": "stderr",
     "output_type": "stream",
     "text": [
      "ROUND:[108000]:   0%|                                                                           | 0/44 [00:00<?, ?it/s]"
     ]
    },
    {
     "name": "stdout",
     "output_type": "stream",
     "text": [
      "LOSS:5.624228477478027\n",
      "LOSS:3.9732115268707275\n",
      "LOSS:8.368185997009277\n",
      "LOSS:3.0946340560913086\n",
      "LOSS:4.164374351501465\n"
     ]
    },
    {
     "name": "stderr",
     "output_type": "stream",
     "text": [
      "ROUND:[108000]:   0%|                                                                           | 0/44 [00:00<?, ?it/s]"
     ]
    },
    {
     "name": "stdout",
     "output_type": "stream",
     "text": [
      "LOSS:3.1465423107147217\n",
      "LOSS:4.68394136428833\n",
      "LOSS:3.80926251411438\n",
      "LOSS:3.3813836574554443\n"
     ]
    },
    {
     "name": "stderr",
     "output_type": "stream",
     "text": [
      "ROUND:[108000]:   0%|                                                                           | 0/44 [00:00<?, ?it/s]"
     ]
    },
    {
     "name": "stdout",
     "output_type": "stream",
     "text": [
      "LOSS:4.070008754730225\n",
      "LOSS:4.790289402008057\n",
      "LOSS:5.602343559265137\n",
      "LOSS:2.7059826850891113\n"
     ]
    },
    {
     "name": "stderr",
     "output_type": "stream",
     "text": [
      "ROUND:[108000]:  66%|██████████████████████████████████████████▊                      | 29/44 [00:00<00:00, 285.71it/s]"
     ]
    },
    {
     "name": "stdout",
     "output_type": "stream",
     "text": [
      "LOSS:5.046784400939941\n",
      "LOSS:3.0795974731445312\n",
      "LOSS:3.8740620613098145\n",
      "LOSS:3.5669751167297363\n",
      "LOSS:4.643640995025635\n"
     ]
    },
    {
     "name": "stderr",
     "output_type": "stream",
     "text": [
      "ROUND:[108000]:  66%|██████████████████████████████████████████▊                      | 29/44 [00:00<00:00, 285.71it/s]"
     ]
    },
    {
     "name": "stdout",
     "output_type": "stream",
     "text": [
      "LOSS:4.383346080780029\n",
      "LOSS:3.353275775909424\n",
      "LOSS:4.6828765869140625\n",
      "LOSS:5.20481538772583\n"
     ]
    },
    {
     "name": "stderr",
     "output_type": "stream",
     "text": [
      "ROUND:[108000]:  66%|██████████████████████████████████████████▊                      | 29/44 [00:00<00:00, 285.71it/s]"
     ]
    },
    {
     "name": "stdout",
     "output_type": "stream",
     "text": [
      "LOSS:3.316359758377075\n",
      "LOSS:3.7110912799835205\n",
      "LOSS:4.182504653930664\n",
      "LOSS:5.476492881774902\n"
     ]
    },
    {
     "name": "stderr",
     "output_type": "stream",
     "text": [
      "ROUND:[108000]:  66%|██████████████████████████████████████████▊                      | 29/44 [00:00<00:00, 285.71it/s]"
     ]
    },
    {
     "name": "stdout",
     "output_type": "stream",
     "text": [
      "LOSS:3.6867778301239014\n",
      "LOSS:4.889629364013672\n",
      "LOSS:2.686722993850708\n",
      "LOSS:3.7584893703460693\n"
     ]
    },
    {
     "name": "stderr",
     "output_type": "stream",
     "text": [
      "ROUND:[21600]: 100%|██████████████████████████████████████████████████████████████████| 44/44 [00:00<00:00, 281.41it/s]\n"
     ]
    },
    {
     "name": "stdout",
     "output_type": "stream",
     "text": [
      "LOSS:3.7773547172546387\n",
      "LOSS:6.554012775421143\n",
      "LOSS:2.8112213611602783\n",
      "VAILD_LOSS:4.863140387968584\n",
      "--------------------\n",
      "TIMES:50**************************\n"
     ]
    },
    {
     "name": "stderr",
     "output_type": "stream",
     "text": [
      "ROUND:[108000]:   0%|                                                                           | 0/44 [00:00<?, ?it/s]"
     ]
    },
    {
     "name": "stdout",
     "output_type": "stream",
     "text": [
      "LOSS:7.12123441696167\n",
      "LOSS:3.889984369277954\n",
      "LOSS:4.302489757537842\n"
     ]
    },
    {
     "name": "stderr",
     "output_type": "stream",
     "text": [
      "ROUND:[108000]:   0%|                                                                           | 0/44 [00:00<?, ?it/s]"
     ]
    },
    {
     "name": "stdout",
     "output_type": "stream",
     "text": [
      "LOSS:4.565850257873535\n",
      "LOSS:4.444850444793701\n",
      "LOSS:4.426299571990967\n",
      "LOSS:5.279314994812012\n"
     ]
    },
    {
     "name": "stderr",
     "output_type": "stream",
     "text": [
      "ROUND:[108000]:   0%|                                                                           | 0/44 [00:00<?, ?it/s]"
     ]
    },
    {
     "name": "stdout",
     "output_type": "stream",
     "text": [
      "LOSS:3.6251182556152344\n",
      "LOSS:7.278748512268066\n",
      "LOSS:6.560306072235107\n"
     ]
    },
    {
     "name": "stderr",
     "output_type": "stream",
     "text": [
      "ROUND:[108000]:   0%|                                                                           | 0/44 [00:00<?, ?it/s]"
     ]
    },
    {
     "name": "stdout",
     "output_type": "stream",
     "text": [
      "LOSS:4.200234413146973\n",
      "LOSS:5.61021614074707\n",
      "LOSS:3.9602773189544678\n",
      "LOSS:8.3568115234375\n",
      "LOSS:3.0856239795684814\n"
     ]
    },
    {
     "name": "stderr",
     "output_type": "stream",
     "text": [
      "ROUND:[108000]:   0%|                                                                           | 0/44 [00:00<?, ?it/s]"
     ]
    },
    {
     "name": "stdout",
     "output_type": "stream",
     "text": [
      "LOSS:4.153709411621094\n",
      "LOSS:3.1379213333129883\n",
      "LOSS:4.67225980758667\n",
      "LOSS:3.797835111618042\n"
     ]
    },
    {
     "name": "stderr",
     "output_type": "stream",
     "text": [
      "ROUND:[108000]:   0%|                                                                           | 0/44 [00:00<?, ?it/s]"
     ]
    },
    {
     "name": "stdout",
     "output_type": "stream",
     "text": [
      "LOSS:3.376211404800415\n",
      "LOSS:4.055970191955566\n",
      "LOSS:4.777189254760742\n",
      "LOSS:5.5905022621154785\n"
     ]
    },
    {
     "name": "stderr",
     "output_type": "stream",
     "text": [
      "ROUND:[108000]:  61%|███████████████████████████████████████▉                         | 27/44 [00:00<00:00, 262.84it/s]"
     ]
    },
    {
     "name": "stdout",
     "output_type": "stream",
     "text": [
      "LOSS:2.698535680770874\n",
      "LOSS:5.038954734802246\n",
      "LOSS:3.071589946746826\n",
      "LOSS:3.864060163497925\n",
      "LOSS:3.5604732036590576\n"
     ]
    },
    {
     "name": "stderr",
     "output_type": "stream",
     "text": [
      "ROUND:[108000]:  61%|███████████████████████████████████████▉                         | 27/44 [00:00<00:00, 262.84it/s]"
     ]
    },
    {
     "name": "stdout",
     "output_type": "stream",
     "text": [
      "LOSS:4.635648727416992\n",
      "LOSS:4.371850490570068\n",
      "LOSS:3.3441765308380127\n",
      "LOSS:4.664399147033691\n",
      "LOSS:5.196554660797119\n"
     ]
    },
    {
     "name": "stderr",
     "output_type": "stream",
     "text": [
      "ROUND:[108000]:  61%|███████████████████████████████████████▉                         | 27/44 [00:00<00:00, 262.84it/s]"
     ]
    },
    {
     "name": "stdout",
     "output_type": "stream",
     "text": [
      "LOSS:3.3054652214050293\n",
      "LOSS:3.7013087272644043\n",
      "LOSS:4.172543048858643\n",
      "LOSS:5.457829475402832\n"
     ]
    },
    {
     "name": "stderr",
     "output_type": "stream",
     "text": [
      "ROUND:[108000]:  61%|███████████████████████████████████████▉                         | 27/44 [00:00<00:00, 262.84it/s]"
     ]
    },
    {
     "name": "stdout",
     "output_type": "stream",
     "text": [
      "LOSS:3.6779582500457764\n",
      "LOSS:4.878592491149902\n",
      "LOSS:2.684021234512329\n",
      "LOSS:3.750821352005005\n",
      "LOSS:3.776815176010132\n"
     ]
    },
    {
     "name": "stderr",
     "output_type": "stream",
     "text": [
      "ROUND:[21600]: 100%|██████████████████████████████████████████████████████████████████| 44/44 [00:00<00:00, 269.01it/s]\n"
     ]
    },
    {
     "name": "stdout",
     "output_type": "stream",
     "text": [
      "LOSS:6.534224033355713\n",
      "LOSS:2.8055200576782227\n",
      "VAILD_LOSS:4.851238922639326\n",
      "--------------------\n",
      "TIMES:51**************************\n"
     ]
    },
    {
     "name": "stderr",
     "output_type": "stream",
     "text": [
      "ROUND:[108000]:   0%|                                                                           | 0/44 [00:00<?, ?it/s]"
     ]
    },
    {
     "name": "stdout",
     "output_type": "stream",
     "text": [
      "LOSS:7.104136943817139\n",
      "LOSS:3.882152557373047\n"
     ]
    },
    {
     "name": "stderr",
     "output_type": "stream",
     "text": [
      "ROUND:[108000]:   0%|                                                                           | 0/44 [00:00<?, ?it/s]"
     ]
    },
    {
     "name": "stdout",
     "output_type": "stream",
     "text": [
      "LOSS:4.290953159332275\n",
      "LOSS:4.558119297027588\n",
      "LOSS:4.433812141418457\n",
      "LOSS:4.414848804473877\n",
      "LOSS:5.265633583068848\n"
     ]
    },
    {
     "name": "stderr",
     "output_type": "stream",
     "text": [
      "ROUND:[108000]:   0%|                                                                           | 0/44 [00:00<?, ?it/s]"
     ]
    },
    {
     "name": "stdout",
     "output_type": "stream",
     "text": [
      "LOSS:3.6166231632232666\n",
      "LOSS:7.256489276885986\n",
      "LOSS:6.541345119476318\n",
      "LOSS:4.189735412597656\n"
     ]
    },
    {
     "name": "stderr",
     "output_type": "stream",
     "text": [
      "ROUND:[108000]:   0%|                                                                           | 0/44 [00:00<?, ?it/s]"
     ]
    },
    {
     "name": "stdout",
     "output_type": "stream",
     "text": [
      "LOSS:5.597641468048096\n",
      "LOSS:3.947636604309082\n",
      "LOSS:8.345174789428711\n",
      "LOSS:3.0767674446105957\n",
      "LOSS:4.143245220184326\n"
     ]
    },
    {
     "name": "stderr",
     "output_type": "stream",
     "text": [
      "ROUND:[108000]:   0%|                                                                           | 0/44 [00:00<?, ?it/s]"
     ]
    },
    {
     "name": "stdout",
     "output_type": "stream",
     "text": [
      "LOSS:3.1304726600646973\n",
      "LOSS:4.660618782043457\n",
      "LOSS:3.7865288257598877\n",
      "LOSS:3.370542287826538\n"
     ]
    },
    {
     "name": "stderr",
     "output_type": "stream",
     "text": [
      "ROUND:[108000]:   0%|                                                                           | 0/44 [00:00<?, ?it/s]"
     ]
    },
    {
     "name": "stdout",
     "output_type": "stream",
     "text": [
      "LOSS:4.042145252227783\n",
      "LOSS:4.764453411102295\n",
      "LOSS:5.578072547912598\n",
      "LOSS:2.691457509994507\n",
      "LOSS:5.031795501708984\n"
     ]
    },
    {
     "name": "stderr",
     "output_type": "stream",
     "text": [
      "ROUND:[108000]:   0%|                                                                           | 0/44 [00:00<?, ?it/s]"
     ]
    },
    {
     "name": "stdout",
     "output_type": "stream",
     "text": [
      "LOSS:3.0633533000946045\n",
      "LOSS:3.854015350341797\n",
      "LOSS:3.554450273513794\n",
      "LOSS:4.626950263977051\n"
     ]
    },
    {
     "name": "stderr",
     "output_type": "stream",
     "text": [
      "ROUND:[108000]:  68%|████████████████████████████████████████████▎                    | 30/44 [00:00<00:00, 292.04it/s]"
     ]
    },
    {
     "name": "stdout",
     "output_type": "stream",
     "text": [
      "LOSS:4.360423564910889\n",
      "LOSS:3.3351831436157227\n",
      "LOSS:4.646672248840332\n",
      "LOSS:5.188543796539307\n",
      "LOSS:3.2942254543304443\n"
     ]
    },
    {
     "name": "stderr",
     "output_type": "stream",
     "text": [
      "ROUND:[108000]:  68%|████████████████████████████████████████████▎                    | 30/44 [00:00<00:00, 292.04it/s]"
     ]
    },
    {
     "name": "stdout",
     "output_type": "stream",
     "text": [
      "LOSS:3.6915221214294434\n",
      "LOSS:4.162569522857666\n",
      "LOSS:5.439414978027344\n",
      "LOSS:3.668473482131958\n"
     ]
    },
    {
     "name": "stderr",
     "output_type": "stream",
     "text": [
      "ROUND:[108000]:  68%|████████████████████████████████████████████▎                    | 30/44 [00:00<00:00, 292.04it/s]"
     ]
    },
    {
     "name": "stdout",
     "output_type": "stream",
     "text": [
      "LOSS:4.868030548095703\n",
      "LOSS:2.68110990524292\n",
      "LOSS:3.742905855178833\n",
      "LOSS:3.7753350734710693\n"
     ]
    },
    {
     "name": "stderr",
     "output_type": "stream",
     "text": [
      "ROUND:[21600]: 100%|██████████████████████████████████████████████████████████████████| 44/44 [00:00<00:00, 286.48it/s]\n"
     ]
    },
    {
     "name": "stdout",
     "output_type": "stream",
     "text": [
      "LOSS:6.514532089233398\n",
      "LOSS:2.797959804534912\n",
      "VAILD_LOSS:4.838929674842141\n",
      "--------------------\n",
      "TIMES:52**************************\n"
     ]
    },
    {
     "name": "stderr",
     "output_type": "stream",
     "text": [
      "ROUND:[108000]:   0%|                                                                           | 0/44 [00:00<?, ?it/s]"
     ]
    },
    {
     "name": "stdout",
     "output_type": "stream",
     "text": [
      "LOSS:7.087562561035156\n",
      "LOSS:3.874828338623047\n",
      "LOSS:4.280308246612549\n",
      "LOSS:4.550610065460205\n"
     ]
    },
    {
     "name": "stderr",
     "output_type": "stream",
     "text": [
      "ROUND:[108000]:   0%|                                                                           | 0/44 [00:00<?, ?it/s]"
     ]
    },
    {
     "name": "stdout",
     "output_type": "stream",
     "text": [
      "LOSS:4.423752307891846\n",
      "LOSS:4.404067516326904\n",
      "LOSS:5.251863479614258\n",
      "LOSS:3.608441114425659\n",
      "LOSS:7.23432731628418\n"
     ]
    },
    {
     "name": "stderr",
     "output_type": "stream",
     "text": [
      "ROUND:[108000]:   0%|                                                                           | 0/44 [00:00<?, ?it/s]"
     ]
    },
    {
     "name": "stdout",
     "output_type": "stream",
     "text": [
      "LOSS:6.522679328918457\n",
      "LOSS:4.1792826652526855\n",
      "LOSS:5.585604190826416\n",
      "LOSS:3.935166597366333\n",
      "LOSS:8.333654403686523\n"
     ]
    },
    {
     "name": "stderr",
     "output_type": "stream",
     "text": [
      "ROUND:[108000]:   0%|                                                                           | 0/44 [00:00<?, ?it/s]"
     ]
    },
    {
     "name": "stdout",
     "output_type": "stream",
     "text": [
      "LOSS:3.0681841373443604\n",
      "LOSS:4.132807731628418\n",
      "LOSS:3.1239821910858154\n",
      "LOSS:4.649491310119629\n",
      "LOSS:3.7748615741729736\n"
     ]
    },
    {
     "name": "stderr",
     "output_type": "stream",
     "text": [
      "ROUND:[108000]:   0%|                                                                           | 0/44 [00:00<?, ?it/s]"
     ]
    },
    {
     "name": "stdout",
     "output_type": "stream",
     "text": [
      "LOSS:3.364258289337158\n",
      "LOSS:4.027683734893799\n",
      "LOSS:4.752327919006348\n",
      "LOSS:5.566381931304932\n"
     ]
    },
    {
     "name": "stderr",
     "output_type": "stream",
     "text": [
      "ROUND:[108000]:   0%|                                                                           | 0/44 [00:00<?, ?it/s]"
     ]
    },
    {
     "name": "stdout",
     "output_type": "stream",
     "text": [
      "LOSS:2.6830880641937256\n",
      "LOSS:5.026172161102295\n",
      "LOSS:3.0546681880950928\n",
      "LOSS:3.843430757522583\n",
      "LOSS:3.546520709991455\n"
     ]
    },
    {
     "name": "stderr",
     "output_type": "stream",
     "text": [
      "ROUND:[108000]:  68%|████████████████████████████████████████████▎                    | 30/44 [00:00<00:00, 297.82it/s]"
     ]
    },
    {
     "name": "stdout",
     "output_type": "stream",
     "text": [
      "LOSS:4.617180347442627\n",
      "LOSS:4.347173690795898\n",
      "LOSS:3.3258988857269287\n",
      "LOSS:4.628529071807861\n"
     ]
    },
    {
     "name": "stderr",
     "output_type": "stream",
     "text": [
      "ROUND:[108000]:  68%|████████████████████████████████████████████▎                    | 30/44 [00:00<00:00, 297.82it/s]"
     ]
    },
    {
     "name": "stdout",
     "output_type": "stream",
     "text": [
      "LOSS:5.179996013641357\n",
      "LOSS:3.284679412841797\n",
      "LOSS:3.683655023574829\n",
      "LOSS:4.152175426483154\n"
     ]
    },
    {
     "name": "stderr",
     "output_type": "stream",
     "text": [
      "ROUND:[108000]:  68%|████████████████████████████████████████████▎                    | 30/44 [00:00<00:00, 297.82it/s]"
     ]
    },
    {
     "name": "stdout",
     "output_type": "stream",
     "text": [
      "LOSS:5.421141147613525\n",
      "LOSS:3.660900115966797\n",
      "LOSS:4.856534957885742\n",
      "LOSS:2.678302526473999\n",
      "LOSS:3.7353343963623047\n"
     ]
    },
    {
     "name": "stderr",
     "output_type": "stream",
     "text": [
      "ROUND:[21600]: 100%|██████████████████████████████████████████████████████████████████| 44/44 [00:00<00:00, 292.09it/s]\n"
     ]
    },
    {
     "name": "stdout",
     "output_type": "stream",
     "text": [
      "LOSS:3.7753872871398926\n",
      "LOSS:6.49477481842041\n",
      "LOSS:2.7910990715026855\n",
      "VAILD_LOSS:4.8269314549186015\n",
      "--------------------\n",
      "TIMES:53**************************\n"
     ]
    },
    {
     "name": "stderr",
     "output_type": "stream",
     "text": [
      "ROUND:[108000]:   0%|                                                                           | 0/44 [00:00<?, ?it/s]"
     ]
    },
    {
     "name": "stdout",
     "output_type": "stream",
     "text": [
      "LOSS:7.070406436920166\n",
      "LOSS:3.8669676780700684\n",
      "LOSS:4.269810199737549\n"
     ]
    },
    {
     "name": "stderr",
     "output_type": "stream",
     "text": [
      "ROUND:[108000]:   0%|                                                                           | 0/44 [00:00<?, ?it/s]"
     ]
    },
    {
     "name": "stdout",
     "output_type": "stream",
     "text": [
      "LOSS:4.54279088973999\n",
      "LOSS:4.414803981781006\n",
      "LOSS:4.394286632537842\n",
      "LOSS:5.23771858215332\n"
     ]
    },
    {
     "name": "stderr",
     "output_type": "stream",
     "text": [
      "ROUND:[108000]:   0%|                                                                           | 0/44 [00:00<?, ?it/s]"
     ]
    },
    {
     "name": "stdout",
     "output_type": "stream",
     "text": [
      "LOSS:3.601940155029297\n",
      "LOSS:7.212860107421875\n",
      "LOSS:6.503412246704102\n",
      "LOSS:4.169691562652588\n",
      "LOSS:5.572027683258057\n"
     ]
    },
    {
     "name": "stderr",
     "output_type": "stream",
     "text": [
      "ROUND:[108000]:   0%|                                                                           | 0/44 [00:00<?, ?it/s]"
     ]
    },
    {
     "name": "stdout",
     "output_type": "stream",
     "text": [
      "LOSS:3.9222607612609863\n",
      "LOSS:8.322593688964844\n",
      "LOSS:3.0584380626678467\n",
      "LOSS:4.122624397277832\n"
     ]
    },
    {
     "name": "stderr",
     "output_type": "stream",
     "text": [
      "ROUND:[108000]:   0%|                                                                           | 0/44 [00:00<?, ?it/s]"
     ]
    },
    {
     "name": "stdout",
     "output_type": "stream",
     "text": [
      "LOSS:3.115706443786621\n",
      "LOSS:4.636377334594727\n",
      "LOSS:3.7631969451904297\n",
      "LOSS:3.3582653999328613\n",
      "LOSS:4.014617443084717\n"
     ]
    },
    {
     "name": "stderr",
     "output_type": "stream",
     "text": [
      "ROUND:[108000]:   0%|                                                                           | 0/44 [00:00<?, ?it/s]"
     ]
    },
    {
     "name": "stdout",
     "output_type": "stream",
     "text": [
      "LOSS:4.739001274108887\n",
      "LOSS:5.554126262664795\n",
      "LOSS:2.6762309074401855\n",
      "LOSS:5.017434597015381\n"
     ]
    },
    {
     "name": "stderr",
     "output_type": "stream",
     "text": [
      "ROUND:[108000]:  66%|██████████████████████████████████████████▊                      | 29/44 [00:00<00:00, 282.31it/s]"
     ]
    },
    {
     "name": "stdout",
     "output_type": "stream",
     "text": [
      "LOSS:3.0467238426208496\n",
      "LOSS:3.8339192867279053\n",
      "LOSS:3.5403149127960205\n",
      "LOSS:4.609006404876709\n"
     ]
    },
    {
     "name": "stderr",
     "output_type": "stream",
     "text": [
      "ROUND:[108000]:  66%|██████████████████████████████████████████▊                      | 29/44 [00:00<00:00, 282.31it/s]"
     ]
    },
    {
     "name": "stdout",
     "output_type": "stream",
     "text": [
      "LOSS:4.336172580718994\n",
      "LOSS:3.3170738220214844\n",
      "LOSS:4.611391067504883\n",
      "LOSS:5.172032356262207\n",
      "LOSS:3.273805856704712\n"
     ]
    },
    {
     "name": "stderr",
     "output_type": "stream",
     "text": [
      "ROUND:[108000]:  66%|██████████████████████████████████████████▊                      | 29/44 [00:00<00:00, 282.31it/s]"
     ]
    },
    {
     "name": "stdout",
     "output_type": "stream",
     "text": [
      "LOSS:3.6741151809692383\n",
      "LOSS:4.1421637535095215\n",
      "LOSS:5.402789115905762\n",
      "LOSS:3.65087890625\n",
      "LOSS:4.846762180328369\n"
     ]
    },
    {
     "name": "stderr",
     "output_type": "stream",
     "text": [
      "ROUND:[21600]:  66%|███████████████████████████████████████████▌                      | 29/44 [00:00<00:00, 282.31it/s]"
     ]
    },
    {
     "name": "stdout",
     "output_type": "stream",
     "text": [
      "LOSS:2.674877166748047\n",
      "LOSS:3.7272207736968994\n",
      "LOSS:3.773401975631714\n",
      "LOSS:6.47526216506958\n"
     ]
    },
    {
     "name": "stderr",
     "output_type": "stream",
     "text": [
      "ROUND:[21600]: 100%|██████████████████████████████████████████████████████████████████| 44/44 [00:00<00:00, 284.63it/s]\n"
     ]
    },
    {
     "name": "stdout",
     "output_type": "stream",
     "text": [
      "LOSS:2.781505823135376\n",
      "VAILD_LOSS:4.813882112503052\n",
      "--------------------\n",
      "TIMES:54**************************\n"
     ]
    },
    {
     "name": "stderr",
     "output_type": "stream",
     "text": [
      "ROUND:[108000]:   0%|                                                                           | 0/44 [00:00<?, ?it/s]"
     ]
    },
    {
     "name": "stdout",
     "output_type": "stream",
     "text": [
      "LOSS:7.053859233856201\n"
     ]
    },
    {
     "name": "stderr",
     "output_type": "stream",
     "text": [
      "ROUND:[108000]:   0%|                                                                           | 0/44 [00:00<?, ?it/s]"
     ]
    },
    {
     "name": "stdout",
     "output_type": "stream",
     "text": [
      "LOSS:3.8596954345703125\n",
      "LOSS:4.2600836753845215\n",
      "LOSS:4.535253047943115\n",
      "LOSS:4.407601356506348\n",
      "LOSS:4.386143684387207\n"
     ]
    },
    {
     "name": "stderr",
     "output_type": "stream",
     "text": [
      "ROUND:[108000]:   0%|                                                                           | 0/44 [00:00<?, ?it/s]"
     ]
    },
    {
     "name": "stdout",
     "output_type": "stream",
     "text": [
      "LOSS:5.223458290100098\n",
      "LOSS:3.597510814666748\n",
      "LOSS:7.191720008850098\n",
      "LOSS:6.484293460845947\n"
     ]
    },
    {
     "name": "stderr",
     "output_type": "stream",
     "text": [
      "ROUND:[108000]:   0%|                                                                           | 0/44 [00:00<?, ?it/s]"
     ]
    },
    {
     "name": "stdout",
     "output_type": "stream",
     "text": [
      "LOSS:4.160799980163574\n",
      "LOSS:5.557531833648682\n",
      "LOSS:3.9096903800964355\n",
      "LOSS:8.311988830566406\n",
      "LOSS:3.0486514568328857\n"
     ]
    },
    {
     "name": "stderr",
     "output_type": "stream",
     "text": [
      "ROUND:[108000]:   0%|                                                                           | 0/44 [00:00<?, ?it/s]"
     ]
    },
    {
     "name": "stdout",
     "output_type": "stream",
     "text": [
      "LOSS:4.112848281860352\n",
      "LOSS:3.107707977294922\n",
      "LOSS:4.623195171356201\n",
      "LOSS:3.751185178756714\n"
     ]
    },
    {
     "name": "stderr",
     "output_type": "stream",
     "text": [
      "ROUND:[108000]:   0%|                                                                           | 0/44 [00:00<?, ?it/s]"
     ]
    },
    {
     "name": "stdout",
     "output_type": "stream",
     "text": [
      "LOSS:3.352714776992798\n",
      "LOSS:4.0019707679748535\n",
      "LOSS:4.7256269454956055\n",
      "LOSS:5.542604923248291\n",
      "LOSS:2.6691417694091797\n"
     ]
    },
    {
     "name": "stderr",
     "output_type": "stream",
     "text": [
      "ROUND:[108000]:   0%|                                                                           | 0/44 [00:00<?, ?it/s]"
     ]
    },
    {
     "name": "stdout",
     "output_type": "stream",
     "text": [
      "LOSS:5.008033752441406\n",
      "LOSS:3.038757801055908\n",
      "LOSS:3.8240857124328613\n",
      "LOSS:3.5325591564178467\n"
     ]
    },
    {
     "name": "stderr",
     "output_type": "stream",
     "text": [
      "ROUND:[108000]:  66%|██████████████████████████████████████████▊                      | 29/44 [00:00<00:00, 287.90it/s]"
     ]
    },
    {
     "name": "stdout",
     "output_type": "stream",
     "text": [
      "LOSS:4.600236892700195\n",
      "LOSS:4.324167251586914\n",
      "LOSS:3.3083267211914062\n",
      "LOSS:4.594540119171143\n",
      "LOSS:5.163061618804932\n"
     ]
    },
    {
     "name": "stderr",
     "output_type": "stream",
     "text": [
      "ROUND:[108000]:  66%|██████████████████████████████████████████▊                      | 29/44 [00:00<00:00, 287.90it/s]"
     ]
    },
    {
     "name": "stdout",
     "output_type": "stream",
     "text": [
      "LOSS:3.2646477222442627\n",
      "LOSS:3.666227102279663\n",
      "LOSS:4.131397724151611\n",
      "LOSS:5.3848371505737305\n"
     ]
    },
    {
     "name": "stderr",
     "output_type": "stream",
     "text": [
      "ROUND:[108000]:  66%|██████████████████████████████████████████▊                      | 29/44 [00:00<00:00, 287.90it/s]"
     ]
    },
    {
     "name": "stdout",
     "output_type": "stream",
     "text": [
      "LOSS:3.6424596309661865\n",
      "LOSS:4.836584568023682\n",
      "LOSS:2.6707241535186768\n",
      "LOSS:3.7197790145874023\n"
     ]
    },
    {
     "name": "stderr",
     "output_type": "stream",
     "text": [
      "ROUND:[21600]: 100%|██████████████████████████████████████████████████████████████████| 44/44 [00:00<00:00, 282.81it/s]\n"
     ]
    },
    {
     "name": "stdout",
     "output_type": "stream",
     "text": [
      "LOSS:3.773167610168457\n",
      "LOSS:6.456055641174316\n",
      "LOSS:2.775399684906006\n",
      "VAILD_LOSS:4.801818999377164\n",
      "--------------------\n",
      "TIMES:55**************************\n"
     ]
    },
    {
     "name": "stderr",
     "output_type": "stream",
     "text": [
      "ROUND:[108000]:   0%|                                                                           | 0/44 [00:00<?, ?it/s]"
     ]
    },
    {
     "name": "stdout",
     "output_type": "stream",
     "text": [
      "LOSS:7.035503387451172\n",
      "LOSS:3.8501157760620117\n",
      "LOSS:4.248451232910156\n"
     ]
    },
    {
     "name": "stderr",
     "output_type": "stream",
     "text": [
      "ROUND:[108000]:   0%|                                                                           | 0/44 [00:00<?, ?it/s]"
     ]
    },
    {
     "name": "stdout",
     "output_type": "stream",
     "text": [
      "LOSS:4.526205539703369\n",
      "LOSS:4.3967814445495605\n",
      "LOSS:4.375479221343994\n",
      "LOSS:5.210875034332275\n"
     ]
    },
    {
     "name": "stderr",
     "output_type": "stream",
     "text": [
      "ROUND:[108000]:   0%|                                                                           | 0/44 [00:00<?, ?it/s]"
     ]
    },
    {
     "name": "stdout",
     "output_type": "stream",
     "text": [
      "LOSS:3.5913805961608887\n",
      "LOSS:7.169089317321777\n",
      "LOSS:6.467559814453125\n",
      "LOSS:4.151704788208008\n",
      "LOSS:5.544771671295166\n"
     ]
    },
    {
     "name": "stderr",
     "output_type": "stream",
     "text": [
      "ROUND:[108000]:   0%|                                                                           | 0/44 [00:00<?, ?it/s]"
     ]
    },
    {
     "name": "stdout",
     "output_type": "stream",
     "text": [
      "LOSS:3.897691249847412\n",
      "LOSS:8.301636695861816\n",
      "LOSS:3.0391366481781006\n",
      "LOSS:4.1036601066589355\n",
      "LOSS:3.100701332092285\n"
     ]
    },
    {
     "name": "stderr",
     "output_type": "stream",
     "text": [
      "ROUND:[108000]:   0%|                                                                           | 0/44 [00:00<?, ?it/s]"
     ]
    },
    {
     "name": "stdout",
     "output_type": "stream",
     "text": [
      "LOSS:4.610358715057373\n",
      "LOSS:3.7388570308685303\n",
      "LOSS:3.347515821456909\n",
      "LOSS:3.9897100925445557\n"
     ]
    },
    {
     "name": "stderr",
     "output_type": "stream",
     "text": [
      "ROUND:[108000]:   0%|                                                                           | 0/44 [00:00<?, ?it/s]"
     ]
    },
    {
     "name": "stdout",
     "output_type": "stream",
     "text": [
      "LOSS:4.712146759033203\n",
      "LOSS:5.531283855438232\n",
      "LOSS:2.6621150970458984\n",
      "LOSS:4.997149467468262\n",
      "LOSS:3.031280517578125\n"
     ]
    },
    {
     "name": "stderr",
     "output_type": "stream",
     "text": [
      "ROUND:[108000]:  68%|████████████████████████████████████████████▎                    | 30/44 [00:00<00:00, 292.04it/s]"
     ]
    },
    {
     "name": "stdout",
     "output_type": "stream",
     "text": [
      "LOSS:3.81453537940979\n",
      "LOSS:3.5247387886047363\n",
      "LOSS:4.592191219329834\n",
      "LOSS:4.312873363494873\n"
     ]
    },
    {
     "name": "stderr",
     "output_type": "stream",
     "text": [
      "ROUND:[108000]:  68%|████████████████████████████████████████████▎                    | 30/44 [00:00<00:00, 292.04it/s]"
     ]
    },
    {
     "name": "stdout",
     "output_type": "stream",
     "text": [
      "LOSS:3.2992751598358154\n",
      "LOSS:4.578317165374756\n",
      "LOSS:5.153964519500732\n",
      "LOSS:3.2552287578582764\n"
     ]
    },
    {
     "name": "stderr",
     "output_type": "stream",
     "text": [
      "ROUND:[108000]:  68%|████████████████████████████████████████████▎                    | 30/44 [00:00<00:00, 292.04it/s]"
     ]
    },
    {
     "name": "stdout",
     "output_type": "stream",
     "text": [
      "LOSS:3.657491445541382\n",
      "LOSS:4.120359420776367\n",
      "LOSS:5.366608619689941\n",
      "LOSS:3.633023500442505\n",
      "LOSS:4.827430248260498\n"
     ]
    },
    {
     "name": "stderr",
     "output_type": "stream",
     "text": [
      "ROUND:[21600]:  68%|█████████████████████████████████████████████                     | 30/44 [00:00<00:00, 292.04it/s]"
     ]
    },
    {
     "name": "stdout",
     "output_type": "stream",
     "text": [
      "LOSS:2.6663403511047363\n",
      "LOSS:3.7119600772857666\n",
      "LOSS:3.771214008331299\n",
      "LOSS:6.437053203582764\n"
     ]
    },
    {
     "name": "stderr",
     "output_type": "stream",
     "text": [
      "ROUND:[21600]: 100%|██████████████████████████████████████████████████████████████████| 44/44 [00:00<00:00, 286.47it/s]\n"
     ]
    },
    {
     "name": "stdout",
     "output_type": "stream",
     "text": [
      "LOSS:2.767061471939087\n",
      "VAILD_LOSS:4.788933970711448\n",
      "--------------------\n",
      "TIMES:56**************************\n"
     ]
    },
    {
     "name": "stderr",
     "output_type": "stream",
     "text": [
      "ROUND:[108000]:   0%|                                                                           | 0/44 [00:00<?, ?it/s]"
     ]
    },
    {
     "name": "stdout",
     "output_type": "stream",
     "text": [
      "LOSS:7.018258094787598\n",
      "LOSS:3.841810941696167\n",
      "LOSS:4.238043308258057\n",
      "LOSS:4.51788330078125\n",
      "LOSS:4.38879919052124\n"
     ]
    },
    {
     "name": "stderr",
     "output_type": "stream",
     "text": [
      "ROUND:[108000]:   0%|                                                                           | 0/44 [00:00<?, ?it/s]"
     ]
    },
    {
     "name": "stdout",
     "output_type": "stream",
     "text": [
      "LOSS:4.367180347442627\n",
      "LOSS:5.1974005699157715\n",
      "LOSS:3.587071418762207\n",
      "LOSS:7.147770881652832\n"
     ]
    },
    {
     "name": "stderr",
     "output_type": "stream",
     "text": [
      "ROUND:[108000]:   0%|                                                                           | 0/44 [00:00<?, ?it/s]"
     ]
    },
    {
     "name": "stdout",
     "output_type": "stream",
     "text": [
      "LOSS:6.448919296264648\n",
      "LOSS:4.143141746520996\n",
      "LOSS:5.530556678771973\n",
      "LOSS:3.8854663372039795\n",
      "LOSS:8.290936470031738\n"
     ]
    },
    {
     "name": "stderr",
     "output_type": "stream",
     "text": [
      "ROUND:[108000]:   0%|                                                                           | 0/44 [00:00<?, ?it/s]"
     ]
    },
    {
     "name": "stdout",
     "output_type": "stream",
     "text": [
      "LOSS:3.0296356678009033\n",
      "LOSS:4.094058036804199\n",
      "LOSS:3.0930235385894775\n",
      "LOSS:4.597998142242432\n"
     ]
    },
    {
     "name": "stderr",
     "output_type": "stream",
     "text": [
      "ROUND:[108000]:   0%|                                                                           | 0/44 [00:00<?, ?it/s]"
     ]
    },
    {
     "name": "stdout",
     "output_type": "stream",
     "text": [
      "LOSS:3.72672176361084\n",
      "LOSS:3.3423562049865723\n",
      "LOSS:3.97729754447937\n",
      "LOSS:4.699230194091797\n",
      "LOSS:5.520628452301025\n"
     ]
    },
    {
     "name": "stderr",
     "output_type": "stream",
     "text": [
      "ROUND:[108000]:   0%|                                                                           | 0/44 [00:00<?, ?it/s]"
     ]
    },
    {
     "name": "stdout",
     "output_type": "stream",
     "text": [
      "LOSS:2.65464186668396\n",
      "LOSS:4.9870219230651855\n",
      "LOSS:3.0238304138183594\n",
      "LOSS:3.8045101165771484\n",
      "LOSS:3.5166964530944824\n"
     ]
    },
    {
     "name": "stderr",
     "output_type": "stream",
     "text": [
      "ROUND:[108000]:  68%|████████████████████████████████████████████▎                    | 30/44 [00:00<00:00, 291.95it/s]"
     ]
    },
    {
     "name": "stdout",
     "output_type": "stream",
     "text": [
      "LOSS:4.584107398986816\n",
      "LOSS:4.301156044006348\n",
      "LOSS:3.290004253387451\n",
      "LOSS:4.561591625213623\n"
     ]
    },
    {
     "name": "stderr",
     "output_type": "stream",
     "text": [
      "ROUND:[108000]:  68%|████████████████████████████████████████████▎                    | 30/44 [00:00<00:00, 291.95it/s]"
     ]
    },
    {
     "name": "stdout",
     "output_type": "stream",
     "text": [
      "LOSS:5.144805908203125\n",
      "LOSS:3.2463741302490234\n",
      "LOSS:3.648871898651123\n",
      "LOSS:4.109488010406494\n",
      "LOSS:5.348563194274902\n"
     ]
    },
    {
     "name": "stderr",
     "output_type": "stream",
     "text": [
      "ROUND:[108000]:  68%|████████████████████████████████████████████▎                    | 30/44 [00:00<00:00, 291.95it/s]"
     ]
    },
    {
     "name": "stdout",
     "output_type": "stream",
     "text": [
      "LOSS:3.6244616508483887\n",
      "LOSS:4.818285942077637\n",
      "LOSS:2.6621007919311523\n",
      "LOSS:3.704801559448242\n",
      "LOSS:3.771759510040283\n"
     ]
    },
    {
     "name": "stderr",
     "output_type": "stream",
     "text": [
      "ROUND:[21600]: 100%|██████████████████████████████████████████████████████████████████| 44/44 [00:00<00:00, 294.05it/s]\n"
     ]
    },
    {
     "name": "stdout",
     "output_type": "stream",
     "text": [
      "LOSS:6.41798734664917\n",
      "LOSS:2.7611491680145264\n",
      "VAILD_LOSS:4.777016618035057\n",
      "--------------------\n",
      "TIMES:57**************************\n"
     ]
    },
    {
     "name": "stderr",
     "output_type": "stream",
     "text": [
      "ROUND:[108000]:   0%|                                                                           | 0/44 [00:00<?, ?it/s]"
     ]
    },
    {
     "name": "stdout",
     "output_type": "stream",
     "text": [
      "LOSS:7.000916481018066\n",
      "LOSS:3.8327527046203613\n"
     ]
    },
    {
     "name": "stderr",
     "output_type": "stream",
     "text": [
      "ROUND:[108000]:   0%|                                                                           | 0/44 [00:00<?, ?it/s]"
     ]
    },
    {
     "name": "stdout",
     "output_type": "stream",
     "text": [
      "LOSS:4.22613525390625\n",
      "LOSS:4.509580612182617\n",
      "LOSS:4.377701282501221\n",
      "LOSS:4.3558549880981445\n",
      "LOSS:5.184749603271484\n"
     ]
    },
    {
     "name": "stderr",
     "output_type": "stream",
     "text": [
      "ROUND:[108000]:   0%|                                                                           | 0/44 [00:00<?, ?it/s]"
     ]
    },
    {
     "name": "stdout",
     "output_type": "stream",
     "text": [
      "LOSS:3.5800132751464844\n",
      "LOSS:7.125402450561523\n",
      "LOSS:6.431196212768555\n"
     ]
    },
    {
     "name": "stderr",
     "output_type": "stream",
     "text": [
      "ROUND:[108000]:   0%|                                                                           | 0/44 [00:00<?, ?it/s]"
     ]
    },
    {
     "name": "stdout",
     "output_type": "stream",
     "text": [
      "LOSS:4.133458614349365\n",
      "LOSS:5.51841926574707\n",
      "LOSS:3.8735179901123047\n",
      "LOSS:8.279651641845703\n"
     ]
    },
    {
     "name": "stderr",
     "output_type": "stream",
     "text": [
      "ROUND:[108000]:   0%|                                                                           | 0/44 [00:00<?, ?it/s]"
     ]
    },
    {
     "name": "stdout",
     "output_type": "stream",
     "text": [
      "LOSS:3.0212831497192383\n",
      "LOSS:4.084347248077393\n",
      "LOSS:3.086320161819458\n",
      "LOSS:4.587317943572998\n"
     ]
    },
    {
     "name": "stderr",
     "output_type": "stream",
     "text": [
      "ROUND:[108000]:   0%|                                                                           | 0/44 [00:00<?, ?it/s]"
     ]
    },
    {
     "name": "stdout",
     "output_type": "stream",
     "text": [
      "LOSS:3.714754581451416\n",
      "LOSS:3.3368611335754395\n",
      "LOSS:3.964226007461548\n"
     ]
    },
    {
     "name": "stderr",
     "output_type": "stream",
     "text": [
      "ROUND:[108000]:  57%|████████████████████████████████████▉                            | 25/44 [00:00<00:00, 243.36it/s]"
     ]
    },
    {
     "name": "stdout",
     "output_type": "stream",
     "text": [
      "LOSS:4.686777114868164\n",
      "LOSS:5.509939670562744\n",
      "LOSS:2.647132158279419\n",
      "LOSS:4.977771282196045\n"
     ]
    },
    {
     "name": "stderr",
     "output_type": "stream",
     "text": [
      "ROUND:[108000]:  57%|████████████████████████████████████▉                            | 25/44 [00:00<00:00, 243.36it/s]"
     ]
    },
    {
     "name": "stdout",
     "output_type": "stream",
     "text": [
      "LOSS:3.016587495803833\n",
      "LOSS:3.7944798469543457\n",
      "LOSS:3.509655714035034\n",
      "LOSS:4.5765814781188965\n"
     ]
    },
    {
     "name": "stderr",
     "output_type": "stream",
     "text": [
      "ROUND:[108000]:  57%|████████████████████████████████████▉                            | 25/44 [00:00<00:00, 243.36it/s]"
     ]
    },
    {
     "name": "stdout",
     "output_type": "stream",
     "text": [
      "LOSS:4.289770603179932\n",
      "LOSS:3.280499219894409\n",
      "LOSS:4.544436454772949\n"
     ]
    },
    {
     "name": "stderr",
     "output_type": "stream",
     "text": [
      "ROUND:[108000]:  57%|████████████████████████████████████▉                            | 25/44 [00:00<00:00, 243.36it/s]"
     ]
    },
    {
     "name": "stdout",
     "output_type": "stream",
     "text": [
      "LOSS:5.136379241943359\n",
      "LOSS:3.2369303703308105\n",
      "LOSS:3.639577627182007\n",
      "LOSS:4.099203586578369\n"
     ]
    },
    {
     "name": "stderr",
     "output_type": "stream",
     "text": [
      "ROUND:[108000]:  57%|████████████████████████████████████▉                            | 25/44 [00:00<00:00, 243.36it/s]"
     ]
    },
    {
     "name": "stdout",
     "output_type": "stream",
     "text": [
      "LOSS:5.330343723297119\n",
      "LOSS:3.6155409812927246\n",
      "LOSS:4.8093438148498535\n",
      "LOSS:2.658484935760498\n"
     ]
    },
    {
     "name": "stderr",
     "output_type": "stream",
     "text": [
      "ROUND:[21600]: 100%|██████████████████████████████████████████████████████████████████| 44/44 [00:00<00:00, 239.86it/s]"
     ]
    },
    {
     "name": "stdout",
     "output_type": "stream",
     "text": [
      "LOSS:3.6973061561584473\n",
      "LOSS:3.771094560623169\n",
      "LOSS:6.39888334274292\n",
      "LOSS:2.7535312175750732\n"
     ]
    },
    {
     "name": "stderr",
     "output_type": "stream",
     "text": [
      "\n"
     ]
    },
    {
     "name": "stdout",
     "output_type": "stream",
     "text": [
      "VAILD_LOSS:4.76483795859597\n",
      "--------------------\n",
      "TIMES:58**************************\n"
     ]
    },
    {
     "name": "stderr",
     "output_type": "stream",
     "text": [
      "ROUND:[108000]:   0%|                                                                           | 0/44 [00:00<?, ?it/s]"
     ]
    },
    {
     "name": "stdout",
     "output_type": "stream",
     "text": [
      "LOSS:6.9845404624938965\n"
     ]
    },
    {
     "name": "stderr",
     "output_type": "stream",
     "text": [
      "ROUND:[108000]:   0%|                                                                           | 0/44 [00:00<?, ?it/s]"
     ]
    },
    {
     "name": "stdout",
     "output_type": "stream",
     "text": [
      "LOSS:3.825120687484741\n",
      "LOSS:4.215150833129883\n",
      "LOSS:4.5021233558654785\n",
      "LOSS:4.368579387664795\n"
     ]
    },
    {
     "name": "stderr",
     "output_type": "stream",
     "text": [
      "ROUND:[108000]:   0%|                                                                           | 0/44 [00:00<?, ?it/s]"
     ]
    },
    {
     "name": "stdout",
     "output_type": "stream",
     "text": [
      "LOSS:4.346186637878418\n",
      "LOSS:5.171204090118408\n"
     ]
    },
    {
     "name": "stderr",
     "output_type": "stream",
     "text": [
      "ROUND:[108000]:   0%|                                                                           | 0/44 [00:00<?, ?it/s]"
     ]
    },
    {
     "name": "stdout",
     "output_type": "stream",
     "text": [
      "LOSS:3.573862314224243\n",
      "LOSS:7.104331016540527\n",
      "LOSS:6.411915302276611\n"
     ]
    },
    {
     "name": "stderr",
     "output_type": "stream",
     "text": [
      "ROUND:[108000]:   0%|                                                                           | 0/44 [00:00<?, ?it/s]"
     ]
    },
    {
     "name": "stdout",
     "output_type": "stream",
     "text": [
      "LOSS:4.124122142791748\n",
      "LOSS:5.505136013031006\n",
      "LOSS:3.861265182495117\n",
      "LOSS:8.26828384399414\n"
     ]
    },
    {
     "name": "stderr",
     "output_type": "stream",
     "text": [
      "ROUND:[108000]:   0%|                                                                           | 0/44 [00:00<?, ?it/s]"
     ]
    },
    {
     "name": "stdout",
     "output_type": "stream",
     "text": [
      "LOSS:3.012612819671631\n",
      "LOSS:4.074235916137695\n",
      "LOSS:3.079423189163208\n",
      "LOSS:4.576676845550537\n"
     ]
    },
    {
     "name": "stderr",
     "output_type": "stream",
     "text": [
      "ROUND:[108000]:   0%|                                                                           | 0/44 [00:00<?, ?it/s]"
     ]
    },
    {
     "name": "stdout",
     "output_type": "stream",
     "text": [
      "LOSS:3.7030272483825684\n",
      "LOSS:3.330731153488159\n",
      "LOSS:3.950744867324829\n"
     ]
    },
    {
     "name": "stderr",
     "output_type": "stream",
     "text": [
      "ROUND:[108000]:  52%|█████████████████████████████████▉                               | 23/44 [00:00<00:00, 214.57it/s]"
     ]
    },
    {
     "name": "stdout",
     "output_type": "stream",
     "text": [
      "LOSS:4.674849987030029\n",
      "LOSS:5.499381065368652\n",
      "LOSS:2.6393802165985107\n",
      "LOSS:4.970372676849365\n"
     ]
    },
    {
     "name": "stderr",
     "output_type": "stream",
     "text": [
      "ROUND:[108000]:  52%|█████████████████████████████████▉                               | 23/44 [00:00<00:00, 214.57it/s]"
     ]
    },
    {
     "name": "stdout",
     "output_type": "stream",
     "text": [
      "LOSS:3.0087339878082275\n",
      "LOSS:3.784130573272705\n",
      "LOSS:3.5025415420532227\n",
      "LOSS:4.568119525909424\n"
     ]
    },
    {
     "name": "stderr",
     "output_type": "stream",
     "text": [
      "ROUND:[108000]:  52%|█████████████████████████████████▉                               | 23/44 [00:00<00:00, 214.57it/s]"
     ]
    },
    {
     "name": "stdout",
     "output_type": "stream",
     "text": [
      "LOSS:4.277599334716797\n",
      "LOSS:3.270709753036499\n",
      "LOSS:4.5269575119018555\n"
     ]
    },
    {
     "name": "stderr",
     "output_type": "stream",
     "text": [
      "ROUND:[108000]:  52%|█████████████████████████████████▉                               | 23/44 [00:00<00:00, 214.57it/s]"
     ]
    },
    {
     "name": "stdout",
     "output_type": "stream",
     "text": [
      "LOSS:5.1281914710998535\n",
      "LOSS:3.2275614738464355\n",
      "LOSS:3.6304070949554443\n",
      "LOSS:4.089113712310791\n"
     ]
    },
    {
     "name": "stderr",
     "output_type": "stream",
     "text": [
      "ROUND:[108000]:  52%|█████████████████████████████████▉                               | 23/44 [00:00<00:00, 214.57it/s]"
     ]
    },
    {
     "name": "stdout",
     "output_type": "stream",
     "text": [
      "LOSS:5.311964511871338\n",
      "LOSS:3.6072771549224854\n",
      "LOSS:4.800027370452881\n",
      "LOSS:2.65519642829895\n"
     ]
    },
    {
     "name": "stderr",
     "output_type": "stream",
     "text": [
      "ROUND:[21600]:  52%|██████████████████████████████████▌                               | 23/44 [00:00<00:00, 214.57it/s]"
     ]
    },
    {
     "name": "stdout",
     "output_type": "stream",
     "text": [
      "LOSS:3.6898739337921143\n",
      "LOSS:3.7706706523895264\n",
      "LOSS:6.379831790924072\n"
     ]
    },
    {
     "name": "stderr",
     "output_type": "stream",
     "text": [
      "ROUND:[21600]: 100%|██████████████████████████████████████████████████████████████████| 44/44 [00:00<00:00, 226.22it/s]\n"
     ]
    },
    {
     "name": "stdout",
     "output_type": "stream",
     "text": [
      "LOSS:2.7463159561157227\n",
      "VAILD_LOSS:4.752866289832375\n",
      "--------------------\n",
      "TIMES:59**************************\n"
     ]
    },
    {
     "name": "stderr",
     "output_type": "stream",
     "text": [
      "ROUND:[108000]:   0%|                                                                           | 0/44 [00:00<?, ?it/s]"
     ]
    },
    {
     "name": "stdout",
     "output_type": "stream",
     "text": [
      "LOSS:6.968037128448486\n",
      "LOSS:3.8175032138824463\n",
      "LOSS:4.2044196128845215\n"
     ]
    },
    {
     "name": "stderr",
     "output_type": "stream",
     "text": [
      "ROUND:[108000]:   0%|                                                                           | 0/44 [00:00<?, ?it/s]"
     ]
    },
    {
     "name": "stdout",
     "output_type": "stream",
     "text": [
      "LOSS:4.494628429412842\n",
      "LOSS:4.359615325927734\n",
      "LOSS:4.336640357971191\n",
      "LOSS:5.1576128005981445\n"
     ]
    },
    {
     "name": "stderr",
     "output_type": "stream",
     "text": [
      "ROUND:[108000]:   0%|                                                                           | 0/44 [00:00<?, ?it/s]"
     ]
    },
    {
     "name": "stdout",
     "output_type": "stream",
     "text": [
      "LOSS:3.5678322315216064\n",
      "LOSS:7.083544731140137\n",
      "LOSS:6.392253398895264\n",
      "LOSS:4.114917278289795\n"
     ]
    },
    {
     "name": "stderr",
     "output_type": "stream",
     "text": [
      "ROUND:[108000]:   0%|                                                                           | 0/44 [00:00<?, ?it/s]"
     ]
    },
    {
     "name": "stdout",
     "output_type": "stream",
     "text": [
      "LOSS:5.491608619689941\n",
      "LOSS:3.848728656768799\n",
      "LOSS:8.256963729858398\n",
      "LOSS:3.0032360553741455\n"
     ]
    },
    {
     "name": "stderr",
     "output_type": "stream",
     "text": [
      "ROUND:[108000]:   0%|                                                                           | 0/44 [00:00<?, ?it/s]"
     ]
    },
    {
     "name": "stdout",
     "output_type": "stream",
     "text": [
      "LOSS:4.064035415649414\n",
      "LOSS:3.071223735809326\n",
      "LOSS:4.564652442932129\n"
     ]
    },
    {
     "name": "stderr",
     "output_type": "stream",
     "text": [
      "ROUND:[108000]:   0%|                                                                           | 0/44 [00:00<?, ?it/s]"
     ]
    },
    {
     "name": "stdout",
     "output_type": "stream",
     "text": [
      "LOSS:3.6916117668151855\n",
      "LOSS:3.3250157833099365\n",
      "LOSS:3.9382314682006836\n",
      "LOSS:4.6622443199157715\n"
     ]
    },
    {
     "name": "stderr",
     "output_type": "stream",
     "text": [
      "ROUND:[108000]:  57%|████████████████████████████████████▉                            | 25/44 [00:00<00:00, 248.18it/s]"
     ]
    },
    {
     "name": "stdout",
     "output_type": "stream",
     "text": [
      "LOSS:5.487974643707275\n",
      "LOSS:2.6328930854797363\n",
      "LOSS:4.96198034286499\n",
      "LOSS:3.0012102127075195\n"
     ]
    },
    {
     "name": "stderr",
     "output_type": "stream",
     "text": [
      "ROUND:[108000]:  57%|████████████████████████████████████▉                            | 25/44 [00:00<00:00, 248.18it/s]"
     ]
    },
    {
     "name": "stdout",
     "output_type": "stream",
     "text": [
      "LOSS:3.7741618156433105\n",
      "LOSS:3.4964635372161865\n",
      "LOSS:4.560162544250488\n",
      "LOSS:4.266242027282715\n"
     ]
    },
    {
     "name": "stderr",
     "output_type": "stream",
     "text": [
      "ROUND:[108000]:  57%|████████████████████████████████████▉                            | 25/44 [00:00<00:00, 248.18it/s]"
     ]
    },
    {
     "name": "stdout",
     "output_type": "stream",
     "text": [
      "LOSS:3.2610974311828613\n",
      "LOSS:4.50991153717041\n",
      "LOSS:5.120547771453857\n"
     ]
    },
    {
     "name": "stderr",
     "output_type": "stream",
     "text": [
      "ROUND:[108000]:  57%|████████████████████████████████████▉                            | 25/44 [00:00<00:00, 248.18it/s]"
     ]
    },
    {
     "name": "stdout",
     "output_type": "stream",
     "text": [
      "LOSS:3.2175636291503906\n",
      "LOSS:3.620772123336792\n",
      "LOSS:4.079565525054932\n",
      "LOSS:5.2937421798706055\n"
     ]
    },
    {
     "name": "stderr",
     "output_type": "stream",
     "text": [
      "ROUND:[108000]:  57%|████████████████████████████████████▉                            | 25/44 [00:00<00:00, 248.18it/s]"
     ]
    },
    {
     "name": "stdout",
     "output_type": "stream",
     "text": [
      "LOSS:3.598038673400879\n",
      "LOSS:4.791510581970215\n",
      "LOSS:2.6517739295959473\n"
     ]
    },
    {
     "name": "stderr",
     "output_type": "stream",
     "text": [
      "ROUND:[21600]: 100%|██████████████████████████████████████████████████████████████████| 44/44 [00:00<00:00, 239.77it/s]\n"
     ]
    },
    {
     "name": "stdout",
     "output_type": "stream",
     "text": [
      "LOSS:3.681962251663208\n",
      "LOSS:3.768791675567627\n",
      "LOSS:6.360912799835205\n",
      "LOSS:2.7372357845306396\n",
      "VAILD_LOSS:4.740466117858887\n",
      "--------------------\n",
      "TIMES:60**************************\n"
     ]
    },
    {
     "name": "stderr",
     "output_type": "stream",
     "text": [
      "ROUND:[108000]:   0%|                                                                           | 0/44 [00:00<?, ?it/s]"
     ]
    },
    {
     "name": "stdout",
     "output_type": "stream",
     "text": [
      "LOSS:6.952183723449707\n",
      "LOSS:3.810408592224121\n",
      "LOSS:4.194411277770996\n",
      "LOSS:4.48728084564209\n"
     ]
    },
    {
     "name": "stderr",
     "output_type": "stream",
     "text": [
      "ROUND:[108000]:   0%|                                                                           | 0/44 [00:00<?, ?it/s]"
     ]
    },
    {
     "name": "stdout",
     "output_type": "stream",
     "text": [
      "LOSS:4.3519086837768555\n",
      "LOSS:4.327868938446045\n",
      "LOSS:5.14404296875\n",
      "LOSS:3.5622942447662354\n"
     ]
    },
    {
     "name": "stderr",
     "output_type": "stream",
     "text": [
      "ROUND:[108000]:   0%|                                                                           | 0/44 [00:00<?, ?it/s]"
     ]
    },
    {
     "name": "stdout",
     "output_type": "stream",
     "text": [
      "LOSS:7.063201904296875\n",
      "LOSS:6.372599124908447\n",
      "LOSS:4.106019973754883\n",
      "LOSS:5.478050231933594\n"
     ]
    },
    {
     "name": "stderr",
     "output_type": "stream",
     "text": [
      "ROUND:[108000]:   0%|                                                                           | 0/44 [00:00<?, ?it/s]"
     ]
    },
    {
     "name": "stdout",
     "output_type": "stream",
     "text": [
      "LOSS:3.8364312648773193\n",
      "LOSS:8.245386123657227\n",
      "LOSS:2.994060516357422\n",
      "LOSS:4.054014205932617\n"
     ]
    },
    {
     "name": "stderr",
     "output_type": "stream",
     "text": [
      "ROUND:[108000]:   0%|                                                                           | 0/44 [00:00<?, ?it/s]"
     ]
    },
    {
     "name": "stdout",
     "output_type": "stream",
     "text": [
      "LOSS:3.064418077468872\n",
      "LOSS:4.553832530975342\n",
      "LOSS:3.679689645767212\n",
      "LOSS:3.3186702728271484\n"
     ]
    },
    {
     "name": "stderr",
     "output_type": "stream",
     "text": [
      "ROUND:[108000]:   0%|                                                                           | 0/44 [00:00<?, ?it/s]"
     ]
    },
    {
     "name": "stdout",
     "output_type": "stream",
     "text": [
      "LOSS:3.9247710704803467\n",
      "LOSS:4.65060567855835\n",
      "LOSS:5.477899551391602\n",
      "LOSS:2.6246492862701416\n"
     ]
    },
    {
     "name": "stderr",
     "output_type": "stream",
     "text": [
      "ROUND:[108000]:  57%|████████████████████████████████████▉                            | 25/44 [00:00<00:00, 245.76it/s]"
     ]
    },
    {
     "name": "stdout",
     "output_type": "stream",
     "text": [
      "LOSS:4.955028533935547\n",
      "LOSS:2.9932310581207275\n",
      "LOSS:3.7627806663513184\n",
      "LOSS:3.487734794616699\n"
     ]
    },
    {
     "name": "stderr",
     "output_type": "stream",
     "text": [
      "ROUND:[108000]:  57%|████████████████████████████████████▉                            | 25/44 [00:00<00:00, 245.76it/s]"
     ]
    },
    {
     "name": "stdout",
     "output_type": "stream",
     "text": [
      "LOSS:4.5507941246032715\n",
      "LOSS:4.252236366271973\n",
      "LOSS:3.250875473022461\n"
     ]
    },
    {
     "name": "stderr",
     "output_type": "stream",
     "text": [
      "ROUND:[108000]:  57%|████████████████████████████████████▉                            | 25/44 [00:00<00:00, 245.76it/s]"
     ]
    },
    {
     "name": "stdout",
     "output_type": "stream",
     "text": [
      "LOSS:4.491872310638428\n",
      "LOSS:5.111159801483154\n",
      "LOSS:3.2110345363616943\n",
      "LOSS:3.6146774291992188\n"
     ]
    },
    {
     "name": "stderr",
     "output_type": "stream",
     "text": [
      "ROUND:[108000]:  57%|████████████████████████████████████▉                            | 25/44 [00:00<00:00, 245.76it/s]"
     ]
    },
    {
     "name": "stdout",
     "output_type": "stream",
     "text": [
      "LOSS:4.068517208099365\n",
      "LOSS:5.27568244934082\n",
      "LOSS:3.5937461853027344\n",
      "LOSS:4.7801971435546875\n",
      "LOSS:2.6492888927459717\n"
     ]
    },
    {
     "name": "stderr",
     "output_type": "stream",
     "text": [
      "ROUND:[21600]:  57%|█████████████████████████████████████▌                            | 25/44 [00:00<00:00, 245.76it/s]"
     ]
    },
    {
     "name": "stdout",
     "output_type": "stream",
     "text": [
      "LOSS:3.6757078170776367\n",
      "LOSS:3.7721383571624756\n",
      "LOSS:6.341773509979248\n"
     ]
    },
    {
     "name": "stderr",
     "output_type": "stream",
     "text": [
      "ROUND:[21600]: 100%|██████████████████████████████████████████████████████████████████| 44/44 [00:00<00:00, 252.10it/s]\n"
     ]
    },
    {
     "name": "stdout",
     "output_type": "stream",
     "text": [
      "LOSS:2.7339112758636475\n",
      "VAILD_LOSS:4.729820164767179\n",
      "--------------------\n",
      "TIMES:61**************************\n"
     ]
    },
    {
     "name": "stderr",
     "output_type": "stream",
     "text": [
      "ROUND:[108000]:   0%|                                                                           | 0/44 [00:00<?, ?it/s]"
     ]
    },
    {
     "name": "stdout",
     "output_type": "stream",
     "text": [
      "LOSS:6.93468713760376\n",
      "LOSS:3.801579236984253\n",
      "LOSS:4.182870864868164\n",
      "LOSS:4.478986740112305\n"
     ]
    },
    {
     "name": "stderr",
     "output_type": "stream",
     "text": [
      "ROUND:[108000]:   0%|                                                                           | 0/44 [00:00<?, ?it/s]"
     ]
    },
    {
     "name": "stdout",
     "output_type": "stream",
     "text": [
      "LOSS:4.3412604331970215\n",
      "LOSS:4.317220687866211\n",
      "LOSS:5.1309494972229\n"
     ]
    },
    {
     "name": "stderr",
     "output_type": "stream",
     "text": [
      "ROUND:[108000]:   0%|                                                                           | 0/44 [00:00<?, ?it/s]"
     ]
    },
    {
     "name": "stdout",
     "output_type": "stream",
     "text": [
      "LOSS:3.5554399490356445\n",
      "LOSS:7.042633056640625\n",
      "LOSS:6.353727340698242\n",
      "LOSS:4.096995830535889\n",
      "LOSS:5.464669704437256\n"
     ]
    },
    {
     "name": "stderr",
     "output_type": "stream",
     "text": [
      "ROUND:[108000]:   0%|                                                                           | 0/44 [00:00<?, ?it/s]"
     ]
    },
    {
     "name": "stdout",
     "output_type": "stream",
     "text": [
      "LOSS:3.8238394260406494\n",
      "LOSS:8.23381519317627\n",
      "LOSS:2.9842491149902344\n",
      "LOSS:4.04442834854126\n",
      "LOSS:3.056063175201416\n"
     ]
    },
    {
     "name": "stderr",
     "output_type": "stream",
     "text": [
      "ROUND:[108000]:   0%|                                                                           | 0/44 [00:00<?, ?it/s]"
     ]
    },
    {
     "name": "stdout",
     "output_type": "stream",
     "text": [
      "LOSS:4.540857315063477\n",
      "LOSS:3.668283700942993\n",
      "LOSS:3.3132011890411377\n",
      "LOSS:3.9131948947906494\n"
     ]
    },
    {
     "name": "stderr",
     "output_type": "stream",
     "text": [
      "ROUND:[108000]:   0%|                                                                           | 0/44 [00:00<?, ?it/s]"
     ]
    },
    {
     "name": "stdout",
     "output_type": "stream",
     "text": [
      "LOSS:4.637675762176514\n",
      "LOSS:5.466062545776367\n",
      "LOSS:2.6184794902801514\n",
      "LOSS:4.945608615875244\n",
      "LOSS:2.985960006713867\n"
     ]
    },
    {
     "name": "stderr",
     "output_type": "stream",
     "text": [
      "ROUND:[108000]:  64%|█████████████████████████████████████████▎                       | 28/44 [00:00<00:00, 277.97it/s]"
     ]
    },
    {
     "name": "stdout",
     "output_type": "stream",
     "text": [
      "LOSS:3.7521045207977295\n",
      "LOSS:3.481412649154663\n",
      "LOSS:4.542612075805664\n",
      "LOSS:4.241098403930664\n"
     ]
    },
    {
     "name": "stderr",
     "output_type": "stream",
     "text": [
      "ROUND:[108000]:  64%|█████████████████████████████████████████▎                       | 28/44 [00:00<00:00, 277.97it/s]"
     ]
    },
    {
     "name": "stdout",
     "output_type": "stream",
     "text": [
      "LOSS:3.24123215675354\n",
      "LOSS:4.476041316986084\n",
      "LOSS:5.102941036224365\n",
      "LOSS:3.200998544692993\n",
      "LOSS:3.6059072017669678\n"
     ]
    },
    {
     "name": "stderr",
     "output_type": "stream",
     "text": [
      "ROUND:[108000]:  64%|█████████████████████████████████████████▎                       | 28/44 [00:00<00:00, 277.97it/s]"
     ]
    },
    {
     "name": "stdout",
     "output_type": "stream",
     "text": [
      "LOSS:4.057966709136963\n",
      "LOSS:5.2578959465026855\n",
      "LOSS:3.584831476211548\n",
      "LOSS:4.771731376647949\n",
      "LOSS:2.6461567878723145\n"
     ]
    },
    {
     "name": "stderr",
     "output_type": "stream",
     "text": [
      "ROUND:[21600]: 100%|██████████████████████████████████████████████████████████████████| 44/44 [00:00<00:00, 279.22it/s]"
     ]
    },
    {
     "name": "stdout",
     "output_type": "stream",
     "text": [
      "LOSS:3.6681416034698486\n",
      "LOSS:3.7710118293762207\n",
      "LOSS:6.322931289672852\n",
      "LOSS:2.726952314376831\n"
     ]
    },
    {
     "name": "stderr",
     "output_type": "stream",
     "text": [
      "\n"
     ]
    },
    {
     "name": "stdout",
     "output_type": "stream",
     "text": [
      "VAILD_LOSS:4.71817059950395\n",
      "--------------------\n",
      "TIMES:62**************************\n"
     ]
    },
    {
     "name": "stderr",
     "output_type": "stream",
     "text": [
      "ROUND:[108000]:   0%|                                                                           | 0/44 [00:00<?, ?it/s]"
     ]
    },
    {
     "name": "stdout",
     "output_type": "stream",
     "text": [
      "LOSS:6.918184280395508\n"
     ]
    },
    {
     "name": "stderr",
     "output_type": "stream",
     "text": [
      "ROUND:[108000]:   0%|                                                                           | 0/44 [00:00<?, ?it/s]"
     ]
    },
    {
     "name": "stdout",
     "output_type": "stream",
     "text": [
      "LOSS:3.7939553260803223\n",
      "LOSS:4.172889709472656\n",
      "LOSS:4.47122049331665\n",
      "LOSS:4.332423686981201\n"
     ]
    },
    {
     "name": "stderr",
     "output_type": "stream",
     "text": [
      "ROUND:[108000]:   0%|                                                                           | 0/44 [00:00<?, ?it/s]"
     ]
    },
    {
     "name": "stdout",
     "output_type": "stream",
     "text": [
      "LOSS:4.307920932769775\n",
      "LOSS:5.1174845695495605\n",
      "LOSS:3.5492091178894043\n",
      "LOSS:7.022408485412598\n"
     ]
    },
    {
     "name": "stderr",
     "output_type": "stream",
     "text": [
      "ROUND:[108000]:   0%|                                                                           | 0/44 [00:00<?, ?it/s]"
     ]
    },
    {
     "name": "stdout",
     "output_type": "stream",
     "text": [
      "LOSS:6.334695816040039\n",
      "LOSS:4.087955951690674\n",
      "LOSS:5.451335430145264\n",
      "LOSS:3.8115310668945312\n",
      "LOSS:8.222043991088867\n"
     ]
    },
    {
     "name": "stderr",
     "output_type": "stream",
     "text": [
      "ROUND:[108000]:   0%|                                                                           | 0/44 [00:00<?, ?it/s]"
     ]
    },
    {
     "name": "stdout",
     "output_type": "stream",
     "text": [
      "LOSS:2.9747393131256104\n",
      "LOSS:4.034599781036377\n",
      "LOSS:3.0482418537139893\n",
      "LOSS:4.528519630432129\n",
      "LOSS:3.6569950580596924\n"
     ]
    },
    {
     "name": "stderr",
     "output_type": "stream",
     "text": [
      "ROUND:[108000]:   0%|                                                                           | 0/44 [00:00<?, ?it/s]"
     ]
    },
    {
     "name": "stdout",
     "output_type": "stream",
     "text": [
      "LOSS:3.3074307441711426\n",
      "LOSS:3.9013562202453613\n",
      "LOSS:4.625328063964844\n",
      "LOSS:5.454575061798096\n"
     ]
    },
    {
     "name": "stderr",
     "output_type": "stream",
     "text": [
      "ROUND:[108000]:   0%|                                                                           | 0/44 [00:00<?, ?it/s]"
     ]
    },
    {
     "name": "stdout",
     "output_type": "stream",
     "text": [
      "LOSS:2.612149715423584\n",
      "LOSS:4.93710994720459\n",
      "LOSS:2.9784061908721924\n",
      "LOSS:3.7412033081054688\n",
      "LOSS:3.4752166271209717\n"
     ]
    },
    {
     "name": "stderr",
     "output_type": "stream",
     "text": [
      "ROUND:[108000]:  66%|██████████████████████████████████████████▊                      | 29/44 [00:00<00:00, 282.31it/s]"
     ]
    },
    {
     "name": "stdout",
     "output_type": "stream",
     "text": [
      "LOSS:4.534095764160156\n",
      "LOSS:4.2298808097839355\n",
      "LOSS:3.2318358421325684\n",
      "LOSS:4.4600510597229\n"
     ]
    },
    {
     "name": "stderr",
     "output_type": "stream",
     "text": [
      "ROUND:[108000]:  66%|██████████████████████████████████████████▊                      | 29/44 [00:00<00:00, 282.31it/s]"
     ]
    },
    {
     "name": "stdout",
     "output_type": "stream",
     "text": [
      "LOSS:5.094875812530518\n",
      "LOSS:3.1907875537872314\n",
      "LOSS:3.5969316959381104\n",
      "LOSS:4.047749042510986\n",
      "LOSS:5.240346431732178\n"
     ]
    },
    {
     "name": "stderr",
     "output_type": "stream",
     "text": [
      "ROUND:[108000]:  66%|██████████████████████████████████████████▊                      | 29/44 [00:00<00:00, 282.31it/s]"
     ]
    },
    {
     "name": "stdout",
     "output_type": "stream",
     "text": [
      "LOSS:3.5760903358459473\n",
      "LOSS:4.763034343719482\n",
      "LOSS:2.6435606479644775\n",
      "LOSS:3.660598039627075\n"
     ]
    },
    {
     "name": "stderr",
     "output_type": "stream",
     "text": [
      "ROUND:[21600]: 100%|██████████████████████████████████████████████████████████████████| 44/44 [00:00<00:00, 282.80it/s]\n"
     ]
    },
    {
     "name": "stdout",
     "output_type": "stream",
     "text": [
      "LOSS:3.7697198390960693\n",
      "LOSS:6.30431604385376\n",
      "LOSS:2.720017194747925\n",
      "VAILD_LOSS:4.7066803195259785\n",
      "--------------------\n",
      "TIMES:63**************************\n"
     ]
    },
    {
     "name": "stderr",
     "output_type": "stream",
     "text": [
      "ROUND:[108000]:   0%|                                                                           | 0/44 [00:00<?, ?it/s]"
     ]
    },
    {
     "name": "stdout",
     "output_type": "stream",
     "text": [
      "LOSS:6.902000427246094\n",
      "LOSS:3.7868199348449707\n",
      "LOSS:4.1630353927612305\n",
      "LOSS:4.463866233825684\n"
     ]
    },
    {
     "name": "stderr",
     "output_type": "stream",
     "text": [
      "ROUND:[108000]:   0%|                                                                           | 0/44 [00:00<?, ?it/s]"
     ]
    },
    {
     "name": "stdout",
     "output_type": "stream",
     "text": [
      "LOSS:4.323635578155518\n",
      "LOSS:4.298750400543213\n",
      "LOSS:5.103841781616211\n",
      "LOSS:3.5427327156066895\n"
     ]
    },
    {
     "name": "stderr",
     "output_type": "stream",
     "text": [
      "ROUND:[108000]:   0%|                                                                           | 0/44 [00:00<?, ?it/s]"
     ]
    },
    {
     "name": "stdout",
     "output_type": "stream",
     "text": [
      "LOSS:7.002474784851074\n",
      "LOSS:6.315138339996338\n",
      "LOSS:4.078610897064209\n"
     ]
    },
    {
     "name": "stderr",
     "output_type": "stream",
     "text": [
      "ROUND:[108000]:   0%|                                                                           | 0/44 [00:00<?, ?it/s]"
     ]
    },
    {
     "name": "stdout",
     "output_type": "stream",
     "text": [
      "LOSS:5.437769889831543\n",
      "LOSS:3.7990634441375732\n",
      "LOSS:8.210066795349121\n",
      "LOSS:2.965210199356079\n"
     ]
    },
    {
     "name": "stderr",
     "output_type": "stream",
     "text": [
      "ROUND:[108000]:   0%|                                                                           | 0/44 [00:00<?, ?it/s]"
     ]
    },
    {
     "name": "stdout",
     "output_type": "stream",
     "text": [
      "LOSS:4.024564266204834\n",
      "LOSS:3.040126323699951\n",
      "LOSS:4.516313552856445\n",
      "LOSS:3.646124839782715\n",
      "LOSS:3.301586866378784\n"
     ]
    },
    {
     "name": "stderr",
     "output_type": "stream",
     "text": [
      "ROUND:[108000]:   0%|                                                                           | 0/44 [00:00<?, ?it/s]"
     ]
    },
    {
     "name": "stdout",
     "output_type": "stream",
     "text": [
      "LOSS:3.8894994258880615\n",
      "LOSS:4.613351821899414\n",
      "LOSS:5.443111419677734\n",
      "LOSS:2.606095314025879\n",
      "LOSS:4.929354190826416\n"
     ]
    },
    {
     "name": "stderr",
     "output_type": "stream",
     "text": [
      "ROUND:[108000]:  64%|█████████████████████████████████████████▎                       | 28/44 [00:00<00:00, 275.24it/s]"
     ]
    },
    {
     "name": "stdout",
     "output_type": "stream",
     "text": [
      "LOSS:2.9708104133605957\n",
      "LOSS:3.730212926864624\n",
      "LOSS:3.4695990085601807\n",
      "LOSS:4.52580451965332\n"
     ]
    },
    {
     "name": "stderr",
     "output_type": "stream",
     "text": [
      "ROUND:[108000]:  64%|█████████████████████████████████████████▎                       | 28/44 [00:00<00:00, 275.24it/s]"
     ]
    },
    {
     "name": "stdout",
     "output_type": "stream",
     "text": [
      "LOSS:4.2189764976501465\n",
      "LOSS:3.2226130962371826\n",
      "LOSS:4.443697452545166\n",
      "LOSS:5.087149143218994\n",
      "LOSS:3.180432081222534\n"
     ]
    },
    {
     "name": "stderr",
     "output_type": "stream",
     "text": [
      "ROUND:[108000]:  64%|█████████████████████████████████████████▎                       | 28/44 [00:00<00:00, 275.24it/s]"
     ]
    },
    {
     "name": "stdout",
     "output_type": "stream",
     "text": [
      "LOSS:3.5875844955444336\n",
      "LOSS:4.037817001342773\n",
      "LOSS:5.222304344177246\n",
      "LOSS:3.5671396255493164\n",
      "LOSS:4.7541184425354\n"
     ]
    },
    {
     "name": "stderr",
     "output_type": "stream",
     "text": [
      "ROUND:[21600]: 100%|██████████████████████████████████████████████████████████████████| 44/44 [00:00<00:00, 282.80it/s]"
     ]
    },
    {
     "name": "stdout",
     "output_type": "stream",
     "text": [
      "LOSS:2.6412909030914307\n",
      "LOSS:3.6525039672851562\n",
      "LOSS:3.7684175968170166\n",
      "LOSS:6.285310745239258\n",
      "LOSS:2.7130959033966064\n"
     ]
    },
    {
     "name": "stderr",
     "output_type": "stream",
     "text": [
      "\n"
     ]
    },
    {
     "name": "stdout",
     "output_type": "stream",
     "text": [
      "VAILD_LOSS:4.695341673764315\n",
      "--------------------\n",
      "TIMES:64**************************\n"
     ]
    },
    {
     "name": "stderr",
     "output_type": "stream",
     "text": [
      "ROUND:[108000]:   0%|                                                                           | 0/44 [00:00<?, ?it/s]"
     ]
    },
    {
     "name": "stdout",
     "output_type": "stream",
     "text": [
      "LOSS:6.885899543762207\n"
     ]
    },
    {
     "name": "stderr",
     "output_type": "stream",
     "text": [
      "ROUND:[108000]:   0%|                                                                           | 0/44 [00:00<?, ?it/s]"
     ]
    },
    {
     "name": "stdout",
     "output_type": "stream",
     "text": [
      "LOSS:3.7799601554870605\n",
      "LOSS:4.153116703033447\n",
      "LOSS:4.456820487976074\n",
      "LOSS:4.314390659332275\n"
     ]
    },
    {
     "name": "stderr",
     "output_type": "stream",
     "text": [
      "ROUND:[108000]:   0%|                                                                           | 0/44 [00:00<?, ?it/s]"
     ]
    },
    {
     "name": "stdout",
     "output_type": "stream",
     "text": [
      "LOSS:4.289182186126709\n",
      "LOSS:5.090432167053223\n",
      "LOSS:3.5359623432159424\n",
      "LOSS:6.982491970062256\n",
      "LOSS:6.29601526260376\n"
     ]
    },
    {
     "name": "stderr",
     "output_type": "stream",
     "text": [
      "ROUND:[108000]:   0%|                                                                           | 0/44 [00:00<?, ?it/s]"
     ]
    },
    {
     "name": "stdout",
     "output_type": "stream",
     "text": [
      "LOSS:4.069109916687012\n",
      "LOSS:5.424349308013916\n",
      "LOSS:3.786763906478882\n",
      "LOSS:8.197879791259766\n",
      "LOSS:2.955963611602783\n"
     ]
    },
    {
     "name": "stderr",
     "output_type": "stream",
     "text": [
      "ROUND:[108000]:   0%|                                                                           | 0/44 [00:00<?, ?it/s]"
     ]
    },
    {
     "name": "stdout",
     "output_type": "stream",
     "text": [
      "LOSS:4.0146965980529785\n",
      "LOSS:3.0323822498321533\n",
      "LOSS:4.504233360290527\n",
      "LOSS:3.635237455368042\n"
     ]
    },
    {
     "name": "stderr",
     "output_type": "stream",
     "text": [
      "ROUND:[108000]:   0%|                                                                           | 0/44 [00:00<?, ?it/s]"
     ]
    },
    {
     "name": "stdout",
     "output_type": "stream",
     "text": [
      "LOSS:3.2957170009613037\n",
      "LOSS:3.8775627613067627\n",
      "LOSS:4.601502418518066\n",
      "LOSS:5.431985855102539\n",
      "LOSS:2.599992513656616\n"
     ]
    },
    {
     "name": "stderr",
     "output_type": "stream",
     "text": [
      "ROUND:[108000]:   0%|                                                                           | 0/44 [00:00<?, ?it/s]"
     ]
    },
    {
     "name": "stdout",
     "output_type": "stream",
     "text": [
      "LOSS:4.921572208404541\n",
      "LOSS:2.963196039199829\n",
      "LOSS:3.7194597721099854\n",
      "LOSS:3.464305877685547\n"
     ]
    },
    {
     "name": "stderr",
     "output_type": "stream",
     "text": [
      "ROUND:[108000]:  68%|████████████████████████████████████████████▎                    | 30/44 [00:00<00:00, 295.74it/s]"
     ]
    },
    {
     "name": "stdout",
     "output_type": "stream",
     "text": [
      "LOSS:4.51792573928833\n",
      "LOSS:4.209218502044678\n",
      "LOSS:3.21389102935791\n",
      "LOSS:4.428006649017334\n"
     ]
    },
    {
     "name": "stderr",
     "output_type": "stream",
     "text": [
      "ROUND:[108000]:  68%|████████████████████████████████████████████▎                    | 30/44 [00:00<00:00, 295.74it/s]"
     ]
    },
    {
     "name": "stdout",
     "output_type": "stream",
     "text": [
      "LOSS:5.079967021942139\n",
      "LOSS:3.1688451766967773\n",
      "LOSS:3.5766782760620117\n",
      "LOSS:4.0284423828125\n",
      "LOSS:5.2042460441589355\n"
     ]
    },
    {
     "name": "stderr",
     "output_type": "stream",
     "text": [
      "ROUND:[108000]:  68%|████████████████████████████████████████████▎                    | 30/44 [00:00<00:00, 295.74it/s]"
     ]
    },
    {
     "name": "stdout",
     "output_type": "stream",
     "text": [
      "LOSS:3.5558571815490723\n",
      "LOSS:4.746405601501465\n",
      "LOSS:2.638195514678955\n",
      "LOSS:3.6437976360321045\n",
      "LOSS:3.7648653984069824\n"
     ]
    },
    {
     "name": "stderr",
     "output_type": "stream",
     "text": [
      "ROUND:[21600]: 100%|██████████████████████████████████████████████████████████████████| 44/44 [00:00<00:00, 290.80it/s]\n"
     ]
    },
    {
     "name": "stdout",
     "output_type": "stream",
     "text": [
      "LOSS:6.266833305358887\n",
      "LOSS:2.703761339187622\n",
      "VAILD_LOSS:4.683104796843096\n",
      "--------------------\n",
      "TIMES:65**************************\n"
     ]
    },
    {
     "name": "stderr",
     "output_type": "stream",
     "text": [
      "ROUND:[108000]:   0%|                                                                           | 0/44 [00:00<?, ?it/s]"
     ]
    },
    {
     "name": "stdout",
     "output_type": "stream",
     "text": [
      "LOSS:6.870244026184082\n",
      "LOSS:3.773763418197632\n",
      "LOSS:4.144027233123779\n",
      "LOSS:4.450052261352539\n"
     ]
    },
    {
     "name": "stderr",
     "output_type": "stream",
     "text": [
      "ROUND:[108000]:   0%|                                                                           | 0/44 [00:00<?, ?it/s]"
     ]
    },
    {
     "name": "stdout",
     "output_type": "stream",
     "text": [
      "LOSS:4.306724548339844\n",
      "LOSS:4.280792236328125\n",
      "LOSS:5.076902866363525\n",
      "LOSS:3.530771017074585\n",
      "LOSS:6.962767601013184\n"
     ]
    },
    {
     "name": "stderr",
     "output_type": "stream",
     "text": [
      "ROUND:[108000]:   0%|                                                                           | 0/44 [00:00<?, ?it/s]"
     ]
    },
    {
     "name": "stdout",
     "output_type": "stream",
     "text": [
      "LOSS:6.276955604553223\n",
      "LOSS:4.059946060180664\n",
      "LOSS:5.410548210144043\n",
      "LOSS:3.774570941925049\n"
     ]
    },
    {
     "name": "stderr",
     "output_type": "stream",
     "text": [
      "ROUND:[108000]:   0%|                                                                           | 0/44 [00:00<?, ?it/s]"
     ]
    },
    {
     "name": "stdout",
     "output_type": "stream",
     "text": [
      "LOSS:8.18581485748291\n",
      "LOSS:2.9464406967163086\n",
      "LOSS:4.004941463470459\n",
      "LOSS:3.0235695838928223\n",
      "LOSS:4.491386413574219\n"
     ]
    },
    {
     "name": "stderr",
     "output_type": "stream",
     "text": [
      "ROUND:[108000]:   0%|                                                                           | 0/44 [00:00<?, ?it/s]"
     ]
    },
    {
     "name": "stdout",
     "output_type": "stream",
     "text": [
      "LOSS:3.624627113342285\n",
      "LOSS:3.290759801864624\n",
      "LOSS:3.866736650466919\n",
      "LOSS:4.589174270629883\n"
     ]
    },
    {
     "name": "stderr",
     "output_type": "stream",
     "text": [
      "ROUND:[108000]:   0%|                                                                           | 0/44 [00:00<?, ?it/s]"
     ]
    },
    {
     "name": "stdout",
     "output_type": "stream",
     "text": [
      "LOSS:5.420670509338379\n",
      "LOSS:2.5945897102355957\n",
      "LOSS:4.912041187286377\n",
      "LOSS:2.9563276767730713\n"
     ]
    },
    {
     "name": "stderr",
     "output_type": "stream",
     "text": [
      "ROUND:[108000]:  68%|████████████████████████████████████████████▎                    | 30/44 [00:00<00:00, 289.09it/s]"
     ]
    },
    {
     "name": "stdout",
     "output_type": "stream",
     "text": [
      "LOSS:3.7091267108917236\n",
      "LOSS:3.4590187072753906\n",
      "LOSS:4.510256767272949\n",
      "LOSS:4.199337482452393\n",
      "LOSS:3.204953908920288\n"
     ]
    },
    {
     "name": "stderr",
     "output_type": "stream",
     "text": [
      "ROUND:[108000]:  68%|████████████████████████████████████████████▎                    | 30/44 [00:00<00:00, 289.09it/s]"
     ]
    },
    {
     "name": "stdout",
     "output_type": "stream",
     "text": [
      "LOSS:4.412639617919922\n",
      "LOSS:5.071827411651611\n",
      "LOSS:3.158564329147339\n",
      "LOSS:3.567173480987549\n"
     ]
    },
    {
     "name": "stderr",
     "output_type": "stream",
     "text": [
      "ROUND:[108000]:  68%|████████████████████████████████████████████▎                    | 30/44 [00:00<00:00, 289.09it/s]"
     ]
    },
    {
     "name": "stdout",
     "output_type": "stream",
     "text": [
      "LOSS:4.018466472625732\n",
      "LOSS:5.1866583824157715\n",
      "LOSS:3.546149253845215\n",
      "LOSS:4.737691402435303\n",
      "LOSS:2.634753704071045\n"
     ]
    },
    {
     "name": "stderr",
     "output_type": "stream",
     "text": [
      "ROUND:[21600]: 100%|██████████████████████████████████████████████████████████████████| 44/44 [00:00<00:00, 290.15it/s]\n"
     ]
    },
    {
     "name": "stdout",
     "output_type": "stream",
     "text": [
      "LOSS:3.63584041595459\n",
      "LOSS:3.7633635997772217\n",
      "LOSS:6.248448371887207\n",
      "LOSS:2.696877956390381\n",
      "VAILD_LOSS:4.671637730164961\n",
      "--------------------\n",
      "TIMES:66**************************\n"
     ]
    },
    {
     "name": "stderr",
     "output_type": "stream",
     "text": [
      "ROUND:[108000]:   0%|                                                                           | 0/44 [00:00<?, ?it/s]"
     ]
    },
    {
     "name": "stdout",
     "output_type": "stream",
     "text": [
      "LOSS:6.85385799407959\n",
      "LOSS:3.7665069103240967\n"
     ]
    },
    {
     "name": "stderr",
     "output_type": "stream",
     "text": [
      "ROUND:[108000]:   0%|                                                                           | 0/44 [00:00<?, ?it/s]"
     ]
    },
    {
     "name": "stdout",
     "output_type": "stream",
     "text": [
      "LOSS:4.133915424346924\n",
      "LOSS:4.442771911621094\n",
      "LOSS:4.296972274780273\n",
      "LOSS:4.270594596862793\n",
      "LOSS:5.0642805099487305\n"
     ]
    },
    {
     "name": "stderr",
     "output_type": "stream",
     "text": [
      "ROUND:[108000]:   0%|                                                                           | 0/44 [00:00<?, ?it/s]"
     ]
    },
    {
     "name": "stdout",
     "output_type": "stream",
     "text": [
      "LOSS:3.5244510173797607\n",
      "LOSS:6.942351341247559\n",
      "LOSS:6.259007453918457\n",
      "LOSS:4.050504207611084\n",
      "LOSS:5.397975921630859\n"
     ]
    },
    {
     "name": "stderr",
     "output_type": "stream",
     "text": [
      "ROUND:[108000]:   0%|                                                                           | 0/44 [00:00<?, ?it/s]"
     ]
    },
    {
     "name": "stdout",
     "output_type": "stream",
     "text": [
      "LOSS:3.7626261711120605\n",
      "LOSS:8.17335033416748\n",
      "LOSS:2.9376280307769775\n"
     ]
    },
    {
     "name": "stderr",
     "output_type": "stream",
     "text": [
      "ROUND:[108000]:   0%|                                                                           | 0/44 [00:00<?, ?it/s]"
     ]
    },
    {
     "name": "stdout",
     "output_type": "stream",
     "text": [
      "LOSS:3.995140790939331\n",
      "LOSS:3.0164005756378174\n",
      "LOSS:4.479935646057129\n",
      "LOSS:3.613945484161377\n"
     ]
    },
    {
     "name": "stderr",
     "output_type": "stream",
     "text": [
      "ROUND:[108000]:   0%|                                                                           | 0/44 [00:00<?, ?it/s]"
     ]
    },
    {
     "name": "stdout",
     "output_type": "stream",
     "text": [
      "LOSS:3.285094738006592\n",
      "LOSS:3.855311393737793\n",
      "LOSS:4.577638626098633\n",
      "LOSS:5.409831523895264\n",
      "LOSS:2.588592529296875\n"
     ]
    },
    {
     "name": "stderr",
     "output_type": "stream",
     "text": [
      "ROUND:[108000]:   0%|                                                                           | 0/44 [00:00<?, ?it/s]"
     ]
    },
    {
     "name": "stdout",
     "output_type": "stream",
     "text": [
      "LOSS:4.903802394866943\n",
      "LOSS:2.9493236541748047\n",
      "LOSS:3.6982874870300293\n",
      "LOSS:3.45306396484375\n"
     ]
    },
    {
     "name": "stderr",
     "output_type": "stream",
     "text": [
      "ROUND:[108000]:  66%|██████████████████████████████████████████▊                      | 29/44 [00:00<00:00, 276.92it/s]"
     ]
    },
    {
     "name": "stdout",
     "output_type": "stream",
     "text": [
      "LOSS:4.5020432472229\n",
      "LOSS:4.188746452331543\n",
      "LOSS:3.195794105529785\n",
      "LOSS:4.397029876708984\n"
     ]
    },
    {
     "name": "stderr",
     "output_type": "stream",
     "text": [
      "ROUND:[108000]:  66%|██████████████████████████████████████████▊                      | 29/44 [00:00<00:00, 276.92it/s]"
     ]
    },
    {
     "name": "stdout",
     "output_type": "stream",
     "text": [
      "LOSS:5.063754558563232\n",
      "LOSS:3.148690700531006\n",
      "LOSS:3.5582079887390137\n",
      "LOSS:4.0083441734313965\n"
     ]
    },
    {
     "name": "stderr",
     "output_type": "stream",
     "text": [
      "ROUND:[108000]:  66%|██████████████████████████████████████████▊                      | 29/44 [00:00<00:00, 276.92it/s]"
     ]
    },
    {
     "name": "stdout",
     "output_type": "stream",
     "text": [
      "LOSS:5.169376850128174\n",
      "LOSS:3.5367274284362793\n",
      "LOSS:4.728755474090576\n",
      "LOSS:2.631304979324341\n",
      "LOSS:3.6278557777404785\n"
     ]
    },
    {
     "name": "stderr",
     "output_type": "stream",
     "text": [
      "ROUND:[21600]: 100%|██████████████████████████████████████████████████████████████████| 44/44 [00:00<00:00, 274.85it/s]\n"
     ]
    },
    {
     "name": "stdout",
     "output_type": "stream",
     "text": [
      "LOSS:3.761646032333374\n",
      "LOSS:6.230246543884277\n",
      "LOSS:2.6896235942840576\n",
      "VAILD_LOSS:4.6601245403289795\n",
      "--------------------\n",
      "TIMES:67**************************\n"
     ]
    },
    {
     "name": "stderr",
     "output_type": "stream",
     "text": [
      "ROUND:[108000]:   0%|                                                                           | 0/44 [00:00<?, ?it/s]"
     ]
    },
    {
     "name": "stdout",
     "output_type": "stream",
     "text": [
      "LOSS:6.837605953216553\n",
      "LOSS:3.7599339485168457\n",
      "LOSS:4.12449312210083\n"
     ]
    },
    {
     "name": "stderr",
     "output_type": "stream",
     "text": [
      "ROUND:[108000]:   0%|                                                                           | 0/44 [00:00<?, ?it/s]"
     ]
    },
    {
     "name": "stdout",
     "output_type": "stream",
     "text": [
      "LOSS:4.4357218742370605\n",
      "LOSS:4.288293361663818\n",
      "LOSS:4.261172771453857\n",
      "LOSS:5.051351070404053\n"
     ]
    },
    {
     "name": "stderr",
     "output_type": "stream",
     "text": [
      "ROUND:[108000]:   0%|                                                                           | 0/44 [00:00<?, ?it/s]"
     ]
    },
    {
     "name": "stdout",
     "output_type": "stream",
     "text": [
      "LOSS:3.5184876918792725\n",
      "LOSS:6.922215938568115\n",
      "LOSS:6.241306781768799\n",
      "LOSS:4.040804862976074\n"
     ]
    },
    {
     "name": "stderr",
     "output_type": "stream",
     "text": [
      "ROUND:[108000]:   0%|                                                                           | 0/44 [00:00<?, ?it/s]"
     ]
    },
    {
     "name": "stdout",
     "output_type": "stream",
     "text": [
      "LOSS:5.38655424118042\n",
      "LOSS:3.7510619163513184\n",
      "LOSS:8.160572052001953\n",
      "LOSS:2.92961049079895\n",
      "LOSS:3.9853575229644775\n"
     ]
    },
    {
     "name": "stderr",
     "output_type": "stream",
     "text": [
      "ROUND:[108000]:   0%|                                                                           | 0/44 [00:00<?, ?it/s]"
     ]
    },
    {
     "name": "stdout",
     "output_type": "stream",
     "text": [
      "LOSS:3.0118017196655273\n",
      "LOSS:4.470452785491943\n",
      "LOSS:3.6028759479522705\n",
      "LOSS:3.2780568599700928\n"
     ]
    },
    {
     "name": "stderr",
     "output_type": "stream",
     "text": [
      "ROUND:[108000]:   0%|                                                                           | 0/44 [00:00<?, ?it/s]"
     ]
    },
    {
     "name": "stdout",
     "output_type": "stream",
     "text": [
      "LOSS:3.8423030376434326\n",
      "LOSS:4.567143440246582\n",
      "LOSS:5.39959716796875\n",
      "LOSS:2.581329822540283\n",
      "LOSS:4.898465633392334\n"
     ]
    },
    {
     "name": "stderr",
     "output_type": "stream",
     "text": [
      "ROUND:[108000]:  66%|██████████████████████████████████████████▊                      | 29/44 [00:00<00:00, 289.29it/s]"
     ]
    },
    {
     "name": "stdout",
     "output_type": "stream",
     "text": [
      "LOSS:2.941636800765991\n",
      "LOSS:3.686863422393799\n",
      "LOSS:3.445909261703491\n",
      "LOSS:4.492892265319824\n",
      "LOSS:4.176789283752441\n"
     ]
    },
    {
     "name": "stderr",
     "output_type": "stream",
     "text": [
      "ROUND:[108000]:  66%|██████████████████████████████████████████▊                      | 29/44 [00:00<00:00, 289.29it/s]"
     ]
    },
    {
     "name": "stdout",
     "output_type": "stream",
     "text": [
      "LOSS:3.186420440673828\n",
      "LOSS:4.380818843841553\n",
      "LOSS:5.055577754974365\n",
      "LOSS:3.1394941806793213\n"
     ]
    },
    {
     "name": "stderr",
     "output_type": "stream",
     "text": [
      "ROUND:[108000]:  66%|██████████████████████████████████████████▊                      | 29/44 [00:00<00:00, 289.29it/s]"
     ]
    },
    {
     "name": "stdout",
     "output_type": "stream",
     "text": [
      "LOSS:3.5498712062835693\n",
      "LOSS:3.998267412185669\n",
      "LOSS:5.151921272277832\n",
      "LOSS:3.5281567573547363\n",
      "LOSS:4.7194905281066895\n"
     ]
    },
    {
     "name": "stderr",
     "output_type": "stream",
     "text": [
      "ROUND:[21600]:  66%|███████████████████████████████████████████▌                      | 29/44 [00:00<00:00, 289.29it/s]"
     ]
    },
    {
     "name": "stdout",
     "output_type": "stream",
     "text": [
      "LOSS:2.6286308765411377\n",
      "LOSS:3.6198666095733643\n",
      "LOSS:3.759958505630493\n",
      "LOSS:6.211581230163574\n"
     ]
    },
    {
     "name": "stderr",
     "output_type": "stream",
     "text": [
      "ROUND:[21600]: 100%|██████████████████████████████████████████████████████████████████| 44/44 [00:00<00:00, 285.53it/s]\n"
     ]
    },
    {
     "name": "stdout",
     "output_type": "stream",
     "text": [
      "LOSS:2.6820030212402344\n",
      "VAILD_LOSS:4.648653767325661\n",
      "--------------------\n",
      "TIMES:68**************************\n"
     ]
    },
    {
     "name": "stderr",
     "output_type": "stream",
     "text": [
      "ROUND:[108000]:   0%|                                                                           | 0/44 [00:00<?, ?it/s]"
     ]
    },
    {
     "name": "stdout",
     "output_type": "stream",
     "text": [
      "LOSS:6.821570873260498\n"
     ]
    },
    {
     "name": "stderr",
     "output_type": "stream",
     "text": [
      "ROUND:[108000]:   0%|                                                                           | 0/44 [00:00<?, ?it/s]"
     ]
    },
    {
     "name": "stdout",
     "output_type": "stream",
     "text": [
      "LOSS:3.7538740634918213\n",
      "LOSS:4.115349769592285\n",
      "LOSS:4.429060459136963\n",
      "LOSS:4.280105113983154\n"
     ]
    },
    {
     "name": "stderr",
     "output_type": "stream",
     "text": [
      "ROUND:[108000]:   0%|                                                                           | 0/44 [00:00<?, ?it/s]"
     ]
    },
    {
     "name": "stdout",
     "output_type": "stream",
     "text": [
      "LOSS:4.252166748046875\n",
      "LOSS:5.038077354431152\n",
      "LOSS:3.5118331909179688\n",
      "LOSS:6.902653694152832\n",
      "LOSS:6.2222900390625\n"
     ]
    },
    {
     "name": "stderr",
     "output_type": "stream",
     "text": [
      "ROUND:[108000]:   0%|                                                                           | 0/44 [00:00<?, ?it/s]"
     ]
    },
    {
     "name": "stdout",
     "output_type": "stream",
     "text": [
      "LOSS:4.031679153442383\n",
      "LOSS:5.372833251953125\n",
      "LOSS:3.7388014793395996\n",
      "LOSS:8.148316383361816\n",
      "LOSS:2.919919967651367\n"
     ]
    },
    {
     "name": "stderr",
     "output_type": "stream",
     "text": [
      "ROUND:[108000]:   0%|                                                                           | 0/44 [00:00<?, ?it/s]"
     ]
    },
    {
     "name": "stdout",
     "output_type": "stream",
     "text": [
      "LOSS:3.975423574447632\n",
      "LOSS:3.003676652908325\n",
      "LOSS:4.457736492156982\n",
      "LOSS:3.592395544052124\n",
      "LOSS:3.2723498344421387\n"
     ]
    },
    {
     "name": "stderr",
     "output_type": "stream",
     "text": [
      "ROUND:[108000]:   0%|                                                                           | 0/44 [00:00<?, ?it/s]"
     ]
    },
    {
     "name": "stdout",
     "output_type": "stream",
     "text": [
      "LOSS:3.8313865661621094\n",
      "LOSS:4.555404186248779\n",
      "LOSS:5.388327121734619\n",
      "LOSS:2.575855016708374\n"
     ]
    },
    {
     "name": "stderr",
     "output_type": "stream",
     "text": [
      "ROUND:[108000]:   0%|                                                                           | 0/44 [00:00<?, ?it/s]"
     ]
    },
    {
     "name": "stdout",
     "output_type": "stream",
     "text": [
      "LOSS:4.890493869781494\n",
      "LOSS:2.934263229370117\n",
      "LOSS:3.676345109939575\n",
      "LOSS:3.4404802322387695\n"
     ]
    },
    {
     "name": "stderr",
     "output_type": "stream",
     "text": [
      "ROUND:[108000]:  68%|████████████████████████████████████████████▎                    | 30/44 [00:00<00:00, 286.48it/s]"
     ]
    },
    {
     "name": "stdout",
     "output_type": "stream",
     "text": [
      "LOSS:4.484640598297119\n",
      "LOSS:4.166443347930908\n",
      "LOSS:3.1776623725891113\n",
      "LOSS:4.365211009979248\n"
     ]
    },
    {
     "name": "stderr",
     "output_type": "stream",
     "text": [
      "ROUND:[108000]:  68%|████████████████████████████████████████████▎                    | 30/44 [00:00<00:00, 286.48it/s]"
     ]
    },
    {
     "name": "stdout",
     "output_type": "stream",
     "text": [
      "LOSS:5.047818660736084\n",
      "LOSS:3.1297576427459717\n",
      "LOSS:3.540753126144409\n",
      "LOSS:3.988546133041382\n",
      "LOSS:5.134797096252441\n"
     ]
    },
    {
     "name": "stderr",
     "output_type": "stream",
     "text": [
      "ROUND:[108000]:  68%|████████████████████████████████████████████▎                    | 30/44 [00:00<00:00, 286.48it/s]"
     ]
    },
    {
     "name": "stdout",
     "output_type": "stream",
     "text": [
      "LOSS:3.518897294998169\n",
      "LOSS:4.710726261138916\n",
      "LOSS:2.625411033630371\n",
      "LOSS:3.611755847930908\n"
     ]
    },
    {
     "name": "stderr",
     "output_type": "stream",
     "text": [
      "ROUND:[21600]: 100%|██████████████████████████████████████████████████████████████████| 44/44 [00:00<00:00, 290.24it/s]\n"
     ]
    },
    {
     "name": "stdout",
     "output_type": "stream",
     "text": [
      "LOSS:3.758291244506836\n",
      "LOSS:6.193357944488525\n",
      "LOSS:2.674384117126465\n",
      "VAILD_LOSS:4.637123281305486\n",
      "--------------------\n",
      "TIMES:69**************************\n"
     ]
    },
    {
     "name": "stderr",
     "output_type": "stream",
     "text": [
      "ROUND:[108000]:   0%|                                                                           | 0/44 [00:00<?, ?it/s]"
     ]
    },
    {
     "name": "stdout",
     "output_type": "stream",
     "text": [
      "LOSS:6.805286884307861\n",
      "LOSS:3.746748685836792\n",
      "LOSS:4.105749130249023\n",
      "LOSS:4.421881198883057\n"
     ]
    },
    {
     "name": "stderr",
     "output_type": "stream",
     "text": [
      "ROUND:[108000]:   0%|                                                                           | 0/44 [00:00<?, ?it/s]"
     ]
    },
    {
     "name": "stdout",
     "output_type": "stream",
     "text": [
      "LOSS:4.27151346206665\n",
      "LOSS:4.242733955383301\n",
      "LOSS:5.0254058837890625\n",
      "LOSS:3.5050718784332275\n"
     ]
    },
    {
     "name": "stderr",
     "output_type": "stream",
     "text": [
      "ROUND:[108000]:   0%|                                                                           | 0/44 [00:00<?, ?it/s]"
     ]
    },
    {
     "name": "stdout",
     "output_type": "stream",
     "text": [
      "LOSS:6.882679462432861\n",
      "LOSS:6.204408645629883\n",
      "LOSS:4.0226640701293945\n",
      "LOSS:5.36013126373291\n",
      "LOSS:3.726896286010742\n"
     ]
    },
    {
     "name": "stderr",
     "output_type": "stream",
     "text": [
      "ROUND:[108000]:   0%|                                                                           | 0/44 [00:00<?, ?it/s]"
     ]
    },
    {
     "name": "stdout",
     "output_type": "stream",
     "text": [
      "LOSS:8.136149406433105\n",
      "LOSS:2.910529136657715\n",
      "LOSS:3.965728998184204\n",
      "LOSS:2.9965202808380127\n",
      "LOSS:4.445308208465576\n"
     ]
    },
    {
     "name": "stderr",
     "output_type": "stream",
     "text": [
      "ROUND:[108000]:   0%|                                                                           | 0/44 [00:00<?, ?it/s]"
     ]
    },
    {
     "name": "stdout",
     "output_type": "stream",
     "text": [
      "LOSS:3.5814404487609863\n",
      "LOSS:3.2666091918945312\n",
      "LOSS:3.820446014404297\n",
      "LOSS:4.543553829193115\n"
     ]
    },
    {
     "name": "stderr",
     "output_type": "stream",
     "text": [
      "ROUND:[108000]:   0%|                                                                           | 0/44 [00:00<?, ?it/s]"
     ]
    },
    {
     "name": "stdout",
     "output_type": "stream",
     "text": [
      "LOSS:5.377333641052246\n",
      "LOSS:2.570255756378174\n",
      "LOSS:4.882043361663818\n",
      "LOSS:2.9270763397216797\n"
     ]
    },
    {
     "name": "stderr",
     "output_type": "stream",
     "text": [
      "ROUND:[108000]:  66%|██████████████████████████████████████████▊                      | 29/44 [00:00<00:00, 287.90it/s]"
     ]
    },
    {
     "name": "stdout",
     "output_type": "stream",
     "text": [
      "LOSS:3.665820837020874\n",
      "LOSS:3.4343321323394775\n",
      "LOSS:4.476315021514893\n",
      "LOSS:4.156078338623047\n",
      "LOSS:3.1692004203796387\n"
     ]
    },
    {
     "name": "stderr",
     "output_type": "stream",
     "text": [
      "ROUND:[108000]:  66%|██████████████████████████████████████████▊                      | 29/44 [00:00<00:00, 287.90it/s]"
     ]
    },
    {
     "name": "stdout",
     "output_type": "stream",
     "text": [
      "LOSS:4.350184440612793\n",
      "LOSS:5.0399017333984375\n",
      "LOSS:3.1203365325927734\n",
      "LOSS:3.5318572521209717\n"
     ]
    },
    {
     "name": "stderr",
     "output_type": "stream",
     "text": [
      "ROUND:[108000]:  66%|██████████████████████████████████████████▊                      | 29/44 [00:00<00:00, 287.90it/s]"
     ]
    },
    {
     "name": "stdout",
     "output_type": "stream",
     "text": [
      "LOSS:3.978865385055542\n",
      "LOSS:5.117911338806152\n",
      "LOSS:3.509692668914795\n",
      "LOSS:4.702108383178711\n"
     ]
    },
    {
     "name": "stderr",
     "output_type": "stream",
     "text": [
      "ROUND:[21600]: 100%|██████████████████████████████████████████████████████████████████| 44/44 [00:00<00:00, 284.63it/s]\n"
     ]
    },
    {
     "name": "stdout",
     "output_type": "stream",
     "text": [
      "LOSS:2.6219265460968018\n",
      "LOSS:3.6037635803222656\n",
      "LOSS:3.7570812702178955\n",
      "LOSS:6.175261497497559\n",
      "LOSS:2.666757345199585\n",
      "VAILD_LOSS:4.625492356040261\n",
      "--------------------\n",
      "TIMES:70**************************\n"
     ]
    },
    {
     "name": "stderr",
     "output_type": "stream",
     "text": [
      "ROUND:[108000]:   0%|                                                                           | 0/44 [00:00<?, ?it/s]"
     ]
    },
    {
     "name": "stdout",
     "output_type": "stream",
     "text": [
      "LOSS:6.789206504821777\n"
     ]
    },
    {
     "name": "stderr",
     "output_type": "stream",
     "text": [
      "ROUND:[108000]:   0%|                                                                           | 0/44 [00:00<?, ?it/s]"
     ]
    },
    {
     "name": "stdout",
     "output_type": "stream",
     "text": [
      "LOSS:3.7392430305480957\n",
      "LOSS:4.095877647399902\n",
      "LOSS:4.41459846496582\n",
      "LOSS:4.262775421142578\n",
      "LOSS:4.233360290527344\n"
     ]
    },
    {
     "name": "stderr",
     "output_type": "stream",
     "text": [
      "ROUND:[108000]:   0%|                                                                           | 0/44 [00:00<?, ?it/s]"
     ]
    },
    {
     "name": "stdout",
     "output_type": "stream",
     "text": [
      "LOSS:5.01277494430542\n",
      "LOSS:3.4985406398773193\n",
      "LOSS:6.862558364868164\n",
      "LOSS:6.186351299285889\n"
     ]
    },
    {
     "name": "stderr",
     "output_type": "stream",
     "text": [
      "ROUND:[108000]:   0%|                                                                           | 0/44 [00:00<?, ?it/s]"
     ]
    },
    {
     "name": "stdout",
     "output_type": "stream",
     "text": [
      "LOSS:4.013727188110352\n",
      "LOSS:5.347774982452393\n",
      "LOSS:3.715128183364868\n",
      "LOSS:8.12431526184082\n",
      "LOSS:2.901674747467041\n"
     ]
    },
    {
     "name": "stderr",
     "output_type": "stream",
     "text": [
      "ROUND:[108000]:   0%|                                                                           | 0/44 [00:00<?, ?it/s]"
     ]
    },
    {
     "name": "stdout",
     "output_type": "stream",
     "text": [
      "LOSS:3.9561147689819336\n",
      "LOSS:2.9892654418945312\n",
      "LOSS:4.433493137359619\n",
      "LOSS:3.5705533027648926\n"
     ]
    },
    {
     "name": "stderr",
     "output_type": "stream",
     "text": [
      "ROUND:[108000]:   0%|                                                                           | 0/44 [00:00<?, ?it/s]"
     ]
    },
    {
     "name": "stdout",
     "output_type": "stream",
     "text": [
      "LOSS:3.261488199234009\n",
      "LOSS:3.8097198009490967\n",
      "LOSS:4.5314555168151855\n",
      "LOSS:5.366400241851807\n"
     ]
    },
    {
     "name": "stderr",
     "output_type": "stream",
     "text": [
      "ROUND:[108000]:   0%|                                                                           | 0/44 [00:00<?, ?it/s]"
     ]
    },
    {
     "name": "stdout",
     "output_type": "stream",
     "text": [
      "LOSS:2.5648715496063232\n",
      "LOSS:4.872052192687988\n",
      "LOSS:2.920450448989868\n",
      "LOSS:3.6557862758636475\n",
      "LOSS:3.428900718688965\n"
     ]
    },
    {
     "name": "stderr",
     "output_type": "stream",
     "text": [
      "ROUND:[108000]:  68%|████████████████████████████████████████████▎                    | 30/44 [00:00<00:00, 292.04it/s]"
     ]
    },
    {
     "name": "stdout",
     "output_type": "stream",
     "text": [
      "LOSS:4.468987464904785\n",
      "LOSS:4.146492958068848\n",
      "LOSS:3.160792112350464\n",
      "LOSS:4.335450172424316\n"
     ]
    },
    {
     "name": "stderr",
     "output_type": "stream",
     "text": [
      "ROUND:[108000]:  68%|████████████████████████████████████████████▎                    | 30/44 [00:00<00:00, 292.04it/s]"
     ]
    },
    {
     "name": "stdout",
     "output_type": "stream",
     "text": [
      "LOSS:5.032031536102295\n",
      "LOSS:3.1101763248443604\n",
      "LOSS:3.522372245788574\n",
      "LOSS:3.9692471027374268\n",
      "LOSS:5.101799011230469\n"
     ]
    },
    {
     "name": "stderr",
     "output_type": "stream",
     "text": [
      "ROUND:[108000]:  68%|████████████████████████████████████████████▎                    | 30/44 [00:00<00:00, 292.04it/s]"
     ]
    },
    {
     "name": "stdout",
     "output_type": "stream",
     "text": [
      "LOSS:3.5000104904174805\n",
      "LOSS:4.693912982940674\n",
      "LOSS:2.618198871612549\n",
      "LOSS:3.5959465503692627\n",
      "LOSS:3.755770444869995\n"
     ]
    },
    {
     "name": "stderr",
     "output_type": "stream",
     "text": [
      "ROUND:[21600]: 100%|██████████████████████████████████████████████████████████████████| 44/44 [00:00<00:00, 292.17it/s]\n"
     ]
    },
    {
     "name": "stdout",
     "output_type": "stream",
     "text": [
      "LOSS:6.157455921173096\n",
      "LOSS:2.6595458984375\n",
      "VAILD_LOSS:4.613997264341875\n",
      "--------------------\n",
      "TIMES:71**************************\n"
     ]
    },
    {
     "name": "stderr",
     "output_type": "stream",
     "text": [
      "ROUND:[108000]:   0%|                                                                           | 0/44 [00:00<?, ?it/s]"
     ]
    },
    {
     "name": "stdout",
     "output_type": "stream",
     "text": [
      "LOSS:6.7728447914123535\n",
      "LOSS:3.731578826904297\n",
      "LOSS:4.085707664489746\n",
      "LOSS:4.4069318771362305\n"
     ]
    },
    {
     "name": "stderr",
     "output_type": "stream",
     "text": [
      "ROUND:[108000]:   0%|                                                                           | 0/44 [00:00<?, ?it/s]"
     ]
    },
    {
     "name": "stdout",
     "output_type": "stream",
     "text": [
      "LOSS:4.253506660461426\n",
      "LOSS:4.223384380340576\n",
      "LOSS:5.000611305236816\n",
      "LOSS:3.4917798042297363\n"
     ]
    },
    {
     "name": "stderr",
     "output_type": "stream",
     "text": [
      "ROUND:[108000]:   0%|                                                                           | 0/44 [00:00<?, ?it/s]"
     ]
    },
    {
     "name": "stdout",
     "output_type": "stream",
     "text": [
      "LOSS:6.841967582702637\n",
      "LOSS:6.169162273406982\n",
      "LOSS:4.00472354888916\n",
      "LOSS:5.335846900939941\n",
      "LOSS:3.7037556171417236\n"
     ]
    },
    {
     "name": "stderr",
     "output_type": "stream",
     "text": [
      "ROUND:[108000]:   0%|                                                                           | 0/44 [00:00<?, ?it/s]"
     ]
    },
    {
     "name": "stdout",
     "output_type": "stream",
     "text": [
      "LOSS:8.11249828338623\n",
      "LOSS:2.893192768096924\n",
      "LOSS:3.946690559387207\n",
      "LOSS:2.982585906982422\n",
      "LOSS:4.422286033630371\n"
     ]
    },
    {
     "name": "stderr",
     "output_type": "stream",
     "text": [
      "ROUND:[108000]:   0%|                                                                           | 0/44 [00:00<?, ?it/s]"
     ]
    },
    {
     "name": "stdout",
     "output_type": "stream",
     "text": [
      "LOSS:3.5594608783721924\n",
      "LOSS:3.256500720977783\n",
      "LOSS:3.798525333404541\n",
      "LOSS:4.51943302154541\n"
     ]
    },
    {
     "name": "stderr",
     "output_type": "stream",
     "text": [
      "ROUND:[108000]:   0%|                                                                           | 0/44 [00:00<?, ?it/s]"
     ]
    },
    {
     "name": "stdout",
     "output_type": "stream",
     "text": [
      "LOSS:5.356112003326416\n",
      "LOSS:2.5587611198425293\n",
      "LOSS:4.862580299377441\n",
      "LOSS:2.913587808609009\n"
     ]
    },
    {
     "name": "stderr",
     "output_type": "stream",
     "text": [
      "ROUND:[108000]:  66%|██████████████████████████████████████████▊                      | 29/44 [00:00<00:00, 286.56it/s]"
     ]
    },
    {
     "name": "stdout",
     "output_type": "stream",
     "text": [
      "LOSS:3.645319700241089\n",
      "LOSS:3.4221622943878174\n",
      "LOSS:4.461485385894775\n",
      "LOSS:4.135827541351318\n",
      "LOSS:3.1523473262786865\n"
     ]
    },
    {
     "name": "stderr",
     "output_type": "stream",
     "text": [
      "ROUND:[108000]:  66%|██████████████████████████████████████████▊                      | 29/44 [00:00<00:00, 286.56it/s]"
     ]
    },
    {
     "name": "stdout",
     "output_type": "stream",
     "text": [
      "LOSS:4.319502353668213\n",
      "LOSS:5.023625373840332\n",
      "LOSS:3.1023991107940674\n",
      "LOSS:3.5142412185668945\n"
     ]
    },
    {
     "name": "stderr",
     "output_type": "stream",
     "text": [
      "ROUND:[108000]:  66%|██████████████████████████████████████████▊                      | 29/44 [00:00<00:00, 286.56it/s]"
     ]
    },
    {
     "name": "stdout",
     "output_type": "stream",
     "text": [
      "LOSS:3.959531784057617\n",
      "LOSS:5.085638999938965\n",
      "LOSS:3.4924113750457764\n",
      "LOSS:4.68438720703125\n"
     ]
    },
    {
     "name": "stderr",
     "output_type": "stream",
     "text": [
      "ROUND:[21600]: 100%|██████████████████████████████████████████████████████████████████| 44/44 [00:00<00:00, 285.90it/s]\n"
     ]
    },
    {
     "name": "stdout",
     "output_type": "stream",
     "text": [
      "LOSS:2.6148505210876465\n",
      "LOSS:3.5885472297668457\n",
      "LOSS:3.756598711013794\n",
      "LOSS:6.139369964599609\n",
      "LOSS:2.652860164642334\n",
      "VAILD_LOSS:4.602626713839444\n",
      "--------------------\n",
      "TIMES:72**************************\n"
     ]
    },
    {
     "name": "stderr",
     "output_type": "stream",
     "text": [
      "ROUND:[108000]:   0%|                                                                           | 0/44 [00:00<?, ?it/s]"
     ]
    },
    {
     "name": "stdout",
     "output_type": "stream",
     "text": [
      "LOSS:6.75642728805542\n"
     ]
    },
    {
     "name": "stderr",
     "output_type": "stream",
     "text": [
      "ROUND:[108000]:   0%|                                                                           | 0/44 [00:00<?, ?it/s]"
     ]
    },
    {
     "name": "stdout",
     "output_type": "stream",
     "text": [
      "LOSS:3.7233171463012695\n",
      "LOSS:4.074594497680664\n",
      "LOSS:4.399620532989502\n",
      "LOSS:4.243607521057129\n",
      "LOSS:4.212863922119141\n"
     ]
    },
    {
     "name": "stderr",
     "output_type": "stream",
     "text": [
      "ROUND:[108000]:   0%|                                                                           | 0/44 [00:00<?, ?it/s]"
     ]
    },
    {
     "name": "stdout",
     "output_type": "stream",
     "text": [
      "LOSS:4.988615989685059\n",
      "LOSS:3.484978675842285\n",
      "LOSS:6.820770263671875\n"
     ]
    },
    {
     "name": "stderr",
     "output_type": "stream",
     "text": [
      "ROUND:[108000]:   0%|                                                                           | 0/44 [00:00<?, ?it/s]"
     ]
    },
    {
     "name": "stdout",
     "output_type": "stream",
     "text": [
      "LOSS:6.152048587799072\n",
      "LOSS:3.995783567428589\n",
      "LOSS:5.323484897613525\n",
      "LOSS:3.6922407150268555\n"
     ]
    },
    {
     "name": "stderr",
     "output_type": "stream",
     "text": [
      "ROUND:[108000]:   0%|                                                                           | 0/44 [00:00<?, ?it/s]"
     ]
    },
    {
     "name": "stdout",
     "output_type": "stream",
     "text": [
      "LOSS:8.100749015808105\n",
      "LOSS:2.8839962482452393\n",
      "LOSS:3.937140464782715\n",
      "LOSS:2.974778890609741\n"
     ]
    },
    {
     "name": "stderr",
     "output_type": "stream",
     "text": [
      "ROUND:[108000]:   0%|                                                                           | 0/44 [00:00<?, ?it/s]"
     ]
    },
    {
     "name": "stdout",
     "output_type": "stream",
     "text": [
      "LOSS:4.410115718841553\n",
      "LOSS:3.548637628555298\n",
      "LOSS:3.2515251636505127\n",
      "LOSS:3.7877252101898193\n"
     ]
    },
    {
     "name": "stderr",
     "output_type": "stream",
     "text": [
      "ROUND:[108000]:  57%|████████████████████████████████████▉                            | 25/44 [00:00<00:00, 248.19it/s]"
     ]
    },
    {
     "name": "stdout",
     "output_type": "stream",
     "text": [
      "LOSS:4.507374286651611\n",
      "LOSS:5.34568452835083\n",
      "LOSS:2.5529098510742188\n",
      "LOSS:4.853604793548584\n"
     ]
    },
    {
     "name": "stderr",
     "output_type": "stream",
     "text": [
      "ROUND:[108000]:  57%|████████████████████████████████████▉                            | 25/44 [00:00<00:00, 248.19it/s]"
     ]
    },
    {
     "name": "stdout",
     "output_type": "stream",
     "text": [
      "LOSS:2.906719207763672\n",
      "LOSS:3.6345138549804688\n",
      "LOSS:3.4154837131500244\n"
     ]
    },
    {
     "name": "stderr",
     "output_type": "stream",
     "text": [
      "ROUND:[108000]:  57%|████████████████████████████████████▉                            | 25/44 [00:00<00:00, 248.19it/s]"
     ]
    },
    {
     "name": "stdout",
     "output_type": "stream",
     "text": [
      "LOSS:4.453607082366943\n",
      "LOSS:4.125213623046875\n",
      "LOSS:3.1438231468200684\n",
      "LOSS:4.304227352142334\n"
     ]
    },
    {
     "name": "stderr",
     "output_type": "stream",
     "text": [
      "ROUND:[108000]:  57%|████████████████████████████████████▉                            | 25/44 [00:00<00:00, 248.19it/s]"
     ]
    },
    {
     "name": "stdout",
     "output_type": "stream",
     "text": [
      "LOSS:5.015193462371826\n",
      "LOSS:3.0936851501464844\n",
      "LOSS:3.5059542655944824\n",
      "LOSS:3.9497969150543213\n"
     ]
    },
    {
     "name": "stderr",
     "output_type": "stream",
     "text": [
      "ROUND:[108000]:  57%|████████████████████████████████████▉                            | 25/44 [00:00<00:00, 248.19it/s]"
     ]
    },
    {
     "name": "stdout",
     "output_type": "stream",
     "text": [
      "LOSS:5.069743633270264\n",
      "LOSS:3.4840011596679688\n",
      "LOSS:4.675663948059082\n",
      "LOSS:2.61153244972229\n"
     ]
    },
    {
     "name": "stderr",
     "output_type": "stream",
     "text": [
      "ROUND:[21600]: 100%|██████████████████████████████████████████████████████████████████| 44/44 [00:00<00:00, 249.25it/s]\n"
     ]
    },
    {
     "name": "stdout",
     "output_type": "stream",
     "text": [
      "LOSS:3.5809013843536377\n",
      "LOSS:3.756087303161621\n",
      "LOSS:6.121445178985596\n",
      "LOSS:2.6462037563323975\n",
      "VAILD_LOSS:4.591294353658503\n",
      "--------------------\n",
      "TIMES:73**************************\n"
     ]
    },
    {
     "name": "stderr",
     "output_type": "stream",
     "text": [
      "ROUND:[108000]:   0%|                                                                           | 0/44 [00:00<?, ?it/s]"
     ]
    },
    {
     "name": "stdout",
     "output_type": "stream",
     "text": [
      "LOSS:6.740237712860107\n",
      "LOSS:3.7156803607940674\n",
      "LOSS:4.0642523765563965\n"
     ]
    },
    {
     "name": "stderr",
     "output_type": "stream",
     "text": [
      "ROUND:[108000]:   0%|                                                                           | 0/44 [00:00<?, ?it/s]"
     ]
    },
    {
     "name": "stdout",
     "output_type": "stream",
     "text": [
      "LOSS:4.392111301422119\n",
      "LOSS:4.234576225280762\n",
      "LOSS:4.203041076660156\n",
      "LOSS:4.976410388946533\n"
     ]
    },
    {
     "name": "stderr",
     "output_type": "stream",
     "text": [
      "ROUND:[108000]:   0%|                                                                           | 0/44 [00:00<?, ?it/s]"
     ]
    },
    {
     "name": "stdout",
     "output_type": "stream",
     "text": [
      "LOSS:3.4782824516296387\n",
      "LOSS:6.800431251525879\n",
      "LOSS:6.134847164154053\n"
     ]
    },
    {
     "name": "stderr",
     "output_type": "stream",
     "text": [
      "ROUND:[108000]:   0%|                                                                           | 0/44 [00:00<?, ?it/s]"
     ]
    },
    {
     "name": "stdout",
     "output_type": "stream",
     "text": [
      "LOSS:3.9869890213012695\n",
      "LOSS:5.311212539672852\n",
      "LOSS:3.6807219982147217\n",
      "LOSS:8.088836669921875\n"
     ]
    },
    {
     "name": "stderr",
     "output_type": "stream",
     "text": [
      "ROUND:[108000]:   0%|                                                                           | 0/44 [00:00<?, ?it/s]"
     ]
    },
    {
     "name": "stdout",
     "output_type": "stream",
     "text": [
      "LOSS:2.875295400619507\n",
      "LOSS:3.9273629188537598\n",
      "LOSS:2.9678032398223877\n",
      "LOSS:4.398672580718994\n"
     ]
    },
    {
     "name": "stderr",
     "output_type": "stream",
     "text": [
      "ROUND:[108000]:   0%|                                                                           | 0/44 [00:00<?, ?it/s]"
     ]
    },
    {
     "name": "stdout",
     "output_type": "stream",
     "text": [
      "LOSS:3.537799835205078\n",
      "LOSS:3.2464590072631836\n",
      "LOSS:3.776987314224243\n"
     ]
    },
    {
     "name": "stderr",
     "output_type": "stream",
     "text": [
      "ROUND:[108000]:  52%|█████████████████████████████████▉                               | 23/44 [00:00<00:00, 229.45it/s]"
     ]
    },
    {
     "name": "stdout",
     "output_type": "stream",
     "text": [
      "LOSS:4.495532989501953\n",
      "LOSS:5.335283279418945\n",
      "LOSS:2.547379732131958\n"
     ]
    },
    {
     "name": "stderr",
     "output_type": "stream",
     "text": [
      "ROUND:[108000]:  52%|█████████████████████████████████▉                               | 23/44 [00:00<00:00, 229.45it/s]"
     ]
    },
    {
     "name": "stdout",
     "output_type": "stream",
     "text": [
      "LOSS:4.844226360321045\n",
      "LOSS:2.8998706340789795\n",
      "LOSS:3.623991012573242\n",
      "LOSS:3.4094274044036865\n"
     ]
    },
    {
     "name": "stderr",
     "output_type": "stream",
     "text": [
      "ROUND:[108000]:  52%|█████████████████████████████████▉                               | 23/44 [00:00<00:00, 229.45it/s]"
     ]
    },
    {
     "name": "stdout",
     "output_type": "stream",
     "text": [
      "LOSS:4.44600772857666\n",
      "LOSS:4.1154632568359375\n",
      "LOSS:3.135622501373291\n",
      "LOSS:4.289826393127441\n"
     ]
    },
    {
     "name": "stderr",
     "output_type": "stream",
     "text": [
      "ROUND:[108000]:  52%|█████████████████████████████████▉                               | 23/44 [00:00<00:00, 229.45it/s]"
     ]
    },
    {
     "name": "stdout",
     "output_type": "stream",
     "text": [
      "LOSS:5.0069990158081055\n",
      "LOSS:3.0841009616851807\n",
      "LOSS:3.49706768989563\n",
      "LOSS:3.940078020095825\n"
     ]
    },
    {
     "name": "stderr",
     "output_type": "stream",
     "text": [
      "ROUND:[108000]:  52%|█████████████████████████████████▉                               | 23/44 [00:00<00:00, 229.45it/s]"
     ]
    },
    {
     "name": "stdout",
     "output_type": "stream",
     "text": [
      "LOSS:5.054388523101807\n",
      "LOSS:3.474418878555298\n",
      "LOSS:4.66793155670166\n"
     ]
    },
    {
     "name": "stderr",
     "output_type": "stream",
     "text": [
      "ROUND:[21600]:  52%|██████████████████████████████████▌                               | 23/44 [00:00<00:00, 229.45it/s]"
     ]
    },
    {
     "name": "stdout",
     "output_type": "stream",
     "text": [
      "LOSS:2.60771107673645\n",
      "LOSS:3.5728845596313477\n",
      "LOSS:3.754162549972534\n",
      "LOSS:6.103830337524414\n"
     ]
    },
    {
     "name": "stderr",
     "output_type": "stream",
     "text": [
      "ROUND:[21600]: 100%|██████████████████████████████████████████████████████████████████| 44/44 [00:00<00:00, 227.98it/s]\n"
     ]
    },
    {
     "name": "stdout",
     "output_type": "stream",
     "text": [
      "LOSS:2.6393649578094482\n",
      "VAILD_LOSS:4.580004041845148\n",
      "--------------------\n",
      "TIMES:74**************************\n"
     ]
    },
    {
     "name": "stderr",
     "output_type": "stream",
     "text": [
      "ROUND:[108000]:   0%|                                                                           | 0/44 [00:00<?, ?it/s]"
     ]
    },
    {
     "name": "stdout",
     "output_type": "stream",
     "text": [
      "LOSS:6.723567962646484\n",
      "LOSS:3.7080092430114746\n",
      "LOSS:4.054177284240723\n",
      "LOSS:4.384081840515137\n"
     ]
    },
    {
     "name": "stderr",
     "output_type": "stream",
     "text": [
      "ROUND:[108000]:   0%|                                                                           | 0/44 [00:00<?, ?it/s]"
     ]
    },
    {
     "name": "stdout",
     "output_type": "stream",
     "text": [
      "LOSS:4.225497245788574\n",
      "LOSS:4.193219184875488\n",
      "LOSS:4.964700698852539\n",
      "LOSS:3.4715991020202637\n"
     ]
    },
    {
     "name": "stderr",
     "output_type": "stream",
     "text": [
      "ROUND:[108000]:   0%|                                                                           | 0/44 [00:00<?, ?it/s]"
     ]
    },
    {
     "name": "stdout",
     "output_type": "stream",
     "text": [
      "LOSS:6.780136585235596\n",
      "LOSS:6.11876106262207\n",
      "LOSS:3.9782814979553223\n"
     ]
    },
    {
     "name": "stderr",
     "output_type": "stream",
     "text": [
      "ROUND:[108000]:   0%|                                                                           | 0/44 [00:00<?, ?it/s]"
     ]
    },
    {
     "name": "stdout",
     "output_type": "stream",
     "text": [
      "LOSS:5.299635410308838\n",
      "LOSS:3.669495105743408\n",
      "LOSS:8.077130317687988\n",
      "LOSS:2.866654396057129\n"
     ]
    },
    {
     "name": "stderr",
     "output_type": "stream",
     "text": [
      "ROUND:[108000]:   0%|                                                                           | 0/44 [00:00<?, ?it/s]"
     ]
    },
    {
     "name": "stdout",
     "output_type": "stream",
     "text": [
      "LOSS:3.9177989959716797\n",
      "LOSS:2.96181321144104\n",
      "LOSS:4.3873820304870605\n"
     ]
    },
    {
     "name": "stderr",
     "output_type": "stream",
     "text": [
      "ROUND:[108000]:   0%|                                                                           | 0/44 [00:00<?, ?it/s]"
     ]
    },
    {
     "name": "stdout",
     "output_type": "stream",
     "text": [
      "LOSS:3.5266923904418945\n",
      "LOSS:3.2411320209503174\n",
      "LOSS:3.7664806842803955\n",
      "LOSS:4.484018325805664\n"
     ]
    },
    {
     "name": "stderr",
     "output_type": "stream",
     "text": [
      "ROUND:[108000]:  55%|███████████████████████████████████▍                             | 24/44 [00:00<00:00, 239.78it/s]"
     ]
    },
    {
     "name": "stdout",
     "output_type": "stream",
     "text": [
      "LOSS:5.325084686279297\n",
      "LOSS:2.5416669845581055\n",
      "LOSS:4.834991455078125\n",
      "LOSS:2.8928654193878174\n"
     ]
    },
    {
     "name": "stderr",
     "output_type": "stream",
     "text": [
      "ROUND:[108000]:  55%|███████████████████████████████████▍                             | 24/44 [00:00<00:00, 239.78it/s]"
     ]
    },
    {
     "name": "stdout",
     "output_type": "stream",
     "text": [
      "LOSS:3.613185405731201\n",
      "LOSS:3.4023287296295166\n",
      "LOSS:4.437825679779053\n"
     ]
    },
    {
     "name": "stderr",
     "output_type": "stream",
     "text": [
      "ROUND:[108000]:  55%|███████████████████████████████████▍                             | 24/44 [00:00<00:00, 239.78it/s]"
     ]
    },
    {
     "name": "stdout",
     "output_type": "stream",
     "text": [
      "LOSS:4.104997634887695\n",
      "LOSS:3.127211332321167\n",
      "LOSS:4.275162220001221\n",
      "LOSS:4.998444557189941\n"
     ]
    },
    {
     "name": "stderr",
     "output_type": "stream",
     "text": [
      "ROUND:[108000]:  55%|███████████████████████████████████▍                             | 24/44 [00:00<00:00, 239.78it/s]"
     ]
    },
    {
     "name": "stdout",
     "output_type": "stream",
     "text": [
      "LOSS:3.0755717754364014\n",
      "LOSS:3.48887300491333\n",
      "LOSS:3.930164098739624\n",
      "LOSS:5.038276672363281\n"
     ]
    },
    {
     "name": "stderr",
     "output_type": "stream",
     "text": [
      "ROUND:[108000]:  55%|███████████████████████████████████▍                             | 24/44 [00:00<00:00, 239.78it/s]"
     ]
    },
    {
     "name": "stdout",
     "output_type": "stream",
     "text": [
      "LOSS:3.4656941890716553\n",
      "LOSS:4.659627437591553\n",
      "LOSS:2.6039369106292725\n",
      "LOSS:3.5652174949645996\n"
     ]
    },
    {
     "name": "stderr",
     "output_type": "stream",
     "text": [
      "ROUND:[21600]: 100%|██████████████████████████████████████████████████████████████████| 44/44 [00:00<00:00, 239.39it/s]\n"
     ]
    },
    {
     "name": "stdout",
     "output_type": "stream",
     "text": [
      "LOSS:3.7535908222198486\n",
      "LOSS:6.086243629455566\n",
      "LOSS:2.632716178894043\n",
      "VAILD_LOSS:4.568590836091475\n",
      "--------------------\n",
      "TIMES:75**************************\n"
     ]
    },
    {
     "name": "stderr",
     "output_type": "stream",
     "text": [
      "ROUND:[108000]:   0%|                                                                           | 0/44 [00:00<?, ?it/s]"
     ]
    },
    {
     "name": "stdout",
     "output_type": "stream",
     "text": [
      "LOSS:6.70725679397583\n"
     ]
    },
    {
     "name": "stderr",
     "output_type": "stream",
     "text": [
      "ROUND:[108000]:   0%|                                                                           | 0/44 [00:00<?, ?it/s]"
     ]
    },
    {
     "name": "stdout",
     "output_type": "stream",
     "text": [
      "LOSS:3.699843645095825\n",
      "LOSS:4.043467998504639\n",
      "LOSS:4.376376628875732\n",
      "LOSS:4.216305255889893\n",
      "LOSS:4.183328151702881\n"
     ]
    },
    {
     "name": "stderr",
     "output_type": "stream",
     "text": [
      "ROUND:[108000]:   0%|                                                                           | 0/44 [00:00<?, ?it/s]"
     ]
    },
    {
     "name": "stdout",
     "output_type": "stream",
     "text": [
      "LOSS:4.952979564666748\n",
      "LOSS:3.4655444622039795\n",
      "LOSS:6.759454250335693\n"
     ]
    },
    {
     "name": "stderr",
     "output_type": "stream",
     "text": [
      "ROUND:[108000]:   0%|                                                                           | 0/44 [00:00<?, ?it/s]"
     ]
    },
    {
     "name": "stdout",
     "output_type": "stream",
     "text": [
      "LOSS:6.101835250854492\n",
      "LOSS:3.9696900844573975\n",
      "LOSS:5.287689685821533\n",
      "LOSS:3.6583378314971924\n",
      "LOSS:8.065728187561035\n"
     ]
    },
    {
     "name": "stderr",
     "output_type": "stream",
     "text": [
      "ROUND:[108000]:   0%|                                                                           | 0/44 [00:00<?, ?it/s]"
     ]
    },
    {
     "name": "stdout",
     "output_type": "stream",
     "text": [
      "LOSS:2.858474016189575\n",
      "LOSS:3.9084136486053467\n",
      "LOSS:2.955411672592163\n",
      "LOSS:4.376580715179443\n"
     ]
    },
    {
     "name": "stderr",
     "output_type": "stream",
     "text": [
      "ROUND:[108000]:   0%|                                                                           | 0/44 [00:00<?, ?it/s]"
     ]
    },
    {
     "name": "stdout",
     "output_type": "stream",
     "text": [
      "LOSS:3.5155348777770996\n",
      "LOSS:3.2363641262054443\n",
      "LOSS:3.7555294036865234\n",
      "LOSS:4.472238540649414\n"
     ]
    },
    {
     "name": "stderr",
     "output_type": "stream",
     "text": [
      "ROUND:[108000]:   0%|                                                                           | 0/44 [00:00<?, ?it/s]"
     ]
    },
    {
     "name": "stdout",
     "output_type": "stream",
     "text": [
      "LOSS:5.315469264984131\n",
      "LOSS:2.5354421138763428\n",
      "LOSS:4.825259685516357\n",
      "LOSS:2.885838270187378\n",
      "LOSS:3.6026861667633057\n"
     ]
    },
    {
     "name": "stderr",
     "output_type": "stream",
     "text": [
      "ROUND:[108000]:  64%|█████████████████████████████████████████▎                       | 28/44 [00:00<00:00, 272.57it/s]"
     ]
    },
    {
     "name": "stdout",
     "output_type": "stream",
     "text": [
      "LOSS:3.3955025672912598\n",
      "LOSS:4.43042516708374\n",
      "LOSS:4.094882488250732\n",
      "LOSS:3.119006395339966\n"
     ]
    },
    {
     "name": "stderr",
     "output_type": "stream",
     "text": [
      "ROUND:[108000]:  64%|█████████████████████████████████████████▎                       | 28/44 [00:00<00:00, 272.57it/s]"
     ]
    },
    {
     "name": "stdout",
     "output_type": "stream",
     "text": [
      "LOSS:4.260120868682861\n",
      "LOSS:4.990220069885254\n",
      "LOSS:3.0670394897460938\n",
      "LOSS:3.4804258346557617\n"
     ]
    },
    {
     "name": "stderr",
     "output_type": "stream",
     "text": [
      "ROUND:[108000]:  64%|█████████████████████████████████████████▎                       | 28/44 [00:00<00:00, 272.57it/s]"
     ]
    },
    {
     "name": "stdout",
     "output_type": "stream",
     "text": [
      "LOSS:3.9205808639526367\n",
      "LOSS:5.022372722625732\n",
      "LOSS:3.457038402557373\n",
      "LOSS:4.651374816894531\n",
      "LOSS:2.6001226902008057\n"
     ]
    },
    {
     "name": "stderr",
     "output_type": "stream",
     "text": [
      "ROUND:[21600]: 100%|██████████████████████████████████████████████████████████████████| 44/44 [00:00<00:00, 273.14it/s]\n"
     ]
    },
    {
     "name": "stdout",
     "output_type": "stream",
     "text": [
      "LOSS:3.5575027465820312\n",
      "LOSS:3.7529208660125732\n",
      "LOSS:6.068609714508057\n",
      "LOSS:2.6268351078033447\n",
      "VAILD_LOSS:4.557687239213423\n",
      "--------------------\n",
      "TIMES:76**************************\n"
     ]
    },
    {
     "name": "stderr",
     "output_type": "stream",
     "text": [
      "ROUND:[108000]:   0%|                                                                           | 0/44 [00:00<?, ?it/s]"
     ]
    },
    {
     "name": "stdout",
     "output_type": "stream",
     "text": [
      "LOSS:6.690578937530518\n",
      "LOSS:3.6917712688446045\n"
     ]
    },
    {
     "name": "stderr",
     "output_type": "stream",
     "text": [
      "ROUND:[108000]:   0%|                                                                           | 0/44 [00:00<?, ?it/s]"
     ]
    },
    {
     "name": "stdout",
     "output_type": "stream",
     "text": [
      "LOSS:4.032667636871338\n",
      "LOSS:4.368553161621094\n",
      "LOSS:4.2059197425842285\n",
      "LOSS:4.172277927398682\n",
      "LOSS:4.941631317138672\n"
     ]
    },
    {
     "name": "stderr",
     "output_type": "stream",
     "text": [
      "ROUND:[108000]:   0%|                                                                           | 0/44 [00:00<?, ?it/s]"
     ]
    },
    {
     "name": "stdout",
     "output_type": "stream",
     "text": [
      "LOSS:3.4578943252563477\n",
      "LOSS:6.738746166229248\n",
      "LOSS:6.086206912994385\n",
      "LOSS:3.9606544971466064\n"
     ]
    },
    {
     "name": "stderr",
     "output_type": "stream",
     "text": [
      "ROUND:[108000]:   0%|                                                                           | 0/44 [00:00<?, ?it/s]"
     ]
    },
    {
     "name": "stdout",
     "output_type": "stream",
     "text": [
      "LOSS:5.276688575744629\n",
      "LOSS:3.6473357677459717\n",
      "LOSS:8.053812980651855\n",
      "LOSS:2.8501579761505127\n",
      "LOSS:3.898881196975708\n"
     ]
    },
    {
     "name": "stderr",
     "output_type": "stream",
     "text": [
      "ROUND:[108000]:   0%|                                                                           | 0/44 [00:00<?, ?it/s]"
     ]
    },
    {
     "name": "stdout",
     "output_type": "stream",
     "text": [
      "LOSS:2.949794054031372\n",
      "LOSS:4.365693092346191\n",
      "LOSS:3.50460147857666\n",
      "LOSS:3.2309505939483643\n"
     ]
    },
    {
     "name": "stderr",
     "output_type": "stream",
     "text": [
      "ROUND:[108000]:   0%|                                                                           | 0/44 [00:00<?, ?it/s]"
     ]
    },
    {
     "name": "stdout",
     "output_type": "stream",
     "text": [
      "LOSS:3.744821786880493\n",
      "LOSS:4.460786819458008\n",
      "LOSS:5.305368423461914\n",
      "LOSS:2.530007839202881\n",
      "LOSS:4.816465854644775\n"
     ]
    },
    {
     "name": "stderr",
     "output_type": "stream",
     "text": [
      "ROUND:[108000]:  66%|██████████████████████████████████████████▊                      | 29/44 [00:00<00:00, 285.06it/s]"
     ]
    },
    {
     "name": "stdout",
     "output_type": "stream",
     "text": [
      "LOSS:2.8787624835968018\n",
      "LOSS:3.5919926166534424\n",
      "LOSS:3.3890669345855713\n",
      "LOSS:4.422329902648926\n"
     ]
    },
    {
     "name": "stderr",
     "output_type": "stream",
     "text": [
      "ROUND:[108000]:  66%|██████████████████████████████████████████▊                      | 29/44 [00:00<00:00, 285.06it/s]"
     ]
    },
    {
     "name": "stdout",
     "output_type": "stream",
     "text": [
      "LOSS:4.084869861602783\n",
      "LOSS:3.1108551025390625\n",
      "LOSS:4.245753288269043\n",
      "LOSS:4.981918811798096\n"
     ]
    },
    {
     "name": "stderr",
     "output_type": "stream",
     "text": [
      "ROUND:[108000]:  66%|██████████████████████████████████████████▊                      | 29/44 [00:00<00:00, 285.06it/s]"
     ]
    },
    {
     "name": "stdout",
     "output_type": "stream",
     "text": [
      "LOSS:3.058048963546753\n",
      "LOSS:3.4722442626953125\n",
      "LOSS:3.910922050476074\n",
      "LOSS:5.006816387176514\n",
      "LOSS:3.448275327682495\n"
     ]
    },
    {
     "name": "stderr",
     "output_type": "stream",
     "text": [
      "ROUND:[21600]:  66%|███████████████████████████████████████████▌                      | 29/44 [00:00<00:00, 285.06it/s]"
     ]
    },
    {
     "name": "stdout",
     "output_type": "stream",
     "text": [
      "LOSS:4.643147945404053\n",
      "LOSS:2.596327543258667\n",
      "LOSS:3.5497376918792725\n",
      "LOSS:3.7514894008636475\n",
      "LOSS:6.051008224487305\n"
     ]
    },
    {
     "name": "stderr",
     "output_type": "stream",
     "text": [
      "ROUND:[21600]: 100%|██████████████████████████████████████████████████████████████████| 44/44 [00:00<00:00, 284.10it/s]\n"
     ]
    },
    {
     "name": "stdout",
     "output_type": "stream",
     "text": [
      "LOSS:2.6205835342407227\n",
      "VAILD_LOSS:4.546687602996826\n",
      "--------------------\n",
      "TIMES:77**************************\n"
     ]
    },
    {
     "name": "stderr",
     "output_type": "stream",
     "text": [
      "ROUND:[108000]:   0%|                                                                           | 0/44 [00:00<?, ?it/s]"
     ]
    },
    {
     "name": "stdout",
     "output_type": "stream",
     "text": [
      "LOSS:6.674362659454346\n",
      "LOSS:3.68442440032959\n",
      "LOSS:4.022783279418945\n",
      "LOSS:4.3608269691467285\n",
      "LOSS:4.19696044921875\n"
     ]
    },
    {
     "name": "stderr",
     "output_type": "stream",
     "text": [
      "ROUND:[108000]:   0%|                                                                           | 0/44 [00:00<?, ?it/s]"
     ]
    },
    {
     "name": "stdout",
     "output_type": "stream",
     "text": [
      "LOSS:4.162552356719971\n",
      "LOSS:4.929754257202148\n",
      "LOSS:3.4513087272644043\n",
      "LOSS:6.718848705291748\n"
     ]
    },
    {
     "name": "stderr",
     "output_type": "stream",
     "text": [
      "ROUND:[108000]:   0%|                                                                           | 0/44 [00:00<?, ?it/s]"
     ]
    },
    {
     "name": "stdout",
     "output_type": "stream",
     "text": [
      "LOSS:6.06964111328125\n",
      "LOSS:3.9519593715667725\n",
      "LOSS:5.264715671539307\n",
      "LOSS:3.6360137462615967\n",
      "LOSS:8.042044639587402\n"
     ]
    },
    {
     "name": "stderr",
     "output_type": "stream",
     "text": [
      "ROUND:[108000]:   0%|                                                                           | 0/44 [00:00<?, ?it/s]"
     ]
    },
    {
     "name": "stdout",
     "output_type": "stream",
     "text": [
      "LOSS:2.8415374755859375\n",
      "LOSS:3.889197826385498\n",
      "LOSS:2.9432015419006348\n",
      "LOSS:4.354719638824463\n",
      "LOSS:3.493875026702881\n"
     ]
    },
    {
     "name": "stderr",
     "output_type": "stream",
     "text": [
      "ROUND:[108000]:   0%|                                                                           | 0/44 [00:00<?, ?it/s]"
     ]
    },
    {
     "name": "stdout",
     "output_type": "stream",
     "text": [
      "LOSS:3.225781202316284\n",
      "LOSS:3.73382568359375\n",
      "LOSS:4.4498419761657715\n",
      "LOSS:5.295521259307861\n"
     ]
    },
    {
     "name": "stderr",
     "output_type": "stream",
     "text": [
      "ROUND:[108000]:   0%|                                                                           | 0/44 [00:00<?, ?it/s]"
     ]
    },
    {
     "name": "stdout",
     "output_type": "stream",
     "text": [
      "LOSS:2.523967981338501\n",
      "LOSS:4.808417320251465\n",
      "LOSS:2.8716070652008057\n",
      "LOSS:3.580939292907715\n",
      "LOSS:3.38197922706604\n"
     ]
    },
    {
     "name": "stderr",
     "output_type": "stream",
     "text": [
      "ROUND:[108000]:  68%|████████████████████████████████████████████▎                    | 30/44 [00:00<00:00, 297.79it/s]"
     ]
    },
    {
     "name": "stdout",
     "output_type": "stream",
     "text": [
      "LOSS:4.4139509201049805\n",
      "LOSS:4.073718070983887\n",
      "LOSS:3.102330446243286\n",
      "LOSS:4.230703830718994\n"
     ]
    },
    {
     "name": "stderr",
     "output_type": "stream",
     "text": [
      "ROUND:[108000]:  68%|████████████████████████████████████████████▎                    | 30/44 [00:00<00:00, 297.79it/s]"
     ]
    },
    {
     "name": "stdout",
     "output_type": "stream",
     "text": [
      "LOSS:4.973443984985352\n",
      "LOSS:3.049602508544922\n",
      "LOSS:3.4647772312164307\n",
      "LOSS:3.901268243789673\n",
      "LOSS:4.991086483001709\n"
     ]
    },
    {
     "name": "stderr",
     "output_type": "stream",
     "text": [
      "ROUND:[108000]:  68%|████████████████████████████████████████████▎                    | 30/44 [00:00<00:00, 297.79it/s]"
     ]
    },
    {
     "name": "stdout",
     "output_type": "stream",
     "text": [
      "LOSS:3.4403271675109863\n",
      "LOSS:4.63468599319458\n",
      "LOSS:2.5928969383239746\n",
      "LOSS:3.542051315307617\n"
     ]
    },
    {
     "name": "stderr",
     "output_type": "stream",
     "text": [
      "ROUND:[21600]: 100%|██████████████████████████████████████████████████████████████████| 44/44 [00:00<00:00, 294.09it/s]\n"
     ]
    },
    {
     "name": "stdout",
     "output_type": "stream",
     "text": [
      "LOSS:3.749931812286377\n",
      "LOSS:6.033472537994385\n",
      "LOSS:2.614415407180786\n",
      "VAILD_LOSS:4.535925735126842\n",
      "--------------------\n",
      "TIMES:78**************************\n"
     ]
    },
    {
     "name": "stderr",
     "output_type": "stream",
     "text": [
      "ROUND:[108000]:   0%|                                                                           | 0/44 [00:00<?, ?it/s]"
     ]
    },
    {
     "name": "stdout",
     "output_type": "stream",
     "text": [
      "LOSS:6.658278465270996\n",
      "LOSS:3.677415132522583\n",
      "LOSS:4.013421535491943\n"
     ]
    },
    {
     "name": "stderr",
     "output_type": "stream",
     "text": [
      "ROUND:[108000]:   0%|                                                                           | 0/44 [00:00<?, ?it/s]"
     ]
    },
    {
     "name": "stdout",
     "output_type": "stream",
     "text": [
      "LOSS:4.353304386138916\n",
      "LOSS:4.188435077667236\n",
      "LOSS:4.153268814086914\n",
      "LOSS:4.917567253112793\n",
      "LOSS:3.444488525390625\n"
     ]
    },
    {
     "name": "stderr",
     "output_type": "stream",
     "text": [
      "ROUND:[108000]:   0%|                                                                           | 0/44 [00:00<?, ?it/s]"
     ]
    },
    {
     "name": "stdout",
     "output_type": "stream",
     "text": [
      "LOSS:6.699293613433838\n",
      "LOSS:6.053197383880615\n",
      "LOSS:3.9426956176757812\n",
      "LOSS:5.252821445465088\n"
     ]
    },
    {
     "name": "stderr",
     "output_type": "stream",
     "text": [
      "ROUND:[108000]:   0%|                                                                           | 0/44 [00:00<?, ?it/s]"
     ]
    },
    {
     "name": "stdout",
     "output_type": "stream",
     "text": [
      "LOSS:3.6245110034942627\n",
      "LOSS:8.030191421508789\n",
      "LOSS:2.832624673843384\n",
      "LOSS:3.87911057472229\n"
     ]
    },
    {
     "name": "stderr",
     "output_type": "stream",
     "text": [
      "ROUND:[108000]:   0%|                                                                           | 0/44 [00:00<?, ?it/s]"
     ]
    },
    {
     "name": "stdout",
     "output_type": "stream",
     "text": [
      "LOSS:2.936488389968872\n",
      "LOSS:4.343108654022217\n",
      "LOSS:3.483323812484741\n",
      "LOSS:3.220426321029663\n",
      "LOSS:3.7235569953918457\n"
     ]
    },
    {
     "name": "stderr",
     "output_type": "stream",
     "text": [
      "ROUND:[108000]:   0%|                                                                           | 0/44 [00:00<?, ?it/s]"
     ]
    },
    {
     "name": "stdout",
     "output_type": "stream",
     "text": [
      "LOSS:4.438803672790527\n",
      "LOSS:5.284967422485352\n",
      "LOSS:2.519080638885498\n",
      "LOSS:4.800047397613525\n",
      "LOSS:2.864539623260498\n"
     ]
    },
    {
     "name": "stderr",
     "output_type": "stream",
     "text": [
      "ROUND:[108000]:  66%|██████████████████████████████████████████▊                      | 29/44 [00:00<00:00, 287.89it/s]"
     ]
    },
    {
     "name": "stdout",
     "output_type": "stream",
     "text": [
      "LOSS:3.570211172103882\n",
      "LOSS:3.3759374618530273\n",
      "LOSS:4.4056806564331055\n",
      "LOSS:4.063265323638916\n"
     ]
    },
    {
     "name": "stderr",
     "output_type": "stream",
     "text": [
      "ROUND:[108000]:  66%|██████████████████████████████████████████▊                      | 29/44 [00:00<00:00, 287.89it/s]"
     ]
    },
    {
     "name": "stdout",
     "output_type": "stream",
     "text": [
      "LOSS:3.094169855117798\n",
      "LOSS:4.216066360473633\n",
      "LOSS:4.965396881103516\n",
      "LOSS:3.040781259536743\n"
     ]
    },
    {
     "name": "stderr",
     "output_type": "stream",
     "text": [
      "ROUND:[108000]:  66%|██████████████████████████████████████████▊                      | 29/44 [00:00<00:00, 287.89it/s]"
     ]
    },
    {
     "name": "stdout",
     "output_type": "stream",
     "text": [
      "LOSS:3.456691265106201\n",
      "LOSS:3.891894817352295\n",
      "LOSS:4.975460529327393\n",
      "LOSS:3.4322361946105957\n"
     ]
    },
    {
     "name": "stderr",
     "output_type": "stream",
     "text": [
      "ROUND:[108000]:  66%|██████████████████████████████████████████▊                      | 29/44 [00:00<00:00, 287.89it/s]"
     ]
    },
    {
     "name": "stdout",
     "output_type": "stream",
     "text": [
      "LOSS:4.626260280609131\n",
      "LOSS:2.589472532272339\n",
      "LOSS:3.534363031387329\n",
      "LOSS:3.7488691806793213\n"
     ]
    },
    {
     "name": "stderr",
     "output_type": "stream",
     "text": [
      "ROUND:[21600]: 100%|██████████████████████████████████████████████████████████████████| 44/44 [00:00<00:00, 281.00it/s]\n"
     ]
    },
    {
     "name": "stdout",
     "output_type": "stream",
     "text": [
      "LOSS:6.016272068023682\n",
      "LOSS:2.6075191497802734\n",
      "VAILD_LOSS:4.52466724135659\n",
      "--------------------\n",
      "TIMES:79**************************\n"
     ]
    },
    {
     "name": "stderr",
     "output_type": "stream",
     "text": [
      "ROUND:[108000]:   0%|                                                                           | 0/44 [00:00<?, ?it/s]"
     ]
    },
    {
     "name": "stdout",
     "output_type": "stream",
     "text": [
      "LOSS:6.642872333526611\n",
      "LOSS:3.670545816421509\n",
      "LOSS:4.004168510437012\n",
      "LOSS:4.346441745758057\n",
      "LOSS:4.181262016296387\n"
     ]
    },
    {
     "name": "stderr",
     "output_type": "stream",
     "text": [
      "ROUND:[108000]:   0%|                                                                           | 0/44 [00:00<?, ?it/s]"
     ]
    },
    {
     "name": "stdout",
     "output_type": "stream",
     "text": [
      "LOSS:4.144787788391113\n",
      "LOSS:4.9048051834106445\n",
      "LOSS:3.439316749572754\n",
      "LOSS:6.679906845092773\n"
     ]
    },
    {
     "name": "stderr",
     "output_type": "stream",
     "text": [
      "ROUND:[108000]:   0%|                                                                           | 0/44 [00:00<?, ?it/s]"
     ]
    },
    {
     "name": "stdout",
     "output_type": "stream",
     "text": [
      "LOSS:6.034739971160889\n",
      "LOSS:3.933685541152954\n",
      "LOSS:5.239253520965576\n",
      "LOSS:3.612605571746826\n",
      "LOSS:8.01806354522705\n"
     ]
    },
    {
     "name": "stderr",
     "output_type": "stream",
     "text": [
      "ROUND:[108000]:   0%|                                                                           | 0/44 [00:00<?, ?it/s]"
     ]
    },
    {
     "name": "stdout",
     "output_type": "stream",
     "text": [
      "LOSS:2.823822498321533\n",
      "LOSS:3.8690123558044434\n",
      "LOSS:2.927792549133301\n",
      "LOSS:4.3316569328308105\n",
      "LOSS:3.4733593463897705\n"
     ]
    },
    {
     "name": "stderr",
     "output_type": "stream",
     "text": [
      "ROUND:[108000]:   0%|                                                                           | 0/44 [00:00<?, ?it/s]"
     ]
    },
    {
     "name": "stdout",
     "output_type": "stream",
     "text": [
      "LOSS:3.2158801555633545\n",
      "LOSS:3.713327646255493\n",
      "LOSS:4.427700042724609\n",
      "LOSS:5.2745842933654785\n"
     ]
    },
    {
     "name": "stderr",
     "output_type": "stream",
     "text": [
      "ROUND:[108000]:   0%|                                                                           | 0/44 [00:00<?, ?it/s]"
     ]
    },
    {
     "name": "stdout",
     "output_type": "stream",
     "text": [
      "LOSS:2.5139644145965576\n",
      "LOSS:4.791695594787598\n",
      "LOSS:2.8581314086914062\n",
      "LOSS:3.559581756591797\n"
     ]
    },
    {
     "name": "stderr",
     "output_type": "stream",
     "text": [
      "ROUND:[108000]:  68%|████████████████████████████████████████████▎                    | 30/44 [00:00<00:00, 294.90it/s]"
     ]
    },
    {
     "name": "stdout",
     "output_type": "stream",
     "text": [
      "LOSS:3.3709728717803955\n",
      "LOSS:4.398304462432861\n",
      "LOSS:4.053165912628174\n",
      "LOSS:3.085747718811035\n",
      "LOSS:4.200706481933594\n"
     ]
    },
    {
     "name": "stderr",
     "output_type": "stream",
     "text": [
      "ROUND:[108000]:  68%|████████████████████████████████████████████▎                    | 30/44 [00:00<00:00, 294.90it/s]"
     ]
    },
    {
     "name": "stdout",
     "output_type": "stream",
     "text": [
      "LOSS:4.957618236541748\n",
      "LOSS:3.0313355922698975\n",
      "LOSS:3.447861909866333\n",
      "LOSS:3.8830418586730957\n",
      "LOSS:4.959831237792969\n"
     ]
    },
    {
     "name": "stderr",
     "output_type": "stream",
     "text": [
      "ROUND:[108000]:  68%|████████████████████████████████████████████▎                    | 30/44 [00:00<00:00, 294.90it/s]"
     ]
    },
    {
     "name": "stdout",
     "output_type": "stream",
     "text": [
      "LOSS:3.4235687255859375\n",
      "LOSS:4.6177215576171875\n",
      "LOSS:2.5863258838653564\n",
      "LOSS:3.5266833305358887\n",
      "LOSS:3.747204542160034\n"
     ]
    },
    {
     "name": "stderr",
     "output_type": "stream",
     "text": [
      "ROUND:[21600]: 100%|██████████████████████████████████████████████████████████████████| 44/44 [00:00<00:00, 296.09it/s]\n"
     ]
    },
    {
     "name": "stdout",
     "output_type": "stream",
     "text": [
      "LOSS:5.999224662780762\n",
      "LOSS:2.6003079414367676\n",
      "VAILD_LOSS:4.513665090907704\n",
      "--------------------\n",
      "TIMES:80**************************\n"
     ]
    },
    {
     "name": "stderr",
     "output_type": "stream",
     "text": [
      "ROUND:[108000]:   0%|                                                                           | 0/44 [00:00<?, ?it/s]"
     ]
    },
    {
     "name": "stdout",
     "output_type": "stream",
     "text": [
      "LOSS:6.628127098083496\n",
      "LOSS:3.6646697521209717\n"
     ]
    },
    {
     "name": "stderr",
     "output_type": "stream",
     "text": [
      "ROUND:[108000]:   0%|                                                                           | 0/44 [00:00<?, ?it/s]"
     ]
    },
    {
     "name": "stdout",
     "output_type": "stream",
     "text": [
      "LOSS:3.9953789710998535\n",
      "LOSS:4.339942455291748\n",
      "LOSS:4.173886775970459\n",
      "LOSS:4.135683059692383\n",
      "LOSS:4.892152786254883\n"
     ]
    },
    {
     "name": "stderr",
     "output_type": "stream",
     "text": [
      "ROUND:[108000]:   0%|                                                                           | 0/44 [00:00<?, ?it/s]"
     ]
    },
    {
     "name": "stdout",
     "output_type": "stream",
     "text": [
      "LOSS:3.432859182357788\n",
      "LOSS:6.66079044342041\n",
      "LOSS:6.0168986320495605\n",
      "LOSS:3.924353837966919\n"
     ]
    },
    {
     "name": "stderr",
     "output_type": "stream",
     "text": [
      "ROUND:[108000]:   0%|                                                                           | 0/44 [00:00<?, ?it/s]"
     ]
    },
    {
     "name": "stdout",
     "output_type": "stream",
     "text": [
      "LOSS:5.226373195648193\n",
      "LOSS:3.6008617877960205\n",
      "LOSS:8.005537986755371\n",
      "LOSS:2.81463360786438\n",
      "LOSS:3.8586370944976807\n"
     ]
    },
    {
     "name": "stderr",
     "output_type": "stream",
     "text": [
      "ROUND:[108000]:   0%|                                                                           | 0/44 [00:00<?, ?it/s]"
     ]
    },
    {
     "name": "stdout",
     "output_type": "stream",
     "text": [
      "LOSS:2.919576406478882\n",
      "LOSS:4.320089817047119\n",
      "LOSS:3.4635112285614014\n",
      "LOSS:3.2109129428863525\n"
     ]
    },
    {
     "name": "stderr",
     "output_type": "stream",
     "text": [
      "ROUND:[108000]:   0%|                                                                           | 0/44 [00:00<?, ?it/s]"
     ]
    },
    {
     "name": "stdout",
     "output_type": "stream",
     "text": [
      "LOSS:3.7034575939178467\n",
      "LOSS:4.416625499725342\n",
      "LOSS:5.26373291015625\n",
      "LOSS:2.509563684463501\n",
      "LOSS:4.783665657043457\n"
     ]
    },
    {
     "name": "stderr",
     "output_type": "stream",
     "text": [
      "ROUND:[108000]:  66%|██████████████████████████████████████████▊                      | 29/44 [00:00<00:00, 282.31it/s]"
     ]
    },
    {
     "name": "stdout",
     "output_type": "stream",
     "text": [
      "LOSS:2.852353096008301\n",
      "LOSS:3.5491228103637695\n",
      "LOSS:3.36682391166687\n",
      "LOSS:4.391185760498047\n"
     ]
    },
    {
     "name": "stderr",
     "output_type": "stream",
     "text": [
      "ROUND:[108000]:  66%|██████████████████████████████████████████▊                      | 29/44 [00:00<00:00, 282.31it/s]"
     ]
    },
    {
     "name": "stdout",
     "output_type": "stream",
     "text": [
      "LOSS:4.044288635253906\n",
      "LOSS:3.0777153968811035\n",
      "LOSS:4.186638832092285\n",
      "LOSS:4.950557708740234\n"
     ]
    },
    {
     "name": "stderr",
     "output_type": "stream",
     "text": [
      "ROUND:[108000]:  66%|██████████████████████████████████████████▊                      | 29/44 [00:00<00:00, 282.31it/s]"
     ]
    },
    {
     "name": "stdout",
     "output_type": "stream",
     "text": [
      "LOSS:3.020036458969116\n",
      "LOSS:3.437340259552002\n",
      "LOSS:3.8745620250701904\n",
      "LOSS:4.944526672363281\n",
      "LOSS:3.4124462604522705\n"
     ]
    },
    {
     "name": "stderr",
     "output_type": "stream",
     "text": [
      "ROUND:[108000]:  66%|██████████████████████████████████████████▊                      | 29/44 [00:00<00:00, 282.31it/s]"
     ]
    },
    {
     "name": "stdout",
     "output_type": "stream",
     "text": [
      "LOSS:4.610834121704102\n",
      "LOSS:2.5825226306915283\n",
      "LOSS:3.5184245109558105\n",
      "LOSS:3.7433297634124756\n"
     ]
    },
    {
     "name": "stderr",
     "output_type": "stream",
     "text": [
      "ROUND:[21600]: 100%|██████████████████████████████████████████████████████████████████| 44/44 [00:00<00:00, 279.22it/s]\n"
     ]
    },
    {
     "name": "stdout",
     "output_type": "stream",
     "text": [
      "LOSS:5.982200622558594\n",
      "LOSS:2.591315984725952\n",
      "VAILD_LOSS:4.502167745070024\n",
      "--------------------\n",
      "TIMES:81**************************\n"
     ]
    },
    {
     "name": "stderr",
     "output_type": "stream",
     "text": [
      "ROUND:[108000]:   0%|                                                                           | 0/44 [00:00<?, ?it/s]"
     ]
    },
    {
     "name": "stdout",
     "output_type": "stream",
     "text": [
      "LOSS:6.613916873931885\n",
      "LOSS:3.6590075492858887\n",
      "LOSS:3.9870288372039795\n",
      "LOSS:4.333349704742432\n"
     ]
    },
    {
     "name": "stderr",
     "output_type": "stream",
     "text": [
      "ROUND:[108000]:   0%|                                                                           | 0/44 [00:00<?, ?it/s]"
     ]
    },
    {
     "name": "stdout",
     "output_type": "stream",
     "text": [
      "LOSS:4.16719913482666\n",
      "LOSS:4.126989364624023\n",
      "LOSS:4.879676818847656\n",
      "LOSS:3.4271013736724854\n"
     ]
    },
    {
     "name": "stderr",
     "output_type": "stream",
     "text": [
      "ROUND:[108000]:   0%|                                                                           | 0/44 [00:00<?, ?it/s]"
     ]
    },
    {
     "name": "stdout",
     "output_type": "stream",
     "text": [
      "LOSS:6.6415276527404785\n",
      "LOSS:5.999392986297607\n",
      "LOSS:3.9151439666748047\n",
      "LOSS:5.213795185089111\n",
      "LOSS:3.589416742324829\n"
     ]
    },
    {
     "name": "stderr",
     "output_type": "stream",
     "text": [
      "ROUND:[108000]:   0%|                                                                           | 0/44 [00:00<?, ?it/s]"
     ]
    },
    {
     "name": "stdout",
     "output_type": "stream",
     "text": [
      "LOSS:7.992988109588623\n",
      "LOSS:2.8060293197631836\n",
      "LOSS:3.8486011028289795\n",
      "LOSS:2.911785125732422\n"
     ]
    },
    {
     "name": "stderr",
     "output_type": "stream",
     "text": [
      "ROUND:[108000]:   0%|                                                                           | 0/44 [00:00<?, ?it/s]"
     ]
    },
    {
     "name": "stdout",
     "output_type": "stream",
     "text": [
      "LOSS:4.310249328613281\n",
      "LOSS:3.4531993865966797\n",
      "LOSS:3.205911159515381\n",
      "LOSS:3.6921513080596924\n"
     ]
    },
    {
     "name": "stderr",
     "output_type": "stream",
     "text": [
      "ROUND:[108000]:   0%|                                                                           | 0/44 [00:00<?, ?it/s]"
     ]
    },
    {
     "name": "stdout",
     "output_type": "stream",
     "text": [
      "LOSS:4.406503200531006\n",
      "LOSS:5.254777908325195\n",
      "LOSS:2.502772092819214\n",
      "LOSS:4.776942729949951\n",
      "LOSS:2.846728801727295\n"
     ]
    },
    {
     "name": "stderr",
     "output_type": "stream",
     "text": [
      "ROUND:[108000]:  66%|██████████████████████████████████████████▊                      | 29/44 [00:00<00:00, 285.07it/s]"
     ]
    },
    {
     "name": "stdout",
     "output_type": "stream",
     "text": [
      "LOSS:3.537670850753784\n",
      "LOSS:3.359325408935547\n",
      "LOSS:4.383503437042236\n",
      "LOSS:4.032486915588379\n",
      "LOSS:3.068976640701294\n"
     ]
    },
    {
     "name": "stderr",
     "output_type": "stream",
     "text": [
      "ROUND:[108000]:  66%|██████████████████████████████████████████▊                      | 29/44 [00:00<00:00, 285.07it/s]"
     ]
    },
    {
     "name": "stdout",
     "output_type": "stream",
     "text": [
      "LOSS:4.170377254486084\n",
      "LOSS:4.9419403076171875\n",
      "LOSS:3.0126428604125977\n",
      "LOSS:3.429713726043701\n"
     ]
    },
    {
     "name": "stderr",
     "output_type": "stream",
     "text": [
      "ROUND:[108000]:  66%|██████████████████████████████████████████▊                      | 29/44 [00:00<00:00, 285.07it/s]"
     ]
    },
    {
     "name": "stdout",
     "output_type": "stream",
     "text": [
      "LOSS:3.865516185760498\n",
      "LOSS:4.92877197265625\n",
      "LOSS:3.405107259750366\n",
      "LOSS:4.60184907913208\n"
     ]
    },
    {
     "name": "stderr",
     "output_type": "stream",
     "text": [
      "ROUND:[21600]:  66%|███████████████████████████████████████████▌                      | 29/44 [00:00<00:00, 285.07it/s]"
     ]
    },
    {
     "name": "stdout",
     "output_type": "stream",
     "text": [
      "LOSS:2.579169750213623\n",
      "LOSS:3.5110974311828613\n",
      "LOSS:3.7429728507995605\n",
      "LOSS:5.965275764465332\n"
     ]
    },
    {
     "name": "stderr",
     "output_type": "stream",
     "text": [
      "ROUND:[21600]: 100%|██████████████████████████████████████████████████████████████████| 44/44 [00:00<00:00, 281.01it/s]\n"
     ]
    },
    {
     "name": "stdout",
     "output_type": "stream",
     "text": [
      "LOSS:2.5845284461975098\n",
      "VAILD_LOSS:4.491149122064764\n",
      "--------------------\n",
      "TIMES:82**************************\n"
     ]
    },
    {
     "name": "stderr",
     "output_type": "stream",
     "text": [
      "ROUND:[108000]:   0%|                                                                           | 0/44 [00:00<?, ?it/s]"
     ]
    },
    {
     "name": "stdout",
     "output_type": "stream",
     "text": [
      "LOSS:6.599357604980469\n",
      "LOSS:3.6522738933563232\n",
      "LOSS:3.9776647090911865\n",
      "LOSS:4.326708793640137\n",
      "LOSS:4.159658908843994\n"
     ]
    },
    {
     "name": "stderr",
     "output_type": "stream",
     "text": [
      "ROUND:[108000]:   0%|                                                                           | 0/44 [00:00<?, ?it/s]"
     ]
    },
    {
     "name": "stdout",
     "output_type": "stream",
     "text": [
      "LOSS:4.11780309677124\n",
      "LOSS:4.8673014640808105\n",
      "LOSS:3.4213976860046387\n",
      "LOSS:6.622086524963379\n"
     ]
    },
    {
     "name": "stderr",
     "output_type": "stream",
     "text": [
      "ROUND:[108000]:   0%|                                                                           | 0/44 [00:00<?, ?it/s]"
     ]
    },
    {
     "name": "stdout",
     "output_type": "stream",
     "text": [
      "LOSS:5.9816789627075195\n",
      "LOSS:3.906071901321411\n",
      "LOSS:5.200795650482178\n",
      "LOSS:3.5778720378875732\n"
     ]
    },
    {
     "name": "stderr",
     "output_type": "stream",
     "text": [
      "ROUND:[108000]:   0%|                                                                           | 0/44 [00:00<?, ?it/s]"
     ]
    },
    {
     "name": "stdout",
     "output_type": "stream",
     "text": [
      "LOSS:7.980676174163818\n",
      "LOSS:2.796874523162842\n",
      "LOSS:3.838656425476074\n",
      "LOSS:2.903034210205078\n",
      "LOSS:4.298884391784668\n"
     ]
    },
    {
     "name": "stderr",
     "output_type": "stream",
     "text": [
      "ROUND:[108000]:   0%|                                                                           | 0/44 [00:00<?, ?it/s]"
     ]
    },
    {
     "name": "stdout",
     "output_type": "stream",
     "text": [
      "LOSS:3.443265914916992\n",
      "LOSS:3.201364040374756\n",
      "LOSS:3.6823577880859375\n",
      "LOSS:4.395155429840088\n"
     ]
    },
    {
     "name": "stderr",
     "output_type": "stream",
     "text": [
      "ROUND:[108000]:   0%|                                                                           | 0/44 [00:00<?, ?it/s]"
     ]
    },
    {
     "name": "stdout",
     "output_type": "stream",
     "text": [
      "LOSS:5.244316101074219\n",
      "LOSS:2.49824595451355\n",
      "LOSS:4.7681121826171875\n",
      "LOSS:2.8411431312561035\n",
      "LOSS:3.5272746086120605\n"
     ]
    },
    {
     "name": "stderr",
     "output_type": "stream",
     "text": [
      "ROUND:[108000]:  66%|██████████████████████████████████████████▊                      | 29/44 [00:00<00:00, 287.90it/s]"
     ]
    },
    {
     "name": "stdout",
     "output_type": "stream",
     "text": [
      "LOSS:3.354130268096924\n",
      "LOSS:4.376224994659424\n",
      "LOSS:4.022572040557861\n",
      "LOSS:3.060695171356201\n",
      "LOSS:4.155905246734619\n"
     ]
    },
    {
     "name": "stderr",
     "output_type": "stream",
     "text": [
      "ROUND:[108000]:  66%|██████████████████████████████████████████▊                      | 29/44 [00:00<00:00, 287.90it/s]"
     ]
    },
    {
     "name": "stdout",
     "output_type": "stream",
     "text": [
      "LOSS:4.933852195739746\n",
      "LOSS:3.0034353733062744\n",
      "LOSS:3.421323776245117\n",
      "LOSS:3.856498956680298\n",
      "LOSS:4.9134979248046875\n"
     ]
    },
    {
     "name": "stderr",
     "output_type": "stream",
     "text": [
      "ROUND:[108000]:  66%|██████████████████████████████████████████▊                      | 29/44 [00:00<00:00, 287.90it/s]"
     ]
    },
    {
     "name": "stdout",
     "output_type": "stream",
     "text": [
      "LOSS:3.396371603012085\n",
      "LOSS:4.593868255615234\n",
      "LOSS:2.5757346153259277\n",
      "LOSS:3.5035295486450195\n"
     ]
    },
    {
     "name": "stderr",
     "output_type": "stream",
     "text": [
      "ROUND:[21600]: 100%|██████████████████████████████████████████████████████████████████| 44/44 [00:00<00:00, 292.17it/s]\n"
     ]
    },
    {
     "name": "stdout",
     "output_type": "stream",
     "text": [
      "LOSS:3.7413179874420166\n",
      "LOSS:5.948429584503174\n",
      "LOSS:2.578031301498413\n",
      "VAILD_LOSS:4.480392109264027\n",
      "--------------------\n",
      "TIMES:83**************************\n"
     ]
    },
    {
     "name": "stderr",
     "output_type": "stream",
     "text": [
      "ROUND:[108000]:   0%|                                                                           | 0/44 [00:00<?, ?it/s]"
     ]
    },
    {
     "name": "stdout",
     "output_type": "stream",
     "text": [
      "LOSS:6.584482192993164\n",
      "LOSS:3.6456499099731445\n",
      "LOSS:3.9684693813323975\n",
      "LOSS:4.3195576667785645\n"
     ]
    },
    {
     "name": "stderr",
     "output_type": "stream",
     "text": [
      "ROUND:[108000]:   0%|                                                                           | 0/44 [00:00<?, ?it/s]"
     ]
    },
    {
     "name": "stdout",
     "output_type": "stream",
     "text": [
      "LOSS:4.151667594909668\n",
      "LOSS:4.10832405090332\n",
      "LOSS:4.855234146118164\n"
     ]
    },
    {
     "name": "stderr",
     "output_type": "stream",
     "text": [
      "ROUND:[108000]:   0%|                                                                           | 0/44 [00:00<?, ?it/s]"
     ]
    },
    {
     "name": "stdout",
     "output_type": "stream",
     "text": [
      "LOSS:3.414764881134033\n",
      "LOSS:6.6027750968933105\n",
      "LOSS:5.964766502380371\n",
      "LOSS:3.896975040435791\n",
      "LOSS:5.188754558563232\n",
      "LOSS:3.566537380218506\n"
     ]
    },
    {
     "name": "stderr",
     "output_type": "stream",
     "text": [
      "ROUND:[108000]:   0%|                                                                           | 0/44 [00:00<?, ?it/s]"
     ]
    },
    {
     "name": "stdout",
     "output_type": "stream",
     "text": [
      "LOSS:7.968375205993652\n",
      "LOSS:2.7881927490234375\n",
      "LOSS:3.8288676738739014\n",
      "LOSS:2.895247220993042\n"
     ]
    },
    {
     "name": "stderr",
     "output_type": "stream",
     "text": [
      "ROUND:[108000]:   0%|                                                                           | 0/44 [00:00<?, ?it/s]"
     ]
    },
    {
     "name": "stdout",
     "output_type": "stream",
     "text": [
      "LOSS:4.288223743438721\n",
      "LOSS:3.43315052986145\n",
      "LOSS:3.196767807006836\n",
      "LOSS:3.672269821166992\n"
     ]
    },
    {
     "name": "stderr",
     "output_type": "stream",
     "text": [
      "ROUND:[108000]:   0%|                                                                           | 0/44 [00:00<?, ?it/s]"
     ]
    },
    {
     "name": "stdout",
     "output_type": "stream",
     "text": [
      "LOSS:4.384013652801514\n",
      "LOSS:5.234280109405518\n",
      "LOSS:2.4933688640594482\n",
      "LOSS:4.759279251098633\n"
     ]
    },
    {
     "name": "stderr",
     "output_type": "stream",
     "text": [
      "ROUND:[108000]:  64%|█████████████████████████████████████████▎                       | 28/44 [00:00<00:00, 272.07it/s]"
     ]
    },
    {
     "name": "stdout",
     "output_type": "stream",
     "text": [
      "LOSS:2.835630178451538\n",
      "LOSS:3.516838312149048\n",
      "LOSS:3.3483846187591553\n",
      "LOSS:4.368931293487549\n"
     ]
    },
    {
     "name": "stderr",
     "output_type": "stream",
     "text": [
      "ROUND:[108000]:  64%|█████████████████████████████████████████▎                       | 28/44 [00:00<00:00, 272.07it/s]"
     ]
    },
    {
     "name": "stdout",
     "output_type": "stream",
     "text": [
      "LOSS:4.012477874755859\n",
      "LOSS:3.052382707595825\n",
      "LOSS:4.14158821105957\n",
      "LOSS:4.925630569458008\n",
      "LOSS:2.994410991668701\n"
     ]
    },
    {
     "name": "stderr",
     "output_type": "stream",
     "text": [
      "ROUND:[108000]:  64%|█████████████████████████████████████████▎                       | 28/44 [00:00<00:00, 272.07it/s]"
     ]
    },
    {
     "name": "stdout",
     "output_type": "stream",
     "text": [
      "LOSS:3.4131596088409424\n",
      "LOSS:3.847383737564087\n",
      "LOSS:4.898346900939941\n",
      "LOSS:3.3876750469207764\n"
     ]
    },
    {
     "name": "stderr",
     "output_type": "stream",
     "text": [
      "ROUND:[108000]:  64%|█████████████████████████████████████████▎                       | 28/44 [00:00<00:00, 272.07it/s]"
     ]
    },
    {
     "name": "stdout",
     "output_type": "stream",
     "text": [
      "LOSS:4.586045265197754\n",
      "LOSS:2.572091579437256\n",
      "LOSS:3.4960408210754395\n",
      "LOSS:3.7395217418670654\n",
      "LOSS:5.931685447692871\n"
     ]
    },
    {
     "name": "stderr",
     "output_type": "stream",
     "text": [
      "ROUND:[21600]: 100%|██████████████████████████████████████████████████████████████████| 44/44 [00:00<00:00, 278.04it/s]\n"
     ]
    },
    {
     "name": "stdout",
     "output_type": "stream",
     "text": [
      "LOSS:2.571540355682373\n",
      "VAILD_LOSS:4.469716743989424\n",
      "--------------------\n",
      "TIMES:84**************************\n"
     ]
    },
    {
     "name": "stderr",
     "output_type": "stream",
     "text": [
      "ROUND:[108000]:   0%|                                                                           | 0/44 [00:00<?, ?it/s]"
     ]
    },
    {
     "name": "stdout",
     "output_type": "stream",
     "text": [
      "LOSS:6.569329738616943\n",
      "LOSS:3.6389570236206055\n",
      "LOSS:3.959515333175659\n",
      "LOSS:4.312190532684326\n"
     ]
    },
    {
     "name": "stderr",
     "output_type": "stream",
     "text": [
      "ROUND:[108000]:   0%|                                                                           | 0/44 [00:00<?, ?it/s]"
     ]
    },
    {
     "name": "stdout",
     "output_type": "stream",
     "text": [
      "LOSS:4.143749713897705\n",
      "LOSS:4.09891939163208\n",
      "LOSS:4.843318462371826\n",
      "LOSS:3.4082515239715576\n",
      "LOSS:6.58349609375\n"
     ]
    },
    {
     "name": "stderr",
     "output_type": "stream",
     "text": [
      "ROUND:[108000]:   0%|                                                                           | 0/44 [00:00<?, ?it/s]"
     ]
    },
    {
     "name": "stdout",
     "output_type": "stream",
     "text": [
      "LOSS:5.948585033416748\n",
      "LOSS:3.8879382610321045\n",
      "LOSS:5.176882743835449\n",
      "LOSS:3.5553064346313477\n",
      "LOSS:7.955909252166748\n"
     ]
    },
    {
     "name": "stderr",
     "output_type": "stream",
     "text": [
      "ROUND:[108000]:   0%|                                                                           | 0/44 [00:00<?, ?it/s]"
     ]
    },
    {
     "name": "stdout",
     "output_type": "stream",
     "text": [
      "LOSS:2.7792723178863525\n",
      "LOSS:3.8189802169799805\n",
      "LOSS:2.887708902359009\n",
      "LOSS:4.277473449707031\n",
      "LOSS:3.423163890838623\n"
     ]
    },
    {
     "name": "stderr",
     "output_type": "stream",
     "text": [
      "ROUND:[108000]:   0%|                                                                           | 0/44 [00:00<?, ?it/s]"
     ]
    },
    {
     "name": "stdout",
     "output_type": "stream",
     "text": [
      "LOSS:3.1917428970336914\n",
      "LOSS:3.6622636318206787\n",
      "LOSS:4.3732476234436035\n",
      "LOSS:5.2239274978637695\n"
     ]
    },
    {
     "name": "stderr",
     "output_type": "stream",
     "text": [
      "ROUND:[108000]:   0%|                                                                           | 0/44 [00:00<?, ?it/s]"
     ]
    },
    {
     "name": "stdout",
     "output_type": "stream",
     "text": [
      "LOSS:2.489067554473877\n",
      "LOSS:4.750670433044434\n",
      "LOSS:2.8301751613616943\n",
      "LOSS:3.5065908432006836\n",
      "LOSS:3.343555212020874\n"
     ]
    },
    {
     "name": "stderr",
     "output_type": "stream",
     "text": [
      "ROUND:[108000]:  68%|████████████████████████████████████████████▎                    | 30/44 [00:00<00:00, 297.82it/s]"
     ]
    },
    {
     "name": "stdout",
     "output_type": "stream",
     "text": [
      "LOSS:4.361884593963623\n",
      "LOSS:4.003185749053955\n",
      "LOSS:3.0443780422210693\n",
      "LOSS:4.127660751342773\n"
     ]
    },
    {
     "name": "stderr",
     "output_type": "stream",
     "text": [
      "ROUND:[108000]:  68%|████████████████████████████████████████████▎                    | 30/44 [00:00<00:00, 297.82it/s]"
     ]
    },
    {
     "name": "stdout",
     "output_type": "stream",
     "text": [
      "LOSS:4.917942523956299\n",
      "LOSS:2.98478627204895\n",
      "LOSS:3.404136896133423\n",
      "LOSS:3.8388378620147705\n",
      "LOSS:4.883430004119873\n"
     ]
    },
    {
     "name": "stderr",
     "output_type": "stream",
     "text": [
      "ROUND:[108000]:  68%|████████████████████████████████████████████▎                    | 30/44 [00:00<00:00, 297.82it/s]"
     ]
    },
    {
     "name": "stdout",
     "output_type": "stream",
     "text": [
      "LOSS:3.3781023025512695\n",
      "LOSS:4.578429698944092\n",
      "LOSS:2.5681841373443604\n",
      "LOSS:3.488328218460083\n",
      "LOSS:3.7373571395874023\n"
     ]
    },
    {
     "name": "stderr",
     "output_type": "stream",
     "text": [
      "ROUND:[21600]: 100%|██████████████████████████████████████████████████████████████████| 44/44 [00:00<00:00, 296.09it/s]\n"
     ]
    },
    {
     "name": "stdout",
     "output_type": "stream",
     "text": [
      "LOSS:5.915002346038818\n",
      "LOSS:2.5636956691741943\n",
      "VAILD_LOSS:4.4586122902956875\n",
      "--------------------\n",
      "TIMES:85**************************\n"
     ]
    },
    {
     "name": "stderr",
     "output_type": "stream",
     "text": [
      "ROUND:[108000]:   0%|                                                                           | 0/44 [00:00<?, ?it/s]"
     ]
    },
    {
     "name": "stdout",
     "output_type": "stream",
     "text": [
      "LOSS:6.555017471313477\n",
      "LOSS:3.6322021484375\n",
      "LOSS:3.9506263732910156\n",
      "LOSS:4.305465221405029\n"
     ]
    },
    {
     "name": "stderr",
     "output_type": "stream",
     "text": [
      "ROUND:[108000]:   0%|                                                                           | 0/44 [00:00<?, ?it/s]"
     ]
    },
    {
     "name": "stdout",
     "output_type": "stream",
     "text": [
      "LOSS:4.136470317840576\n",
      "LOSS:4.089693546295166\n",
      "LOSS:4.831282615661621\n",
      "LOSS:3.402498722076416\n"
     ]
    },
    {
     "name": "stderr",
     "output_type": "stream",
     "text": [
      "ROUND:[108000]:   0%|                                                                           | 0/44 [00:00<?, ?it/s]"
     ]
    },
    {
     "name": "stdout",
     "output_type": "stream",
     "text": [
      "LOSS:6.563891410827637\n",
      "LOSS:5.93159818649292\n",
      "LOSS:3.8788647651672363\n",
      "LOSS:5.164852142333984\n",
      "LOSS:3.5441341400146484\n"
     ]
    },
    {
     "name": "stderr",
     "output_type": "stream",
     "text": [
      "ROUND:[108000]:   0%|                                                                           | 0/44 [00:00<?, ?it/s]"
     ]
    },
    {
     "name": "stdout",
     "output_type": "stream",
     "text": [
      "LOSS:7.943643569946289\n",
      "LOSS:2.770779609680176\n",
      "LOSS:3.8094890117645264\n",
      "LOSS:2.8801562786102295\n"
     ]
    },
    {
     "name": "stderr",
     "output_type": "stream",
     "text": [
      "ROUND:[108000]:   0%|                                                                           | 0/44 [00:00<?, ?it/s]"
     ]
    },
    {
     "name": "stdout",
     "output_type": "stream",
     "text": [
      "LOSS:4.26691198348999\n",
      "LOSS:3.4130821228027344\n",
      "LOSS:3.187363862991333\n",
      "LOSS:3.652411937713623\n",
      "LOSS:4.362050533294678\n"
     ]
    },
    {
     "name": "stderr",
     "output_type": "stream",
     "text": [
      "ROUND:[108000]:   0%|                                                                           | 0/44 [00:00<?, ?it/s]"
     ]
    },
    {
     "name": "stdout",
     "output_type": "stream",
     "text": [
      "LOSS:5.214219093322754\n",
      "LOSS:2.4842159748077393\n",
      "LOSS:4.741079807281494\n",
      "LOSS:2.82476806640625\n"
     ]
    },
    {
     "name": "stderr",
     "output_type": "stream",
     "text": [
      "ROUND:[108000]:  66%|██████████████████████████████████████████▊                      | 29/44 [00:00<00:00, 286.81it/s]"
     ]
    },
    {
     "name": "stdout",
     "output_type": "stream",
     "text": [
      "LOSS:3.496385335922241\n",
      "LOSS:3.337388277053833\n",
      "LOSS:4.354830265045166\n",
      "LOSS:3.9932425022125244\n",
      "LOSS:3.0362749099731445\n"
     ]
    },
    {
     "name": "stderr",
     "output_type": "stream",
     "text": [
      "ROUND:[108000]:  66%|██████████████████████████████████████████▊                      | 29/44 [00:00<00:00, 286.81it/s]"
     ]
    },
    {
     "name": "stdout",
     "output_type": "stream",
     "text": [
      "LOSS:4.113675594329834\n",
      "LOSS:4.909313678741455\n",
      "LOSS:2.9763481616973877\n",
      "LOSS:3.396355628967285\n"
     ]
    },
    {
     "name": "stderr",
     "output_type": "stream",
     "text": [
      "ROUND:[108000]:  66%|██████████████████████████████████████████▊                      | 29/44 [00:00<00:00, 286.81it/s]"
     ]
    },
    {
     "name": "stdout",
     "output_type": "stream",
     "text": [
      "LOSS:3.8296144008636475\n",
      "LOSS:4.8684587478637695\n",
      "LOSS:3.3695244789123535\n",
      "LOSS:4.570497512817383\n",
      "LOSS:2.563836097717285\n"
     ]
    },
    {
     "name": "stderr",
     "output_type": "stream",
     "text": [
      "ROUND:[21600]: 100%|██████████████████████████████████████████████████████████████████| 44/44 [00:00<00:00, 287.68it/s]\n"
     ]
    },
    {
     "name": "stdout",
     "output_type": "stream",
     "text": [
      "LOSS:3.4811809062957764\n",
      "LOSS:3.736790657043457\n",
      "LOSS:5.898461818695068\n",
      "LOSS:2.5586860179901123\n",
      "VAILD_LOSS:4.448439901525324\n",
      "--------------------\n",
      "TIMES:86**************************\n"
     ]
    },
    {
     "name": "stderr",
     "output_type": "stream",
     "text": [
      "ROUND:[108000]:   0%|                                                                           | 0/44 [00:00<?, ?it/s]"
     ]
    },
    {
     "name": "stdout",
     "output_type": "stream",
     "text": [
      "LOSS:6.539482116699219\n",
      "LOSS:3.6245133876800537\n"
     ]
    },
    {
     "name": "stderr",
     "output_type": "stream",
     "text": [
      "ROUND:[108000]:   0%|                                                                           | 0/44 [00:00<?, ?it/s]"
     ]
    },
    {
     "name": "stdout",
     "output_type": "stream",
     "text": [
      "LOSS:3.9405369758605957\n",
      "LOSS:4.297837257385254\n",
      "LOSS:4.1263556480407715\n",
      "LOSS:4.0785417556762695\n",
      "LOSS:4.820303916931152\n"
     ]
    },
    {
     "name": "stderr",
     "output_type": "stream",
     "text": [
      "ROUND:[108000]:   0%|                                                                           | 0/44 [00:00<?, ?it/s]"
     ]
    },
    {
     "name": "stdout",
     "output_type": "stream",
     "text": [
      "LOSS:3.3945119380950928\n",
      "LOSS:6.543751239776611\n",
      "LOSS:5.916591644287109\n"
     ]
    },
    {
     "name": "stderr",
     "output_type": "stream",
     "text": [
      "ROUND:[108000]:   0%|                                                                           | 0/44 [00:00<?, ?it/s]"
     ]
    },
    {
     "name": "stdout",
     "output_type": "stream",
     "text": [
      "LOSS:3.8694558143615723\n",
      "LOSS:5.154487609863281\n",
      "LOSS:3.533327579498291\n",
      "LOSS:7.931082725524902\n"
     ]
    },
    {
     "name": "stderr",
     "output_type": "stream",
     "text": [
      "ROUND:[108000]:   0%|                                                                           | 0/44 [00:00<?, ?it/s]"
     ]
    },
    {
     "name": "stdout",
     "output_type": "stream",
     "text": [
      "LOSS:2.7626616954803467\n",
      "LOSS:3.799755573272705\n",
      "LOSS:2.8737566471099854\n"
     ]
    },
    {
     "name": "stderr",
     "output_type": "stream",
     "text": [
      "ROUND:[108000]:   0%|                                                                           | 0/44 [00:00<?, ?it/s]"
     ]
    },
    {
     "name": "stdout",
     "output_type": "stream",
     "text": [
      "LOSS:4.2571258544921875\n",
      "LOSS:3.4030940532684326\n",
      "LOSS:3.182220935821533\n",
      "LOSS:3.642340660095215\n"
     ]
    },
    {
     "name": "stderr",
     "output_type": "stream",
     "text": [
      "ROUND:[108000]:  55%|███████████████████████████████████▍                             | 24/44 [00:00<00:00, 238.26it/s]"
     ]
    },
    {
     "name": "stdout",
     "output_type": "stream",
     "text": [
      "LOSS:4.351568698883057\n",
      "LOSS:5.204194068908691\n",
      "LOSS:2.4798593521118164\n"
     ]
    },
    {
     "name": "stderr",
     "output_type": "stream",
     "text": [
      "ROUND:[108000]:  55%|███████████████████████████████████▍                             | 24/44 [00:00<00:00, 238.26it/s]"
     ]
    },
    {
     "name": "stdout",
     "output_type": "stream",
     "text": [
      "LOSS:4.733059406280518\n",
      "LOSS:2.8192403316497803\n",
      "LOSS:3.4858763217926025\n"
     ]
    },
    {
     "name": "stderr",
     "output_type": "stream",
     "text": [
      "ROUND:[108000]:  55%|███████████████████████████████████▍                             | 24/44 [00:00<00:00, 238.26it/s]"
     ]
    },
    {
     "name": "stdout",
     "output_type": "stream",
     "text": [
      "LOSS:3.3320205211639404\n",
      "LOSS:4.347282409667969\n",
      "LOSS:3.9833123683929443\n",
      "LOSS:3.028254747390747\n"
     ]
    },
    {
     "name": "stderr",
     "output_type": "stream",
     "text": [
      "ROUND:[108000]:  55%|███████████████████████████████████▍                             | 24/44 [00:00<00:00, 238.26it/s]"
     ]
    },
    {
     "name": "stdout",
     "output_type": "stream",
     "text": [
      "LOSS:4.0996832847595215\n",
      "LOSS:4.901557922363281\n",
      "LOSS:2.9672160148620605\n",
      "LOSS:3.3883965015411377\n"
     ]
    },
    {
     "name": "stderr",
     "output_type": "stream",
     "text": [
      "ROUND:[108000]:  55%|███████████████████████████████████▍                             | 24/44 [00:00<00:00, 238.26it/s]"
     ]
    },
    {
     "name": "stdout",
     "output_type": "stream",
     "text": [
      "LOSS:3.8206191062927246\n",
      "LOSS:4.853531837463379\n",
      "LOSS:3.360624313354492\n",
      "LOSS:4.562402725219727\n"
     ]
    },
    {
     "name": "stderr",
     "output_type": "stream",
     "text": [
      "ROUND:[108000]:  55%|███████████████████████████████████▍                             | 24/44 [00:00<00:00, 238.26it/s]"
     ]
    },
    {
     "name": "stdout",
     "output_type": "stream",
     "text": [
      "LOSS:2.5596702098846436\n",
      "LOSS:3.4736337661743164\n",
      "LOSS:3.734771728515625\n"
     ]
    },
    {
     "name": "stderr",
     "output_type": "stream",
     "text": [
      "ROUND:[21600]: 100%|██████████████████████████████████████████████████████████████████| 44/44 [00:00<00:00, 237.37it/s]\n"
     ]
    },
    {
     "name": "stdout",
     "output_type": "stream",
     "text": [
      "LOSS:5.881993293762207\n",
      "LOSS:2.5520153045654297\n",
      "VAILD_LOSS:4.437885587865656\n",
      "--------------------\n",
      "TIMES:87**************************\n"
     ]
    },
    {
     "name": "stderr",
     "output_type": "stream",
     "text": [
      "ROUND:[108000]:   0%|                                                                           | 0/44 [00:00<?, ?it/s]"
     ]
    },
    {
     "name": "stdout",
     "output_type": "stream",
     "text": [
      "LOSS:6.524587631225586\n",
      "LOSS:3.6181108951568604\n"
     ]
    },
    {
     "name": "stderr",
     "output_type": "stream",
     "text": [
      "ROUND:[108000]:   0%|                                                                           | 0/44 [00:00<?, ?it/s]"
     ]
    },
    {
     "name": "stdout",
     "output_type": "stream",
     "text": [
      "LOSS:3.932107448577881\n",
      "LOSS:4.290997505187988\n",
      "LOSS:4.118905067443848\n",
      "LOSS:4.069245338439941\n"
     ]
    },
    {
     "name": "stderr",
     "output_type": "stream",
     "text": [
      "ROUND:[108000]:   0%|                                                                           | 0/44 [00:00<?, ?it/s]"
     ]
    },
    {
     "name": "stdout",
     "output_type": "stream",
     "text": [
      "LOSS:4.80827522277832\n",
      "LOSS:3.3884472846984863\n",
      "LOSS:6.524595737457275\n",
      "LOSS:5.90030574798584\n"
     ]
    },
    {
     "name": "stderr",
     "output_type": "stream",
     "text": [
      "ROUND:[108000]:   0%|                                                                           | 0/44 [00:00<?, ?it/s]"
     ]
    },
    {
     "name": "stdout",
     "output_type": "stream",
     "text": [
      "LOSS:3.860330820083618\n",
      "LOSS:5.142480373382568\n",
      "LOSS:3.52200984954834\n"
     ]
    },
    {
     "name": "stderr",
     "output_type": "stream",
     "text": [
      "ROUND:[108000]:   0%|                                                                           | 0/44 [00:00<?, ?it/s]"
     ]
    },
    {
     "name": "stdout",
     "output_type": "stream",
     "text": [
      "LOSS:7.918549537658691\n",
      "LOSS:2.753514051437378\n",
      "LOSS:3.7901253700256348\n",
      "LOSS:2.8660528659820557\n"
     ]
    },
    {
     "name": "stderr",
     "output_type": "stream",
     "text": [
      "ROUND:[108000]:   0%|                                                                           | 0/44 [00:00<?, ?it/s]"
     ]
    },
    {
     "name": "stdout",
     "output_type": "stream",
     "text": [
      "LOSS:4.2462921142578125\n",
      "LOSS:3.393341302871704\n",
      "LOSS:3.17745304107666\n"
     ]
    },
    {
     "name": "stderr",
     "output_type": "stream",
     "text": [
      "ROUND:[108000]:  52%|█████████████████████████████████▉                               | 23/44 [00:00<00:00, 228.32it/s]"
     ]
    },
    {
     "name": "stdout",
     "output_type": "stream",
     "text": [
      "LOSS:3.632744550704956\n",
      "LOSS:4.340507507324219\n",
      "LOSS:5.193610191345215\n"
     ]
    },
    {
     "name": "stderr",
     "output_type": "stream",
     "text": [
      "ROUND:[108000]:  52%|█████████████████████████████████▉                               | 23/44 [00:00<00:00, 228.32it/s]"
     ]
    },
    {
     "name": "stdout",
     "output_type": "stream",
     "text": [
      "LOSS:2.475862741470337\n",
      "LOSS:4.724571704864502\n",
      "LOSS:2.813971519470215\n"
     ]
    },
    {
     "name": "stderr",
     "output_type": "stream",
     "text": [
      "ROUND:[108000]:  52%|█████████████████████████████████▉                               | 23/44 [00:00<00:00, 228.32it/s]"
     ]
    },
    {
     "name": "stdout",
     "output_type": "stream",
     "text": [
      "LOSS:3.475504159927368\n",
      "LOSS:3.3264236450195312\n",
      "LOSS:4.3398895263671875\n",
      "LOSS:3.9733152389526367\n"
     ]
    },
    {
     "name": "stderr",
     "output_type": "stream",
     "text": [
      "ROUND:[108000]:  52%|█████████████████████████████████▉                               | 23/44 [00:00<00:00, 228.32it/s]"
     ]
    },
    {
     "name": "stdout",
     "output_type": "stream",
     "text": [
      "LOSS:3.0200440883636475\n",
      "LOSS:4.08610725402832\n",
      "LOSS:4.893243789672852\n",
      "LOSS:2.958322763442993\n"
     ]
    },
    {
     "name": "stderr",
     "output_type": "stream",
     "text": [
      "ROUND:[108000]:  52%|█████████████████████████████████▉                               | 23/44 [00:00<00:00, 228.32it/s]"
     ]
    },
    {
     "name": "stdout",
     "output_type": "stream",
     "text": [
      "LOSS:3.3810784816741943\n",
      "LOSS:3.811241388320923\n",
      "LOSS:4.838789939880371\n",
      "LOSS:3.3518943786621094\n"
     ]
    },
    {
     "name": "stderr",
     "output_type": "stream",
     "text": [
      "ROUND:[108000]:  52%|█████████████████████████████████▉                               | 23/44 [00:00<00:00, 228.32it/s]"
     ]
    },
    {
     "name": "stdout",
     "output_type": "stream",
     "text": [
      "LOSS:4.554400444030762\n",
      "LOSS:2.5553359985351562\n",
      "LOSS:3.4662344455718994\n"
     ]
    },
    {
     "name": "stderr",
     "output_type": "stream",
     "text": [
      "ROUND:[21600]: 100%|██████████████████████████████████████████████████████████████████| 44/44 [00:00<00:00, 231.57it/s]\n"
     ]
    },
    {
     "name": "stdout",
     "output_type": "stream",
     "text": [
      "LOSS:3.732982635498047\n",
      "LOSS:5.865328311920166\n",
      "LOSS:2.5460400581359863\n",
      "VAILD_LOSS:4.427565097808838\n",
      "--------------------\n",
      "TIMES:88**************************\n"
     ]
    },
    {
     "name": "stderr",
     "output_type": "stream",
     "text": [
      "ROUND:[108000]:   0%|                                                                           | 0/44 [00:00<?, ?it/s]"
     ]
    },
    {
     "name": "stdout",
     "output_type": "stream",
     "text": [
      "LOSS:6.509554386138916\n",
      "LOSS:3.611614227294922\n"
     ]
    },
    {
     "name": "stderr",
     "output_type": "stream",
     "text": [
      "ROUND:[108000]:   0%|                                                                           | 0/44 [00:00<?, ?it/s]"
     ]
    },
    {
     "name": "stdout",
     "output_type": "stream",
     "text": [
      "LOSS:3.92362904548645\n",
      "LOSS:4.283745765686035\n",
      "LOSS:4.1111907958984375\n",
      "LOSS:4.059871673583984\n"
     ]
    },
    {
     "name": "stderr",
     "output_type": "stream",
     "text": [
      "ROUND:[108000]:   0%|                                                                           | 0/44 [00:00<?, ?it/s]"
     ]
    },
    {
     "name": "stdout",
     "output_type": "stream",
     "text": [
      "LOSS:4.7963995933532715\n",
      "LOSS:3.382094621658325\n",
      "LOSS:6.505626201629639\n",
      "LOSS:5.884210109710693\n",
      "LOSS:3.8512814044952393\n"
     ]
    },
    {
     "name": "stderr",
     "output_type": "stream",
     "text": [
      "ROUND:[108000]:   0%|                                                                           | 0/44 [00:00<?, ?it/s]"
     ]
    },
    {
     "name": "stdout",
     "output_type": "stream",
     "text": [
      "LOSS:5.130805492401123\n",
      "LOSS:3.510775566101074\n",
      "LOSS:7.906056880950928\n",
      "LOSS:2.744713306427002\n"
     ]
    },
    {
     "name": "stderr",
     "output_type": "stream",
     "text": [
      "ROUND:[108000]:   0%|                                                                           | 0/44 [00:00<?, ?it/s]"
     ]
    },
    {
     "name": "stdout",
     "output_type": "stream",
     "text": [
      "LOSS:3.7805683612823486\n",
      "LOSS:2.8584728240966797\n",
      "LOSS:4.235963821411133\n",
      "LOSS:3.383514642715454\n"
     ]
    },
    {
     "name": "stderr",
     "output_type": "stream",
     "text": [
      "ROUND:[108000]:   0%|                                                                           | 0/44 [00:00<?, ?it/s]"
     ]
    },
    {
     "name": "stdout",
     "output_type": "stream",
     "text": [
      "LOSS:3.1730098724365234\n",
      "LOSS:3.622880697250366\n",
      "LOSS:4.3295416831970215\n",
      "LOSS:5.18365478515625\n",
      "LOSS:2.471038579940796\n"
     ]
    },
    {
     "name": "stderr",
     "output_type": "stream",
     "text": [
      "ROUND:[108000]:  64%|█████████████████████████████████████████▎                       | 28/44 [00:00<00:00, 275.24it/s]"
     ]
    },
    {
     "name": "stdout",
     "output_type": "stream",
     "text": [
      "LOSS:4.715287208557129\n",
      "LOSS:2.808803081512451\n",
      "LOSS:3.4648492336273193\n",
      "LOSS:3.319289207458496\n"
     ]
    },
    {
     "name": "stderr",
     "output_type": "stream",
     "text": [
      "ROUND:[108000]:  64%|█████████████████████████████████████████▎                       | 28/44 [00:00<00:00, 275.24it/s]"
     ]
    },
    {
     "name": "stdout",
     "output_type": "stream",
     "text": [
      "LOSS:4.332472324371338\n",
      "LOSS:3.961552619934082\n",
      "LOSS:3.0113003253936768\n",
      "LOSS:4.070366859436035\n"
     ]
    },
    {
     "name": "stderr",
     "output_type": "stream",
     "text": [
      "ROUND:[108000]:  64%|█████████████████████████████████████████▎                       | 28/44 [00:00<00:00, 275.24it/s]"
     ]
    },
    {
     "name": "stdout",
     "output_type": "stream",
     "text": [
      "LOSS:4.884276390075684\n",
      "LOSS:2.952530860900879\n",
      "LOSS:3.3752870559692383\n",
      "LOSS:3.802018880844116\n"
     ]
    },
    {
     "name": "stderr",
     "output_type": "stream",
     "text": [
      "ROUND:[108000]:  64%|█████████████████████████████████████████▎                       | 28/44 [00:00<00:00, 275.24it/s]"
     ]
    },
    {
     "name": "stdout",
     "output_type": "stream",
     "text": [
      "LOSS:4.823057174682617\n",
      "LOSS:3.346587657928467\n",
      "LOSS:4.5445237159729\n",
      "LOSS:2.5514485836029053\n"
     ]
    },
    {
     "name": "stderr",
     "output_type": "stream",
     "text": [
      "ROUND:[21600]: 100%|██████████████████████████████████████████████████████████████████| 44/44 [00:00<00:00, 270.59it/s]\n"
     ]
    },
    {
     "name": "stdout",
     "output_type": "stream",
     "text": [
      "LOSS:3.459568977355957\n",
      "LOSS:3.73526930809021\n",
      "LOSS:5.84861421585083\n",
      "LOSS:2.5411670207977295\n",
      "VAILD_LOSS:4.4172800020738086\n",
      "--------------------\n",
      "TIMES:89**************************\n"
     ]
    },
    {
     "name": "stderr",
     "output_type": "stream",
     "text": [
      "ROUND:[108000]:   0%|                                                                           | 0/44 [00:00<?, ?it/s]"
     ]
    },
    {
     "name": "stdout",
     "output_type": "stream",
     "text": [
      "LOSS:6.494889259338379\n",
      "LOSS:3.6033875942230225\n"
     ]
    },
    {
     "name": "stderr",
     "output_type": "stream",
     "text": [
      "ROUND:[108000]:   0%|                                                                           | 0/44 [00:00<?, ?it/s]"
     ]
    },
    {
     "name": "stdout",
     "output_type": "stream",
     "text": [
      "LOSS:3.9131457805633545\n",
      "LOSS:4.276975154876709\n",
      "LOSS:4.102157115936279\n",
      "LOSS:4.049252986907959\n",
      "LOSS:4.784684181213379\n"
     ]
    },
    {
     "name": "stderr",
     "output_type": "stream",
     "text": [
      "ROUND:[108000]:   0%|                                                                           | 0/44 [00:00<?, ?it/s]"
     ]
    },
    {
     "name": "stdout",
     "output_type": "stream",
     "text": [
      "LOSS:3.3755476474761963\n",
      "LOSS:6.485214710235596\n",
      "LOSS:5.8678460121154785\n",
      "LOSS:3.8418595790863037\n"
     ]
    },
    {
     "name": "stderr",
     "output_type": "stream",
     "text": [
      "ROUND:[108000]:   0%|                                                                           | 0/44 [00:00<?, ?it/s]"
     ]
    },
    {
     "name": "stdout",
     "output_type": "stream",
     "text": [
      "LOSS:5.120687007904053\n",
      "LOSS:3.499925374984741\n",
      "LOSS:7.894079208374023\n",
      "LOSS:2.7366836071014404\n",
      "LOSS:3.7712197303771973\n"
     ]
    },
    {
     "name": "stderr",
     "output_type": "stream",
     "text": [
      "ROUND:[108000]:   0%|                                                                           | 0/44 [00:00<?, ?it/s]"
     ]
    },
    {
     "name": "stdout",
     "output_type": "stream",
     "text": [
      "LOSS:2.851680040359497\n",
      "LOSS:4.226437568664551\n",
      "LOSS:3.373223304748535\n",
      "LOSS:3.168431282043457\n"
     ]
    },
    {
     "name": "stderr",
     "output_type": "stream",
     "text": [
      "ROUND:[108000]:   0%|                                                                           | 0/44 [00:00<?, ?it/s]"
     ]
    },
    {
     "name": "stdout",
     "output_type": "stream",
     "text": [
      "LOSS:3.6117913722991943\n",
      "LOSS:4.319037437438965\n",
      "LOSS:5.173579692840576\n",
      "LOSS:2.465266704559326\n",
      "LOSS:4.706385612487793\n"
     ]
    },
    {
     "name": "stderr",
     "output_type": "stream",
     "text": [
      "ROUND:[108000]:  66%|██████████████████████████████████████████▊                      | 29/44 [00:00<00:00, 287.90it/s]"
     ]
    },
    {
     "name": "stdout",
     "output_type": "stream",
     "text": [
      "LOSS:2.8033525943756104\n",
      "LOSS:3.454655647277832\n",
      "LOSS:3.313647985458374\n",
      "LOSS:4.326113700866699\n"
     ]
    },
    {
     "name": "stderr",
     "output_type": "stream",
     "text": [
      "ROUND:[108000]:  66%|██████████████████████████████████████████▊                      | 29/44 [00:00<00:00, 287.90it/s]"
     ]
    },
    {
     "name": "stdout",
     "output_type": "stream",
     "text": [
      "LOSS:3.951460599899292\n",
      "LOSS:3.0030970573425293\n",
      "LOSS:4.055398941040039\n",
      "LOSS:4.876927852630615\n"
     ]
    },
    {
     "name": "stderr",
     "output_type": "stream",
     "text": [
      "ROUND:[108000]:  66%|██████████████████████████████████████████▊                      | 29/44 [00:00<00:00, 287.90it/s]"
     ]
    },
    {
     "name": "stdout",
     "output_type": "stream",
     "text": [
      "LOSS:2.944063663482666\n",
      "LOSS:3.3669004440307617\n",
      "LOSS:3.7931554317474365\n",
      "LOSS:4.807291030883789\n",
      "LOSS:3.337738513946533\n"
     ]
    },
    {
     "name": "stderr",
     "output_type": "stream",
     "text": [
      "ROUND:[108000]:  66%|██████████████████████████████████████████▊                      | 29/44 [00:00<00:00, 287.90it/s]"
     ]
    },
    {
     "name": "stdout",
     "output_type": "stream",
     "text": [
      "LOSS:4.536657333374023\n",
      "LOSS:2.547602891921997\n",
      "LOSS:3.451793670654297\n",
      "LOSS:3.7336246967315674\n"
     ]
    },
    {
     "name": "stderr",
     "output_type": "stream",
     "text": [
      "ROUND:[21600]: 100%|██████████████████████████████████████████████████████████████████| 44/44 [00:00<00:00, 279.23it/s]\n"
     ]
    },
    {
     "name": "stdout",
     "output_type": "stream",
     "text": [
      "LOSS:5.831690311431885\n",
      "LOSS:2.534074544906616\n",
      "VAILD_LOSS:4.4065490852702744\n",
      "--------------------\n",
      "TIMES:90**************************\n"
     ]
    },
    {
     "name": "stderr",
     "output_type": "stream",
     "text": [
      "ROUND:[108000]:   0%|                                                                           | 0/44 [00:00<?, ?it/s]"
     ]
    },
    {
     "name": "stdout",
     "output_type": "stream",
     "text": [
      "LOSS:6.480434417724609\n",
      "LOSS:3.597182512283325\n",
      "LOSS:3.9046103954315186\n",
      "LOSS:4.270806789398193\n"
     ]
    },
    {
     "name": "stderr",
     "output_type": "stream",
     "text": [
      "ROUND:[108000]:   0%|                                                                           | 0/44 [00:00<?, ?it/s]"
     ]
    },
    {
     "name": "stdout",
     "output_type": "stream",
     "text": [
      "LOSS:4.095381259918213\n",
      "LOSS:4.0406341552734375\n",
      "LOSS:4.771820545196533\n",
      "LOSS:3.3700313568115234\n"
     ]
    },
    {
     "name": "stderr",
     "output_type": "stream",
     "text": [
      "ROUND:[108000]:   0%|                                                                           | 0/44 [00:00<?, ?it/s]"
     ]
    },
    {
     "name": "stdout",
     "output_type": "stream",
     "text": [
      "LOSS:6.466553688049316\n",
      "LOSS:5.850655555725098\n",
      "LOSS:3.832869529724121\n",
      "LOSS:5.108462810516357\n",
      "LOSS:3.4883923530578613\n"
     ]
    },
    {
     "name": "stderr",
     "output_type": "stream",
     "text": [
      "ROUND:[108000]:   0%|                                                                           | 0/44 [00:00<?, ?it/s]"
     ]
    },
    {
     "name": "stdout",
     "output_type": "stream",
     "text": [
      "LOSS:7.882102966308594\n",
      "LOSS:2.7272109985351562\n",
      "LOSS:3.761807441711426\n",
      "LOSS:2.8434202671051025\n"
     ]
    },
    {
     "name": "stderr",
     "output_type": "stream",
     "text": [
      "ROUND:[108000]:   0%|                                                                           | 0/44 [00:00<?, ?it/s]"
     ]
    },
    {
     "name": "stdout",
     "output_type": "stream",
     "text": [
      "LOSS:4.214842319488525\n",
      "LOSS:3.3635900020599365\n",
      "LOSS:3.163287878036499\n",
      "LOSS:3.601436138153076\n",
      "LOSS:4.308852672576904\n"
     ]
    },
    {
     "name": "stderr",
     "output_type": "stream",
     "text": [
      "ROUND:[108000]:   0%|                                                                           | 0/44 [00:00<?, ?it/s]"
     ]
    },
    {
     "name": "stdout",
     "output_type": "stream",
     "text": [
      "LOSS:5.163199424743652\n",
      "LOSS:2.4594154357910156\n",
      "LOSS:4.699451446533203\n",
      "LOSS:2.797914981842041\n"
     ]
    },
    {
     "name": "stderr",
     "output_type": "stream",
     "text": [
      "ROUND:[108000]:  68%|████████████████████████████████████████████▎                    | 30/44 [00:00<00:00, 292.04it/s]"
     ]
    },
    {
     "name": "stdout",
     "output_type": "stream",
     "text": [
      "LOSS:3.4434614181518555\n",
      "LOSS:3.306022882461548\n",
      "LOSS:4.318191051483154\n",
      "LOSS:3.9391252994537354\n",
      "LOSS:2.9942920207977295\n"
     ]
    },
    {
     "name": "stderr",
     "output_type": "stream",
     "text": [
      "ROUND:[108000]:  68%|████████████████████████████████████████████▎                    | 30/44 [00:00<00:00, 292.04it/s]"
     ]
    },
    {
     "name": "stdout",
     "output_type": "stream",
     "text": [
      "LOSS:4.039778709411621\n",
      "LOSS:4.868631362915039\n",
      "LOSS:2.937730073928833\n",
      "LOSS:3.3611953258514404\n",
      "LOSS:3.7835142612457275\n"
     ]
    },
    {
     "name": "stderr",
     "output_type": "stream",
     "text": [
      "ROUND:[108000]:  68%|████████████████████████████████████████████▎                    | 30/44 [00:00<00:00, 292.04it/s]"
     ]
    },
    {
     "name": "stdout",
     "output_type": "stream",
     "text": [
      "LOSS:4.791572570800781\n",
      "LOSS:3.331371784210205\n",
      "LOSS:4.527599811553955\n",
      "LOSS:2.5440776348114014\n"
     ]
    },
    {
     "name": "stderr",
     "output_type": "stream",
     "text": [
      "ROUND:[21600]: 100%|██████████████████████████████████████████████████████████████████| 44/44 [00:00<00:00, 290.25it/s]\n"
     ]
    },
    {
     "name": "stdout",
     "output_type": "stream",
     "text": [
      "LOSS:3.4445550441741943\n",
      "LOSS:3.7340898513793945\n",
      "LOSS:5.814845561981201\n",
      "LOSS:2.5287139415740967\n",
      "VAILD_LOSS:4.396373293616555\n",
      "--------------------\n",
      "TIMES:91**************************\n"
     ]
    },
    {
     "name": "stderr",
     "output_type": "stream",
     "text": [
      "ROUND:[108000]:   0%|                                                                           | 0/44 [00:00<?, ?it/s]"
     ]
    },
    {
     "name": "stdout",
     "output_type": "stream",
     "text": [
      "LOSS:6.465595722198486\n",
      "LOSS:3.5905821323394775\n"
     ]
    },
    {
     "name": "stderr",
     "output_type": "stream",
     "text": [
      "ROUND:[108000]:   0%|                                                                           | 0/44 [00:00<?, ?it/s]"
     ]
    },
    {
     "name": "stdout",
     "output_type": "stream",
     "text": [
      "LOSS:3.8957433700561523\n",
      "LOSS:4.264380931854248\n",
      "LOSS:4.088303089141846\n",
      "LOSS:4.032198429107666\n",
      "LOSS:4.758767604827881\n"
     ]
    },
    {
     "name": "stderr",
     "output_type": "stream",
     "text": [
      "ROUND:[108000]:   0%|                                                                           | 0/44 [00:00<?, ?it/s]"
     ]
    },
    {
     "name": "stdout",
     "output_type": "stream",
     "text": [
      "LOSS:3.363964080810547\n",
      "LOSS:6.4487433433532715\n",
      "LOSS:5.833118915557861\n",
      "LOSS:3.8243706226348877\n",
      "LOSS:5.094999313354492\n"
     ]
    },
    {
     "name": "stderr",
     "output_type": "stream",
     "text": [
      "ROUND:[108000]:   0%|                                                                           | 0/44 [00:00<?, ?it/s]"
     ]
    },
    {
     "name": "stdout",
     "output_type": "stream",
     "text": [
      "LOSS:3.476250648498535\n",
      "LOSS:7.870479583740234\n",
      "LOSS:2.716278314590454\n"
     ]
    },
    {
     "name": "stderr",
     "output_type": "stream",
     "text": [
      "ROUND:[108000]:   0%|                                                                           | 0/44 [00:00<?, ?it/s]"
     ]
    },
    {
     "name": "stdout",
     "output_type": "stream",
     "text": [
      "LOSS:3.7523369789123535\n",
      "LOSS:2.8329718112945557\n",
      "LOSS:4.2008819580078125\n",
      "LOSS:3.354353666305542\n",
      "LOSS:3.1583878993988037\n"
     ]
    },
    {
     "name": "stderr",
     "output_type": "stream",
     "text": [
      "ROUND:[108000]:   0%|                                                                           | 0/44 [00:00<?, ?it/s]"
     ]
    },
    {
     "name": "stdout",
     "output_type": "stream",
     "text": [
      "LOSS:3.593050479888916\n",
      "LOSS:4.2967658042907715\n",
      "LOSS:5.151125431060791\n",
      "LOSS:2.4565439224243164\n",
      "LOSS:4.688760757446289\n"
     ]
    },
    {
     "name": "stderr",
     "output_type": "stream",
     "text": [
      "ROUND:[108000]:  66%|██████████████████████████████████████████▊                      | 29/44 [00:00<00:00, 287.90it/s]"
     ]
    },
    {
     "name": "stdout",
     "output_type": "stream",
     "text": [
      "LOSS:2.792825937271118\n",
      "LOSS:3.433974027633667\n",
      "LOSS:3.3017709255218506\n",
      "LOSS:4.311538219451904\n"
     ]
    },
    {
     "name": "stderr",
     "output_type": "stream",
     "text": [
      "ROUND:[108000]:  66%|██████████████████████████████████████████▊                      | 29/44 [00:00<00:00, 287.90it/s]"
     ]
    },
    {
     "name": "stdout",
     "output_type": "stream",
     "text": [
      "LOSS:3.9299023151397705\n",
      "LOSS:2.98614239692688\n",
      "LOSS:4.0262980461120605\n",
      "LOSS:4.861180782318115\n",
      "LOSS:2.9284770488739014\n"
     ]
    },
    {
     "name": "stderr",
     "output_type": "stream",
     "text": [
      "ROUND:[108000]:  66%|██████████████████████████████████████████▊                      | 29/44 [00:00<00:00, 287.90it/s]"
     ]
    },
    {
     "name": "stdout",
     "output_type": "stream",
     "text": [
      "LOSS:3.3536808490753174\n",
      "LOSS:3.7740960121154785\n",
      "LOSS:4.77637243270874\n",
      "LOSS:3.3227126598358154\n"
     ]
    },
    {
     "name": "stderr",
     "output_type": "stream",
     "text": [
      "ROUND:[21600]:  66%|███████████████████████████████████████████▌                      | 29/44 [00:00<00:00, 287.90it/s]"
     ]
    },
    {
     "name": "stdout",
     "output_type": "stream",
     "text": [
      "LOSS:4.520071506500244\n",
      "LOSS:2.540200710296631\n",
      "LOSS:3.437056303024292\n",
      "LOSS:3.732839345932007\n",
      "LOSS:5.798100471496582\n"
     ]
    },
    {
     "name": "stderr",
     "output_type": "stream",
     "text": [
      "ROUND:[21600]: 100%|██████████████████████████████████████████████████████████████████| 44/44 [00:00<00:00, 288.35it/s]\n"
     ]
    },
    {
     "name": "stdout",
     "output_type": "stream",
     "text": [
      "LOSS:2.523165464401245\n",
      "VAILD_LOSS:4.386367906223644\n",
      "--------------------\n",
      "TIMES:92**************************\n"
     ]
    },
    {
     "name": "stderr",
     "output_type": "stream",
     "text": [
      "ROUND:[108000]:   0%|                                                                           | 0/44 [00:00<?, ?it/s]"
     ]
    },
    {
     "name": "stdout",
     "output_type": "stream",
     "text": [
      "LOSS:6.450533866882324\n",
      "LOSS:3.583831310272217\n",
      "LOSS:3.886890172958374\n",
      "LOSS:4.257379531860352\n"
     ]
    },
    {
     "name": "stderr",
     "output_type": "stream",
     "text": [
      "ROUND:[108000]:   0%|                                                                           | 0/44 [00:00<?, ?it/s]"
     ]
    },
    {
     "name": "stdout",
     "output_type": "stream",
     "text": [
      "LOSS:4.080716133117676\n",
      "LOSS:4.023027420043945\n",
      "LOSS:4.746444225311279\n",
      "LOSS:3.357738494873047\n"
     ]
    },
    {
     "name": "stderr",
     "output_type": "stream",
     "text": [
      "ROUND:[108000]:   0%|                                                                           | 0/44 [00:00<?, ?it/s]"
     ]
    },
    {
     "name": "stdout",
     "output_type": "stream",
     "text": [
      "LOSS:6.429941177368164\n",
      "LOSS:5.817019939422607\n",
      "LOSS:3.8153493404388428\n"
     ]
    },
    {
     "name": "stderr",
     "output_type": "stream",
     "text": [
      "ROUND:[108000]:   0%|                                                                           | 0/44 [00:00<?, ?it/s]"
     ]
    },
    {
     "name": "stdout",
     "output_type": "stream",
     "text": [
      "LOSS:5.0836944580078125\n",
      "LOSS:3.4650797843933105\n",
      "LOSS:7.858605861663818\n",
      "LOSS:2.706986904144287\n"
     ]
    },
    {
     "name": "stderr",
     "output_type": "stream",
     "text": [
      "ROUND:[108000]:   0%|                                                                           | 0/44 [00:00<?, ?it/s]"
     ]
    },
    {
     "name": "stdout",
     "output_type": "stream",
     "text": [
      "LOSS:3.7429816722869873\n",
      "LOSS:2.8255813121795654\n",
      "LOSS:4.189521789550781\n",
      "LOSS:3.344698429107666\n",
      "LOSS:3.152662992477417\n"
     ]
    },
    {
     "name": "stderr",
     "output_type": "stream",
     "text": [
      "ROUND:[108000]:   0%|                                                                           | 0/44 [00:00<?, ?it/s]"
     ]
    },
    {
     "name": "stdout",
     "output_type": "stream",
     "text": [
      "LOSS:3.58373761177063\n",
      "LOSS:4.285175800323486\n",
      "LOSS:5.139926433563232\n",
      "LOSS:2.4531311988830566\n"
     ]
    },
    {
     "name": "stderr",
     "output_type": "stream",
     "text": [
      "ROUND:[108000]:  61%|███████████████████████████████████████▉                         | 27/44 [00:00<00:00, 259.18it/s]"
     ]
    },
    {
     "name": "stdout",
     "output_type": "stream",
     "text": [
      "LOSS:4.677897930145264\n",
      "LOSS:2.787649154663086\n",
      "LOSS:3.42466402053833\n",
      "LOSS:3.2975785732269287\n"
     ]
    },
    {
     "name": "stderr",
     "output_type": "stream",
     "text": [
      "ROUND:[108000]:  61%|███████████████████████████████████████▉                         | 27/44 [00:00<00:00, 259.18it/s]"
     ]
    },
    {
     "name": "stdout",
     "output_type": "stream",
     "text": [
      "LOSS:4.305505275726318\n",
      "LOSS:3.921551465988159\n",
      "LOSS:2.9784600734710693\n",
      "LOSS:4.013281345367432\n",
      "LOSS:4.853860855102539\n"
     ]
    },
    {
     "name": "stderr",
     "output_type": "stream",
     "text": [
      "ROUND:[108000]:  61%|███████████████████████████████████████▉                         | 27/44 [00:00<00:00, 259.18it/s]"
     ]
    },
    {
     "name": "stdout",
     "output_type": "stream",
     "text": [
      "LOSS:2.918921947479248\n",
      "LOSS:3.3452579975128174\n",
      "LOSS:3.764881134033203\n",
      "LOSS:4.761329174041748\n"
     ]
    },
    {
     "name": "stderr",
     "output_type": "stream",
     "text": [
      "ROUND:[108000]:  61%|███████████████████████████████████████▉                         | 27/44 [00:00<00:00, 259.18it/s]"
     ]
    },
    {
     "name": "stdout",
     "output_type": "stream",
     "text": [
      "LOSS:3.3126580715179443\n",
      "LOSS:4.51296329498291\n",
      "LOSS:2.535550117492676\n",
      "LOSS:3.429422616958618\n"
     ]
    },
    {
     "name": "stderr",
     "output_type": "stream",
     "text": [
      "ROUND:[21600]: 100%|██████████████████████████████████████████████████████████████████| 44/44 [00:00<00:00, 266.64it/s]\n"
     ]
    },
    {
     "name": "stdout",
     "output_type": "stream",
     "text": [
      "LOSS:3.7312192916870117\n",
      "LOSS:5.781491756439209\n",
      "LOSS:2.5163803100585938\n",
      "VAILD_LOSS:4.375756198709661\n",
      "--------------------\n",
      "TIMES:93**************************\n"
     ]
    },
    {
     "name": "stderr",
     "output_type": "stream",
     "text": [
      "ROUND:[108000]:   0%|                                                                           | 0/44 [00:00<?, ?it/s]"
     ]
    },
    {
     "name": "stdout",
     "output_type": "stream",
     "text": [
      "LOSS:6.435750484466553\n",
      "LOSS:3.5768589973449707\n",
      "LOSS:3.877969264984131\n",
      "LOSS:4.250231742858887\n"
     ]
    },
    {
     "name": "stderr",
     "output_type": "stream",
     "text": [
      "ROUND:[108000]:   0%|                                                                           | 0/44 [00:00<?, ?it/s]"
     ]
    },
    {
     "name": "stdout",
     "output_type": "stream",
     "text": [
      "LOSS:4.073431968688965\n",
      "LOSS:4.013636589050293\n",
      "LOSS:4.734763145446777\n",
      "LOSS:3.3517229557037354\n"
     ]
    },
    {
     "name": "stderr",
     "output_type": "stream",
     "text": [
      "ROUND:[108000]:   0%|                                                                           | 0/44 [00:00<?, ?it/s]"
     ]
    },
    {
     "name": "stdout",
     "output_type": "stream",
     "text": [
      "LOSS:6.41130256652832\n",
      "LOSS:5.801488399505615\n",
      "LOSS:3.806450605392456\n",
      "LOSS:5.072268962860107\n"
     ]
    },
    {
     "name": "stderr",
     "output_type": "stream",
     "text": [
      "ROUND:[108000]:   0%|                                                                           | 0/44 [00:00<?, ?it/s]"
     ]
    },
    {
     "name": "stdout",
     "output_type": "stream",
     "text": [
      "LOSS:3.453948497772217\n",
      "LOSS:7.846449851989746\n",
      "LOSS:2.6977880001068115\n",
      "LOSS:3.733980894088745\n",
      "LOSS:2.8185641765594482\n"
     ]
    },
    {
     "name": "stderr",
     "output_type": "stream",
     "text": [
      "ROUND:[108000]:   0%|                                                                           | 0/44 [00:00<?, ?it/s]"
     ]
    },
    {
     "name": "stdout",
     "output_type": "stream",
     "text": [
      "LOSS:4.178297519683838\n",
      "LOSS:3.3352346420288086\n",
      "LOSS:3.1473259925842285\n",
      "LOSS:3.5743489265441895\n"
     ]
    },
    {
     "name": "stderr",
     "output_type": "stream",
     "text": [
      "ROUND:[108000]:   0%|                                                                           | 0/44 [00:00<?, ?it/s]"
     ]
    },
    {
     "name": "stdout",
     "output_type": "stream",
     "text": [
      "LOSS:4.273887634277344\n",
      "LOSS:5.129205226898193\n",
      "LOSS:2.448779582977295\n",
      "LOSS:4.667792797088623\n"
     ]
    },
    {
     "name": "stderr",
     "output_type": "stream",
     "text": [
      "ROUND:[108000]:  64%|█████████████████████████████████████████▎                       | 28/44 [00:00<00:00, 275.24it/s]"
     ]
    },
    {
     "name": "stdout",
     "output_type": "stream",
     "text": [
      "LOSS:2.7826833724975586\n",
      "LOSS:3.4148125648498535\n",
      "LOSS:3.291468381881714\n",
      "LOSS:4.298559188842773\n"
     ]
    },
    {
     "name": "stderr",
     "output_type": "stream",
     "text": [
      "ROUND:[108000]:  64%|█████████████████████████████████████████▎                       | 28/44 [00:00<00:00, 275.24it/s]"
     ]
    },
    {
     "name": "stdout",
     "output_type": "stream",
     "text": [
      "LOSS:3.911611795425415\n",
      "LOSS:2.970282554626465\n",
      "LOSS:4.000284671783447\n",
      "LOSS:4.845447540283203\n"
     ]
    },
    {
     "name": "stderr",
     "output_type": "stream",
     "text": [
      "ROUND:[108000]:  64%|█████████████████████████████████████████▎                       | 28/44 [00:00<00:00, 275.24it/s]"
     ]
    },
    {
     "name": "stdout",
     "output_type": "stream",
     "text": [
      "LOSS:2.9104115962982178\n",
      "LOSS:3.3383302688598633\n",
      "LOSS:3.754936695098877\n",
      "LOSS:4.746592998504639\n",
      "LOSS:3.3039543628692627\n"
     ]
    },
    {
     "name": "stderr",
     "output_type": "stream",
     "text": [
      "ROUND:[108000]:  64%|█████████████████████████████████████████▎                       | 28/44 [00:00<00:00, 275.24it/s]"
     ]
    },
    {
     "name": "stdout",
     "output_type": "stream",
     "text": [
      "LOSS:4.505688190460205\n",
      "LOSS:2.531158924102783\n",
      "LOSS:3.422011613845825\n",
      "LOSS:3.7292327880859375\n",
      "LOSS:5.765148162841797\n"
     ]
    },
    {
     "name": "stderr",
     "output_type": "stream",
     "text": [
      "ROUND:[21600]: 100%|██████████████████████████████████████████████████████████████████| 44/44 [00:00<00:00, 279.23it/s]\n"
     ]
    },
    {
     "name": "stdout",
     "output_type": "stream",
     "text": [
      "LOSS:2.5108189582824707\n",
      "VAILD_LOSS:4.365707094019109\n",
      "--------------------\n",
      "TIMES:94**************************\n"
     ]
    },
    {
     "name": "stderr",
     "output_type": "stream",
     "text": [
      "ROUND:[108000]:   0%|                                                                           | 0/44 [00:00<?, ?it/s]"
     ]
    },
    {
     "name": "stdout",
     "output_type": "stream",
     "text": [
      "LOSS:6.420246601104736\n",
      "LOSS:3.570211410522461\n",
      "LOSS:3.8691940307617188\n",
      "LOSS:4.242818355560303\n"
     ]
    },
    {
     "name": "stderr",
     "output_type": "stream",
     "text": [
      "ROUND:[108000]:   0%|                                                                           | 0/44 [00:00<?, ?it/s]"
     ]
    },
    {
     "name": "stdout",
     "output_type": "stream",
     "text": [
      "LOSS:4.065887451171875\n",
      "LOSS:4.004744052886963\n",
      "LOSS:4.723207950592041\n",
      "LOSS:3.346256732940674\n",
      "LOSS:6.392349720001221\n"
     ]
    },
    {
     "name": "stderr",
     "output_type": "stream",
     "text": [
      "ROUND:[108000]:   0%|                                                                           | 0/44 [00:00<?, ?it/s]"
     ]
    },
    {
     "name": "stdout",
     "output_type": "stream",
     "text": [
      "LOSS:5.786205768585205\n",
      "LOSS:3.7978532314300537\n",
      "LOSS:5.06122350692749\n",
      "LOSS:3.4432597160339355\n"
     ]
    },
    {
     "name": "stderr",
     "output_type": "stream",
     "text": [
      "ROUND:[108000]:   0%|                                                                           | 0/44 [00:00<?, ?it/s]"
     ]
    },
    {
     "name": "stdout",
     "output_type": "stream",
     "text": [
      "LOSS:7.834937572479248\n",
      "LOSS:2.6888790130615234\n",
      "LOSS:3.7249650955200195\n",
      "LOSS:2.8120903968811035\n",
      "LOSS:4.168031692504883\n"
     ]
    },
    {
     "name": "stderr",
     "output_type": "stream",
     "text": [
      "ROUND:[108000]:   0%|                                                                           | 0/44 [00:00<?, ?it/s]"
     ]
    },
    {
     "name": "stdout",
     "output_type": "stream",
     "text": [
      "LOSS:3.3254997730255127\n",
      "LOSS:3.141733407974243\n",
      "LOSS:3.564204692840576\n",
      "LOSS:4.263189792633057\n"
     ]
    },
    {
     "name": "stderr",
     "output_type": "stream",
     "text": [
      "ROUND:[108000]:   0%|                                                                           | 0/44 [00:00<?, ?it/s]"
     ]
    },
    {
     "name": "stdout",
     "output_type": "stream",
     "text": [
      "LOSS:5.1187567710876465\n",
      "LOSS:2.4436144828796387\n",
      "LOSS:4.658397197723389\n",
      "LOSS:2.7776806354522705\n"
     ]
    },
    {
     "name": "stderr",
     "output_type": "stream",
     "text": [
      "ROUND:[108000]:  66%|██████████████████████████████████████████▊                      | 29/44 [00:00<00:00, 284.25it/s]"
     ]
    },
    {
     "name": "stdout",
     "output_type": "stream",
     "text": [
      "LOSS:3.404543161392212\n",
      "LOSS:3.2848379611968994\n",
      "LOSS:4.2920379638671875\n",
      "LOSS:3.9008607864379883\n"
     ]
    },
    {
     "name": "stderr",
     "output_type": "stream",
     "text": [
      "ROUND:[108000]:  66%|██████████████████████████████████████████▊                      | 29/44 [00:00<00:00, 284.25it/s]"
     ]
    },
    {
     "name": "stdout",
     "output_type": "stream",
     "text": [
      "LOSS:2.961884021759033\n",
      "LOSS:3.986070394515991\n",
      "LOSS:4.837641716003418\n",
      "LOSS:2.9035494327545166\n"
     ]
    },
    {
     "name": "stderr",
     "output_type": "stream",
     "text": [
      "ROUND:[108000]:  66%|██████████████████████████████████████████▊                      | 29/44 [00:00<00:00, 284.25it/s]"
     ]
    },
    {
     "name": "stdout",
     "output_type": "stream",
     "text": [
      "LOSS:3.331683874130249\n",
      "LOSS:3.745476245880127\n",
      "LOSS:4.731461048126221\n",
      "LOSS:3.2964396476745605\n"
     ]
    },
    {
     "name": "stderr",
     "output_type": "stream",
     "text": [
      "ROUND:[108000]:  66%|██████████████████████████████████████████▊                      | 29/44 [00:00<00:00, 284.25it/s]"
     ]
    },
    {
     "name": "stdout",
     "output_type": "stream",
     "text": [
      "LOSS:4.497657299041748\n",
      "LOSS:2.5267717838287354\n",
      "LOSS:3.4147443771362305\n",
      "LOSS:3.7294833660125732\n"
     ]
    },
    {
     "name": "stderr",
     "output_type": "stream",
     "text": [
      "ROUND:[21600]: 100%|██████████████████████████████████████████████████████████████████| 44/44 [00:00<00:00, 273.49it/s]\n"
     ]
    },
    {
     "name": "stdout",
     "output_type": "stream",
     "text": [
      "LOSS:5.74853515625\n",
      "LOSS:2.5047097206115723\n",
      "VAILD_LOSS:4.355461705814708\n",
      "--------------------\n",
      "TIMES:95**************************\n"
     ]
    },
    {
     "name": "stderr",
     "output_type": "stream",
     "text": [
      "ROUND:[108000]:   0%|                                                                           | 0/44 [00:00<?, ?it/s]"
     ]
    },
    {
     "name": "stdout",
     "output_type": "stream",
     "text": [
      "LOSS:6.40562105178833\n",
      "LOSS:3.562870502471924\n",
      "LOSS:3.85978627204895\n",
      "LOSS:4.235775470733643\n"
     ]
    },
    {
     "name": "stderr",
     "output_type": "stream",
     "text": [
      "ROUND:[108000]:   0%|                                                                           | 0/44 [00:00<?, ?it/s]"
     ]
    },
    {
     "name": "stdout",
     "output_type": "stream",
     "text": [
      "LOSS:4.058844566345215\n",
      "LOSS:3.9959990978240967\n",
      "LOSS:4.711463928222656\n",
      "LOSS:3.341374635696411\n",
      "LOSS:6.373452186584473\n"
     ]
    },
    {
     "name": "stderr",
     "output_type": "stream",
     "text": [
      "ROUND:[108000]:   0%|                                                                           | 0/44 [00:00<?, ?it/s]"
     ]
    },
    {
     "name": "stdout",
     "output_type": "stream",
     "text": [
      "LOSS:5.770408630371094\n",
      "LOSS:3.7894442081451416\n",
      "LOSS:5.04976224899292\n"
     ]
    },
    {
     "name": "stderr",
     "output_type": "stream",
     "text": [
      "ROUND:[108000]:   0%|                                                                           | 0/44 [00:00<?, ?it/s]"
     ]
    },
    {
     "name": "stdout",
     "output_type": "stream",
     "text": [
      "LOSS:3.432295083999634\n",
      "LOSS:7.823547840118408\n",
      "LOSS:2.6791815757751465\n",
      "LOSS:3.715708017349243\n",
      "LOSS:2.804600715637207\n"
     ]
    },
    {
     "name": "stderr",
     "output_type": "stream",
     "text": [
      "ROUND:[108000]:   0%|                                                                           | 0/44 [00:00<?, ?it/s]"
     ]
    },
    {
     "name": "stdout",
     "output_type": "stream",
     "text": [
      "LOSS:4.156327247619629\n",
      "LOSS:3.3158745765686035\n",
      "LOSS:3.136425018310547\n",
      "LOSS:3.5552427768707275\n",
      "LOSS:4.251715183258057\n"
     ]
    },
    {
     "name": "stderr",
     "output_type": "stream",
     "text": [
      "ROUND:[108000]:   0%|                                                                           | 0/44 [00:00<?, ?it/s]"
     ]
    },
    {
     "name": "stdout",
     "output_type": "stream",
     "text": [
      "LOSS:5.107841491699219\n",
      "LOSS:2.439784526824951\n",
      "LOSS:4.648041725158691\n",
      "LOSS:2.772691488265991\n"
     ]
    },
    {
     "name": "stderr",
     "output_type": "stream",
     "text": [
      "ROUND:[108000]:  66%|██████████████████████████████████████████▊                      | 29/44 [00:00<00:00, 282.31it/s]"
     ]
    },
    {
     "name": "stdout",
     "output_type": "stream",
     "text": [
      "LOSS:3.394615650177002\n",
      "LOSS:3.2784459590911865\n",
      "LOSS:4.285095691680908\n",
      "LOSS:3.8906266689300537\n"
     ]
    },
    {
     "name": "stderr",
     "output_type": "stream",
     "text": [
      "ROUND:[108000]:  66%|██████████████████████████████████████████▊                      | 29/44 [00:00<00:00, 282.31it/s]"
     ]
    },
    {
     "name": "stdout",
     "output_type": "stream",
     "text": [
      "LOSS:2.9537172317504883\n",
      "LOSS:3.973148822784424\n",
      "LOSS:4.82951545715332\n",
      "LOSS:2.895742654800415\n"
     ]
    },
    {
     "name": "stderr",
     "output_type": "stream",
     "text": [
      "ROUND:[108000]:  66%|██████████████████████████████████████████▊                      | 29/44 [00:00<00:00, 282.31it/s]"
     ]
    },
    {
     "name": "stdout",
     "output_type": "stream",
     "text": [
      "LOSS:3.32558274269104\n",
      "LOSS:3.735626697540283\n",
      "LOSS:4.717066764831543\n",
      "LOSS:3.288201332092285\n",
      "LOSS:4.4901862144470215\n"
     ]
    },
    {
     "name": "stderr",
     "output_type": "stream",
     "text": [
      "ROUND:[21600]: 100%|██████████████████████████████████████████████████████████████████| 44/44 [00:00<00:00, 282.81it/s]\n"
     ]
    },
    {
     "name": "stdout",
     "output_type": "stream",
     "text": [
      "LOSS:2.5220797061920166\n",
      "LOSS:3.407613754272461\n",
      "LOSS:3.728771924972534\n",
      "LOSS:5.732280254364014\n",
      "LOSS:2.4993674755096436\n",
      "VAILD_LOSS:4.345583937384865\n",
      "--------------------\n"
     ]
    }
   ],
   "source": [
    "times = 0\n",
    "loss_1 = float('inf')\n",
    "loss_2 = 0\n",
    "while (loss_1-loss_2)**2 > 1e-4:\n",
    "    times+=1\n",
    "    print(f'TIMES:{times}**************************')\n",
    "    if times%2 == 0:\n",
    "        loss_1 = train(train_loader,vaild_loader,model,loss_f,optimizer)\n",
    "    else:\n",
    "        loss_2 = train(train_loader,vaild_loader,model,loss_f,optimizer)\n"
   ]
  },
  {
   "cell_type": "code",
   "execution_count": null,
   "id": "41853b02",
   "metadata": {},
   "outputs": [],
   "source": []
  }
 ],
 "metadata": {
  "kernelspec": {
   "display_name": "Python 3 (ipykernel)",
   "language": "python",
   "name": "python3"
  },
  "language_info": {
   "codemirror_mode": {
    "name": "ipython",
    "version": 3
   },
   "file_extension": ".py",
   "mimetype": "text/x-python",
   "name": "python",
   "nbconvert_exporter": "python",
   "pygments_lexer": "ipython3",
   "version": "3.10.8"
  }
 },
 "nbformat": 4,
 "nbformat_minor": 5
}
